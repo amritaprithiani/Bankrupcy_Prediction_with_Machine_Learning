{
 "cells": [
  {
   "cell_type": "code",
   "execution_count": 64,
   "metadata": {},
   "outputs": [],
   "source": [
    "import yahoo_fin.stock_info as si\n",
    "import pandas as pd"
   ]
  },
  {
   "cell_type": "code",
   "execution_count": 65,
   "metadata": {},
   "outputs": [],
   "source": [
    "ticker = input(\"Enter Ticker of a company you want to check\")"
   ]
  },
  {
   "cell_type": "code",
   "execution_count": 66,
   "metadata": {},
   "outputs": [
    {
     "data": {
      "text/plain": [
       "'INCY'"
      ]
     },
     "execution_count": 66,
     "metadata": {},
     "output_type": "execute_result"
    }
   ],
   "source": [
    "ticker"
   ]
  },
  {
   "cell_type": "code",
   "execution_count": 67,
   "metadata": {},
   "outputs": [],
   "source": [
    "financials = si.get_financials(ticker)"
   ]
  },
  {
   "cell_type": "code",
   "execution_count": 68,
   "metadata": {},
   "outputs": [],
   "source": [
    "quarterly_income_statement = pd.DataFrame(financials['quarterly_income_statement'])\n",
    "quarterly_balance_sheet = pd.DataFrame(financials['quarterly_balance_sheet'])\n",
    "quarterly_cash_flow = pd.DataFrame(financials['quarterly_cash_flow'])"
   ]
  },
  {
   "cell_type": "code",
   "execution_count": 69,
   "metadata": {},
   "outputs": [
    {
     "data": {
      "text/html": [
       "<div>\n",
       "<style scoped>\n",
       "    .dataframe tbody tr th:only-of-type {\n",
       "        vertical-align: middle;\n",
       "    }\n",
       "\n",
       "    .dataframe tbody tr th {\n",
       "        vertical-align: top;\n",
       "    }\n",
       "\n",
       "    .dataframe thead th {\n",
       "        text-align: right;\n",
       "    }\n",
       "</style>\n",
       "<table border=\"1\" class=\"dataframe\">\n",
       "  <thead>\n",
       "    <tr style=\"text-align: right;\">\n",
       "      <th>endDate</th>\n",
       "      <th>2022-09-30</th>\n",
       "      <th>2022-06-30</th>\n",
       "      <th>2022-03-31</th>\n",
       "      <th>2021-12-31</th>\n",
       "    </tr>\n",
       "    <tr>\n",
       "      <th>Breakdown</th>\n",
       "      <th></th>\n",
       "      <th></th>\n",
       "      <th></th>\n",
       "      <th></th>\n",
       "    </tr>\n",
       "  </thead>\n",
       "  <tbody>\n",
       "    <tr>\n",
       "      <th>researchDevelopment</th>\n",
       "      <td>NaN</td>\n",
       "      <td>347196000.0</td>\n",
       "      <td>347196000.0</td>\n",
       "      <td>347196000.0</td>\n",
       "    </tr>\n",
       "    <tr>\n",
       "      <th>effectOfAccountingCharges</th>\n",
       "      <td>None</td>\n",
       "      <td>None</td>\n",
       "      <td>None</td>\n",
       "      <td>None</td>\n",
       "    </tr>\n",
       "    <tr>\n",
       "      <th>incomeBeforeTax</th>\n",
       "      <td>148588000</td>\n",
       "      <td>229378000</td>\n",
       "      <td>229378000</td>\n",
       "      <td>120020000</td>\n",
       "    </tr>\n",
       "    <tr>\n",
       "      <th>minorityInterest</th>\n",
       "      <td>None</td>\n",
       "      <td>None</td>\n",
       "      <td>None</td>\n",
       "      <td>None</td>\n",
       "    </tr>\n",
       "    <tr>\n",
       "      <th>netIncome</th>\n",
       "      <td>112775000</td>\n",
       "      <td>161432000</td>\n",
       "      <td>0</td>\n",
       "      <td>563851000</td>\n",
       "    </tr>\n",
       "    <tr>\n",
       "      <th>sellingGeneralAdministrative</th>\n",
       "      <td>265795000</td>\n",
       "      <td>252586000</td>\n",
       "      <td>208859000</td>\n",
       "      <td>226556000</td>\n",
       "    </tr>\n",
       "    <tr>\n",
       "      <th>grossProfit</th>\n",
       "      <td>382943000</td>\n",
       "      <td>858217000</td>\n",
       "      <td>332506000</td>\n",
       "      <td>338609000</td>\n",
       "    </tr>\n",
       "    <tr>\n",
       "      <th>ebit</th>\n",
       "      <td>117148000</td>\n",
       "      <td>258435000</td>\n",
       "      <td>123647000</td>\n",
       "      <td>112053000</td>\n",
       "    </tr>\n",
       "    <tr>\n",
       "      <th>operatingIncome</th>\n",
       "      <td>117148000</td>\n",
       "      <td>258435000</td>\n",
       "      <td>123647000</td>\n",
       "      <td>112053000</td>\n",
       "    </tr>\n",
       "    <tr>\n",
       "      <th>otherOperatingExpenses</th>\n",
       "      <td>None</td>\n",
       "      <td>None</td>\n",
       "      <td>None</td>\n",
       "      <td>None</td>\n",
       "    </tr>\n",
       "    <tr>\n",
       "      <th>interestExpense</th>\n",
       "      <td>-641000</td>\n",
       "      <td>-678000</td>\n",
       "      <td>-678000</td>\n",
       "      <td>-752000</td>\n",
       "    </tr>\n",
       "    <tr>\n",
       "      <th>extraordinaryItems</th>\n",
       "      <td>None</td>\n",
       "      <td>None</td>\n",
       "      <td>None</td>\n",
       "      <td>None</td>\n",
       "    </tr>\n",
       "    <tr>\n",
       "      <th>nonRecurring</th>\n",
       "      <td>None</td>\n",
       "      <td>None</td>\n",
       "      <td>None</td>\n",
       "      <td>None</td>\n",
       "    </tr>\n",
       "    <tr>\n",
       "      <th>otherItems</th>\n",
       "      <td>None</td>\n",
       "      <td>None</td>\n",
       "      <td>None</td>\n",
       "      <td>None</td>\n",
       "    </tr>\n",
       "    <tr>\n",
       "      <th>incomeTaxExpense</th>\n",
       "      <td>35813000</td>\n",
       "      <td>67946000</td>\n",
       "      <td>0</td>\n",
       "      <td>-443831000</td>\n",
       "    </tr>\n",
       "    <tr>\n",
       "      <th>totalRevenue</th>\n",
       "      <td>823303000</td>\n",
       "      <td>911397000</td>\n",
       "      <td>0</td>\n",
       "      <td>862853000</td>\n",
       "    </tr>\n",
       "    <tr>\n",
       "      <th>totalOperatingExpenses</th>\n",
       "      <td>706155000</td>\n",
       "      <td>652962000</td>\n",
       "      <td>609588000</td>\n",
       "      <td>750800000</td>\n",
       "    </tr>\n",
       "    <tr>\n",
       "      <th>costOfRevenue</th>\n",
       "      <td>440360000</td>\n",
       "      <td>53180000</td>\n",
       "      <td>400729000</td>\n",
       "      <td>524244000</td>\n",
       "    </tr>\n",
       "    <tr>\n",
       "      <th>totalOtherIncomeExpenseNet</th>\n",
       "      <td>31440000</td>\n",
       "      <td>-29057000</td>\n",
       "      <td>535000</td>\n",
       "      <td>7967000</td>\n",
       "    </tr>\n",
       "    <tr>\n",
       "      <th>discontinuedOperations</th>\n",
       "      <td>None</td>\n",
       "      <td>None</td>\n",
       "      <td>None</td>\n",
       "      <td>None</td>\n",
       "    </tr>\n",
       "    <tr>\n",
       "      <th>netIncomeFromContinuingOps</th>\n",
       "      <td>112775000</td>\n",
       "      <td>161432000</td>\n",
       "      <td>161432000</td>\n",
       "      <td>563851000</td>\n",
       "    </tr>\n",
       "    <tr>\n",
       "      <th>netIncomeApplicableToCommonShares</th>\n",
       "      <td>112775000</td>\n",
       "      <td>161432000</td>\n",
       "      <td>161432000</td>\n",
       "      <td>563851000</td>\n",
       "    </tr>\n",
       "  </tbody>\n",
       "</table>\n",
       "</div>"
      ],
      "text/plain": [
       "endDate                           2022-09-30   2022-06-30   2022-03-31  \\\n",
       "Breakdown                                                                \n",
       "researchDevelopment                      NaN  347196000.0  347196000.0   \n",
       "effectOfAccountingCharges               None         None         None   \n",
       "incomeBeforeTax                    148588000    229378000    229378000   \n",
       "minorityInterest                        None         None         None   \n",
       "netIncome                          112775000    161432000            0   \n",
       "sellingGeneralAdministrative       265795000    252586000    208859000   \n",
       "grossProfit                        382943000    858217000    332506000   \n",
       "ebit                               117148000    258435000    123647000   \n",
       "operatingIncome                    117148000    258435000    123647000   \n",
       "otherOperatingExpenses                  None         None         None   \n",
       "interestExpense                      -641000      -678000      -678000   \n",
       "extraordinaryItems                      None         None         None   \n",
       "nonRecurring                            None         None         None   \n",
       "otherItems                              None         None         None   \n",
       "incomeTaxExpense                    35813000     67946000            0   \n",
       "totalRevenue                       823303000    911397000            0   \n",
       "totalOperatingExpenses             706155000    652962000    609588000   \n",
       "costOfRevenue                      440360000     53180000    400729000   \n",
       "totalOtherIncomeExpenseNet          31440000    -29057000       535000   \n",
       "discontinuedOperations                  None         None         None   \n",
       "netIncomeFromContinuingOps         112775000    161432000    161432000   \n",
       "netIncomeApplicableToCommonShares  112775000    161432000    161432000   \n",
       "\n",
       "endDate                             2021-12-31  \n",
       "Breakdown                                       \n",
       "researchDevelopment                347196000.0  \n",
       "effectOfAccountingCharges                 None  \n",
       "incomeBeforeTax                      120020000  \n",
       "minorityInterest                          None  \n",
       "netIncome                            563851000  \n",
       "sellingGeneralAdministrative         226556000  \n",
       "grossProfit                          338609000  \n",
       "ebit                                 112053000  \n",
       "operatingIncome                      112053000  \n",
       "otherOperatingExpenses                    None  \n",
       "interestExpense                        -752000  \n",
       "extraordinaryItems                        None  \n",
       "nonRecurring                              None  \n",
       "otherItems                                None  \n",
       "incomeTaxExpense                    -443831000  \n",
       "totalRevenue                         862853000  \n",
       "totalOperatingExpenses               750800000  \n",
       "costOfRevenue                        524244000  \n",
       "totalOtherIncomeExpenseNet             7967000  \n",
       "discontinuedOperations                    None  \n",
       "netIncomeFromContinuingOps           563851000  \n",
       "netIncomeApplicableToCommonShares    563851000  "
      ]
     },
     "execution_count": 69,
     "metadata": {},
     "output_type": "execute_result"
    }
   ],
   "source": [
    "quarterly_income_statement"
   ]
  },
  {
   "cell_type": "code",
   "execution_count": 70,
   "metadata": {},
   "outputs": [],
   "source": [
    "financials_df = pd.concat([quarterly_income_statement, quarterly_balance_sheet, quarterly_cash_flow])\n",
    "financials_df.drop_duplicates(inplace=True)"
   ]
  },
  {
   "cell_type": "code",
   "execution_count": 71,
   "metadata": {},
   "outputs": [
    {
     "data": {
      "text/plain": [
       "\"\\n['researchDevelopment', 'effectOfAccountingCharges', 'incomeBeforeTax',\\n       'netIncome', 'sellingGeneralAdministrative', 'grossProfit', 'ebit',\\n       'interestExpense', 'incomeTaxExpense', 'totalRevenue',\\n       'totalOperatingExpenses', 'costOfRevenue', 'totalOtherIncomeExpenseNet',\\n       'netIncomeFromContinuingOps', 'intangibleAssets', 'capitalSurplus',\\n       'totalLiab', 'totalStockholderEquity', 'otherCurrentLiab',\\n       'totalAssets', 'commonStock', 'retainedEarnings', 'otherLiab',\\n       'goodWill', 'treasuryStock', 'otherAssets', 'cash',\\n       'totalCurrentLiabilities', 'deferredLongTermAssetCharges',\\n       'propertyPlantEquipment', 'totalCurrentAssets', 'longTermInvestments',\\n       'netTangibleAssets', 'shortTermInvestments', 'netReceivables',\\n       'inventory', 'accountsPayable', 'investments', 'changeToLiabilities',\\n       'totalCashflowsFromInvestingActivities', 'netBorrowings',\\n       'totalCashFromFinancingActivities', 'changeToOperatingActivities',\\n       'issuanceOfStock', 'changeInCash', 'repurchaseOfStock',\\n       'effectOfExchangeRate', 'totalCashFromOperatingActivities',\\n       'depreciation', 'changeToInventory', 'changeToAccountReceivables',\\n       'changeToNetincome', 'capitalExpenditures',\\n       'otherCashflowsFromFinancingActivities']\\n\""
      ]
     },
     "execution_count": 71,
     "metadata": {},
     "output_type": "execute_result"
    }
   ],
   "source": [
    "\"\"\"\n",
    "['researchDevelopment', 'effectOfAccountingCharges', 'incomeBeforeTax',\n",
    "       'netIncome', 'sellingGeneralAdministrative', 'grossProfit', 'ebit',\n",
    "       'interestExpense', 'incomeTaxExpense', 'totalRevenue',\n",
    "       'totalOperatingExpenses', 'costOfRevenue', 'totalOtherIncomeExpenseNet',\n",
    "       'netIncomeFromContinuingOps', 'intangibleAssets', 'capitalSurplus',\n",
    "       'totalLiab', 'totalStockholderEquity', 'otherCurrentLiab',\n",
    "       'totalAssets', 'commonStock', 'retainedEarnings', 'otherLiab',\n",
    "       'goodWill', 'treasuryStock', 'otherAssets', 'cash',\n",
    "       'totalCurrentLiabilities', 'deferredLongTermAssetCharges',\n",
    "       'propertyPlantEquipment', 'totalCurrentAssets', 'longTermInvestments',\n",
    "       'netTangibleAssets', 'shortTermInvestments', 'netReceivables',\n",
    "       'inventory', 'accountsPayable', 'investments', 'changeToLiabilities',\n",
    "       'totalCashflowsFromInvestingActivities', 'netBorrowings',\n",
    "       'totalCashFromFinancingActivities', 'changeToOperatingActivities',\n",
    "       'issuanceOfStock', 'changeInCash', 'repurchaseOfStock',\n",
    "       'effectOfExchangeRate', 'totalCashFromOperatingActivities',\n",
    "       'depreciation', 'changeToInventory', 'changeToAccountReceivables',\n",
    "       'changeToNetincome', 'capitalExpenditures',\n",
    "       'otherCashflowsFromFinancingActivities']\n",
    "\"\"\""
   ]
  },
  {
   "cell_type": "code",
   "execution_count": 72,
   "metadata": {},
   "outputs": [
    {
     "data": {
      "text/plain": [
       "\"\\n 'current_assets' == 'totalCurrentAssets'\\n 'cost_of_goods_sold' == 'totalOperatingExpenses'\\n 'depreciation_and_amortization' == 'depreciation' + 'intengibleAssets'\\n 'EBITDA' == 'grossProfit' - 'totalOperatingExpenses' + 'depreciation' + 'intengibleAssets'\\n 'inventory' == 'inventory'\\n 'net_income' == 'netIncome'\\n 'total_receivables' == 'netReceivables'\\n 'market_value' == \\n 'net_sales' == \\n 'total_assets' == 'totalAssets'\\n 'total_long_term_debt' == 'totalLiab'\\n 'EBIT' == 'grossProfit' - 'totalOperatingExpenses'\\n 'gross_profit' == 'grossProfit'\\n 'total_current_liabilities' == 'totalCurrentLiabilities'\\n 'retained_earnings' == 'retainedEarnings'\\n 'total_revenue' == 'totalRevenue'\\n 'total_liabilities' == 'totalCurrentLiabilities'\\n 'total_operationg_expenses' == 'totalOperatingExpenses'\\n\""
      ]
     },
     "execution_count": 72,
     "metadata": {},
     "output_type": "execute_result"
    }
   ],
   "source": [
    "\"\"\"\n",
    " 'current_assets' == 'totalCurrentAssets'\n",
    " 'cost_of_goods_sold' == 'totalOperatingExpenses'\n",
    " 'depreciation_and_amortization' == 'depreciation' + 'intengibleAssets'\n",
    " 'EBITDA' == 'grossProfit' - 'totalOperatingExpenses' + 'depreciation' + 'intengibleAssets'\n",
    " 'inventory' == 'inventory'\n",
    " 'net_income' == 'netIncome'\n",
    " 'total_receivables' == 'netReceivables'\n",
    " 'market_value' == \n",
    " 'net_sales' == \n",
    " 'total_assets' == 'totalAssets'\n",
    " 'total_long_term_debt' == 'totalLiab'\n",
    " 'EBIT' == 'grossProfit' - 'totalOperatingExpenses'\n",
    " 'gross_profit' == 'grossProfit'\n",
    " 'total_current_liabilities' == 'totalCurrentLiabilities'\n",
    " 'retained_earnings' == 'retainedEarnings'\n",
    " 'total_revenue' == 'totalRevenue'\n",
    " 'total_liabilities' == 'totalCurrentLiabilities'\n",
    " 'total_operationg_expenses' == 'totalOperatingExpenses'\n",
    "\"\"\""
   ]
  },
  {
   "cell_type": "code",
   "execution_count": 73,
   "metadata": {},
   "outputs": [
    {
     "name": "stderr",
     "output_type": "stream",
     "text": [
      "c:\\Users\\yutak\\Anaconda3\\envs\\dev\\lib\\site-packages\\yahoo_fin\\stock_info.py:295: FutureWarning: The frame.append method is deprecated and will be removed from pandas in a future version. Use pandas.concat instead.\n",
      "  data = tables[0].append(tables[1])\n",
      "c:\\Users\\yutak\\Anaconda3\\envs\\dev\\lib\\site-packages\\yahoo_fin\\stock_info.py:302: FutureWarning: The frame.append method is deprecated and will be removed from pandas in a future version. Use pandas.concat instead.\n",
      "  data = data.append(quote_price)\n"
     ]
    },
    {
     "data": {
      "text/plain": [
       "{'1y Target Est': 86.88,\n",
       " '52 Week Range': '62.31 - 84.86',\n",
       " 'Ask': '0.00 x 1400',\n",
       " 'Avg. Volume': 1416758.0,\n",
       " 'Beta (5Y Monthly)': 0.69,\n",
       " 'Bid': '0.00 x 900',\n",
       " \"Day's Range\": '76.38 - 78.07',\n",
       " 'EPS (TTM)': 3.93,\n",
       " 'Earnings Date': 'Feb 06, 2023 - Feb 10, 2023',\n",
       " 'Ex-Dividend Date': nan,\n",
       " 'Forward Dividend & Yield': 'N/A (N/A)',\n",
       " 'Market Cap': '17.046B',\n",
       " 'Open': 78.07,\n",
       " 'PE Ratio (TTM)': 19.5,\n",
       " 'Previous Close': 77.09,\n",
       " 'Quote Price': 76.62000274658203,\n",
       " 'Volume': 959358.0}"
      ]
     },
     "execution_count": 73,
     "metadata": {},
     "output_type": "execute_result"
    }
   ],
   "source": [
    "si.get_quote_table(ticker)"
   ]
  },
  {
   "cell_type": "code",
   "execution_count": null,
   "metadata": {},
   "outputs": [],
   "source": []
  }
 ],
 "metadata": {
  "kernelspec": {
   "display_name": "Python 3.9.12 ('dev')",
   "language": "python",
   "name": "python3"
  },
  "language_info": {
   "codemirror_mode": {
    "name": "ipython",
    "version": 3
   },
   "file_extension": ".py",
   "mimetype": "text/x-python",
   "name": "python",
   "nbconvert_exporter": "python",
   "pygments_lexer": "ipython3",
   "version": "3.9.12"
  },
  "orig_nbformat": 4,
  "vscode": {
   "interpreter": {
    "hash": "3ee04db7352e682cac186af61911f6acc7ec70cc0d9fa70de64442cbd59efbd7"
   }
  }
 },
 "nbformat": 4,
 "nbformat_minor": 2
}
