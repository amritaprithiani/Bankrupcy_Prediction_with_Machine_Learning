{
 "cells": [
  {
   "cell_type": "code",
   "execution_count": 1,
   "id": "b50a9e04-c465-4ea6-9019-7e630e61138c",
   "metadata": {},
   "outputs": [],
   "source": [
    "import pandas as pd\n",
    "from pathlib import Path\n",
    "import numpy as np\n",
    "import plotly.express as px\n",
    "import warnings\n",
    "warnings.filterwarnings(action='ignore')"
   ]
  },
  {
   "cell_type": "code",
   "execution_count": 2,
   "id": "d708d8aa-0658-4b03-8986-0ff417a0c2ff",
   "metadata": {},
   "outputs": [],
   "source": [
    "from sklearn.model_selection import train_test_split\n",
    "from sklearn.preprocessing import StandardScaler\n",
    "\n",
    "from sklearn.linear_model import LogisticRegression\n",
    "from sklearn.neighbors import KNeighborsClassifier\n",
    "from sklearn.tree import DecisionTreeClassifier\n",
    "from sklearn.svm import LinearSVC, SVC\n",
    "from sklearn.neural_network import MLPClassifier\n",
    "from sklearn.ensemble import RandomForestClassifier, GradientBoostingClassifier\n",
    "\n",
    "from sklearn.decomposition import PCA"
   ]
  },
  {
   "cell_type": "code",
   "execution_count": 3,
   "id": "095636d2-37f6-491f-944f-e3c706d2c86f",
   "metadata": {},
   "outputs": [
    {
     "data": {
      "text/html": [
       "<div>\n",
       "<style scoped>\n",
       "    .dataframe tbody tr th:only-of-type {\n",
       "        vertical-align: middle;\n",
       "    }\n",
       "\n",
       "    .dataframe tbody tr th {\n",
       "        vertical-align: top;\n",
       "    }\n",
       "\n",
       "    .dataframe thead th {\n",
       "        text-align: right;\n",
       "    }\n",
       "</style>\n",
       "<table border=\"1\" class=\"dataframe\">\n",
       "  <thead>\n",
       "    <tr style=\"text-align: right;\">\n",
       "      <th></th>\n",
       "      <th>current_assets</th>\n",
       "      <th>cost_of_goods_sold</th>\n",
       "      <th>depreciation_and_amortization</th>\n",
       "      <th>EBITDA</th>\n",
       "      <th>inventory</th>\n",
       "      <th>net_income</th>\n",
       "      <th>total_receivables</th>\n",
       "      <th>market_value</th>\n",
       "      <th>net_sales</th>\n",
       "      <th>total_assets</th>\n",
       "      <th>total_long_term_debt</th>\n",
       "      <th>EBIT</th>\n",
       "      <th>gross_profit</th>\n",
       "      <th>total_current_liabilities</th>\n",
       "      <th>retained_earnings</th>\n",
       "      <th>total_revenue</th>\n",
       "      <th>total_liabilities</th>\n",
       "      <th>total_operationg_expenses</th>\n",
       "      <th>status</th>\n",
       "    </tr>\n",
       "  </thead>\n",
       "  <tbody>\n",
       "    <tr>\n",
       "      <th>0</th>\n",
       "      <td>511.267</td>\n",
       "      <td>833.107</td>\n",
       "      <td>18.373</td>\n",
       "      <td>89.031</td>\n",
       "      <td>336.018</td>\n",
       "      <td>35.163</td>\n",
       "      <td>128.348</td>\n",
       "      <td>372.7519</td>\n",
       "      <td>1024.333</td>\n",
       "      <td>740.998</td>\n",
       "      <td>180.447</td>\n",
       "      <td>70.658</td>\n",
       "      <td>191.226</td>\n",
       "      <td>163.816</td>\n",
       "      <td>201.026</td>\n",
       "      <td>1024.333</td>\n",
       "      <td>401.483</td>\n",
       "      <td>935.302</td>\n",
       "      <td>0</td>\n",
       "    </tr>\n",
       "    <tr>\n",
       "      <th>1</th>\n",
       "      <td>485.856</td>\n",
       "      <td>713.811</td>\n",
       "      <td>18.577</td>\n",
       "      <td>64.367</td>\n",
       "      <td>320.590</td>\n",
       "      <td>18.531</td>\n",
       "      <td>115.187</td>\n",
       "      <td>377.1180</td>\n",
       "      <td>874.255</td>\n",
       "      <td>701.854</td>\n",
       "      <td>179.987</td>\n",
       "      <td>45.790</td>\n",
       "      <td>160.444</td>\n",
       "      <td>125.392</td>\n",
       "      <td>204.065</td>\n",
       "      <td>874.255</td>\n",
       "      <td>361.642</td>\n",
       "      <td>809.888</td>\n",
       "      <td>0</td>\n",
       "    </tr>\n",
       "    <tr>\n",
       "      <th>2</th>\n",
       "      <td>436.656</td>\n",
       "      <td>526.477</td>\n",
       "      <td>22.496</td>\n",
       "      <td>27.207</td>\n",
       "      <td>286.588</td>\n",
       "      <td>-58.939</td>\n",
       "      <td>77.528</td>\n",
       "      <td>364.5928</td>\n",
       "      <td>638.721</td>\n",
       "      <td>710.199</td>\n",
       "      <td>217.699</td>\n",
       "      <td>4.711</td>\n",
       "      <td>112.244</td>\n",
       "      <td>150.464</td>\n",
       "      <td>139.603</td>\n",
       "      <td>638.721</td>\n",
       "      <td>399.964</td>\n",
       "      <td>611.514</td>\n",
       "      <td>0</td>\n",
       "    </tr>\n",
       "    <tr>\n",
       "      <th>3</th>\n",
       "      <td>396.412</td>\n",
       "      <td>496.747</td>\n",
       "      <td>27.172</td>\n",
       "      <td>30.745</td>\n",
       "      <td>259.954</td>\n",
       "      <td>-12.410</td>\n",
       "      <td>66.322</td>\n",
       "      <td>143.3295</td>\n",
       "      <td>606.337</td>\n",
       "      <td>686.621</td>\n",
       "      <td>164.658</td>\n",
       "      <td>3.573</td>\n",
       "      <td>109.590</td>\n",
       "      <td>203.575</td>\n",
       "      <td>124.106</td>\n",
       "      <td>606.337</td>\n",
       "      <td>391.633</td>\n",
       "      <td>575.592</td>\n",
       "      <td>0</td>\n",
       "    </tr>\n",
       "    <tr>\n",
       "      <th>4</th>\n",
       "      <td>432.204</td>\n",
       "      <td>523.302</td>\n",
       "      <td>26.680</td>\n",
       "      <td>47.491</td>\n",
       "      <td>247.245</td>\n",
       "      <td>3.504</td>\n",
       "      <td>104.661</td>\n",
       "      <td>308.9071</td>\n",
       "      <td>651.958</td>\n",
       "      <td>709.292</td>\n",
       "      <td>248.666</td>\n",
       "      <td>20.811</td>\n",
       "      <td>128.656</td>\n",
       "      <td>131.261</td>\n",
       "      <td>131.884</td>\n",
       "      <td>651.958</td>\n",
       "      <td>407.608</td>\n",
       "      <td>604.467</td>\n",
       "      <td>0</td>\n",
       "    </tr>\n",
       "    <tr>\n",
       "      <th>...</th>\n",
       "      <td>...</td>\n",
       "      <td>...</td>\n",
       "      <td>...</td>\n",
       "      <td>...</td>\n",
       "      <td>...</td>\n",
       "      <td>...</td>\n",
       "      <td>...</td>\n",
       "      <td>...</td>\n",
       "      <td>...</td>\n",
       "      <td>...</td>\n",
       "      <td>...</td>\n",
       "      <td>...</td>\n",
       "      <td>...</td>\n",
       "      <td>...</td>\n",
       "      <td>...</td>\n",
       "      <td>...</td>\n",
       "      <td>...</td>\n",
       "      <td>...</td>\n",
       "      <td>...</td>\n",
       "    </tr>\n",
       "    <tr>\n",
       "      <th>78677</th>\n",
       "      <td>233.211</td>\n",
       "      <td>43.338</td>\n",
       "      <td>14.094</td>\n",
       "      <td>45.615</td>\n",
       "      <td>3.376</td>\n",
       "      <td>25.261</td>\n",
       "      <td>22.846</td>\n",
       "      <td>756.4827</td>\n",
       "      <td>104.223</td>\n",
       "      <td>1099.101</td>\n",
       "      <td>184.666</td>\n",
       "      <td>31.521</td>\n",
       "      <td>60.885</td>\n",
       "      <td>28.197</td>\n",
       "      <td>28.095</td>\n",
       "      <td>104.223</td>\n",
       "      <td>225.887</td>\n",
       "      <td>58.608</td>\n",
       "      <td>0</td>\n",
       "    </tr>\n",
       "    <tr>\n",
       "      <th>78678</th>\n",
       "      <td>105.559</td>\n",
       "      <td>59.184</td>\n",
       "      <td>42.592</td>\n",
       "      <td>202.133</td>\n",
       "      <td>2.288</td>\n",
       "      <td>129.688</td>\n",
       "      <td>54.611</td>\n",
       "      <td>527.5750</td>\n",
       "      <td>291.153</td>\n",
       "      <td>1865.926</td>\n",
       "      <td>770.103</td>\n",
       "      <td>159.541</td>\n",
       "      <td>231.969</td>\n",
       "      <td>88.128</td>\n",
       "      <td>157.783</td>\n",
       "      <td>291.153</td>\n",
       "      <td>880.327</td>\n",
       "      <td>89.020</td>\n",
       "      <td>0</td>\n",
       "    </tr>\n",
       "    <tr>\n",
       "      <th>78679</th>\n",
       "      <td>63.971</td>\n",
       "      <td>69.074</td>\n",
       "      <td>65.057</td>\n",
       "      <td>79.051</td>\n",
       "      <td>2.581</td>\n",
       "      <td>-1.442</td>\n",
       "      <td>42.467</td>\n",
       "      <td>578.8868</td>\n",
       "      <td>169.858</td>\n",
       "      <td>1746.235</td>\n",
       "      <td>683.985</td>\n",
       "      <td>13.994</td>\n",
       "      <td>100.784</td>\n",
       "      <td>85.765</td>\n",
       "      <td>156.341</td>\n",
       "      <td>169.858</td>\n",
       "      <td>770.233</td>\n",
       "      <td>90.807</td>\n",
       "      <td>0</td>\n",
       "    </tr>\n",
       "    <tr>\n",
       "      <th>78680</th>\n",
       "      <td>135.207</td>\n",
       "      <td>66.527</td>\n",
       "      <td>65.330</td>\n",
       "      <td>69.171</td>\n",
       "      <td>2.013</td>\n",
       "      <td>-20.401</td>\n",
       "      <td>27.217</td>\n",
       "      <td>412.6241</td>\n",
       "      <td>161.884</td>\n",
       "      <td>1736.110</td>\n",
       "      <td>694.035</td>\n",
       "      <td>3.841</td>\n",
       "      <td>95.357</td>\n",
       "      <td>82.010</td>\n",
       "      <td>135.941</td>\n",
       "      <td>161.884</td>\n",
       "      <td>776.697</td>\n",
       "      <td>92.713</td>\n",
       "      <td>0</td>\n",
       "    </tr>\n",
       "    <tr>\n",
       "      <th>78681</th>\n",
       "      <td>82.589</td>\n",
       "      <td>68.817</td>\n",
       "      <td>65.201</td>\n",
       "      <td>67.262</td>\n",
       "      <td>2.112</td>\n",
       "      <td>-50.946</td>\n",
       "      <td>45.839</td>\n",
       "      <td>354.1786</td>\n",
       "      <td>160.513</td>\n",
       "      <td>1625.370</td>\n",
       "      <td>632.122</td>\n",
       "      <td>2.061</td>\n",
       "      <td>91.696</td>\n",
       "      <td>79.365</td>\n",
       "      <td>84.995</td>\n",
       "      <td>160.513</td>\n",
       "      <td>712.687</td>\n",
       "      <td>93.251</td>\n",
       "      <td>0</td>\n",
       "    </tr>\n",
       "  </tbody>\n",
       "</table>\n",
       "<p>78682 rows × 19 columns</p>\n",
       "</div>"
      ],
      "text/plain": [
       "       current_assets  cost_of_goods_sold  depreciation_and_amortization  \\\n",
       "0             511.267             833.107                         18.373   \n",
       "1             485.856             713.811                         18.577   \n",
       "2             436.656             526.477                         22.496   \n",
       "3             396.412             496.747                         27.172   \n",
       "4             432.204             523.302                         26.680   \n",
       "...               ...                 ...                            ...   \n",
       "78677         233.211              43.338                         14.094   \n",
       "78678         105.559              59.184                         42.592   \n",
       "78679          63.971              69.074                         65.057   \n",
       "78680         135.207              66.527                         65.330   \n",
       "78681          82.589              68.817                         65.201   \n",
       "\n",
       "        EBITDA  inventory  net_income  total_receivables  market_value  \\\n",
       "0       89.031    336.018      35.163            128.348      372.7519   \n",
       "1       64.367    320.590      18.531            115.187      377.1180   \n",
       "2       27.207    286.588     -58.939             77.528      364.5928   \n",
       "3       30.745    259.954     -12.410             66.322      143.3295   \n",
       "4       47.491    247.245       3.504            104.661      308.9071   \n",
       "...        ...        ...         ...                ...           ...   \n",
       "78677   45.615      3.376      25.261             22.846      756.4827   \n",
       "78678  202.133      2.288     129.688             54.611      527.5750   \n",
       "78679   79.051      2.581      -1.442             42.467      578.8868   \n",
       "78680   69.171      2.013     -20.401             27.217      412.6241   \n",
       "78681   67.262      2.112     -50.946             45.839      354.1786   \n",
       "\n",
       "       net_sales  total_assets  total_long_term_debt     EBIT  gross_profit  \\\n",
       "0       1024.333       740.998               180.447   70.658       191.226   \n",
       "1        874.255       701.854               179.987   45.790       160.444   \n",
       "2        638.721       710.199               217.699    4.711       112.244   \n",
       "3        606.337       686.621               164.658    3.573       109.590   \n",
       "4        651.958       709.292               248.666   20.811       128.656   \n",
       "...          ...           ...                   ...      ...           ...   \n",
       "78677    104.223      1099.101               184.666   31.521        60.885   \n",
       "78678    291.153      1865.926               770.103  159.541       231.969   \n",
       "78679    169.858      1746.235               683.985   13.994       100.784   \n",
       "78680    161.884      1736.110               694.035    3.841        95.357   \n",
       "78681    160.513      1625.370               632.122    2.061        91.696   \n",
       "\n",
       "       total_current_liabilities  retained_earnings  total_revenue  \\\n",
       "0                        163.816            201.026       1024.333   \n",
       "1                        125.392            204.065        874.255   \n",
       "2                        150.464            139.603        638.721   \n",
       "3                        203.575            124.106        606.337   \n",
       "4                        131.261            131.884        651.958   \n",
       "...                          ...                ...            ...   \n",
       "78677                     28.197             28.095        104.223   \n",
       "78678                     88.128            157.783        291.153   \n",
       "78679                     85.765            156.341        169.858   \n",
       "78680                     82.010            135.941        161.884   \n",
       "78681                     79.365             84.995        160.513   \n",
       "\n",
       "       total_liabilities  total_operationg_expenses  status  \n",
       "0                401.483                    935.302       0  \n",
       "1                361.642                    809.888       0  \n",
       "2                399.964                    611.514       0  \n",
       "3                391.633                    575.592       0  \n",
       "4                407.608                    604.467       0  \n",
       "...                  ...                        ...     ...  \n",
       "78677            225.887                     58.608       0  \n",
       "78678            880.327                     89.020       0  \n",
       "78679            770.233                     90.807       0  \n",
       "78680            776.697                     92.713       0  \n",
       "78681            712.687                     93.251       0  \n",
       "\n",
       "[78682 rows x 19 columns]"
      ]
     },
     "execution_count": 3,
     "metadata": {},
     "output_type": "execute_result"
    }
   ],
   "source": [
    "data = pd.read_csv(Path(\"../Resources/relabeled_data.csv\"))\n",
    "data"
   ]
  },
  {
   "cell_type": "code",
   "execution_count": 4,
   "id": "d5996945-3741-42d7-8bf9-234348116ba3",
   "metadata": {},
   "outputs": [
    {
     "data": {
      "text/html": [
       "<div>\n",
       "<style scoped>\n",
       "    .dataframe tbody tr th:only-of-type {\n",
       "        vertical-align: middle;\n",
       "    }\n",
       "\n",
       "    .dataframe tbody tr th {\n",
       "        vertical-align: top;\n",
       "    }\n",
       "\n",
       "    .dataframe thead th {\n",
       "        text-align: right;\n",
       "    }\n",
       "</style>\n",
       "<table border=\"1\" class=\"dataframe\">\n",
       "  <thead>\n",
       "    <tr style=\"text-align: right;\">\n",
       "      <th></th>\n",
       "      <th>current_assets</th>\n",
       "      <th>cost_of_goods_sold</th>\n",
       "      <th>depreciation_and_amortization</th>\n",
       "      <th>EBITDA</th>\n",
       "      <th>inventory</th>\n",
       "      <th>net_income</th>\n",
       "      <th>total_receivables</th>\n",
       "      <th>market_value</th>\n",
       "      <th>net_sales</th>\n",
       "      <th>total_assets</th>\n",
       "      <th>total_long_term_debt</th>\n",
       "      <th>EBIT</th>\n",
       "      <th>gross_profit</th>\n",
       "      <th>total_current_liabilities</th>\n",
       "      <th>retained_earnings</th>\n",
       "      <th>total_revenue</th>\n",
       "      <th>total_liabilities</th>\n",
       "      <th>total_operationg_expenses</th>\n",
       "      <th>status</th>\n",
       "    </tr>\n",
       "  </thead>\n",
       "  <tbody>\n",
       "    <tr>\n",
       "      <th>count</th>\n",
       "      <td>78682.000000</td>\n",
       "      <td>78682.000000</td>\n",
       "      <td>78682.000000</td>\n",
       "      <td>78682.000000</td>\n",
       "      <td>78682.000000</td>\n",
       "      <td>78682.000000</td>\n",
       "      <td>78682.000000</td>\n",
       "      <td>7.868200e+04</td>\n",
       "      <td>78682.000000</td>\n",
       "      <td>78682.000000</td>\n",
       "      <td>78682.000000</td>\n",
       "      <td>78682.000000</td>\n",
       "      <td>78682.000000</td>\n",
       "      <td>78682.000000</td>\n",
       "      <td>78682.000000</td>\n",
       "      <td>78682.000000</td>\n",
       "      <td>78682.000000</td>\n",
       "      <td>78682.000000</td>\n",
       "      <td>78682.000000</td>\n",
       "    </tr>\n",
       "    <tr>\n",
       "      <th>mean</th>\n",
       "      <td>880.362485</td>\n",
       "      <td>1594.529029</td>\n",
       "      <td>121.234256</td>\n",
       "      <td>376.759424</td>\n",
       "      <td>201.605717</td>\n",
       "      <td>129.382453</td>\n",
       "      <td>286.832743</td>\n",
       "      <td>3.414355e+03</td>\n",
       "      <td>2364.019706</td>\n",
       "      <td>2867.110620</td>\n",
       "      <td>722.483710</td>\n",
       "      <td>255.525035</td>\n",
       "      <td>769.490783</td>\n",
       "      <td>610.072255</td>\n",
       "      <td>532.467069</td>\n",
       "      <td>2364.019706</td>\n",
       "      <td>1773.563963</td>\n",
       "      <td>1987.260307</td>\n",
       "      <td>0.066343</td>\n",
       "    </tr>\n",
       "    <tr>\n",
       "      <th>std</th>\n",
       "      <td>3928.564794</td>\n",
       "      <td>8930.484664</td>\n",
       "      <td>652.376804</td>\n",
       "      <td>2012.023142</td>\n",
       "      <td>1060.766096</td>\n",
       "      <td>1265.532022</td>\n",
       "      <td>1335.978571</td>\n",
       "      <td>1.841410e+04</td>\n",
       "      <td>11950.068842</td>\n",
       "      <td>12917.944421</td>\n",
       "      <td>3242.170946</td>\n",
       "      <td>1494.643534</td>\n",
       "      <td>3774.703114</td>\n",
       "      <td>2938.387443</td>\n",
       "      <td>6369.159440</td>\n",
       "      <td>11950.068842</td>\n",
       "      <td>8053.684902</td>\n",
       "      <td>10419.629038</td>\n",
       "      <td>0.248882</td>\n",
       "    </tr>\n",
       "    <tr>\n",
       "      <th>min</th>\n",
       "      <td>-7.760000</td>\n",
       "      <td>-366.645000</td>\n",
       "      <td>0.000000</td>\n",
       "      <td>-21913.000000</td>\n",
       "      <td>0.000000</td>\n",
       "      <td>-98696.000000</td>\n",
       "      <td>-0.006000</td>\n",
       "      <td>1.000000e-04</td>\n",
       "      <td>-1964.999000</td>\n",
       "      <td>0.001000</td>\n",
       "      <td>-0.023000</td>\n",
       "      <td>-25913.000000</td>\n",
       "      <td>-21536.000000</td>\n",
       "      <td>0.001000</td>\n",
       "      <td>-102362.000000</td>\n",
       "      <td>-1964.999000</td>\n",
       "      <td>0.001000</td>\n",
       "      <td>-317.197000</td>\n",
       "      <td>0.000000</td>\n",
       "    </tr>\n",
       "    <tr>\n",
       "      <th>25%</th>\n",
       "      <td>18.924000</td>\n",
       "      <td>17.038250</td>\n",
       "      <td>1.192000</td>\n",
       "      <td>-0.811000</td>\n",
       "      <td>0.000000</td>\n",
       "      <td>-7.415750</td>\n",
       "      <td>3.281250</td>\n",
       "      <td>3.498000e+01</td>\n",
       "      <td>27.548500</td>\n",
       "      <td>37.363500</td>\n",
       "      <td>0.000000</td>\n",
       "      <td>-2.787000</td>\n",
       "      <td>8.521250</td>\n",
       "      <td>8.889250</td>\n",
       "      <td>-68.282750</td>\n",
       "      <td>27.548500</td>\n",
       "      <td>13.486000</td>\n",
       "      <td>32.872500</td>\n",
       "      <td>0.000000</td>\n",
       "    </tr>\n",
       "    <tr>\n",
       "      <th>50%</th>\n",
       "      <td>100.449500</td>\n",
       "      <td>103.661000</td>\n",
       "      <td>7.929500</td>\n",
       "      <td>15.034500</td>\n",
       "      <td>7.023000</td>\n",
       "      <td>1.616000</td>\n",
       "      <td>22.820000</td>\n",
       "      <td>2.275118e+02</td>\n",
       "      <td>186.598500</td>\n",
       "      <td>213.203500</td>\n",
       "      <td>7.593500</td>\n",
       "      <td>6.518000</td>\n",
       "      <td>63.581500</td>\n",
       "      <td>43.333000</td>\n",
       "      <td>-1.131000</td>\n",
       "      <td>186.598500</td>\n",
       "      <td>81.988000</td>\n",
       "      <td>168.912000</td>\n",
       "      <td>0.000000</td>\n",
       "    </tr>\n",
       "    <tr>\n",
       "      <th>75%</th>\n",
       "      <td>431.526750</td>\n",
       "      <td>634.548000</td>\n",
       "      <td>47.971750</td>\n",
       "      <td>139.655250</td>\n",
       "      <td>74.747250</td>\n",
       "      <td>40.144250</td>\n",
       "      <td>131.580500</td>\n",
       "      <td>1.244890e+03</td>\n",
       "      <td>1046.402500</td>\n",
       "      <td>1171.364750</td>\n",
       "      <td>248.760750</td>\n",
       "      <td>87.599000</td>\n",
       "      <td>344.074250</td>\n",
       "      <td>222.817000</td>\n",
       "      <td>146.070000</td>\n",
       "      <td>1046.402500</td>\n",
       "      <td>629.975000</td>\n",
       "      <td>875.522250</td>\n",
       "      <td>0.000000</td>\n",
       "    </tr>\n",
       "    <tr>\n",
       "      <th>max</th>\n",
       "      <td>169662.000000</td>\n",
       "      <td>374623.000000</td>\n",
       "      <td>28430.000000</td>\n",
       "      <td>81730.000000</td>\n",
       "      <td>62567.000000</td>\n",
       "      <td>104821.000000</td>\n",
       "      <td>65812.000000</td>\n",
       "      <td>1.073391e+06</td>\n",
       "      <td>511729.000000</td>\n",
       "      <td>531864.000000</td>\n",
       "      <td>166250.000000</td>\n",
       "      <td>71230.000000</td>\n",
       "      <td>137106.000000</td>\n",
       "      <td>116866.000000</td>\n",
       "      <td>402089.000000</td>\n",
       "      <td>511729.000000</td>\n",
       "      <td>337980.000000</td>\n",
       "      <td>481580.000000</td>\n",
       "      <td>1.000000</td>\n",
       "    </tr>\n",
       "  </tbody>\n",
       "</table>\n",
       "</div>"
      ],
      "text/plain": [
       "       current_assets  cost_of_goods_sold  depreciation_and_amortization  \\\n",
       "count    78682.000000        78682.000000                   78682.000000   \n",
       "mean       880.362485         1594.529029                     121.234256   \n",
       "std       3928.564794         8930.484664                     652.376804   \n",
       "min         -7.760000         -366.645000                       0.000000   \n",
       "25%         18.924000           17.038250                       1.192000   \n",
       "50%        100.449500          103.661000                       7.929500   \n",
       "75%        431.526750          634.548000                      47.971750   \n",
       "max     169662.000000       374623.000000                   28430.000000   \n",
       "\n",
       "             EBITDA     inventory     net_income  total_receivables  \\\n",
       "count  78682.000000  78682.000000   78682.000000       78682.000000   \n",
       "mean     376.759424    201.605717     129.382453         286.832743   \n",
       "std     2012.023142   1060.766096    1265.532022        1335.978571   \n",
       "min   -21913.000000      0.000000  -98696.000000          -0.006000   \n",
       "25%       -0.811000      0.000000      -7.415750           3.281250   \n",
       "50%       15.034500      7.023000       1.616000          22.820000   \n",
       "75%      139.655250     74.747250      40.144250         131.580500   \n",
       "max    81730.000000  62567.000000  104821.000000       65812.000000   \n",
       "\n",
       "       market_value      net_sales   total_assets  total_long_term_debt  \\\n",
       "count  7.868200e+04   78682.000000   78682.000000          78682.000000   \n",
       "mean   3.414355e+03    2364.019706    2867.110620            722.483710   \n",
       "std    1.841410e+04   11950.068842   12917.944421           3242.170946   \n",
       "min    1.000000e-04   -1964.999000       0.001000             -0.023000   \n",
       "25%    3.498000e+01      27.548500      37.363500              0.000000   \n",
       "50%    2.275118e+02     186.598500     213.203500              7.593500   \n",
       "75%    1.244890e+03    1046.402500    1171.364750            248.760750   \n",
       "max    1.073391e+06  511729.000000  531864.000000         166250.000000   \n",
       "\n",
       "               EBIT   gross_profit  total_current_liabilities  \\\n",
       "count  78682.000000   78682.000000               78682.000000   \n",
       "mean     255.525035     769.490783                 610.072255   \n",
       "std     1494.643534    3774.703114                2938.387443   \n",
       "min   -25913.000000  -21536.000000                   0.001000   \n",
       "25%       -2.787000       8.521250                   8.889250   \n",
       "50%        6.518000      63.581500                  43.333000   \n",
       "75%       87.599000     344.074250                 222.817000   \n",
       "max    71230.000000  137106.000000              116866.000000   \n",
       "\n",
       "       retained_earnings  total_revenue  total_liabilities  \\\n",
       "count       78682.000000   78682.000000       78682.000000   \n",
       "mean          532.467069    2364.019706        1773.563963   \n",
       "std          6369.159440   11950.068842        8053.684902   \n",
       "min       -102362.000000   -1964.999000           0.001000   \n",
       "25%           -68.282750      27.548500          13.486000   \n",
       "50%            -1.131000     186.598500          81.988000   \n",
       "75%           146.070000    1046.402500         629.975000   \n",
       "max        402089.000000  511729.000000      337980.000000   \n",
       "\n",
       "       total_operationg_expenses        status  \n",
       "count               78682.000000  78682.000000  \n",
       "mean                 1987.260307      0.066343  \n",
       "std                 10419.629038      0.248882  \n",
       "min                  -317.197000      0.000000  \n",
       "25%                    32.872500      0.000000  \n",
       "50%                   168.912000      0.000000  \n",
       "75%                   875.522250      0.000000  \n",
       "max                481580.000000      1.000000  "
      ]
     },
     "execution_count": 4,
     "metadata": {},
     "output_type": "execute_result"
    }
   ],
   "source": [
    "data.describe()"
   ]
  },
  {
   "cell_type": "markdown",
   "id": "e2a8a112-ba0d-4d28-aa5a-99f8feb30c1d",
   "metadata": {},
   "source": [
    "## Analize and Cleanup Data as needed"
   ]
  },
  {
   "cell_type": "code",
   "execution_count": 5,
   "id": "3374e0dc-cbc3-4646-93c8-0a869c9067fb",
   "metadata": {},
   "outputs": [
    {
     "name": "stdout",
     "output_type": "stream",
     "text": [
      "<class 'pandas.core.frame.DataFrame'>\n",
      "RangeIndex: 78682 entries, 0 to 78681\n",
      "Data columns (total 19 columns):\n",
      " #   Column                         Non-Null Count  Dtype  \n",
      "---  ------                         --------------  -----  \n",
      " 0   current_assets                 78682 non-null  float64\n",
      " 1   cost_of_goods_sold             78682 non-null  float64\n",
      " 2   depreciation_and_amortization  78682 non-null  float64\n",
      " 3   EBITDA                         78682 non-null  float64\n",
      " 4   inventory                      78682 non-null  float64\n",
      " 5   net_income                     78682 non-null  float64\n",
      " 6   total_receivables              78682 non-null  float64\n",
      " 7   market_value                   78682 non-null  float64\n",
      " 8   net_sales                      78682 non-null  float64\n",
      " 9   total_assets                   78682 non-null  float64\n",
      " 10  total_long_term_debt           78682 non-null  float64\n",
      " 11  EBIT                           78682 non-null  float64\n",
      " 12  gross_profit                   78682 non-null  float64\n",
      " 13  total_current_liabilities      78682 non-null  float64\n",
      " 14  retained_earnings              78682 non-null  float64\n",
      " 15  total_revenue                  78682 non-null  float64\n",
      " 16  total_liabilities              78682 non-null  float64\n",
      " 17  total_operationg_expenses      78682 non-null  float64\n",
      " 18  status                         78682 non-null  int64  \n",
      "dtypes: float64(18), int64(1)\n",
      "memory usage: 11.4 MB\n"
     ]
    }
   ],
   "source": [
    "data.info()"
   ]
  },
  {
   "cell_type": "code",
   "execution_count": 6,
   "id": "1eccf8c3-d3fc-4a70-b1e0-bfb04a16fec7",
   "metadata": {},
   "outputs": [
    {
     "data": {
      "text/plain": [
       "{'current_assets': 65895,\n",
       " 'cost_of_goods_sold': 65690,\n",
       " 'depreciation_and_amortization': 36010,\n",
       " 'EBITDA': 59060,\n",
       " 'inventory': 38898,\n",
       " 'net_income': 55550,\n",
       " 'total_receivables': 49577,\n",
       " 'market_value': 77580,\n",
       " 'net_sales': 68596,\n",
       " 'total_assets': 71521,\n",
       " 'total_long_term_debt': 39741,\n",
       " 'EBIT': 56949,\n",
       " 'gross_profit': 64952,\n",
       " 'total_current_liabilities': 58685,\n",
       " 'retained_earnings': 72062,\n",
       " 'total_revenue': 68596,\n",
       " 'total_liabilities': 64640,\n",
       " 'total_operationg_expenses': 70840,\n",
       " 'status': 2}"
      ]
     },
     "execution_count": 6,
     "metadata": {},
     "output_type": "execute_result"
    }
   ],
   "source": [
    "{column: len(data[column].unique()) for column in data.columns}"
   ]
  },
  {
   "cell_type": "code",
   "execution_count": 7,
   "id": "c34e6ea5-87b3-4d4d-8c23-0854c55064a8",
   "metadata": {},
   "outputs": [],
   "source": [
    "# There are NO single value columns to drop from the dataframe"
   ]
  },
  {
   "cell_type": "markdown",
   "id": "91b1f441-3e3f-43ca-9770-ec0130612bf0",
   "metadata": {},
   "source": [
    "## Preprocessing"
   ]
  },
  {
   "cell_type": "code",
   "execution_count": 10,
   "id": "47890c0f-3354-402e-bf25-33949a1285cf",
   "metadata": {},
   "outputs": [],
   "source": [
    "def preprocess_inputs(df):\n",
    "    df = data.copy()\n",
    "\n",
    "    #split data into X and y\n",
    "    \n",
    "    y = data[\"status\"]\n",
    "    X = data.drop(\"status\", axis=1)\n",
    "    \n",
    "    #Train split \n",
    "    X_train, X_test, y_train, y_test = train_test_split(X,y, train_size=0.7, shuffle= True, random_state=1)\n",
    "    \n",
    "    # Scale X\n",
    "    scaler = StandardScaler()\n",
    "    scaler.fit(X_train)\n",
    "    X_train = pd.DataFrame(scaler.transform(X_train), index=X_train.index, columns=X_train.columns)\n",
    "    X_test = pd.DataFrame(scaler.transform(X_test), index=X_test.index, columns=X_test.columns)\n",
    "    \n",
    "    return X_train, X_test, y_train, y_test"
   ]
  },
  {
   "cell_type": "code",
   "execution_count": 11,
   "id": "ea36a675-a45b-47db-885c-fdcf8a63d73b",
   "metadata": {},
   "outputs": [],
   "source": [
    "X_train, X_test, y_train, y_test = preprocess_inputs(data)"
   ]
  },
  {
   "cell_type": "code",
   "execution_count": 12,
   "id": "4e34860a-13a9-4827-8820-ec47dea1aad4",
   "metadata": {},
   "outputs": [
    {
     "data": {
      "text/html": [
       "<div>\n",
       "<style scoped>\n",
       "    .dataframe tbody tr th:only-of-type {\n",
       "        vertical-align: middle;\n",
       "    }\n",
       "\n",
       "    .dataframe tbody tr th {\n",
       "        vertical-align: top;\n",
       "    }\n",
       "\n",
       "    .dataframe thead th {\n",
       "        text-align: right;\n",
       "    }\n",
       "</style>\n",
       "<table border=\"1\" class=\"dataframe\">\n",
       "  <thead>\n",
       "    <tr style=\"text-align: right;\">\n",
       "      <th></th>\n",
       "      <th>current_assets</th>\n",
       "      <th>cost_of_goods_sold</th>\n",
       "      <th>depreciation_and_amortization</th>\n",
       "      <th>EBITDA</th>\n",
       "      <th>inventory</th>\n",
       "      <th>net_income</th>\n",
       "      <th>total_receivables</th>\n",
       "      <th>market_value</th>\n",
       "      <th>net_sales</th>\n",
       "      <th>total_assets</th>\n",
       "      <th>total_long_term_debt</th>\n",
       "      <th>EBIT</th>\n",
       "      <th>gross_profit</th>\n",
       "      <th>total_current_liabilities</th>\n",
       "      <th>retained_earnings</th>\n",
       "      <th>total_revenue</th>\n",
       "      <th>total_liabilities</th>\n",
       "      <th>total_operationg_expenses</th>\n",
       "    </tr>\n",
       "  </thead>\n",
       "  <tbody>\n",
       "    <tr>\n",
       "      <th>59024</th>\n",
       "      <td>-0.222055</td>\n",
       "      <td>-0.175354</td>\n",
       "      <td>-0.181781</td>\n",
       "      <td>-0.186881</td>\n",
       "      <td>-0.188153</td>\n",
       "      <td>-0.102688</td>\n",
       "      <td>-0.211660</td>\n",
       "      <td>-0.187295</td>\n",
       "      <td>-0.195418</td>\n",
       "      <td>-0.217424</td>\n",
       "      <td>-0.218640</td>\n",
       "      <td>-0.171034</td>\n",
       "      <td>-0.201840</td>\n",
       "      <td>-0.203831</td>\n",
       "      <td>-0.088199</td>\n",
       "      <td>-0.195418</td>\n",
       "      <td>-0.215442</td>\n",
       "      <td>-0.187666</td>\n",
       "    </tr>\n",
       "    <tr>\n",
       "      <th>33685</th>\n",
       "      <td>-0.063482</td>\n",
       "      <td>0.070741</td>\n",
       "      <td>-0.140793</td>\n",
       "      <td>-0.056127</td>\n",
       "      <td>-0.031474</td>\n",
       "      <td>-0.000058</td>\n",
       "      <td>0.098372</td>\n",
       "      <td>-0.133867</td>\n",
       "      <td>0.045588</td>\n",
       "      <td>-0.131942</td>\n",
       "      <td>-0.135047</td>\n",
       "      <td>-0.011571</td>\n",
       "      <td>-0.022767</td>\n",
       "      <td>-0.095236</td>\n",
       "      <td>-0.031299</td>\n",
       "      <td>0.045588</td>\n",
       "      <td>-0.135671</td>\n",
       "      <td>0.063127</td>\n",
       "    </tr>\n",
       "    <tr>\n",
       "      <th>9607</th>\n",
       "      <td>-0.223025</td>\n",
       "      <td>-0.180246</td>\n",
       "      <td>-0.180813</td>\n",
       "      <td>-0.188538</td>\n",
       "      <td>-0.187260</td>\n",
       "      <td>-0.105044</td>\n",
       "      <td>-0.211087</td>\n",
       "      <td>-0.187515</td>\n",
       "      <td>-0.199667</td>\n",
       "      <td>-0.218232</td>\n",
       "      <td>-0.218302</td>\n",
       "      <td>-0.173741</td>\n",
       "      <td>-0.203704</td>\n",
       "      <td>-0.205188</td>\n",
       "      <td>-0.085661</td>\n",
       "      <td>-0.199667</td>\n",
       "      <td>-0.215817</td>\n",
       "      <td>-0.192214</td>\n",
       "    </tr>\n",
       "    <tr>\n",
       "      <th>49536</th>\n",
       "      <td>-0.221114</td>\n",
       "      <td>-0.180708</td>\n",
       "      <td>-0.182109</td>\n",
       "      <td>-0.193619</td>\n",
       "      <td>-0.187246</td>\n",
       "      <td>-0.111877</td>\n",
       "      <td>-0.211292</td>\n",
       "      <td>-0.184507</td>\n",
       "      <td>-0.199747</td>\n",
       "      <td>-0.217886</td>\n",
       "      <td>-0.219148</td>\n",
       "      <td>-0.180076</td>\n",
       "      <td>-0.202873</td>\n",
       "      <td>-0.204952</td>\n",
       "      <td>-0.096640</td>\n",
       "      <td>-0.199747</td>\n",
       "      <td>-0.216207</td>\n",
       "      <td>-0.191320</td>\n",
       "    </tr>\n",
       "    <tr>\n",
       "      <th>41877</th>\n",
       "      <td>-0.147144</td>\n",
       "      <td>-0.163493</td>\n",
       "      <td>-0.157437</td>\n",
       "      <td>-0.213375</td>\n",
       "      <td>-0.181467</td>\n",
       "      <td>-0.157566</td>\n",
       "      <td>-0.208175</td>\n",
       "      <td>-0.145813</td>\n",
       "      <td>-0.191619</td>\n",
       "      <td>-0.172417</td>\n",
       "      <td>-0.100725</td>\n",
       "      <td>-0.218420</td>\n",
       "      <td>-0.217706</td>\n",
       "      <td>-0.189943</td>\n",
       "      <td>-0.182518</td>\n",
       "      <td>-0.191619</td>\n",
       "      <td>-0.161593</td>\n",
       "      <td>-0.178173</td>\n",
       "    </tr>\n",
       "    <tr>\n",
       "      <th>...</th>\n",
       "      <td>...</td>\n",
       "      <td>...</td>\n",
       "      <td>...</td>\n",
       "      <td>...</td>\n",
       "      <td>...</td>\n",
       "      <td>...</td>\n",
       "      <td>...</td>\n",
       "      <td>...</td>\n",
       "      <td>...</td>\n",
       "      <td>...</td>\n",
       "      <td>...</td>\n",
       "      <td>...</td>\n",
       "      <td>...</td>\n",
       "      <td>...</td>\n",
       "      <td>...</td>\n",
       "      <td>...</td>\n",
       "      <td>...</td>\n",
       "      <td>...</td>\n",
       "    </tr>\n",
       "    <tr>\n",
       "      <th>21440</th>\n",
       "      <td>-0.224612</td>\n",
       "      <td>-0.181104</td>\n",
       "      <td>-0.182150</td>\n",
       "      <td>-0.188860</td>\n",
       "      <td>-0.189505</td>\n",
       "      <td>-0.104686</td>\n",
       "      <td>-0.212726</td>\n",
       "      <td>-0.188056</td>\n",
       "      <td>-0.200593</td>\n",
       "      <td>-0.218955</td>\n",
       "      <td>-0.219160</td>\n",
       "      <td>-0.173564</td>\n",
       "      <td>-0.204595</td>\n",
       "      <td>-0.205550</td>\n",
       "      <td>-0.085822</td>\n",
       "      <td>-0.200593</td>\n",
       "      <td>-0.216428</td>\n",
       "      <td>-0.193213</td>\n",
       "    </tr>\n",
       "    <tr>\n",
       "      <th>73349</th>\n",
       "      <td>-0.149560</td>\n",
       "      <td>-0.152019</td>\n",
       "      <td>-0.135760</td>\n",
       "      <td>-0.198096</td>\n",
       "      <td>-0.078141</td>\n",
       "      <td>-0.130112</td>\n",
       "      <td>-0.160322</td>\n",
       "      <td>-0.176021</td>\n",
       "      <td>-0.170367</td>\n",
       "      <td>-0.190801</td>\n",
       "      <td>-0.215364</td>\n",
       "      <td>-0.207583</td>\n",
       "      <td>-0.177971</td>\n",
       "      <td>-0.165899</td>\n",
       "      <td>-0.162478</td>\n",
       "      <td>-0.170367</td>\n",
       "      <td>-0.199710</td>\n",
       "      <td>-0.156786</td>\n",
       "    </tr>\n",
       "    <tr>\n",
       "      <th>50057</th>\n",
       "      <td>-0.223302</td>\n",
       "      <td>-0.178006</td>\n",
       "      <td>-0.181029</td>\n",
       "      <td>-0.202368</td>\n",
       "      <td>-0.189505</td>\n",
       "      <td>-0.126890</td>\n",
       "      <td>-0.212385</td>\n",
       "      <td>-0.183309</td>\n",
       "      <td>-0.200598</td>\n",
       "      <td>-0.218217</td>\n",
       "      <td>-0.219020</td>\n",
       "      <td>-0.192510</td>\n",
       "      <td>-0.211865</td>\n",
       "      <td>-0.203875</td>\n",
       "      <td>-0.104139</td>\n",
       "      <td>-0.200598</td>\n",
       "      <td>-0.215721</td>\n",
       "      <td>-0.190598</td>\n",
       "    </tr>\n",
       "    <tr>\n",
       "      <th>5192</th>\n",
       "      <td>0.999626</td>\n",
       "      <td>0.994307</td>\n",
       "      <td>0.583536</td>\n",
       "      <td>0.655105</td>\n",
       "      <td>1.485818</td>\n",
       "      <td>0.309072</td>\n",
       "      <td>1.526455</td>\n",
       "      <td>0.082072</td>\n",
       "      <td>0.921225</td>\n",
       "      <td>0.624294</td>\n",
       "      <td>0.606945</td>\n",
       "      <td>0.624343</td>\n",
       "      <td>0.558924</td>\n",
       "      <td>1.095151</td>\n",
       "      <td>0.280534</td>\n",
       "      <td>0.921225</td>\n",
       "      <td>0.755422</td>\n",
       "      <td>0.928506</td>\n",
       "    </tr>\n",
       "    <tr>\n",
       "      <th>77708</th>\n",
       "      <td>-0.224532</td>\n",
       "      <td>-0.181106</td>\n",
       "      <td>-0.182168</td>\n",
       "      <td>-0.191544</td>\n",
       "      <td>-0.189505</td>\n",
       "      <td>-0.112791</td>\n",
       "      <td>-0.212736</td>\n",
       "      <td>-0.187723</td>\n",
       "      <td>-0.200598</td>\n",
       "      <td>-0.217234</td>\n",
       "      <td>-0.216139</td>\n",
       "      <td>-0.177217</td>\n",
       "      <td>-0.204607</td>\n",
       "      <td>-0.194746</td>\n",
       "      <td>-0.091290</td>\n",
       "      <td>-0.200598</td>\n",
       "      <td>-0.211303</td>\n",
       "      <td>-0.192698</td>\n",
       "    </tr>\n",
       "  </tbody>\n",
       "</table>\n",
       "<p>55077 rows × 18 columns</p>\n",
       "</div>"
      ],
      "text/plain": [
       "       current_assets  cost_of_goods_sold  depreciation_and_amortization  \\\n",
       "59024       -0.222055           -0.175354                      -0.181781   \n",
       "33685       -0.063482            0.070741                      -0.140793   \n",
       "9607        -0.223025           -0.180246                      -0.180813   \n",
       "49536       -0.221114           -0.180708                      -0.182109   \n",
       "41877       -0.147144           -0.163493                      -0.157437   \n",
       "...               ...                 ...                            ...   \n",
       "21440       -0.224612           -0.181104                      -0.182150   \n",
       "73349       -0.149560           -0.152019                      -0.135760   \n",
       "50057       -0.223302           -0.178006                      -0.181029   \n",
       "5192         0.999626            0.994307                       0.583536   \n",
       "77708       -0.224532           -0.181106                      -0.182168   \n",
       "\n",
       "         EBITDA  inventory  net_income  total_receivables  market_value  \\\n",
       "59024 -0.186881  -0.188153   -0.102688          -0.211660     -0.187295   \n",
       "33685 -0.056127  -0.031474   -0.000058           0.098372     -0.133867   \n",
       "9607  -0.188538  -0.187260   -0.105044          -0.211087     -0.187515   \n",
       "49536 -0.193619  -0.187246   -0.111877          -0.211292     -0.184507   \n",
       "41877 -0.213375  -0.181467   -0.157566          -0.208175     -0.145813   \n",
       "...         ...        ...         ...                ...           ...   \n",
       "21440 -0.188860  -0.189505   -0.104686          -0.212726     -0.188056   \n",
       "73349 -0.198096  -0.078141   -0.130112          -0.160322     -0.176021   \n",
       "50057 -0.202368  -0.189505   -0.126890          -0.212385     -0.183309   \n",
       "5192   0.655105   1.485818    0.309072           1.526455      0.082072   \n",
       "77708 -0.191544  -0.189505   -0.112791          -0.212736     -0.187723   \n",
       "\n",
       "       net_sales  total_assets  total_long_term_debt      EBIT  gross_profit  \\\n",
       "59024  -0.195418     -0.217424             -0.218640 -0.171034     -0.201840   \n",
       "33685   0.045588     -0.131942             -0.135047 -0.011571     -0.022767   \n",
       "9607   -0.199667     -0.218232             -0.218302 -0.173741     -0.203704   \n",
       "49536  -0.199747     -0.217886             -0.219148 -0.180076     -0.202873   \n",
       "41877  -0.191619     -0.172417             -0.100725 -0.218420     -0.217706   \n",
       "...          ...           ...                   ...       ...           ...   \n",
       "21440  -0.200593     -0.218955             -0.219160 -0.173564     -0.204595   \n",
       "73349  -0.170367     -0.190801             -0.215364 -0.207583     -0.177971   \n",
       "50057  -0.200598     -0.218217             -0.219020 -0.192510     -0.211865   \n",
       "5192    0.921225      0.624294              0.606945  0.624343      0.558924   \n",
       "77708  -0.200598     -0.217234             -0.216139 -0.177217     -0.204607   \n",
       "\n",
       "       total_current_liabilities  retained_earnings  total_revenue  \\\n",
       "59024                  -0.203831          -0.088199      -0.195418   \n",
       "33685                  -0.095236          -0.031299       0.045588   \n",
       "9607                   -0.205188          -0.085661      -0.199667   \n",
       "49536                  -0.204952          -0.096640      -0.199747   \n",
       "41877                  -0.189943          -0.182518      -0.191619   \n",
       "...                          ...                ...            ...   \n",
       "21440                  -0.205550          -0.085822      -0.200593   \n",
       "73349                  -0.165899          -0.162478      -0.170367   \n",
       "50057                  -0.203875          -0.104139      -0.200598   \n",
       "5192                    1.095151           0.280534       0.921225   \n",
       "77708                  -0.194746          -0.091290      -0.200598   \n",
       "\n",
       "       total_liabilities  total_operationg_expenses  \n",
       "59024          -0.215442                  -0.187666  \n",
       "33685          -0.135671                   0.063127  \n",
       "9607           -0.215817                  -0.192214  \n",
       "49536          -0.216207                  -0.191320  \n",
       "41877          -0.161593                  -0.178173  \n",
       "...                  ...                        ...  \n",
       "21440          -0.216428                  -0.193213  \n",
       "73349          -0.199710                  -0.156786  \n",
       "50057          -0.215721                  -0.190598  \n",
       "5192            0.755422                   0.928506  \n",
       "77708          -0.211303                  -0.192698  \n",
       "\n",
       "[55077 rows x 18 columns]"
      ]
     },
     "execution_count": 12,
     "metadata": {},
     "output_type": "execute_result"
    }
   ],
   "source": [
    "X_train"
   ]
  },
  {
   "cell_type": "code",
   "execution_count": 13,
   "id": "b87d9397-eb71-455b-96cd-029951494bd8",
   "metadata": {},
   "outputs": [
    {
     "data": {
      "text/plain": [
       "59024    0\n",
       "33685    0\n",
       "9607     0\n",
       "49536    0\n",
       "41877    0\n",
       "        ..\n",
       "21440    0\n",
       "73349    0\n",
       "50057    0\n",
       "5192     1\n",
       "77708    0\n",
       "Name: status, Length: 55077, dtype: int64"
      ]
     },
     "execution_count": 13,
     "metadata": {},
     "output_type": "execute_result"
    }
   ],
   "source": [
    "y_train"
   ]
  },
  {
   "cell_type": "markdown",
   "id": "f6b1c69c-3932-4195-8e19-d06636cc9fc6",
   "metadata": {},
   "source": [
    "## Training - Original Data"
   ]
  },
  {
   "cell_type": "code",
   "execution_count": 15,
   "id": "0a6e81c4-a13d-4f69-a0a5-6824974b2439",
   "metadata": {},
   "outputs": [
    {
     "name": "stdout",
     "output_type": "stream",
     "text": [
      "                   Logistic Regression trained.\n",
      "                   K-Nearest Neighbors trained.\n",
      "                         Decision Tree trained.\n",
      "Support Vector Machine (Linear Kernel) trained.\n",
      "   Support Vector Machine (RBF Kernel) trained.\n",
      "                        Neural Network trained.\n",
      "                         Random Forest trained.\n",
      "                     Gradient Boosting trained.\n"
     ]
    }
   ],
   "source": [
    "original_models = {\n",
    "    \"                   Logistic Regression\": LogisticRegression(),\n",
    "    \"                   K-Nearest Neighbors\": KNeighborsClassifier(),\n",
    "    \"                         Decision Tree\": DecisionTreeClassifier(),\n",
    "    \"Support Vector Machine (Linear Kernel)\": LinearSVC(),\n",
    "    \"   Support Vector Machine (RBF Kernel)\": SVC(),\n",
    "    \"                        Neural Network\": MLPClassifier(),\n",
    "    \"                         Random Forest\": RandomForestClassifier(),\n",
    "    \"                     Gradient Boosting\": GradientBoostingClassifier()\n",
    "}\n",
    "\n",
    "for name, model in original_models.items():\n",
    "    model.fit(X_train, y_train)\n",
    "    print(name + \" trained.\")"
   ]
  },
  {
   "cell_type": "code",
   "execution_count": 17,
   "id": "4dca6c4f-0850-4ac0-8e3c-5b306ffe6088",
   "metadata": {},
   "outputs": [
    {
     "name": "stdout",
     "output_type": "stream",
     "text": [
      "                   Logistic Regression: 93.62%\n",
      "                   K-Nearest Neighbors: 94.24%\n",
      "                         Decision Tree: 89.59%\n",
      "Support Vector Machine (Linear Kernel): 93.62%\n",
      "   Support Vector Machine (RBF Kernel): 93.67%\n",
      "                        Neural Network: 93.65%\n",
      "                         Random Forest: 93.97%\n",
      "                     Gradient Boosting: 93.64%\n"
     ]
    }
   ],
   "source": [
    "original_results = []\n",
    "\n",
    "for name, model in original_models.items():\n",
    "    result = model.score(X_test, y_test)\n",
    "    original_results.append(result)\n",
    "    print(name + \": {:.2f}%\".format(result * 100))"
   ]
  },
  {
   "cell_type": "code",
   "execution_count": 18,
   "id": "99284faf-7bb6-4639-844e-e4933d85821f",
   "metadata": {},
   "outputs": [
    {
     "data": {
      "text/plain": [
       "0    0.936327\n",
       "1    0.063673\n",
       "Name: status, dtype: float64"
      ]
     },
     "execution_count": 18,
     "metadata": {},
     "output_type": "execute_result"
    }
   ],
   "source": [
    "y_test.value_counts() / len(y_test)"
   ]
  },
  {
   "cell_type": "code",
   "execution_count": 19,
   "id": "a59722e1-3efb-4a53-a781-448571da75c4",
   "metadata": {},
   "outputs": [
    {
     "data": {
      "text/html": [
       "<div>\n",
       "<style scoped>\n",
       "    .dataframe tbody tr th:only-of-type {\n",
       "        vertical-align: middle;\n",
       "    }\n",
       "\n",
       "    .dataframe tbody tr th {\n",
       "        vertical-align: top;\n",
       "    }\n",
       "\n",
       "    .dataframe thead th {\n",
       "        text-align: right;\n",
       "    }\n",
       "</style>\n",
       "<table border=\"1\" class=\"dataframe\">\n",
       "  <thead>\n",
       "    <tr style=\"text-align: right;\">\n",
       "      <th></th>\n",
       "      <th>current_assets</th>\n",
       "      <th>cost_of_goods_sold</th>\n",
       "      <th>depreciation_and_amortization</th>\n",
       "      <th>EBITDA</th>\n",
       "      <th>inventory</th>\n",
       "      <th>net_income</th>\n",
       "      <th>total_receivables</th>\n",
       "      <th>market_value</th>\n",
       "      <th>net_sales</th>\n",
       "      <th>total_assets</th>\n",
       "      <th>total_long_term_debt</th>\n",
       "      <th>EBIT</th>\n",
       "      <th>gross_profit</th>\n",
       "      <th>total_current_liabilities</th>\n",
       "      <th>retained_earnings</th>\n",
       "      <th>total_revenue</th>\n",
       "      <th>total_liabilities</th>\n",
       "      <th>total_operationg_expenses</th>\n",
       "    </tr>\n",
       "  </thead>\n",
       "  <tbody>\n",
       "    <tr>\n",
       "      <th>59024</th>\n",
       "      <td>-0.222055</td>\n",
       "      <td>-0.175354</td>\n",
       "      <td>-0.181781</td>\n",
       "      <td>-0.186881</td>\n",
       "      <td>-0.188153</td>\n",
       "      <td>-0.102688</td>\n",
       "      <td>-0.211660</td>\n",
       "      <td>-0.187295</td>\n",
       "      <td>-0.195418</td>\n",
       "      <td>-0.217424</td>\n",
       "      <td>-0.218640</td>\n",
       "      <td>-0.171034</td>\n",
       "      <td>-0.201840</td>\n",
       "      <td>-0.203831</td>\n",
       "      <td>-0.088199</td>\n",
       "      <td>-0.195418</td>\n",
       "      <td>-0.215442</td>\n",
       "      <td>-0.187666</td>\n",
       "    </tr>\n",
       "    <tr>\n",
       "      <th>33685</th>\n",
       "      <td>-0.063482</td>\n",
       "      <td>0.070741</td>\n",
       "      <td>-0.140793</td>\n",
       "      <td>-0.056127</td>\n",
       "      <td>-0.031474</td>\n",
       "      <td>-0.000058</td>\n",
       "      <td>0.098372</td>\n",
       "      <td>-0.133867</td>\n",
       "      <td>0.045588</td>\n",
       "      <td>-0.131942</td>\n",
       "      <td>-0.135047</td>\n",
       "      <td>-0.011571</td>\n",
       "      <td>-0.022767</td>\n",
       "      <td>-0.095236</td>\n",
       "      <td>-0.031299</td>\n",
       "      <td>0.045588</td>\n",
       "      <td>-0.135671</td>\n",
       "      <td>0.063127</td>\n",
       "    </tr>\n",
       "    <tr>\n",
       "      <th>9607</th>\n",
       "      <td>-0.223025</td>\n",
       "      <td>-0.180246</td>\n",
       "      <td>-0.180813</td>\n",
       "      <td>-0.188538</td>\n",
       "      <td>-0.187260</td>\n",
       "      <td>-0.105044</td>\n",
       "      <td>-0.211087</td>\n",
       "      <td>-0.187515</td>\n",
       "      <td>-0.199667</td>\n",
       "      <td>-0.218232</td>\n",
       "      <td>-0.218302</td>\n",
       "      <td>-0.173741</td>\n",
       "      <td>-0.203704</td>\n",
       "      <td>-0.205188</td>\n",
       "      <td>-0.085661</td>\n",
       "      <td>-0.199667</td>\n",
       "      <td>-0.215817</td>\n",
       "      <td>-0.192214</td>\n",
       "    </tr>\n",
       "    <tr>\n",
       "      <th>49536</th>\n",
       "      <td>-0.221114</td>\n",
       "      <td>-0.180708</td>\n",
       "      <td>-0.182109</td>\n",
       "      <td>-0.193619</td>\n",
       "      <td>-0.187246</td>\n",
       "      <td>-0.111877</td>\n",
       "      <td>-0.211292</td>\n",
       "      <td>-0.184507</td>\n",
       "      <td>-0.199747</td>\n",
       "      <td>-0.217886</td>\n",
       "      <td>-0.219148</td>\n",
       "      <td>-0.180076</td>\n",
       "      <td>-0.202873</td>\n",
       "      <td>-0.204952</td>\n",
       "      <td>-0.096640</td>\n",
       "      <td>-0.199747</td>\n",
       "      <td>-0.216207</td>\n",
       "      <td>-0.191320</td>\n",
       "    </tr>\n",
       "    <tr>\n",
       "      <th>41877</th>\n",
       "      <td>-0.147144</td>\n",
       "      <td>-0.163493</td>\n",
       "      <td>-0.157437</td>\n",
       "      <td>-0.213375</td>\n",
       "      <td>-0.181467</td>\n",
       "      <td>-0.157566</td>\n",
       "      <td>-0.208175</td>\n",
       "      <td>-0.145813</td>\n",
       "      <td>-0.191619</td>\n",
       "      <td>-0.172417</td>\n",
       "      <td>-0.100725</td>\n",
       "      <td>-0.218420</td>\n",
       "      <td>-0.217706</td>\n",
       "      <td>-0.189943</td>\n",
       "      <td>-0.182518</td>\n",
       "      <td>-0.191619</td>\n",
       "      <td>-0.161593</td>\n",
       "      <td>-0.178173</td>\n",
       "    </tr>\n",
       "    <tr>\n",
       "      <th>...</th>\n",
       "      <td>...</td>\n",
       "      <td>...</td>\n",
       "      <td>...</td>\n",
       "      <td>...</td>\n",
       "      <td>...</td>\n",
       "      <td>...</td>\n",
       "      <td>...</td>\n",
       "      <td>...</td>\n",
       "      <td>...</td>\n",
       "      <td>...</td>\n",
       "      <td>...</td>\n",
       "      <td>...</td>\n",
       "      <td>...</td>\n",
       "      <td>...</td>\n",
       "      <td>...</td>\n",
       "      <td>...</td>\n",
       "      <td>...</td>\n",
       "      <td>...</td>\n",
       "    </tr>\n",
       "    <tr>\n",
       "      <th>21440</th>\n",
       "      <td>-0.224612</td>\n",
       "      <td>-0.181104</td>\n",
       "      <td>-0.182150</td>\n",
       "      <td>-0.188860</td>\n",
       "      <td>-0.189505</td>\n",
       "      <td>-0.104686</td>\n",
       "      <td>-0.212726</td>\n",
       "      <td>-0.188056</td>\n",
       "      <td>-0.200593</td>\n",
       "      <td>-0.218955</td>\n",
       "      <td>-0.219160</td>\n",
       "      <td>-0.173564</td>\n",
       "      <td>-0.204595</td>\n",
       "      <td>-0.205550</td>\n",
       "      <td>-0.085822</td>\n",
       "      <td>-0.200593</td>\n",
       "      <td>-0.216428</td>\n",
       "      <td>-0.193213</td>\n",
       "    </tr>\n",
       "    <tr>\n",
       "      <th>73349</th>\n",
       "      <td>-0.149560</td>\n",
       "      <td>-0.152019</td>\n",
       "      <td>-0.135760</td>\n",
       "      <td>-0.198096</td>\n",
       "      <td>-0.078141</td>\n",
       "      <td>-0.130112</td>\n",
       "      <td>-0.160322</td>\n",
       "      <td>-0.176021</td>\n",
       "      <td>-0.170367</td>\n",
       "      <td>-0.190801</td>\n",
       "      <td>-0.215364</td>\n",
       "      <td>-0.207583</td>\n",
       "      <td>-0.177971</td>\n",
       "      <td>-0.165899</td>\n",
       "      <td>-0.162478</td>\n",
       "      <td>-0.170367</td>\n",
       "      <td>-0.199710</td>\n",
       "      <td>-0.156786</td>\n",
       "    </tr>\n",
       "    <tr>\n",
       "      <th>50057</th>\n",
       "      <td>-0.223302</td>\n",
       "      <td>-0.178006</td>\n",
       "      <td>-0.181029</td>\n",
       "      <td>-0.202368</td>\n",
       "      <td>-0.189505</td>\n",
       "      <td>-0.126890</td>\n",
       "      <td>-0.212385</td>\n",
       "      <td>-0.183309</td>\n",
       "      <td>-0.200598</td>\n",
       "      <td>-0.218217</td>\n",
       "      <td>-0.219020</td>\n",
       "      <td>-0.192510</td>\n",
       "      <td>-0.211865</td>\n",
       "      <td>-0.203875</td>\n",
       "      <td>-0.104139</td>\n",
       "      <td>-0.200598</td>\n",
       "      <td>-0.215721</td>\n",
       "      <td>-0.190598</td>\n",
       "    </tr>\n",
       "    <tr>\n",
       "      <th>5192</th>\n",
       "      <td>0.999626</td>\n",
       "      <td>0.994307</td>\n",
       "      <td>0.583536</td>\n",
       "      <td>0.655105</td>\n",
       "      <td>1.485818</td>\n",
       "      <td>0.309072</td>\n",
       "      <td>1.526455</td>\n",
       "      <td>0.082072</td>\n",
       "      <td>0.921225</td>\n",
       "      <td>0.624294</td>\n",
       "      <td>0.606945</td>\n",
       "      <td>0.624343</td>\n",
       "      <td>0.558924</td>\n",
       "      <td>1.095151</td>\n",
       "      <td>0.280534</td>\n",
       "      <td>0.921225</td>\n",
       "      <td>0.755422</td>\n",
       "      <td>0.928506</td>\n",
       "    </tr>\n",
       "    <tr>\n",
       "      <th>77708</th>\n",
       "      <td>-0.224532</td>\n",
       "      <td>-0.181106</td>\n",
       "      <td>-0.182168</td>\n",
       "      <td>-0.191544</td>\n",
       "      <td>-0.189505</td>\n",
       "      <td>-0.112791</td>\n",
       "      <td>-0.212736</td>\n",
       "      <td>-0.187723</td>\n",
       "      <td>-0.200598</td>\n",
       "      <td>-0.217234</td>\n",
       "      <td>-0.216139</td>\n",
       "      <td>-0.177217</td>\n",
       "      <td>-0.204607</td>\n",
       "      <td>-0.194746</td>\n",
       "      <td>-0.091290</td>\n",
       "      <td>-0.200598</td>\n",
       "      <td>-0.211303</td>\n",
       "      <td>-0.192698</td>\n",
       "    </tr>\n",
       "  </tbody>\n",
       "</table>\n",
       "<p>55077 rows × 18 columns</p>\n",
       "</div>"
      ],
      "text/plain": [
       "       current_assets  cost_of_goods_sold  depreciation_and_amortization  \\\n",
       "59024       -0.222055           -0.175354                      -0.181781   \n",
       "33685       -0.063482            0.070741                      -0.140793   \n",
       "9607        -0.223025           -0.180246                      -0.180813   \n",
       "49536       -0.221114           -0.180708                      -0.182109   \n",
       "41877       -0.147144           -0.163493                      -0.157437   \n",
       "...               ...                 ...                            ...   \n",
       "21440       -0.224612           -0.181104                      -0.182150   \n",
       "73349       -0.149560           -0.152019                      -0.135760   \n",
       "50057       -0.223302           -0.178006                      -0.181029   \n",
       "5192         0.999626            0.994307                       0.583536   \n",
       "77708       -0.224532           -0.181106                      -0.182168   \n",
       "\n",
       "         EBITDA  inventory  net_income  total_receivables  market_value  \\\n",
       "59024 -0.186881  -0.188153   -0.102688          -0.211660     -0.187295   \n",
       "33685 -0.056127  -0.031474   -0.000058           0.098372     -0.133867   \n",
       "9607  -0.188538  -0.187260   -0.105044          -0.211087     -0.187515   \n",
       "49536 -0.193619  -0.187246   -0.111877          -0.211292     -0.184507   \n",
       "41877 -0.213375  -0.181467   -0.157566          -0.208175     -0.145813   \n",
       "...         ...        ...         ...                ...           ...   \n",
       "21440 -0.188860  -0.189505   -0.104686          -0.212726     -0.188056   \n",
       "73349 -0.198096  -0.078141   -0.130112          -0.160322     -0.176021   \n",
       "50057 -0.202368  -0.189505   -0.126890          -0.212385     -0.183309   \n",
       "5192   0.655105   1.485818    0.309072           1.526455      0.082072   \n",
       "77708 -0.191544  -0.189505   -0.112791          -0.212736     -0.187723   \n",
       "\n",
       "       net_sales  total_assets  total_long_term_debt      EBIT  gross_profit  \\\n",
       "59024  -0.195418     -0.217424             -0.218640 -0.171034     -0.201840   \n",
       "33685   0.045588     -0.131942             -0.135047 -0.011571     -0.022767   \n",
       "9607   -0.199667     -0.218232             -0.218302 -0.173741     -0.203704   \n",
       "49536  -0.199747     -0.217886             -0.219148 -0.180076     -0.202873   \n",
       "41877  -0.191619     -0.172417             -0.100725 -0.218420     -0.217706   \n",
       "...          ...           ...                   ...       ...           ...   \n",
       "21440  -0.200593     -0.218955             -0.219160 -0.173564     -0.204595   \n",
       "73349  -0.170367     -0.190801             -0.215364 -0.207583     -0.177971   \n",
       "50057  -0.200598     -0.218217             -0.219020 -0.192510     -0.211865   \n",
       "5192    0.921225      0.624294              0.606945  0.624343      0.558924   \n",
       "77708  -0.200598     -0.217234             -0.216139 -0.177217     -0.204607   \n",
       "\n",
       "       total_current_liabilities  retained_earnings  total_revenue  \\\n",
       "59024                  -0.203831          -0.088199      -0.195418   \n",
       "33685                  -0.095236          -0.031299       0.045588   \n",
       "9607                   -0.205188          -0.085661      -0.199667   \n",
       "49536                  -0.204952          -0.096640      -0.199747   \n",
       "41877                  -0.189943          -0.182518      -0.191619   \n",
       "...                          ...                ...            ...   \n",
       "21440                  -0.205550          -0.085822      -0.200593   \n",
       "73349                  -0.165899          -0.162478      -0.170367   \n",
       "50057                  -0.203875          -0.104139      -0.200598   \n",
       "5192                    1.095151           0.280534       0.921225   \n",
       "77708                  -0.194746          -0.091290      -0.200598   \n",
       "\n",
       "       total_liabilities  total_operationg_expenses  \n",
       "59024          -0.215442                  -0.187666  \n",
       "33685          -0.135671                   0.063127  \n",
       "9607           -0.215817                  -0.192214  \n",
       "49536          -0.216207                  -0.191320  \n",
       "41877          -0.161593                  -0.178173  \n",
       "...                  ...                        ...  \n",
       "21440          -0.216428                  -0.193213  \n",
       "73349          -0.199710                  -0.156786  \n",
       "50057          -0.215721                  -0.190598  \n",
       "5192            0.755422                   0.928506  \n",
       "77708          -0.211303                  -0.192698  \n",
       "\n",
       "[55077 rows x 18 columns]"
      ]
     },
     "execution_count": 19,
     "metadata": {},
     "output_type": "execute_result"
    }
   ],
   "source": [
    "X_train"
   ]
  },
  {
   "cell_type": "code",
   "execution_count": 20,
   "id": "34098d7c-cc8e-4ef8-b54b-4aebef97ec8a",
   "metadata": {},
   "outputs": [
    {
     "data": {
      "text/html": [
       "<div>\n",
       "<style scoped>\n",
       "    .dataframe tbody tr th:only-of-type {\n",
       "        vertical-align: middle;\n",
       "    }\n",
       "\n",
       "    .dataframe tbody tr th {\n",
       "        vertical-align: top;\n",
       "    }\n",
       "\n",
       "    .dataframe thead th {\n",
       "        text-align: right;\n",
       "    }\n",
       "</style>\n",
       "<table border=\"1\" class=\"dataframe\">\n",
       "  <thead>\n",
       "    <tr style=\"text-align: right;\">\n",
       "      <th></th>\n",
       "      <th>current_assets</th>\n",
       "      <th>cost_of_goods_sold</th>\n",
       "      <th>depreciation_and_amortization</th>\n",
       "      <th>EBITDA</th>\n",
       "      <th>inventory</th>\n",
       "      <th>net_income</th>\n",
       "      <th>total_receivables</th>\n",
       "      <th>market_value</th>\n",
       "      <th>net_sales</th>\n",
       "      <th>total_assets</th>\n",
       "      <th>total_long_term_debt</th>\n",
       "      <th>EBIT</th>\n",
       "      <th>gross_profit</th>\n",
       "      <th>total_current_liabilities</th>\n",
       "      <th>retained_earnings</th>\n",
       "      <th>total_revenue</th>\n",
       "      <th>total_liabilities</th>\n",
       "      <th>total_operationg_expenses</th>\n",
       "    </tr>\n",
       "  </thead>\n",
       "  <tbody>\n",
       "    <tr>\n",
       "      <th>count</th>\n",
       "      <td>5.507700e+04</td>\n",
       "      <td>5.507700e+04</td>\n",
       "      <td>5.507700e+04</td>\n",
       "      <td>5.507700e+04</td>\n",
       "      <td>5.507700e+04</td>\n",
       "      <td>5.507700e+04</td>\n",
       "      <td>5.507700e+04</td>\n",
       "      <td>5.507700e+04</td>\n",
       "      <td>5.507700e+04</td>\n",
       "      <td>5.507700e+04</td>\n",
       "      <td>5.507700e+04</td>\n",
       "      <td>5.507700e+04</td>\n",
       "      <td>5.507700e+04</td>\n",
       "      <td>5.507700e+04</td>\n",
       "      <td>5.507700e+04</td>\n",
       "      <td>5.507700e+04</td>\n",
       "      <td>5.507700e+04</td>\n",
       "      <td>5.507700e+04</td>\n",
       "    </tr>\n",
       "    <tr>\n",
       "      <th>mean</th>\n",
       "      <td>1.573960e-17</td>\n",
       "      <td>-2.701125e-18</td>\n",
       "      <td>1.071228e-17</td>\n",
       "      <td>-4.929856e-17</td>\n",
       "      <td>3.936084e-16</td>\n",
       "      <td>1.381782e-17</td>\n",
       "      <td>3.936286e-17</td>\n",
       "      <td>6.901275e-17</td>\n",
       "      <td>-5.302924e-17</td>\n",
       "      <td>3.431840e-19</td>\n",
       "      <td>-2.233695e-16</td>\n",
       "      <td>2.223691e-17</td>\n",
       "      <td>-4.735385e-17</td>\n",
       "      <td>6.233754e-18</td>\n",
       "      <td>9.772178e-18</td>\n",
       "      <td>-5.302924e-17</td>\n",
       "      <td>2.912781e-18</td>\n",
       "      <td>-3.055396e-17</td>\n",
       "    </tr>\n",
       "    <tr>\n",
       "      <th>std</th>\n",
       "      <td>1.000009e+00</td>\n",
       "      <td>1.000009e+00</td>\n",
       "      <td>1.000009e+00</td>\n",
       "      <td>1.000009e+00</td>\n",
       "      <td>1.000009e+00</td>\n",
       "      <td>1.000009e+00</td>\n",
       "      <td>1.000009e+00</td>\n",
       "      <td>1.000009e+00</td>\n",
       "      <td>1.000009e+00</td>\n",
       "      <td>1.000009e+00</td>\n",
       "      <td>1.000009e+00</td>\n",
       "      <td>1.000009e+00</td>\n",
       "      <td>1.000009e+00</td>\n",
       "      <td>1.000009e+00</td>\n",
       "      <td>1.000009e+00</td>\n",
       "      <td>1.000009e+00</td>\n",
       "      <td>1.000009e+00</td>\n",
       "      <td>1.000009e+00</td>\n",
       "    </tr>\n",
       "    <tr>\n",
       "      <th>min</th>\n",
       "      <td>-2.273272e-01</td>\n",
       "      <td>-2.225922e-01</td>\n",
       "      <td>-1.822030e-01</td>\n",
       "      <td>-1.112985e+01</td>\n",
       "      <td>-1.895049e-01</td>\n",
       "      <td>-4.534381e+01</td>\n",
       "      <td>-2.127404e-01</td>\n",
       "      <td>-1.881227e-01</td>\n",
       "      <td>-3.667201e-01</td>\n",
       "      <td>-2.191894e-01</td>\n",
       "      <td>-2.191668e-01</td>\n",
       "      <td>-1.782512e+01</td>\n",
       "      <td>-5.910257e+00</td>\n",
       "      <td>-2.056187e-01</td>\n",
       "      <td>-1.634958e+01</td>\n",
       "      <td>-3.667201e-01</td>\n",
       "      <td>-2.164531e-01</td>\n",
       "      <td>-2.239785e-01</td>\n",
       "    </tr>\n",
       "    <tr>\n",
       "      <th>25%</th>\n",
       "      <td>-2.205040e-01</td>\n",
       "      <td>-1.791874e-01</td>\n",
       "      <td>-1.804295e-01</td>\n",
       "      <td>-1.891148e-01</td>\n",
       "      <td>-1.895049e-01</td>\n",
       "      <td>-1.104539e-01</td>\n",
       "      <td>-2.103007e-01</td>\n",
       "      <td>-1.861694e-01</td>\n",
       "      <td>-1.982737e-01</td>\n",
       "      <td>-2.163387e-01</td>\n",
       "      <td>-2.191599e-01</td>\n",
       "      <td>-1.752574e-01</td>\n",
       "      <td>-2.023334e-01</td>\n",
       "      <td>-2.026411e-01</td>\n",
       "      <td>-9.506211e-02</td>\n",
       "      <td>-1.982737e-01</td>\n",
       "      <td>-2.148065e-01</td>\n",
       "      <td>-1.900741e-01</td>\n",
       "    </tr>\n",
       "    <tr>\n",
       "      <th>50%</th>\n",
       "      <td>-1.995274e-01</td>\n",
       "      <td>-1.692660e-01</td>\n",
       "      <td>-1.703746e-01</td>\n",
       "      <td>-1.809428e-01</td>\n",
       "      <td>-1.828703e-01</td>\n",
       "      <td>-1.031000e-01</td>\n",
       "      <td>-1.957555e-01</td>\n",
       "      <td>-1.754919e-01</td>\n",
       "      <td>-1.846506e-01</td>\n",
       "      <td>-2.027964e-01</td>\n",
       "      <td>-2.167732e-01</td>\n",
       "      <td>-1.687431e-01</td>\n",
       "      <td>-1.874862e-01</td>\n",
       "      <td>-1.910476e-01</td>\n",
       "      <td>-8.420452e-02</td>\n",
       "      <td>-1.846506e-01</td>\n",
       "      <td>-2.063995e-01</td>\n",
       "      <td>-1.767400e-01</td>\n",
       "    </tr>\n",
       "    <tr>\n",
       "      <th>75%</th>\n",
       "      <td>-1.149355e-01</td>\n",
       "      <td>-1.087310e-01</td>\n",
       "      <td>-1.108019e-01</td>\n",
       "      <td>-1.184934e-01</td>\n",
       "      <td>-1.183685e-01</td>\n",
       "      <td>-7.180591e-02</td>\n",
       "      <td>-1.149847e-01</td>\n",
       "      <td>-1.183465e-01</td>\n",
       "      <td>-1.114809e-01</td>\n",
       "      <td>-1.296011e-01</td>\n",
       "      <td>-1.436635e-01</td>\n",
       "      <td>-1.134247e-01</td>\n",
       "      <td>-1.128138e-01</td>\n",
       "      <td>-1.307354e-01</td>\n",
       "      <td>-6.050905e-02</td>\n",
       "      <td>-1.114809e-01</td>\n",
       "      <td>-1.395782e-01</td>\n",
       "      <td>-1.079439e-01</td>\n",
       "    </tr>\n",
       "    <tr>\n",
       "      <th>max</th>\n",
       "      <td>3.540886e+01</td>\n",
       "      <td>4.087766e+01</td>\n",
       "      <td>4.176376e+01</td>\n",
       "      <td>4.061899e+01</td>\n",
       "      <td>5.856607e+01</td>\n",
       "      <td>8.439082e+01</td>\n",
       "      <td>4.857653e+01</td>\n",
       "      <td>5.919029e+01</td>\n",
       "      <td>4.179690e+01</td>\n",
       "      <td>4.011333e+01</td>\n",
       "      <td>5.005171e+01</td>\n",
       "      <td>4.834812e+01</td>\n",
       "      <td>3.527494e+01</td>\n",
       "      <td>3.889310e+01</td>\n",
       "      <td>6.437934e+01</td>\n",
       "      <td>4.179690e+01</td>\n",
       "      <td>4.075066e+01</td>\n",
       "      <td>4.510358e+01</td>\n",
       "    </tr>\n",
       "  </tbody>\n",
       "</table>\n",
       "</div>"
      ],
      "text/plain": [
       "       current_assets  cost_of_goods_sold  depreciation_and_amortization  \\\n",
       "count    5.507700e+04        5.507700e+04                   5.507700e+04   \n",
       "mean     1.573960e-17       -2.701125e-18                   1.071228e-17   \n",
       "std      1.000009e+00        1.000009e+00                   1.000009e+00   \n",
       "min     -2.273272e-01       -2.225922e-01                  -1.822030e-01   \n",
       "25%     -2.205040e-01       -1.791874e-01                  -1.804295e-01   \n",
       "50%     -1.995274e-01       -1.692660e-01                  -1.703746e-01   \n",
       "75%     -1.149355e-01       -1.087310e-01                  -1.108019e-01   \n",
       "max      3.540886e+01        4.087766e+01                   4.176376e+01   \n",
       "\n",
       "             EBITDA     inventory    net_income  total_receivables  \\\n",
       "count  5.507700e+04  5.507700e+04  5.507700e+04       5.507700e+04   \n",
       "mean  -4.929856e-17  3.936084e-16  1.381782e-17       3.936286e-17   \n",
       "std    1.000009e+00  1.000009e+00  1.000009e+00       1.000009e+00   \n",
       "min   -1.112985e+01 -1.895049e-01 -4.534381e+01      -2.127404e-01   \n",
       "25%   -1.891148e-01 -1.895049e-01 -1.104539e-01      -2.103007e-01   \n",
       "50%   -1.809428e-01 -1.828703e-01 -1.031000e-01      -1.957555e-01   \n",
       "75%   -1.184934e-01 -1.183685e-01 -7.180591e-02      -1.149847e-01   \n",
       "max    4.061899e+01  5.856607e+01  8.439082e+01       4.857653e+01   \n",
       "\n",
       "       market_value     net_sales  total_assets  total_long_term_debt  \\\n",
       "count  5.507700e+04  5.507700e+04  5.507700e+04          5.507700e+04   \n",
       "mean   6.901275e-17 -5.302924e-17  3.431840e-19         -2.233695e-16   \n",
       "std    1.000009e+00  1.000009e+00  1.000009e+00          1.000009e+00   \n",
       "min   -1.881227e-01 -3.667201e-01 -2.191894e-01         -2.191668e-01   \n",
       "25%   -1.861694e-01 -1.982737e-01 -2.163387e-01         -2.191599e-01   \n",
       "50%   -1.754919e-01 -1.846506e-01 -2.027964e-01         -2.167732e-01   \n",
       "75%   -1.183465e-01 -1.114809e-01 -1.296011e-01         -1.436635e-01   \n",
       "max    5.919029e+01  4.179690e+01  4.011333e+01          5.005171e+01   \n",
       "\n",
       "               EBIT  gross_profit  total_current_liabilities  \\\n",
       "count  5.507700e+04  5.507700e+04               5.507700e+04   \n",
       "mean   2.223691e-17 -4.735385e-17               6.233754e-18   \n",
       "std    1.000009e+00  1.000009e+00               1.000009e+00   \n",
       "min   -1.782512e+01 -5.910257e+00              -2.056187e-01   \n",
       "25%   -1.752574e-01 -2.023334e-01              -2.026411e-01   \n",
       "50%   -1.687431e-01 -1.874862e-01              -1.910476e-01   \n",
       "75%   -1.134247e-01 -1.128138e-01              -1.307354e-01   \n",
       "max    4.834812e+01  3.527494e+01               3.889310e+01   \n",
       "\n",
       "       retained_earnings  total_revenue  total_liabilities  \\\n",
       "count       5.507700e+04   5.507700e+04       5.507700e+04   \n",
       "mean        9.772178e-18  -5.302924e-17       2.912781e-18   \n",
       "std         1.000009e+00   1.000009e+00       1.000009e+00   \n",
       "min        -1.634958e+01  -3.667201e-01      -2.164531e-01   \n",
       "25%        -9.506211e-02  -1.982737e-01      -2.148065e-01   \n",
       "50%        -8.420452e-02  -1.846506e-01      -2.063995e-01   \n",
       "75%        -6.050905e-02  -1.114809e-01      -1.395782e-01   \n",
       "max         6.437934e+01   4.179690e+01       4.075066e+01   \n",
       "\n",
       "       total_operationg_expenses  \n",
       "count               5.507700e+04  \n",
       "mean               -3.055396e-17  \n",
       "std                 1.000009e+00  \n",
       "min                -2.239785e-01  \n",
       "25%                -1.900741e-01  \n",
       "50%                -1.767400e-01  \n",
       "75%                -1.079439e-01  \n",
       "max                 4.510358e+01  "
      ]
     },
     "execution_count": 20,
     "metadata": {},
     "output_type": "execute_result"
    }
   ],
   "source": [
    "X_train.describe()"
   ]
  },
  {
   "cell_type": "markdown",
   "id": "4925c8b6-a6d7-40eb-aa14-e5101436da04",
   "metadata": {},
   "source": [
    "## Dimensionality Reduction (PCA)"
   ]
  },
  {
   "cell_type": "code",
   "execution_count": 22,
   "id": "7df2bc68-0f26-4e08-a393-03762d5a0570",
   "metadata": {},
   "outputs": [],
   "source": [
    "n_components = 18\n",
    "\n",
    "pca = PCA(n_components=n_components)\n",
    "pca.fit(X_train)\n",
    "\n",
    "X_train_reduced = pd.DataFrame(pca.transform(X_train), index=X_train.index, columns=[\"PC\" + str(i) for i in range(1, n_components + 1)])\n",
    "X_test_reduced = pd.DataFrame(pca.transform(X_test), index=X_test.index, columns=[\"PC\" + str(i) for i in range(1, n_components + 1)])"
   ]
  },
  {
   "cell_type": "code",
   "execution_count": 23,
   "id": "409b9cb0-02ee-4ec2-95b0-0dfac9e9e821",
   "metadata": {},
   "outputs": [
    {
     "data": {
      "text/html": [
       "<div>\n",
       "<style scoped>\n",
       "    .dataframe tbody tr th:only-of-type {\n",
       "        vertical-align: middle;\n",
       "    }\n",
       "\n",
       "    .dataframe tbody tr th {\n",
       "        vertical-align: top;\n",
       "    }\n",
       "\n",
       "    .dataframe thead th {\n",
       "        text-align: right;\n",
       "    }\n",
       "</style>\n",
       "<table border=\"1\" class=\"dataframe\">\n",
       "  <thead>\n",
       "    <tr style=\"text-align: right;\">\n",
       "      <th></th>\n",
       "      <th>PC1</th>\n",
       "      <th>PC2</th>\n",
       "      <th>PC3</th>\n",
       "      <th>PC4</th>\n",
       "      <th>PC5</th>\n",
       "      <th>PC6</th>\n",
       "      <th>PC7</th>\n",
       "      <th>PC8</th>\n",
       "      <th>PC9</th>\n",
       "      <th>PC10</th>\n",
       "      <th>PC11</th>\n",
       "      <th>PC12</th>\n",
       "      <th>PC13</th>\n",
       "      <th>PC14</th>\n",
       "      <th>PC15</th>\n",
       "      <th>PC16</th>\n",
       "      <th>PC17</th>\n",
       "      <th>PC18</th>\n",
       "    </tr>\n",
       "  </thead>\n",
       "  <tbody>\n",
       "    <tr>\n",
       "      <th>count</th>\n",
       "      <td>5.507700e+04</td>\n",
       "      <td>5.507700e+04</td>\n",
       "      <td>5.507700e+04</td>\n",
       "      <td>5.507700e+04</td>\n",
       "      <td>5.507700e+04</td>\n",
       "      <td>5.507700e+04</td>\n",
       "      <td>5.507700e+04</td>\n",
       "      <td>5.507700e+04</td>\n",
       "      <td>5.507700e+04</td>\n",
       "      <td>5.507700e+04</td>\n",
       "      <td>5.507700e+04</td>\n",
       "      <td>5.507700e+04</td>\n",
       "      <td>5.507700e+04</td>\n",
       "      <td>5.507700e+04</td>\n",
       "      <td>5.507700e+04</td>\n",
       "      <td>5.507700e+04</td>\n",
       "      <td>5.507700e+04</td>\n",
       "      <td>5.507700e+04</td>\n",
       "    </tr>\n",
       "    <tr>\n",
       "      <th>mean</th>\n",
       "      <td>7.750013e-17</td>\n",
       "      <td>-1.594503e-17</td>\n",
       "      <td>3.932128e-17</td>\n",
       "      <td>1.014963e-17</td>\n",
       "      <td>3.984554e-18</td>\n",
       "      <td>-3.160216e-18</td>\n",
       "      <td>2.673623e-17</td>\n",
       "      <td>1.813549e-17</td>\n",
       "      <td>7.394866e-19</td>\n",
       "      <td>-3.775497e-18</td>\n",
       "      <td>8.413647e-18</td>\n",
       "      <td>-3.155429e-18</td>\n",
       "      <td>3.656409e-18</td>\n",
       "      <td>4.390512e-18</td>\n",
       "      <td>-2.519702e-18</td>\n",
       "      <td>9.101877e-19</td>\n",
       "      <td>-6.944548e-18</td>\n",
       "      <td>8.305111e-19</td>\n",
       "    </tr>\n",
       "    <tr>\n",
       "      <th>std</th>\n",
       "      <td>3.648637e+00</td>\n",
       "      <td>1.234234e+00</td>\n",
       "      <td>9.951126e-01</td>\n",
       "      <td>7.550495e-01</td>\n",
       "      <td>6.699054e-01</td>\n",
       "      <td>5.823102e-01</td>\n",
       "      <td>5.372434e-01</td>\n",
       "      <td>3.851765e-01</td>\n",
       "      <td>3.736463e-01</td>\n",
       "      <td>2.756955e-01</td>\n",
       "      <td>2.560915e-01</td>\n",
       "      <td>2.519806e-01</td>\n",
       "      <td>1.619726e-01</td>\n",
       "      <td>9.118650e-02</td>\n",
       "      <td>1.984228e-06</td>\n",
       "      <td>1.932441e-07</td>\n",
       "      <td>3.359491e-08</td>\n",
       "      <td>1.504769e-16</td>\n",
       "    </tr>\n",
       "    <tr>\n",
       "      <th>min</th>\n",
       "      <td>-9.399651e+00</td>\n",
       "      <td>-3.826940e+01</td>\n",
       "      <td>-3.249698e+01</td>\n",
       "      <td>-2.728388e+01</td>\n",
       "      <td>-1.940215e+01</td>\n",
       "      <td>-2.538496e+01</td>\n",
       "      <td>-3.225276e+01</td>\n",
       "      <td>-1.000178e+01</td>\n",
       "      <td>-1.130000e+01</td>\n",
       "      <td>-9.103270e+00</td>\n",
       "      <td>-6.218475e+00</td>\n",
       "      <td>-7.334708e+00</td>\n",
       "      <td>-5.013465e+00</td>\n",
       "      <td>-3.654396e+00</td>\n",
       "      <td>-2.886867e-06</td>\n",
       "      <td>-1.629228e-06</td>\n",
       "      <td>-2.199093e-06</td>\n",
       "      <td>-7.418541e-15</td>\n",
       "    </tr>\n",
       "    <tr>\n",
       "      <th>25%</th>\n",
       "      <td>-7.986366e-01</td>\n",
       "      <td>-8.318439e-03</td>\n",
       "      <td>4.244646e-02</td>\n",
       "      <td>1.451796e-02</td>\n",
       "      <td>-1.523203e-02</td>\n",
       "      <td>-2.885959e-02</td>\n",
       "      <td>-5.288009e-03</td>\n",
       "      <td>5.283229e-03</td>\n",
       "      <td>-1.899468e-02</td>\n",
       "      <td>-1.073260e-02</td>\n",
       "      <td>3.660918e-05</td>\n",
       "      <td>-5.078600e-04</td>\n",
       "      <td>-6.601039e-03</td>\n",
       "      <td>-2.134263e-03</td>\n",
       "      <td>-1.033509e-08</td>\n",
       "      <td>-1.066536e-09</td>\n",
       "      <td>-7.963715e-11</td>\n",
       "      <td>6.936197e-18</td>\n",
       "    </tr>\n",
       "    <tr>\n",
       "      <th>50%</th>\n",
       "      <td>-7.464745e-01</td>\n",
       "      <td>-1.148916e-03</td>\n",
       "      <td>8.791180e-02</td>\n",
       "      <td>4.336333e-02</td>\n",
       "      <td>-7.838791e-03</td>\n",
       "      <td>-2.293953e-02</td>\n",
       "      <td>1.533208e-02</td>\n",
       "      <td>9.916201e-03</td>\n",
       "      <td>-1.004560e-02</td>\n",
       "      <td>-4.910542e-03</td>\n",
       "      <td>8.878614e-03</td>\n",
       "      <td>2.600118e-02</td>\n",
       "      <td>-4.765743e-03</td>\n",
       "      <td>-1.445527e-03</td>\n",
       "      <td>-1.025797e-08</td>\n",
       "      <td>-1.057958e-09</td>\n",
       "      <td>-7.904004e-11</td>\n",
       "      <td>1.964342e-17</td>\n",
       "    </tr>\n",
       "    <tr>\n",
       "      <th>75%</th>\n",
       "      <td>-4.543558e-01</td>\n",
       "      <td>1.982873e-02</td>\n",
       "      <td>9.698144e-02</td>\n",
       "      <td>5.110295e-02</td>\n",
       "      <td>7.827631e-03</td>\n",
       "      <td>-2.436027e-03</td>\n",
       "      <td>2.088653e-02</td>\n",
       "      <td>2.139434e-02</td>\n",
       "      <td>-4.569210e-04</td>\n",
       "      <td>6.827309e-04</td>\n",
       "      <td>1.206102e-02</td>\n",
       "      <td>3.001697e-02</td>\n",
       "      <td>2.001569e-03</td>\n",
       "      <td>6.539602e-04</td>\n",
       "      <td>-9.880675e-09</td>\n",
       "      <td>-1.018887e-09</td>\n",
       "      <td>-7.638547e-11</td>\n",
       "      <td>3.050925e-17</td>\n",
       "    </tr>\n",
       "    <tr>\n",
       "      <th>max</th>\n",
       "      <td>1.260095e+02</td>\n",
       "      <td>5.118379e+01</td>\n",
       "      <td>3.467331e+01</td>\n",
       "      <td>4.375889e+01</td>\n",
       "      <td>3.303241e+01</td>\n",
       "      <td>3.230515e+01</td>\n",
       "      <td>5.875208e+01</td>\n",
       "      <td>3.798605e+01</td>\n",
       "      <td>1.660213e+01</td>\n",
       "      <td>1.365360e+01</td>\n",
       "      <td>9.555273e+00</td>\n",
       "      <td>1.082638e+01</td>\n",
       "      <td>5.622502e+00</td>\n",
       "      <td>3.938531e+00</td>\n",
       "      <td>4.603941e-04</td>\n",
       "      <td>4.354983e-05</td>\n",
       "      <td>7.483591e-06</td>\n",
       "      <td>1.787818e-15</td>\n",
       "    </tr>\n",
       "  </tbody>\n",
       "</table>\n",
       "</div>"
      ],
      "text/plain": [
       "                PC1           PC2           PC3           PC4           PC5  \\\n",
       "count  5.507700e+04  5.507700e+04  5.507700e+04  5.507700e+04  5.507700e+04   \n",
       "mean   7.750013e-17 -1.594503e-17  3.932128e-17  1.014963e-17  3.984554e-18   \n",
       "std    3.648637e+00  1.234234e+00  9.951126e-01  7.550495e-01  6.699054e-01   \n",
       "min   -9.399651e+00 -3.826940e+01 -3.249698e+01 -2.728388e+01 -1.940215e+01   \n",
       "25%   -7.986366e-01 -8.318439e-03  4.244646e-02  1.451796e-02 -1.523203e-02   \n",
       "50%   -7.464745e-01 -1.148916e-03  8.791180e-02  4.336333e-02 -7.838791e-03   \n",
       "75%   -4.543558e-01  1.982873e-02  9.698144e-02  5.110295e-02  7.827631e-03   \n",
       "max    1.260095e+02  5.118379e+01  3.467331e+01  4.375889e+01  3.303241e+01   \n",
       "\n",
       "                PC6           PC7           PC8           PC9          PC10  \\\n",
       "count  5.507700e+04  5.507700e+04  5.507700e+04  5.507700e+04  5.507700e+04   \n",
       "mean  -3.160216e-18  2.673623e-17  1.813549e-17  7.394866e-19 -3.775497e-18   \n",
       "std    5.823102e-01  5.372434e-01  3.851765e-01  3.736463e-01  2.756955e-01   \n",
       "min   -2.538496e+01 -3.225276e+01 -1.000178e+01 -1.130000e+01 -9.103270e+00   \n",
       "25%   -2.885959e-02 -5.288009e-03  5.283229e-03 -1.899468e-02 -1.073260e-02   \n",
       "50%   -2.293953e-02  1.533208e-02  9.916201e-03 -1.004560e-02 -4.910542e-03   \n",
       "75%   -2.436027e-03  2.088653e-02  2.139434e-02 -4.569210e-04  6.827309e-04   \n",
       "max    3.230515e+01  5.875208e+01  3.798605e+01  1.660213e+01  1.365360e+01   \n",
       "\n",
       "               PC11          PC12          PC13          PC14          PC15  \\\n",
       "count  5.507700e+04  5.507700e+04  5.507700e+04  5.507700e+04  5.507700e+04   \n",
       "mean   8.413647e-18 -3.155429e-18  3.656409e-18  4.390512e-18 -2.519702e-18   \n",
       "std    2.560915e-01  2.519806e-01  1.619726e-01  9.118650e-02  1.984228e-06   \n",
       "min   -6.218475e+00 -7.334708e+00 -5.013465e+00 -3.654396e+00 -2.886867e-06   \n",
       "25%    3.660918e-05 -5.078600e-04 -6.601039e-03 -2.134263e-03 -1.033509e-08   \n",
       "50%    8.878614e-03  2.600118e-02 -4.765743e-03 -1.445527e-03 -1.025797e-08   \n",
       "75%    1.206102e-02  3.001697e-02  2.001569e-03  6.539602e-04 -9.880675e-09   \n",
       "max    9.555273e+00  1.082638e+01  5.622502e+00  3.938531e+00  4.603941e-04   \n",
       "\n",
       "               PC16          PC17          PC18  \n",
       "count  5.507700e+04  5.507700e+04  5.507700e+04  \n",
       "mean   9.101877e-19 -6.944548e-18  8.305111e-19  \n",
       "std    1.932441e-07  3.359491e-08  1.504769e-16  \n",
       "min   -1.629228e-06 -2.199093e-06 -7.418541e-15  \n",
       "25%   -1.066536e-09 -7.963715e-11  6.936197e-18  \n",
       "50%   -1.057958e-09 -7.904004e-11  1.964342e-17  \n",
       "75%   -1.018887e-09 -7.638547e-11  3.050925e-17  \n",
       "max    4.354983e-05  7.483591e-06  1.787818e-15  "
      ]
     },
     "execution_count": 23,
     "metadata": {},
     "output_type": "execute_result"
    }
   ],
   "source": [
    "X_train_reduced.describe()"
   ]
  },
  {
   "cell_type": "code",
   "execution_count": 28,
   "id": "2eba657e-79f6-4c37-b5b8-037e1f947ad9",
   "metadata": {},
   "outputs": [
    {
     "data": {
      "application/vnd.plotly.v1+json": {
       "config": {
        "plotlyServerURL": "https://plot.ly"
       },
       "data": [
        {
         "alignmentgroup": "True",
         "hovertemplate": "Principal Component=%{x}<br>Variance Ratio=%{y}<br>color=%{marker.color}<extra></extra>",
         "legendgroup": "",
         "marker": {
          "color": [
           0.7395725948396753,
           0.0846280661254912,
           0.05501284147263941,
           0.031671637040287685,
           0.024931395668720303,
           0.018837720987493294,
           0.016034735978419826,
           0.008242122697765808,
           0.007756058755873994,
           0.004222591796867767,
           0.003643425222550653,
           0.0035273936998108197,
           0.0014574808943256276,
           0.0004619348198574351,
           2.1872718331705522e-13,
           2.074589532785553e-15,
           6.269984831610131e-17,
           3.3613089713638503e-35
          ],
          "coloraxis": "coloraxis",
          "pattern": {
           "shape": ""
          }
         },
         "name": "",
         "offsetgroup": "",
         "orientation": "v",
         "showlegend": false,
         "textposition": "auto",
         "type": "bar",
         "x": [
          "PC1",
          "PC2",
          "PC3",
          "PC4",
          "PC5",
          "PC6",
          "PC7",
          "PC8",
          "PC9",
          "PC10",
          "PC11",
          "PC12",
          "PC13",
          "PC14",
          "PC15",
          "PC16",
          "PC17",
          "PC18"
         ],
         "xaxis": "x",
         "y": [
          0.7395725948396753,
          0.0846280661254912,
          0.05501284147263941,
          0.031671637040287685,
          0.024931395668720303,
          0.018837720987493294,
          0.016034735978419826,
          0.008242122697765808,
          0.007756058755873994,
          0.004222591796867767,
          0.003643425222550653,
          0.0035273936998108197,
          0.0014574808943256276,
          0.0004619348198574351,
          2.1872718331705522e-13,
          2.074589532785553e-15,
          6.269984831610131e-17,
          3.3613089713638503e-35
         ],
         "yaxis": "y"
        }
       ],
       "layout": {
        "autosize": true,
        "barmode": "relative",
        "coloraxis": {
         "colorbar": {
          "title": {
           "text": "color"
          }
         },
         "colorscale": [
          [
           0,
           "pink"
          ],
          [
           1,
           "red"
          ]
         ]
        },
        "legend": {
         "tracegroupgap": 0
        },
        "template": {
         "data": {
          "bar": [
           {
            "error_x": {
             "color": "#2a3f5f"
            },
            "error_y": {
             "color": "#2a3f5f"
            },
            "marker": {
             "line": {
              "color": "#E5ECF6",
              "width": 0.5
             },
             "pattern": {
              "fillmode": "overlay",
              "size": 10,
              "solidity": 0.2
             }
            },
            "type": "bar"
           }
          ],
          "barpolar": [
           {
            "marker": {
             "line": {
              "color": "#E5ECF6",
              "width": 0.5
             },
             "pattern": {
              "fillmode": "overlay",
              "size": 10,
              "solidity": 0.2
             }
            },
            "type": "barpolar"
           }
          ],
          "carpet": [
           {
            "aaxis": {
             "endlinecolor": "#2a3f5f",
             "gridcolor": "white",
             "linecolor": "white",
             "minorgridcolor": "white",
             "startlinecolor": "#2a3f5f"
            },
            "baxis": {
             "endlinecolor": "#2a3f5f",
             "gridcolor": "white",
             "linecolor": "white",
             "minorgridcolor": "white",
             "startlinecolor": "#2a3f5f"
            },
            "type": "carpet"
           }
          ],
          "choropleth": [
           {
            "colorbar": {
             "outlinewidth": 0,
             "ticks": ""
            },
            "type": "choropleth"
           }
          ],
          "contour": [
           {
            "colorbar": {
             "outlinewidth": 0,
             "ticks": ""
            },
            "colorscale": [
             [
              0,
              "#0d0887"
             ],
             [
              0.1111111111111111,
              "#46039f"
             ],
             [
              0.2222222222222222,
              "#7201a8"
             ],
             [
              0.3333333333333333,
              "#9c179e"
             ],
             [
              0.4444444444444444,
              "#bd3786"
             ],
             [
              0.5555555555555556,
              "#d8576b"
             ],
             [
              0.6666666666666666,
              "#ed7953"
             ],
             [
              0.7777777777777778,
              "#fb9f3a"
             ],
             [
              0.8888888888888888,
              "#fdca26"
             ],
             [
              1,
              "#f0f921"
             ]
            ],
            "type": "contour"
           }
          ],
          "contourcarpet": [
           {
            "colorbar": {
             "outlinewidth": 0,
             "ticks": ""
            },
            "type": "contourcarpet"
           }
          ],
          "heatmap": [
           {
            "colorbar": {
             "outlinewidth": 0,
             "ticks": ""
            },
            "colorscale": [
             [
              0,
              "#0d0887"
             ],
             [
              0.1111111111111111,
              "#46039f"
             ],
             [
              0.2222222222222222,
              "#7201a8"
             ],
             [
              0.3333333333333333,
              "#9c179e"
             ],
             [
              0.4444444444444444,
              "#bd3786"
             ],
             [
              0.5555555555555556,
              "#d8576b"
             ],
             [
              0.6666666666666666,
              "#ed7953"
             ],
             [
              0.7777777777777778,
              "#fb9f3a"
             ],
             [
              0.8888888888888888,
              "#fdca26"
             ],
             [
              1,
              "#f0f921"
             ]
            ],
            "type": "heatmap"
           }
          ],
          "heatmapgl": [
           {
            "colorbar": {
             "outlinewidth": 0,
             "ticks": ""
            },
            "colorscale": [
             [
              0,
              "#0d0887"
             ],
             [
              0.1111111111111111,
              "#46039f"
             ],
             [
              0.2222222222222222,
              "#7201a8"
             ],
             [
              0.3333333333333333,
              "#9c179e"
             ],
             [
              0.4444444444444444,
              "#bd3786"
             ],
             [
              0.5555555555555556,
              "#d8576b"
             ],
             [
              0.6666666666666666,
              "#ed7953"
             ],
             [
              0.7777777777777778,
              "#fb9f3a"
             ],
             [
              0.8888888888888888,
              "#fdca26"
             ],
             [
              1,
              "#f0f921"
             ]
            ],
            "type": "heatmapgl"
           }
          ],
          "histogram": [
           {
            "marker": {
             "pattern": {
              "fillmode": "overlay",
              "size": 10,
              "solidity": 0.2
             }
            },
            "type": "histogram"
           }
          ],
          "histogram2d": [
           {
            "colorbar": {
             "outlinewidth": 0,
             "ticks": ""
            },
            "colorscale": [
             [
              0,
              "#0d0887"
             ],
             [
              0.1111111111111111,
              "#46039f"
             ],
             [
              0.2222222222222222,
              "#7201a8"
             ],
             [
              0.3333333333333333,
              "#9c179e"
             ],
             [
              0.4444444444444444,
              "#bd3786"
             ],
             [
              0.5555555555555556,
              "#d8576b"
             ],
             [
              0.6666666666666666,
              "#ed7953"
             ],
             [
              0.7777777777777778,
              "#fb9f3a"
             ],
             [
              0.8888888888888888,
              "#fdca26"
             ],
             [
              1,
              "#f0f921"
             ]
            ],
            "type": "histogram2d"
           }
          ],
          "histogram2dcontour": [
           {
            "colorbar": {
             "outlinewidth": 0,
             "ticks": ""
            },
            "colorscale": [
             [
              0,
              "#0d0887"
             ],
             [
              0.1111111111111111,
              "#46039f"
             ],
             [
              0.2222222222222222,
              "#7201a8"
             ],
             [
              0.3333333333333333,
              "#9c179e"
             ],
             [
              0.4444444444444444,
              "#bd3786"
             ],
             [
              0.5555555555555556,
              "#d8576b"
             ],
             [
              0.6666666666666666,
              "#ed7953"
             ],
             [
              0.7777777777777778,
              "#fb9f3a"
             ],
             [
              0.8888888888888888,
              "#fdca26"
             ],
             [
              1,
              "#f0f921"
             ]
            ],
            "type": "histogram2dcontour"
           }
          ],
          "mesh3d": [
           {
            "colorbar": {
             "outlinewidth": 0,
             "ticks": ""
            },
            "type": "mesh3d"
           }
          ],
          "parcoords": [
           {
            "line": {
             "colorbar": {
              "outlinewidth": 0,
              "ticks": ""
             }
            },
            "type": "parcoords"
           }
          ],
          "pie": [
           {
            "automargin": true,
            "type": "pie"
           }
          ],
          "scatter": [
           {
            "marker": {
             "colorbar": {
              "outlinewidth": 0,
              "ticks": ""
             }
            },
            "type": "scatter"
           }
          ],
          "scatter3d": [
           {
            "line": {
             "colorbar": {
              "outlinewidth": 0,
              "ticks": ""
             }
            },
            "marker": {
             "colorbar": {
              "outlinewidth": 0,
              "ticks": ""
             }
            },
            "type": "scatter3d"
           }
          ],
          "scattercarpet": [
           {
            "marker": {
             "colorbar": {
              "outlinewidth": 0,
              "ticks": ""
             }
            },
            "type": "scattercarpet"
           }
          ],
          "scattergeo": [
           {
            "marker": {
             "colorbar": {
              "outlinewidth": 0,
              "ticks": ""
             }
            },
            "type": "scattergeo"
           }
          ],
          "scattergl": [
           {
            "marker": {
             "colorbar": {
              "outlinewidth": 0,
              "ticks": ""
             }
            },
            "type": "scattergl"
           }
          ],
          "scattermapbox": [
           {
            "marker": {
             "colorbar": {
              "outlinewidth": 0,
              "ticks": ""
             }
            },
            "type": "scattermapbox"
           }
          ],
          "scatterpolar": [
           {
            "marker": {
             "colorbar": {
              "outlinewidth": 0,
              "ticks": ""
             }
            },
            "type": "scatterpolar"
           }
          ],
          "scatterpolargl": [
           {
            "marker": {
             "colorbar": {
              "outlinewidth": 0,
              "ticks": ""
             }
            },
            "type": "scatterpolargl"
           }
          ],
          "scatterternary": [
           {
            "marker": {
             "colorbar": {
              "outlinewidth": 0,
              "ticks": ""
             }
            },
            "type": "scatterternary"
           }
          ],
          "surface": [
           {
            "colorbar": {
             "outlinewidth": 0,
             "ticks": ""
            },
            "colorscale": [
             [
              0,
              "#0d0887"
             ],
             [
              0.1111111111111111,
              "#46039f"
             ],
             [
              0.2222222222222222,
              "#7201a8"
             ],
             [
              0.3333333333333333,
              "#9c179e"
             ],
             [
              0.4444444444444444,
              "#bd3786"
             ],
             [
              0.5555555555555556,
              "#d8576b"
             ],
             [
              0.6666666666666666,
              "#ed7953"
             ],
             [
              0.7777777777777778,
              "#fb9f3a"
             ],
             [
              0.8888888888888888,
              "#fdca26"
             ],
             [
              1,
              "#f0f921"
             ]
            ],
            "type": "surface"
           }
          ],
          "table": [
           {
            "cells": {
             "fill": {
              "color": "#EBF0F8"
             },
             "line": {
              "color": "white"
             }
            },
            "header": {
             "fill": {
              "color": "#C8D4E3"
             },
             "line": {
              "color": "white"
             }
            },
            "type": "table"
           }
          ]
         },
         "layout": {
          "annotationdefaults": {
           "arrowcolor": "#2a3f5f",
           "arrowhead": 0,
           "arrowwidth": 1
          },
          "autotypenumbers": "strict",
          "coloraxis": {
           "colorbar": {
            "outlinewidth": 0,
            "ticks": ""
           }
          },
          "colorscale": {
           "diverging": [
            [
             0,
             "#8e0152"
            ],
            [
             0.1,
             "#c51b7d"
            ],
            [
             0.2,
             "#de77ae"
            ],
            [
             0.3,
             "#f1b6da"
            ],
            [
             0.4,
             "#fde0ef"
            ],
            [
             0.5,
             "#f7f7f7"
            ],
            [
             0.6,
             "#e6f5d0"
            ],
            [
             0.7,
             "#b8e186"
            ],
            [
             0.8,
             "#7fbc41"
            ],
            [
             0.9,
             "#4d9221"
            ],
            [
             1,
             "#276419"
            ]
           ],
           "sequential": [
            [
             0,
             "#0d0887"
            ],
            [
             0.1111111111111111,
             "#46039f"
            ],
            [
             0.2222222222222222,
             "#7201a8"
            ],
            [
             0.3333333333333333,
             "#9c179e"
            ],
            [
             0.4444444444444444,
             "#bd3786"
            ],
            [
             0.5555555555555556,
             "#d8576b"
            ],
            [
             0.6666666666666666,
             "#ed7953"
            ],
            [
             0.7777777777777778,
             "#fb9f3a"
            ],
            [
             0.8888888888888888,
             "#fdca26"
            ],
            [
             1,
             "#f0f921"
            ]
           ],
           "sequentialminus": [
            [
             0,
             "#0d0887"
            ],
            [
             0.1111111111111111,
             "#46039f"
            ],
            [
             0.2222222222222222,
             "#7201a8"
            ],
            [
             0.3333333333333333,
             "#9c179e"
            ],
            [
             0.4444444444444444,
             "#bd3786"
            ],
            [
             0.5555555555555556,
             "#d8576b"
            ],
            [
             0.6666666666666666,
             "#ed7953"
            ],
            [
             0.7777777777777778,
             "#fb9f3a"
            ],
            [
             0.8888888888888888,
             "#fdca26"
            ],
            [
             1,
             "#f0f921"
            ]
           ]
          },
          "colorway": [
           "#636efa",
           "#EF553B",
           "#00cc96",
           "#ab63fa",
           "#FFA15A",
           "#19d3f3",
           "#FF6692",
           "#B6E880",
           "#FF97FF",
           "#FECB52"
          ],
          "font": {
           "color": "#2a3f5f"
          },
          "geo": {
           "bgcolor": "white",
           "lakecolor": "white",
           "landcolor": "#E5ECF6",
           "showlakes": true,
           "showland": true,
           "subunitcolor": "white"
          },
          "hoverlabel": {
           "align": "left"
          },
          "hovermode": "closest",
          "mapbox": {
           "style": "light"
          },
          "paper_bgcolor": "white",
          "plot_bgcolor": "#E5ECF6",
          "polar": {
           "angularaxis": {
            "gridcolor": "white",
            "linecolor": "white",
            "ticks": ""
           },
           "bgcolor": "#E5ECF6",
           "radialaxis": {
            "gridcolor": "white",
            "linecolor": "white",
            "ticks": ""
           }
          },
          "scene": {
           "xaxis": {
            "backgroundcolor": "#E5ECF6",
            "gridcolor": "white",
            "gridwidth": 2,
            "linecolor": "white",
            "showbackground": true,
            "ticks": "",
            "zerolinecolor": "white"
           },
           "yaxis": {
            "backgroundcolor": "#E5ECF6",
            "gridcolor": "white",
            "gridwidth": 2,
            "linecolor": "white",
            "showbackground": true,
            "ticks": "",
            "zerolinecolor": "white"
           },
           "zaxis": {
            "backgroundcolor": "#E5ECF6",
            "gridcolor": "white",
            "gridwidth": 2,
            "linecolor": "white",
            "showbackground": true,
            "ticks": "",
            "zerolinecolor": "white"
           }
          },
          "shapedefaults": {
           "line": {
            "color": "#2a3f5f"
           }
          },
          "ternary": {
           "aaxis": {
            "gridcolor": "white",
            "linecolor": "white",
            "ticks": ""
           },
           "baxis": {
            "gridcolor": "white",
            "linecolor": "white",
            "ticks": ""
           },
           "bgcolor": "#E5ECF6",
           "caxis": {
            "gridcolor": "white",
            "linecolor": "white",
            "ticks": ""
           }
          },
          "title": {
           "x": 0.05
          },
          "xaxis": {
           "automargin": true,
           "gridcolor": "white",
           "linecolor": "white",
           "ticks": "",
           "title": {
            "standoff": 15
           },
           "zerolinecolor": "white",
           "zerolinewidth": 2
          },
          "yaxis": {
           "automargin": true,
           "gridcolor": "white",
           "linecolor": "white",
           "ticks": "",
           "title": {
            "standoff": 15
           },
           "zerolinecolor": "white",
           "zerolinewidth": 2
          }
         }
        },
        "title": {
         "text": "Proportion of Variance in Principal Components"
        },
        "xaxis": {
         "anchor": "y",
         "autorange": true,
         "domain": [
          0,
          1
         ],
         "range": [
          -0.5,
          17.5
         ],
         "title": {
          "text": "Principal Component"
         },
         "type": "category"
        },
        "yaxis": {
         "anchor": "x",
         "autorange": true,
         "domain": [
          0,
          1
         ],
         "range": [
          0,
          0.7784974682522898
         ],
         "title": {
          "text": "Variance Ratio"
         },
         "type": "linear"
        }
       }
      },
      "image/png": "[encoded data removed]",
      "text/html": [
       "<div>                            <div id=\"f76545f8-f8f0-4a73-987a-69250f242aba\" class=\"plotly-graph-div\" style=\"height:525px; width:100%;\"></div>            <script type=\"text/javascript\">                require([\"plotly\"], function(Plotly) {                    window.PLOTLYENV=window.PLOTLYENV || {};                                    if (document.getElementById(\"f76545f8-f8f0-4a73-987a-69250f242aba\")) {                    Plotly.newPlot(                        \"f76545f8-f8f0-4a73-987a-69250f242aba\",                        [{\"alignmentgroup\":\"True\",\"hovertemplate\":\"Principal Component=%{x}<br>Variance Ratio=%{y}<br>color=%{marker.color}<extra></extra>\",\"legendgroup\":\"\",\"marker\":{\"color\":[0.7395725948396753,0.0846280661254912,0.05501284147263941,0.031671637040287685,0.024931395668720303,0.018837720987493294,0.016034735978419826,0.008242122697765808,0.007756058755873994,0.004222591796867767,0.003643425222550653,0.0035273936998108197,0.0014574808943256276,0.0004619348198574351,2.1872718331705522e-13,2.074589532785553e-15,6.269984831610131e-17,3.3613089713638503e-35],\"coloraxis\":\"coloraxis\",\"pattern\":{\"shape\":\"\"}},\"name\":\"\",\"offsetgroup\":\"\",\"orientation\":\"v\",\"showlegend\":false,\"textposition\":\"auto\",\"x\":[\"PC1\",\"PC2\",\"PC3\",\"PC4\",\"PC5\",\"PC6\",\"PC7\",\"PC8\",\"PC9\",\"PC10\",\"PC11\",\"PC12\",\"PC13\",\"PC14\",\"PC15\",\"PC16\",\"PC17\",\"PC18\"],\"xaxis\":\"x\",\"y\":[0.7395725948396753,0.0846280661254912,0.05501284147263941,0.031671637040287685,0.024931395668720303,0.018837720987493294,0.016034735978419826,0.008242122697765808,0.007756058755873994,0.004222591796867767,0.003643425222550653,0.0035273936998108197,0.0014574808943256276,0.0004619348198574351,2.1872718331705522e-13,2.074589532785553e-15,6.269984831610131e-17,3.3613089713638503e-35],\"yaxis\":\"y\",\"type\":\"bar\"}],                        {\"template\":{\"data\":{\"bar\":[{\"error_x\":{\"color\":\"#2a3f5f\"},\"error_y\":{\"color\":\"#2a3f5f\"},\"marker\":{\"line\":{\"color\":\"#E5ECF6\",\"width\":0.5},\"pattern\":{\"fillmode\":\"overlay\",\"size\":10,\"solidity\":0.2}},\"type\":\"bar\"}],\"barpolar\":[{\"marker\":{\"line\":{\"color\":\"#E5ECF6\",\"width\":0.5},\"pattern\":{\"fillmode\":\"overlay\",\"size\":10,\"solidity\":0.2}},\"type\":\"barpolar\"}],\"carpet\":[{\"aaxis\":{\"endlinecolor\":\"#2a3f5f\",\"gridcolor\":\"white\",\"linecolor\":\"white\",\"minorgridcolor\":\"white\",\"startlinecolor\":\"#2a3f5f\"},\"baxis\":{\"endlinecolor\":\"#2a3f5f\",\"gridcolor\":\"white\",\"linecolor\":\"white\",\"minorgridcolor\":\"white\",\"startlinecolor\":\"#2a3f5f\"},\"type\":\"carpet\"}],\"choropleth\":[{\"colorbar\":{\"outlinewidth\":0,\"ticks\":\"\"},\"type\":\"choropleth\"}],\"contour\":[{\"colorbar\":{\"outlinewidth\":0,\"ticks\":\"\"},\"colorscale\":[[0.0,\"#0d0887\"],[0.1111111111111111,\"#46039f\"],[0.2222222222222222,\"#7201a8\"],[0.3333333333333333,\"#9c179e\"],[0.4444444444444444,\"#bd3786\"],[0.5555555555555556,\"#d8576b\"],[0.6666666666666666,\"#ed7953\"],[0.7777777777777778,\"#fb9f3a\"],[0.8888888888888888,\"#fdca26\"],[1.0,\"#f0f921\"]],\"type\":\"contour\"}],\"contourcarpet\":[{\"colorbar\":{\"outlinewidth\":0,\"ticks\":\"\"},\"type\":\"contourcarpet\"}],\"heatmap\":[{\"colorbar\":{\"outlinewidth\":0,\"ticks\":\"\"},\"colorscale\":[[0.0,\"#0d0887\"],[0.1111111111111111,\"#46039f\"],[0.2222222222222222,\"#7201a8\"],[0.3333333333333333,\"#9c179e\"],[0.4444444444444444,\"#bd3786\"],[0.5555555555555556,\"#d8576b\"],[0.6666666666666666,\"#ed7953\"],[0.7777777777777778,\"#fb9f3a\"],[0.8888888888888888,\"#fdca26\"],[1.0,\"#f0f921\"]],\"type\":\"heatmap\"}],\"heatmapgl\":[{\"colorbar\":{\"outlinewidth\":0,\"ticks\":\"\"},\"colorscale\":[[0.0,\"#0d0887\"],[0.1111111111111111,\"#46039f\"],[0.2222222222222222,\"#7201a8\"],[0.3333333333333333,\"#9c179e\"],[0.4444444444444444,\"#bd3786\"],[0.5555555555555556,\"#d8576b\"],[0.6666666666666666,\"#ed7953\"],[0.7777777777777778,\"#fb9f3a\"],[0.8888888888888888,\"#fdca26\"],[1.0,\"#f0f921\"]],\"type\":\"heatmapgl\"}],\"histogram\":[{\"marker\":{\"pattern\":{\"fillmode\":\"overlay\",\"size\":10,\"solidity\":0.2}},\"type\":\"histogram\"}],\"histogram2d\":[{\"colorbar\":{\"outlinewidth\":0,\"ticks\":\"\"},\"colorscale\":[[0.0,\"#0d0887\"],[0.1111111111111111,\"#46039f\"],[0.2222222222222222,\"#7201a8\"],[0.3333333333333333,\"#9c179e\"],[0.4444444444444444,\"#bd3786\"],[0.5555555555555556,\"#d8576b\"],[0.6666666666666666,\"#ed7953\"],[0.7777777777777778,\"#fb9f3a\"],[0.8888888888888888,\"#fdca26\"],[1.0,\"#f0f921\"]],\"type\":\"histogram2d\"}],\"histogram2dcontour\":[{\"colorbar\":{\"outlinewidth\":0,\"ticks\":\"\"},\"colorscale\":[[0.0,\"#0d0887\"],[0.1111111111111111,\"#46039f\"],[0.2222222222222222,\"#7201a8\"],[0.3333333333333333,\"#9c179e\"],[0.4444444444444444,\"#bd3786\"],[0.5555555555555556,\"#d8576b\"],[0.6666666666666666,\"#ed7953\"],[0.7777777777777778,\"#fb9f3a\"],[0.8888888888888888,\"#fdca26\"],[1.0,\"#f0f921\"]],\"type\":\"histogram2dcontour\"}],\"mesh3d\":[{\"colorbar\":{\"outlinewidth\":0,\"ticks\":\"\"},\"type\":\"mesh3d\"}],\"parcoords\":[{\"line\":{\"colorbar\":{\"outlinewidth\":0,\"ticks\":\"\"}},\"type\":\"parcoords\"}],\"pie\":[{\"automargin\":true,\"type\":\"pie\"}],\"scatter\":[{\"marker\":{\"colorbar\":{\"outlinewidth\":0,\"ticks\":\"\"}},\"type\":\"scatter\"}],\"scatter3d\":[{\"line\":{\"colorbar\":{\"outlinewidth\":0,\"ticks\":\"\"}},\"marker\":{\"colorbar\":{\"outlinewidth\":0,\"ticks\":\"\"}},\"type\":\"scatter3d\"}],\"scattercarpet\":[{\"marker\":{\"colorbar\":{\"outlinewidth\":0,\"ticks\":\"\"}},\"type\":\"scattercarpet\"}],\"scattergeo\":[{\"marker\":{\"colorbar\":{\"outlinewidth\":0,\"ticks\":\"\"}},\"type\":\"scattergeo\"}],\"scattergl\":[{\"marker\":{\"colorbar\":{\"outlinewidth\":0,\"ticks\":\"\"}},\"type\":\"scattergl\"}],\"scattermapbox\":[{\"marker\":{\"colorbar\":{\"outlinewidth\":0,\"ticks\":\"\"}},\"type\":\"scattermapbox\"}],\"scatterpolar\":[{\"marker\":{\"colorbar\":{\"outlinewidth\":0,\"ticks\":\"\"}},\"type\":\"scatterpolar\"}],\"scatterpolargl\":[{\"marker\":{\"colorbar\":{\"outlinewidth\":0,\"ticks\":\"\"}},\"type\":\"scatterpolargl\"}],\"scatterternary\":[{\"marker\":{\"colorbar\":{\"outlinewidth\":0,\"ticks\":\"\"}},\"type\":\"scatterternary\"}],\"surface\":[{\"colorbar\":{\"outlinewidth\":0,\"ticks\":\"\"},\"colorscale\":[[0.0,\"#0d0887\"],[0.1111111111111111,\"#46039f\"],[0.2222222222222222,\"#7201a8\"],[0.3333333333333333,\"#9c179e\"],[0.4444444444444444,\"#bd3786\"],[0.5555555555555556,\"#d8576b\"],[0.6666666666666666,\"#ed7953\"],[0.7777777777777778,\"#fb9f3a\"],[0.8888888888888888,\"#fdca26\"],[1.0,\"#f0f921\"]],\"type\":\"surface\"}],\"table\":[{\"cells\":{\"fill\":{\"color\":\"#EBF0F8\"},\"line\":{\"color\":\"white\"}},\"header\":{\"fill\":{\"color\":\"#C8D4E3\"},\"line\":{\"color\":\"white\"}},\"type\":\"table\"}]},\"layout\":{\"annotationdefaults\":{\"arrowcolor\":\"#2a3f5f\",\"arrowhead\":0,\"arrowwidth\":1},\"autotypenumbers\":\"strict\",\"coloraxis\":{\"colorbar\":{\"outlinewidth\":0,\"ticks\":\"\"}},\"colorscale\":{\"diverging\":[[0,\"#8e0152\"],[0.1,\"#c51b7d\"],[0.2,\"#de77ae\"],[0.3,\"#f1b6da\"],[0.4,\"#fde0ef\"],[0.5,\"#f7f7f7\"],[0.6,\"#e6f5d0\"],[0.7,\"#b8e186\"],[0.8,\"#7fbc41\"],[0.9,\"#4d9221\"],[1,\"#276419\"]],\"sequential\":[[0.0,\"#0d0887\"],[0.1111111111111111,\"#46039f\"],[0.2222222222222222,\"#7201a8\"],[0.3333333333333333,\"#9c179e\"],[0.4444444444444444,\"#bd3786\"],[0.5555555555555556,\"#d8576b\"],[0.6666666666666666,\"#ed7953\"],[0.7777777777777778,\"#fb9f3a\"],[0.8888888888888888,\"#fdca26\"],[1.0,\"#f0f921\"]],\"sequentialminus\":[[0.0,\"#0d0887\"],[0.1111111111111111,\"#46039f\"],[0.2222222222222222,\"#7201a8\"],[0.3333333333333333,\"#9c179e\"],[0.4444444444444444,\"#bd3786\"],[0.5555555555555556,\"#d8576b\"],[0.6666666666666666,\"#ed7953\"],[0.7777777777777778,\"#fb9f3a\"],[0.8888888888888888,\"#fdca26\"],[1.0,\"#f0f921\"]]},\"colorway\":[\"#636efa\",\"#EF553B\",\"#00cc96\",\"#ab63fa\",\"#FFA15A\",\"#19d3f3\",\"#FF6692\",\"#B6E880\",\"#FF97FF\",\"#FECB52\"],\"font\":{\"color\":\"#2a3f5f\"},\"geo\":{\"bgcolor\":\"white\",\"lakecolor\":\"white\",\"landcolor\":\"#E5ECF6\",\"showlakes\":true,\"showland\":true,\"subunitcolor\":\"white\"},\"hoverlabel\":{\"align\":\"left\"},\"hovermode\":\"closest\",\"mapbox\":{\"style\":\"light\"},\"paper_bgcolor\":\"white\",\"plot_bgcolor\":\"#E5ECF6\",\"polar\":{\"angularaxis\":{\"gridcolor\":\"white\",\"linecolor\":\"white\",\"ticks\":\"\"},\"bgcolor\":\"#E5ECF6\",\"radialaxis\":{\"gridcolor\":\"white\",\"linecolor\":\"white\",\"ticks\":\"\"}},\"scene\":{\"xaxis\":{\"backgroundcolor\":\"#E5ECF6\",\"gridcolor\":\"white\",\"gridwidth\":2,\"linecolor\":\"white\",\"showbackground\":true,\"ticks\":\"\",\"zerolinecolor\":\"white\"},\"yaxis\":{\"backgroundcolor\":\"#E5ECF6\",\"gridcolor\":\"white\",\"gridwidth\":2,\"linecolor\":\"white\",\"showbackground\":true,\"ticks\":\"\",\"zerolinecolor\":\"white\"},\"zaxis\":{\"backgroundcolor\":\"#E5ECF6\",\"gridcolor\":\"white\",\"gridwidth\":2,\"linecolor\":\"white\",\"showbackground\":true,\"ticks\":\"\",\"zerolinecolor\":\"white\"}},\"shapedefaults\":{\"line\":{\"color\":\"#2a3f5f\"}},\"ternary\":{\"aaxis\":{\"gridcolor\":\"white\",\"linecolor\":\"white\",\"ticks\":\"\"},\"baxis\":{\"gridcolor\":\"white\",\"linecolor\":\"white\",\"ticks\":\"\"},\"bgcolor\":\"#E5ECF6\",\"caxis\":{\"gridcolor\":\"white\",\"linecolor\":\"white\",\"ticks\":\"\"}},\"title\":{\"x\":0.05},\"xaxis\":{\"automargin\":true,\"gridcolor\":\"white\",\"linecolor\":\"white\",\"ticks\":\"\",\"title\":{\"standoff\":15},\"zerolinecolor\":\"white\",\"zerolinewidth\":2},\"yaxis\":{\"automargin\":true,\"gridcolor\":\"white\",\"linecolor\":\"white\",\"ticks\":\"\",\"title\":{\"standoff\":15},\"zerolinecolor\":\"white\",\"zerolinewidth\":2}}},\"xaxis\":{\"anchor\":\"y\",\"domain\":[0.0,1.0],\"title\":{\"text\":\"Principal Component\"}},\"yaxis\":{\"anchor\":\"x\",\"domain\":[0.0,1.0],\"title\":{\"text\":\"Variance Ratio\"}},\"coloraxis\":{\"colorbar\":{\"title\":{\"text\":\"color\"}},\"colorscale\":[[0,\"pink\"],[1,\"red\"]]},\"legend\":{\"tracegroupgap\":0},\"title\":{\"text\":\"Proportion of Variance in Principal Components\"},\"barmode\":\"relative\"},                        {\"responsive\": true}                    ).then(function(){\n",
       "                            \n",
       "var gd = document.getElementById('f76545f8-f8f0-4a73-987a-69250f242aba');\n",
       "var x = new MutationObserver(function (mutations, observer) {{\n",
       "        var display = window.getComputedStyle(gd).display;\n",
       "        if (!display || display === 'none') {{\n",
       "            console.log([gd, 'removed!']);\n",
       "            Plotly.purge(gd);\n",
       "            observer.disconnect();\n",
       "        }}\n",
       "}});\n",
       "\n",
       "// Listen for the removal of the full notebook cells\n",
       "var notebookContainer = gd.closest('#notebook-container');\n",
       "if (notebookContainer) {{\n",
       "    x.observe(notebookContainer, {childList: true});\n",
       "}}\n",
       "\n",
       "// Listen for the clearing of the current output cell\n",
       "var outputEl = gd.closest('.output');\n",
       "if (outputEl) {{\n",
       "    x.observe(outputEl, {childList: true});\n",
       "}}\n",
       "\n",
       "                        })                };                });            </script>        </div>"
      ]
     },
     "metadata": {},
     "output_type": "display_data"
    }
   ],
   "source": [
    "fig = px.bar(\n",
    "    x=[\"PC\" + str(i) for i in range(1, n_components + 1)],\n",
    "    y=pca.explained_variance_ratio_,\n",
    "    labels={'x': \"Principal Component\", 'y': \"Variance Ratio\"},\n",
    "    color=pca.explained_variance_ratio_,\n",
    "    color_continuous_scale=[(0, 'pink'), (1, 'red')],\n",
    "    title=\"Proportion of Variance in Principal Components\"\n",
    ")\n",
    "\n",
    "fig.show()"
   ]
  },
  {
   "cell_type": "code",
   "execution_count": 26,
   "id": "77a486a7-d8c2-4dae-8090-46676604dfc1",
   "metadata": {},
   "outputs": [
    {
     "data": {
      "text/plain": [
       "array([7.39572595e-01, 8.46280661e-02, 5.50128415e-02, 3.16716370e-02,\n",
       "       2.49313957e-02, 1.88377210e-02, 1.60347360e-02, 8.24212270e-03,\n",
       "       7.75605876e-03, 4.22259180e-03, 3.64342522e-03, 3.52739370e-03,\n",
       "       1.45748089e-03, 4.61934820e-04, 2.18727183e-13, 2.07458953e-15,\n",
       "       6.26998483e-17, 3.36130897e-35])"
      ]
     },
     "execution_count": 26,
     "metadata": {},
     "output_type": "execute_result"
    }
   ],
   "source": [
    "pca.explained_variance_ratio_"
   ]
  },
  {
   "cell_type": "code",
   "execution_count": 30,
   "id": "5342a843-5c65-4091-b547-0b0bed1be313",
   "metadata": {},
   "outputs": [],
   "source": [
    "n_components = 10\n",
    "\n",
    "pca = PCA(n_components=n_components)\n",
    "pca.fit(X_train)\n",
    "\n",
    "X_train_reduced = pd.DataFrame(pca.transform(X_train), index=X_train.index, columns=[\"PC\" + str(i) for i in range(1, n_components + 1)])\n",
    "X_test_reduced = pd.DataFrame(pca.transform(X_test), index=X_test.index, columns=[\"PC\" + str(i) for i in range(1, n_components + 1)])"
   ]
  },
  {
   "cell_type": "code",
   "execution_count": 31,
   "id": "ce6f65e2-7069-4fae-9d84-1e7445854dbd",
   "metadata": {},
   "outputs": [
    {
     "data": {
      "application/vnd.plotly.v1+json": {
       "config": {
        "plotlyServerURL": "https://plot.ly"
       },
       "data": [
        {
         "alignmentgroup": "True",
         "hovertemplate": "Principal Component=%{x}<br>Variance Ratio=%{y}<br>color=%{marker.color}<extra></extra>",
         "legendgroup": "",
         "marker": {
          "color": [
           0.7395725948396751,
           0.08462806612549113,
           0.05501284147263939,
           0.03167163704028768,
           0.024931395668720293,
           0.01883772098749328,
           0.016034735978419805,
           0.008242122697765805,
           0.007756058755873993,
           0.004222591796867758
          ],
          "coloraxis": "coloraxis",
          "pattern": {
           "shape": ""
          }
         },
         "name": "",
         "offsetgroup": "",
         "orientation": "v",
         "showlegend": false,
         "textposition": "auto",
         "type": "bar",
         "x": [
          "PC1",
          "PC2",
          "PC3",
          "PC4",
          "PC5",
          "PC6",
          "PC7",
          "PC8",
          "PC9",
          "PC10"
         ],
         "xaxis": "x",
         "y": [
          0.7395725948396751,
          0.08462806612549113,
          0.05501284147263939,
          0.03167163704028768,
          0.024931395668720293,
          0.01883772098749328,
          0.016034735978419805,
          0.008242122697765805,
          0.007756058755873993,
          0.004222591796867758
         ],
         "yaxis": "y"
        }
       ],
       "layout": {
        "autosize": true,
        "barmode": "relative",
        "coloraxis": {
         "colorbar": {
          "title": {
           "text": "color"
          }
         },
         "colorscale": [
          [
           0,
           "pink"
          ],
          [
           1,
           "red"
          ]
         ]
        },
        "legend": {
         "tracegroupgap": 0
        },
        "template": {
         "data": {
          "bar": [
           {
            "error_x": {
             "color": "#2a3f5f"
            },
            "error_y": {
             "color": "#2a3f5f"
            },
            "marker": {
             "line": {
              "color": "#E5ECF6",
              "width": 0.5
             },
             "pattern": {
              "fillmode": "overlay",
              "size": 10,
              "solidity": 0.2
             }
            },
            "type": "bar"
           }
          ],
          "barpolar": [
           {
            "marker": {
             "line": {
              "color": "#E5ECF6",
              "width": 0.5
             },
             "pattern": {
              "fillmode": "overlay",
              "size": 10,
              "solidity": 0.2
             }
            },
            "type": "barpolar"
           }
          ],
          "carpet": [
           {
            "aaxis": {
             "endlinecolor": "#2a3f5f",
             "gridcolor": "white",
             "linecolor": "white",
             "minorgridcolor": "white",
             "startlinecolor": "#2a3f5f"
            },
            "baxis": {
             "endlinecolor": "#2a3f5f",
             "gridcolor": "white",
             "linecolor": "white",
             "minorgridcolor": "white",
             "startlinecolor": "#2a3f5f"
            },
            "type": "carpet"
           }
          ],
          "choropleth": [
           {
            "colorbar": {
             "outlinewidth": 0,
             "ticks": ""
            },
            "type": "choropleth"
           }
          ],
          "contour": [
           {
            "colorbar": {
             "outlinewidth": 0,
             "ticks": ""
            },
            "colorscale": [
             [
              0,
              "#0d0887"
             ],
             [
              0.1111111111111111,
              "#46039f"
             ],
             [
              0.2222222222222222,
              "#7201a8"
             ],
             [
              0.3333333333333333,
              "#9c179e"
             ],
             [
              0.4444444444444444,
              "#bd3786"
             ],
             [
              0.5555555555555556,
              "#d8576b"
             ],
             [
              0.6666666666666666,
              "#ed7953"
             ],
             [
              0.7777777777777778,
              "#fb9f3a"
             ],
             [
              0.8888888888888888,
              "#fdca26"
             ],
             [
              1,
              "#f0f921"
             ]
            ],
            "type": "contour"
           }
          ],
          "contourcarpet": [
           {
            "colorbar": {
             "outlinewidth": 0,
             "ticks": ""
            },
            "type": "contourcarpet"
           }
          ],
          "heatmap": [
           {
            "colorbar": {
             "outlinewidth": 0,
             "ticks": ""
            },
            "colorscale": [
             [
              0,
              "#0d0887"
             ],
             [
              0.1111111111111111,
              "#46039f"
             ],
             [
              0.2222222222222222,
              "#7201a8"
             ],
             [
              0.3333333333333333,
              "#9c179e"
             ],
             [
              0.4444444444444444,
              "#bd3786"
             ],
             [
              0.5555555555555556,
              "#d8576b"
             ],
             [
              0.6666666666666666,
              "#ed7953"
             ],
             [
              0.7777777777777778,
              "#fb9f3a"
             ],
             [
              0.8888888888888888,
              "#fdca26"
             ],
             [
              1,
              "#f0f921"
             ]
            ],
            "type": "heatmap"
           }
          ],
          "heatmapgl": [
           {
            "colorbar": {
             "outlinewidth": 0,
             "ticks": ""
            },
            "colorscale": [
             [
              0,
              "#0d0887"
             ],
             [
              0.1111111111111111,
              "#46039f"
             ],
             [
              0.2222222222222222,
              "#7201a8"
             ],
             [
              0.3333333333333333,
              "#9c179e"
             ],
             [
              0.4444444444444444,
              "#bd3786"
             ],
             [
              0.5555555555555556,
              "#d8576b"
             ],
             [
              0.6666666666666666,
              "#ed7953"
             ],
             [
              0.7777777777777778,
              "#fb9f3a"
             ],
             [
              0.8888888888888888,
              "#fdca26"
             ],
             [
              1,
              "#f0f921"
             ]
            ],
            "type": "heatmapgl"
           }
          ],
          "histogram": [
           {
            "marker": {
             "pattern": {
              "fillmode": "overlay",
              "size": 10,
              "solidity": 0.2
             }
            },
            "type": "histogram"
           }
          ],
          "histogram2d": [
           {
            "colorbar": {
             "outlinewidth": 0,
             "ticks": ""
            },
            "colorscale": [
             [
              0,
              "#0d0887"
             ],
             [
              0.1111111111111111,
              "#46039f"
             ],
             [
              0.2222222222222222,
              "#7201a8"
             ],
             [
              0.3333333333333333,
              "#9c179e"
             ],
             [
              0.4444444444444444,
              "#bd3786"
             ],
             [
              0.5555555555555556,
              "#d8576b"
             ],
             [
              0.6666666666666666,
              "#ed7953"
             ],
             [
              0.7777777777777778,
              "#fb9f3a"
             ],
             [
              0.8888888888888888,
              "#fdca26"
             ],
             [
              1,
              "#f0f921"
             ]
            ],
            "type": "histogram2d"
           }
          ],
          "histogram2dcontour": [
           {
            "colorbar": {
             "outlinewidth": 0,
             "ticks": ""
            },
            "colorscale": [
             [
              0,
              "#0d0887"
             ],
             [
              0.1111111111111111,
              "#46039f"
             ],
             [
              0.2222222222222222,
              "#7201a8"
             ],
             [
              0.3333333333333333,
              "#9c179e"
             ],
             [
              0.4444444444444444,
              "#bd3786"
             ],
             [
              0.5555555555555556,
              "#d8576b"
             ],
             [
              0.6666666666666666,
              "#ed7953"
             ],
             [
              0.7777777777777778,
              "#fb9f3a"
             ],
             [
              0.8888888888888888,
              "#fdca26"
             ],
             [
              1,
              "#f0f921"
             ]
            ],
            "type": "histogram2dcontour"
           }
          ],
          "mesh3d": [
           {
            "colorbar": {
             "outlinewidth": 0,
             "ticks": ""
            },
            "type": "mesh3d"
           }
          ],
          "parcoords": [
           {
            "line": {
             "colorbar": {
              "outlinewidth": 0,
              "ticks": ""
             }
            },
            "type": "parcoords"
           }
          ],
          "pie": [
           {
            "automargin": true,
            "type": "pie"
           }
          ],
          "scatter": [
           {
            "marker": {
             "colorbar": {
              "outlinewidth": 0,
              "ticks": ""
             }
            },
            "type": "scatter"
           }
          ],
          "scatter3d": [
           {
            "line": {
             "colorbar": {
              "outlinewidth": 0,
              "ticks": ""
             }
            },
            "marker": {
             "colorbar": {
              "outlinewidth": 0,
              "ticks": ""
             }
            },
            "type": "scatter3d"
           }
          ],
          "scattercarpet": [
           {
            "marker": {
             "colorbar": {
              "outlinewidth": 0,
              "ticks": ""
             }
            },
            "type": "scattercarpet"
           }
          ],
          "scattergeo": [
           {
            "marker": {
             "colorbar": {
              "outlinewidth": 0,
              "ticks": ""
             }
            },
            "type": "scattergeo"
           }
          ],
          "scattergl": [
           {
            "marker": {
             "colorbar": {
              "outlinewidth": 0,
              "ticks": ""
             }
            },
            "type": "scattergl"
           }
          ],
          "scattermapbox": [
           {
            "marker": {
             "colorbar": {
              "outlinewidth": 0,
              "ticks": ""
             }
            },
            "type": "scattermapbox"
           }
          ],
          "scatterpolar": [
           {
            "marker": {
             "colorbar": {
              "outlinewidth": 0,
              "ticks": ""
             }
            },
            "type": "scatterpolar"
           }
          ],
          "scatterpolargl": [
           {
            "marker": {
             "colorbar": {
              "outlinewidth": 0,
              "ticks": ""
             }
            },
            "type": "scatterpolargl"
           }
          ],
          "scatterternary": [
           {
            "marker": {
             "colorbar": {
              "outlinewidth": 0,
              "ticks": ""
             }
            },
            "type": "scatterternary"
           }
          ],
          "surface": [
           {
            "colorbar": {
             "outlinewidth": 0,
             "ticks": ""
            },
            "colorscale": [
             [
              0,
              "#0d0887"
             ],
             [
              0.1111111111111111,
              "#46039f"
             ],
             [
              0.2222222222222222,
              "#7201a8"
             ],
             [
              0.3333333333333333,
              "#9c179e"
             ],
             [
              0.4444444444444444,
              "#bd3786"
             ],
             [
              0.5555555555555556,
              "#d8576b"
             ],
             [
              0.6666666666666666,
              "#ed7953"
             ],
             [
              0.7777777777777778,
              "#fb9f3a"
             ],
             [
              0.8888888888888888,
              "#fdca26"
             ],
             [
              1,
              "#f0f921"
             ]
            ],
            "type": "surface"
           }
          ],
          "table": [
           {
            "cells": {
             "fill": {
              "color": "#EBF0F8"
             },
             "line": {
              "color": "white"
             }
            },
            "header": {
             "fill": {
              "color": "#C8D4E3"
             },
             "line": {
              "color": "white"
             }
            },
            "type": "table"
           }
          ]
         },
         "layout": {
          "annotationdefaults": {
           "arrowcolor": "#2a3f5f",
           "arrowhead": 0,
           "arrowwidth": 1
          },
          "autotypenumbers": "strict",
          "coloraxis": {
           "colorbar": {
            "outlinewidth": 0,
            "ticks": ""
           }
          },
          "colorscale": {
           "diverging": [
            [
             0,
             "#8e0152"
            ],
            [
             0.1,
             "#c51b7d"
            ],
            [
             0.2,
             "#de77ae"
            ],
            [
             0.3,
             "#f1b6da"
            ],
            [
             0.4,
             "#fde0ef"
            ],
            [
             0.5,
             "#f7f7f7"
            ],
            [
             0.6,
             "#e6f5d0"
            ],
            [
             0.7,
             "#b8e186"
            ],
            [
             0.8,
             "#7fbc41"
            ],
            [
             0.9,
             "#4d9221"
            ],
            [
             1,
             "#276419"
            ]
           ],
           "sequential": [
            [
             0,
             "#0d0887"
            ],
            [
             0.1111111111111111,
             "#46039f"
            ],
            [
             0.2222222222222222,
             "#7201a8"
            ],
            [
             0.3333333333333333,
             "#9c179e"
            ],
            [
             0.4444444444444444,
             "#bd3786"
            ],
            [
             0.5555555555555556,
             "#d8576b"
            ],
            [
             0.6666666666666666,
             "#ed7953"
            ],
            [
             0.7777777777777778,
             "#fb9f3a"
            ],
            [
             0.8888888888888888,
             "#fdca26"
            ],
            [
             1,
             "#f0f921"
            ]
           ],
           "sequentialminus": [
            [
             0,
             "#0d0887"
            ],
            [
             0.1111111111111111,
             "#46039f"
            ],
            [
             0.2222222222222222,
             "#7201a8"
            ],
            [
             0.3333333333333333,
             "#9c179e"
            ],
            [
             0.4444444444444444,
             "#bd3786"
            ],
            [
             0.5555555555555556,
             "#d8576b"
            ],
            [
             0.6666666666666666,
             "#ed7953"
            ],
            [
             0.7777777777777778,
             "#fb9f3a"
            ],
            [
             0.8888888888888888,
             "#fdca26"
            ],
            [
             1,
             "#f0f921"
            ]
           ]
          },
          "colorway": [
           "#636efa",
           "#EF553B",
           "#00cc96",
           "#ab63fa",
           "#FFA15A",
           "#19d3f3",
           "#FF6692",
           "#B6E880",
           "#FF97FF",
           "#FECB52"
          ],
          "font": {
           "color": "#2a3f5f"
          },
          "geo": {
           "bgcolor": "white",
           "lakecolor": "white",
           "landcolor": "#E5ECF6",
           "showlakes": true,
           "showland": true,
           "subunitcolor": "white"
          },
          "hoverlabel": {
           "align": "left"
          },
          "hovermode": "closest",
          "mapbox": {
           "style": "light"
          },
          "paper_bgcolor": "white",
          "plot_bgcolor": "#E5ECF6",
          "polar": {
           "angularaxis": {
            "gridcolor": "white",
            "linecolor": "white",
            "ticks": ""
           },
           "bgcolor": "#E5ECF6",
           "radialaxis": {
            "gridcolor": "white",
            "linecolor": "white",
            "ticks": ""
           }
          },
          "scene": {
           "xaxis": {
            "backgroundcolor": "#E5ECF6",
            "gridcolor": "white",
            "gridwidth": 2,
            "linecolor": "white",
            "showbackground": true,
            "ticks": "",
            "zerolinecolor": "white"
           },
           "yaxis": {
            "backgroundcolor": "#E5ECF6",
            "gridcolor": "white",
            "gridwidth": 2,
            "linecolor": "white",
            "showbackground": true,
            "ticks": "",
            "zerolinecolor": "white"
           },
           "zaxis": {
            "backgroundcolor": "#E5ECF6",
            "gridcolor": "white",
            "gridwidth": 2,
            "linecolor": "white",
            "showbackground": true,
            "ticks": "",
            "zerolinecolor": "white"
           }
          },
          "shapedefaults": {
           "line": {
            "color": "#2a3f5f"
           }
          },
          "ternary": {
           "aaxis": {
            "gridcolor": "white",
            "linecolor": "white",
            "ticks": ""
           },
           "baxis": {
            "gridcolor": "white",
            "linecolor": "white",
            "ticks": ""
           },
           "bgcolor": "#E5ECF6",
           "caxis": {
            "gridcolor": "white",
            "linecolor": "white",
            "ticks": ""
           }
          },
          "title": {
           "x": 0.05
          },
          "xaxis": {
           "automargin": true,
           "gridcolor": "white",
           "linecolor": "white",
           "ticks": "",
           "title": {
            "standoff": 15
           },
           "zerolinecolor": "white",
           "zerolinewidth": 2
          },
          "yaxis": {
           "automargin": true,
           "gridcolor": "white",
           "linecolor": "white",
           "ticks": "",
           "title": {
            "standoff": 15
           },
           "zerolinecolor": "white",
           "zerolinewidth": 2
          }
         }
        },
        "title": {
         "text": "Proportion of Variance in Principal Components"
        },
        "xaxis": {
         "anchor": "y",
         "autorange": true,
         "domain": [
          0,
          1
         ],
         "range": [
          -0.5,
          9.5
         ],
         "title": {
          "text": "Principal Component"
         },
         "type": "category"
        },
        "yaxis": {
         "anchor": "x",
         "autorange": true,
         "domain": [
          0,
          1
         ],
         "range": [
          0,
          0.7784974682522896
         ],
         "title": {
          "text": "Variance Ratio"
         },
         "type": "linear"
        }
       }
      },
      "image/png": "[encoded data removed]",
      "text/html": [
       "<div>                            <div id=\"ca3bf55c-99ab-4430-ae34-5562e1e2cb08\" class=\"plotly-graph-div\" style=\"height:525px; width:100%;\"></div>            <script type=\"text/javascript\">                require([\"plotly\"], function(Plotly) {                    window.PLOTLYENV=window.PLOTLYENV || {};                                    if (document.getElementById(\"ca3bf55c-99ab-4430-ae34-5562e1e2cb08\")) {                    Plotly.newPlot(                        \"ca3bf55c-99ab-4430-ae34-5562e1e2cb08\",                        [{\"alignmentgroup\":\"True\",\"hovertemplate\":\"Principal Component=%{x}<br>Variance Ratio=%{y}<br>color=%{marker.color}<extra></extra>\",\"legendgroup\":\"\",\"marker\":{\"color\":[0.7395725948396751,0.08462806612549113,0.05501284147263939,0.03167163704028768,0.024931395668720293,0.01883772098749328,0.016034735978419805,0.008242122697765805,0.007756058755873993,0.004222591796867758],\"coloraxis\":\"coloraxis\",\"pattern\":{\"shape\":\"\"}},\"name\":\"\",\"offsetgroup\":\"\",\"orientation\":\"v\",\"showlegend\":false,\"textposition\":\"auto\",\"x\":[\"PC1\",\"PC2\",\"PC3\",\"PC4\",\"PC5\",\"PC6\",\"PC7\",\"PC8\",\"PC9\",\"PC10\"],\"xaxis\":\"x\",\"y\":[0.7395725948396751,0.08462806612549113,0.05501284147263939,0.03167163704028768,0.024931395668720293,0.01883772098749328,0.016034735978419805,0.008242122697765805,0.007756058755873993,0.004222591796867758],\"yaxis\":\"y\",\"type\":\"bar\"}],                        {\"template\":{\"data\":{\"bar\":[{\"error_x\":{\"color\":\"#2a3f5f\"},\"error_y\":{\"color\":\"#2a3f5f\"},\"marker\":{\"line\":{\"color\":\"#E5ECF6\",\"width\":0.5},\"pattern\":{\"fillmode\":\"overlay\",\"size\":10,\"solidity\":0.2}},\"type\":\"bar\"}],\"barpolar\":[{\"marker\":{\"line\":{\"color\":\"#E5ECF6\",\"width\":0.5},\"pattern\":{\"fillmode\":\"overlay\",\"size\":10,\"solidity\":0.2}},\"type\":\"barpolar\"}],\"carpet\":[{\"aaxis\":{\"endlinecolor\":\"#2a3f5f\",\"gridcolor\":\"white\",\"linecolor\":\"white\",\"minorgridcolor\":\"white\",\"startlinecolor\":\"#2a3f5f\"},\"baxis\":{\"endlinecolor\":\"#2a3f5f\",\"gridcolor\":\"white\",\"linecolor\":\"white\",\"minorgridcolor\":\"white\",\"startlinecolor\":\"#2a3f5f\"},\"type\":\"carpet\"}],\"choropleth\":[{\"colorbar\":{\"outlinewidth\":0,\"ticks\":\"\"},\"type\":\"choropleth\"}],\"contour\":[{\"colorbar\":{\"outlinewidth\":0,\"ticks\":\"\"},\"colorscale\":[[0.0,\"#0d0887\"],[0.1111111111111111,\"#46039f\"],[0.2222222222222222,\"#7201a8\"],[0.3333333333333333,\"#9c179e\"],[0.4444444444444444,\"#bd3786\"],[0.5555555555555556,\"#d8576b\"],[0.6666666666666666,\"#ed7953\"],[0.7777777777777778,\"#fb9f3a\"],[0.8888888888888888,\"#fdca26\"],[1.0,\"#f0f921\"]],\"type\":\"contour\"}],\"contourcarpet\":[{\"colorbar\":{\"outlinewidth\":0,\"ticks\":\"\"},\"type\":\"contourcarpet\"}],\"heatmap\":[{\"colorbar\":{\"outlinewidth\":0,\"ticks\":\"\"},\"colorscale\":[[0.0,\"#0d0887\"],[0.1111111111111111,\"#46039f\"],[0.2222222222222222,\"#7201a8\"],[0.3333333333333333,\"#9c179e\"],[0.4444444444444444,\"#bd3786\"],[0.5555555555555556,\"#d8576b\"],[0.6666666666666666,\"#ed7953\"],[0.7777777777777778,\"#fb9f3a\"],[0.8888888888888888,\"#fdca26\"],[1.0,\"#f0f921\"]],\"type\":\"heatmap\"}],\"heatmapgl\":[{\"colorbar\":{\"outlinewidth\":0,\"ticks\":\"\"},\"colorscale\":[[0.0,\"#0d0887\"],[0.1111111111111111,\"#46039f\"],[0.2222222222222222,\"#7201a8\"],[0.3333333333333333,\"#9c179e\"],[0.4444444444444444,\"#bd3786\"],[0.5555555555555556,\"#d8576b\"],[0.6666666666666666,\"#ed7953\"],[0.7777777777777778,\"#fb9f3a\"],[0.8888888888888888,\"#fdca26\"],[1.0,\"#f0f921\"]],\"type\":\"heatmapgl\"}],\"histogram\":[{\"marker\":{\"pattern\":{\"fillmode\":\"overlay\",\"size\":10,\"solidity\":0.2}},\"type\":\"histogram\"}],\"histogram2d\":[{\"colorbar\":{\"outlinewidth\":0,\"ticks\":\"\"},\"colorscale\":[[0.0,\"#0d0887\"],[0.1111111111111111,\"#46039f\"],[0.2222222222222222,\"#7201a8\"],[0.3333333333333333,\"#9c179e\"],[0.4444444444444444,\"#bd3786\"],[0.5555555555555556,\"#d8576b\"],[0.6666666666666666,\"#ed7953\"],[0.7777777777777778,\"#fb9f3a\"],[0.8888888888888888,\"#fdca26\"],[1.0,\"#f0f921\"]],\"type\":\"histogram2d\"}],\"histogram2dcontour\":[{\"colorbar\":{\"outlinewidth\":0,\"ticks\":\"\"},\"colorscale\":[[0.0,\"#0d0887\"],[0.1111111111111111,\"#46039f\"],[0.2222222222222222,\"#7201a8\"],[0.3333333333333333,\"#9c179e\"],[0.4444444444444444,\"#bd3786\"],[0.5555555555555556,\"#d8576b\"],[0.6666666666666666,\"#ed7953\"],[0.7777777777777778,\"#fb9f3a\"],[0.8888888888888888,\"#fdca26\"],[1.0,\"#f0f921\"]],\"type\":\"histogram2dcontour\"}],\"mesh3d\":[{\"colorbar\":{\"outlinewidth\":0,\"ticks\":\"\"},\"type\":\"mesh3d\"}],\"parcoords\":[{\"line\":{\"colorbar\":{\"outlinewidth\":0,\"ticks\":\"\"}},\"type\":\"parcoords\"}],\"pie\":[{\"automargin\":true,\"type\":\"pie\"}],\"scatter\":[{\"marker\":{\"colorbar\":{\"outlinewidth\":0,\"ticks\":\"\"}},\"type\":\"scatter\"}],\"scatter3d\":[{\"line\":{\"colorbar\":{\"outlinewidth\":0,\"ticks\":\"\"}},\"marker\":{\"colorbar\":{\"outlinewidth\":0,\"ticks\":\"\"}},\"type\":\"scatter3d\"}],\"scattercarpet\":[{\"marker\":{\"colorbar\":{\"outlinewidth\":0,\"ticks\":\"\"}},\"type\":\"scattercarpet\"}],\"scattergeo\":[{\"marker\":{\"colorbar\":{\"outlinewidth\":0,\"ticks\":\"\"}},\"type\":\"scattergeo\"}],\"scattergl\":[{\"marker\":{\"colorbar\":{\"outlinewidth\":0,\"ticks\":\"\"}},\"type\":\"scattergl\"}],\"scattermapbox\":[{\"marker\":{\"colorbar\":{\"outlinewidth\":0,\"ticks\":\"\"}},\"type\":\"scattermapbox\"}],\"scatterpolar\":[{\"marker\":{\"colorbar\":{\"outlinewidth\":0,\"ticks\":\"\"}},\"type\":\"scatterpolar\"}],\"scatterpolargl\":[{\"marker\":{\"colorbar\":{\"outlinewidth\":0,\"ticks\":\"\"}},\"type\":\"scatterpolargl\"}],\"scatterternary\":[{\"marker\":{\"colorbar\":{\"outlinewidth\":0,\"ticks\":\"\"}},\"type\":\"scatterternary\"}],\"surface\":[{\"colorbar\":{\"outlinewidth\":0,\"ticks\":\"\"},\"colorscale\":[[0.0,\"#0d0887\"],[0.1111111111111111,\"#46039f\"],[0.2222222222222222,\"#7201a8\"],[0.3333333333333333,\"#9c179e\"],[0.4444444444444444,\"#bd3786\"],[0.5555555555555556,\"#d8576b\"],[0.6666666666666666,\"#ed7953\"],[0.7777777777777778,\"#fb9f3a\"],[0.8888888888888888,\"#fdca26\"],[1.0,\"#f0f921\"]],\"type\":\"surface\"}],\"table\":[{\"cells\":{\"fill\":{\"color\":\"#EBF0F8\"},\"line\":{\"color\":\"white\"}},\"header\":{\"fill\":{\"color\":\"#C8D4E3\"},\"line\":{\"color\":\"white\"}},\"type\":\"table\"}]},\"layout\":{\"annotationdefaults\":{\"arrowcolor\":\"#2a3f5f\",\"arrowhead\":0,\"arrowwidth\":1},\"autotypenumbers\":\"strict\",\"coloraxis\":{\"colorbar\":{\"outlinewidth\":0,\"ticks\":\"\"}},\"colorscale\":{\"diverging\":[[0,\"#8e0152\"],[0.1,\"#c51b7d\"],[0.2,\"#de77ae\"],[0.3,\"#f1b6da\"],[0.4,\"#fde0ef\"],[0.5,\"#f7f7f7\"],[0.6,\"#e6f5d0\"],[0.7,\"#b8e186\"],[0.8,\"#7fbc41\"],[0.9,\"#4d9221\"],[1,\"#276419\"]],\"sequential\":[[0.0,\"#0d0887\"],[0.1111111111111111,\"#46039f\"],[0.2222222222222222,\"#7201a8\"],[0.3333333333333333,\"#9c179e\"],[0.4444444444444444,\"#bd3786\"],[0.5555555555555556,\"#d8576b\"],[0.6666666666666666,\"#ed7953\"],[0.7777777777777778,\"#fb9f3a\"],[0.8888888888888888,\"#fdca26\"],[1.0,\"#f0f921\"]],\"sequentialminus\":[[0.0,\"#0d0887\"],[0.1111111111111111,\"#46039f\"],[0.2222222222222222,\"#7201a8\"],[0.3333333333333333,\"#9c179e\"],[0.4444444444444444,\"#bd3786\"],[0.5555555555555556,\"#d8576b\"],[0.6666666666666666,\"#ed7953\"],[0.7777777777777778,\"#fb9f3a\"],[0.8888888888888888,\"#fdca26\"],[1.0,\"#f0f921\"]]},\"colorway\":[\"#636efa\",\"#EF553B\",\"#00cc96\",\"#ab63fa\",\"#FFA15A\",\"#19d3f3\",\"#FF6692\",\"#B6E880\",\"#FF97FF\",\"#FECB52\"],\"font\":{\"color\":\"#2a3f5f\"},\"geo\":{\"bgcolor\":\"white\",\"lakecolor\":\"white\",\"landcolor\":\"#E5ECF6\",\"showlakes\":true,\"showland\":true,\"subunitcolor\":\"white\"},\"hoverlabel\":{\"align\":\"left\"},\"hovermode\":\"closest\",\"mapbox\":{\"style\":\"light\"},\"paper_bgcolor\":\"white\",\"plot_bgcolor\":\"#E5ECF6\",\"polar\":{\"angularaxis\":{\"gridcolor\":\"white\",\"linecolor\":\"white\",\"ticks\":\"\"},\"bgcolor\":\"#E5ECF6\",\"radialaxis\":{\"gridcolor\":\"white\",\"linecolor\":\"white\",\"ticks\":\"\"}},\"scene\":{\"xaxis\":{\"backgroundcolor\":\"#E5ECF6\",\"gridcolor\":\"white\",\"gridwidth\":2,\"linecolor\":\"white\",\"showbackground\":true,\"ticks\":\"\",\"zerolinecolor\":\"white\"},\"yaxis\":{\"backgroundcolor\":\"#E5ECF6\",\"gridcolor\":\"white\",\"gridwidth\":2,\"linecolor\":\"white\",\"showbackground\":true,\"ticks\":\"\",\"zerolinecolor\":\"white\"},\"zaxis\":{\"backgroundcolor\":\"#E5ECF6\",\"gridcolor\":\"white\",\"gridwidth\":2,\"linecolor\":\"white\",\"showbackground\":true,\"ticks\":\"\",\"zerolinecolor\":\"white\"}},\"shapedefaults\":{\"line\":{\"color\":\"#2a3f5f\"}},\"ternary\":{\"aaxis\":{\"gridcolor\":\"white\",\"linecolor\":\"white\",\"ticks\":\"\"},\"baxis\":{\"gridcolor\":\"white\",\"linecolor\":\"white\",\"ticks\":\"\"},\"bgcolor\":\"#E5ECF6\",\"caxis\":{\"gridcolor\":\"white\",\"linecolor\":\"white\",\"ticks\":\"\"}},\"title\":{\"x\":0.05},\"xaxis\":{\"automargin\":true,\"gridcolor\":\"white\",\"linecolor\":\"white\",\"ticks\":\"\",\"title\":{\"standoff\":15},\"zerolinecolor\":\"white\",\"zerolinewidth\":2},\"yaxis\":{\"automargin\":true,\"gridcolor\":\"white\",\"linecolor\":\"white\",\"ticks\":\"\",\"title\":{\"standoff\":15},\"zerolinecolor\":\"white\",\"zerolinewidth\":2}}},\"xaxis\":{\"anchor\":\"y\",\"domain\":[0.0,1.0],\"title\":{\"text\":\"Principal Component\"}},\"yaxis\":{\"anchor\":\"x\",\"domain\":[0.0,1.0],\"title\":{\"text\":\"Variance Ratio\"}},\"coloraxis\":{\"colorbar\":{\"title\":{\"text\":\"color\"}},\"colorscale\":[[0,\"pink\"],[1,\"red\"]]},\"legend\":{\"tracegroupgap\":0},\"title\":{\"text\":\"Proportion of Variance in Principal Components\"},\"barmode\":\"relative\"},                        {\"responsive\": true}                    ).then(function(){\n",
       "                            \n",
       "var gd = document.getElementById('ca3bf55c-99ab-4430-ae34-5562e1e2cb08');\n",
       "var x = new MutationObserver(function (mutations, observer) {{\n",
       "        var display = window.getComputedStyle(gd).display;\n",
       "        if (!display || display === 'none') {{\n",
       "            console.log([gd, 'removed!']);\n",
       "            Plotly.purge(gd);\n",
       "            observer.disconnect();\n",
       "        }}\n",
       "}});\n",
       "\n",
       "// Listen for the removal of the full notebook cells\n",
       "var notebookContainer = gd.closest('#notebook-container');\n",
       "if (notebookContainer) {{\n",
       "    x.observe(notebookContainer, {childList: true});\n",
       "}}\n",
       "\n",
       "// Listen for the clearing of the current output cell\n",
       "var outputEl = gd.closest('.output');\n",
       "if (outputEl) {{\n",
       "    x.observe(outputEl, {childList: true});\n",
       "}}\n",
       "\n",
       "                        })                };                });            </script>        </div>"
      ]
     },
     "metadata": {},
     "output_type": "display_data"
    }
   ],
   "source": [
    "fig = px.bar(\n",
    "    x=[\"PC\" + str(i) for i in range(1, n_components + 1)],\n",
    "    y=pca.explained_variance_ratio_,\n",
    "    labels={'x': \"Principal Component\", 'y': \"Variance Ratio\"},\n",
    "    color=pca.explained_variance_ratio_,\n",
    "    color_continuous_scale=[(0, 'pink'), (1, 'red')],\n",
    "    title=\"Proportion of Variance in Principal Components\"\n",
    ")\n",
    "\n",
    "fig.show()"
   ]
  },
  {
   "cell_type": "code",
   "execution_count": 34,
   "id": "049798c1-9fca-4001-baa9-05ca02d2c717",
   "metadata": {},
   "outputs": [
    {
     "name": "stdout",
     "output_type": "stream",
     "text": [
      "                   Logistic Regression trained.\n",
      "                   K-Nearest Neighbors trained.\n",
      "                         Decision Tree trained.\n",
      "Support Vector Machine (Linear Kernel) trained.\n",
      "   Support Vector Machine (RBF Kernel) trained.\n",
      "                        Neural Network trained.\n",
      "                         Random Forest trained.\n",
      "                     Gradient Boosting trained.\n"
     ]
    }
   ],
   "source": [
    "reduced_models = {\n",
    "    \"                   Logistic Regression\": LogisticRegression(),\n",
    "    \"                   K-Nearest Neighbors\": KNeighborsClassifier(),\n",
    "    \"                         Decision Tree\": DecisionTreeClassifier(),\n",
    "    \"Support Vector Machine (Linear Kernel)\": LinearSVC(),\n",
    "    \"   Support Vector Machine (RBF Kernel)\": SVC(),\n",
    "    \"                        Neural Network\": MLPClassifier(),\n",
    "    \"                         Random Forest\": RandomForestClassifier(),\n",
    "    \"                     Gradient Boosting\": GradientBoostingClassifier()\n",
    "}\n",
    "\n",
    "for name, model in reduced_models.items():\n",
    "    model.fit(X_train_reduced, y_train)\n",
    "    print(name + \" trained.\")"
   ]
  },
  {
   "cell_type": "code",
   "execution_count": 35,
   "id": "c8808e7b-1593-4241-b8c3-0b6efd487f5c",
   "metadata": {},
   "outputs": [
    {
     "name": "stdout",
     "output_type": "stream",
     "text": [
      "                   Logistic Regression: 93.63%\n",
      "                   K-Nearest Neighbors: 93.93%\n",
      "                         Decision Tree: 88.79%\n",
      "Support Vector Machine (Linear Kernel): 93.62%\n",
      "   Support Vector Machine (RBF Kernel): 93.66%\n",
      "                        Neural Network: 93.68%\n",
      "                         Random Forest: 93.84%\n",
      "                     Gradient Boosting: 93.62%\n"
     ]
    }
   ],
   "source": [
    "reduced_results = []\n",
    "\n",
    "for name, model in reduced_models.items():\n",
    "    result = model.score(X_test_reduced, y_test)\n",
    "    reduced_results.append(result)\n",
    "    print(name + \": {:.2f}%\".format(result * 100))"
   ]
  },
  {
   "cell_type": "markdown",
   "id": "8dae2fb1-f39f-4593-9e95-e68534be45a4",
   "metadata": {},
   "source": [
    "## Change in Performance after PCA"
   ]
  },
  {
   "cell_type": "code",
   "execution_count": 36,
   "id": "df7a5be4-0dbd-40e2-87c4-8459ebe9090e",
   "metadata": {},
   "outputs": [
    {
     "data": {
      "application/vnd.plotly.v1+json": {
       "config": {
        "plotlyServerURL": "https://plot.ly"
       },
       "data": [
        {
         "alignmentgroup": "True",
         "hovertemplate": "Change in Performance=%{x}<br>Model=%{y}<br>color=%{marker.color}<extra></extra>",
         "legendgroup": "",
         "marker": {
          "color": [
           4.236390595202533e-05,
           -0.0030925651345053984,
           -0.007922050413048054,
           -4.236390595213635e-05,
           -4.236390595213635e-05,
           0.00021181952976068175,
           -0.001228553272611732,
           -0.00016945562380843437
          ],
          "coloraxis": "coloraxis",
          "pattern": {
           "shape": ""
          }
         },
         "name": "",
         "offsetgroup": "",
         "orientation": "h",
         "showlegend": false,
         "textposition": "auto",
         "type": "bar",
         "x": [
          4.236390595202533e-05,
          -0.0030925651345053984,
          -0.007922050413048054,
          -4.236390595213635e-05,
          -4.236390595213635e-05,
          0.00021181952976068175,
          -0.001228553272611732,
          -0.00016945562380843437
         ],
         "xaxis": "x",
         "y": [
          "                   Logistic Regression",
          "                   K-Nearest Neighbors",
          "                         Decision Tree",
          "Support Vector Machine (Linear Kernel)",
          "   Support Vector Machine (RBF Kernel)",
          "                        Neural Network",
          "                         Random Forest",
          "                     Gradient Boosting"
         ],
         "yaxis": "y"
        }
       ],
       "layout": {
        "autosize": true,
        "barmode": "relative",
        "coloraxis": {
         "colorbar": {
          "title": {
           "text": "color"
          }
         },
         "colorscale": [
          [
           0,
           "red"
          ],
          [
           1,
           "blue"
          ]
         ]
        },
        "legend": {
         "tracegroupgap": 0
        },
        "template": {
         "data": {
          "bar": [
           {
            "error_x": {
             "color": "#2a3f5f"
            },
            "error_y": {
             "color": "#2a3f5f"
            },
            "marker": {
             "line": {
              "color": "#E5ECF6",
              "width": 0.5
             },
             "pattern": {
              "fillmode": "overlay",
              "size": 10,
              "solidity": 0.2
             }
            },
            "type": "bar"
           }
          ],
          "barpolar": [
           {
            "marker": {
             "line": {
              "color": "#E5ECF6",
              "width": 0.5
             },
             "pattern": {
              "fillmode": "overlay",
              "size": 10,
              "solidity": 0.2
             }
            },
            "type": "barpolar"
           }
          ],
          "carpet": [
           {
            "aaxis": {
             "endlinecolor": "#2a3f5f",
             "gridcolor": "white",
             "linecolor": "white",
             "minorgridcolor": "white",
             "startlinecolor": "#2a3f5f"
            },
            "baxis": {
             "endlinecolor": "#2a3f5f",
             "gridcolor": "white",
             "linecolor": "white",
             "minorgridcolor": "white",
             "startlinecolor": "#2a3f5f"
            },
            "type": "carpet"
           }
          ],
          "choropleth": [
           {
            "colorbar": {
             "outlinewidth": 0,
             "ticks": ""
            },
            "type": "choropleth"
           }
          ],
          "contour": [
           {
            "colorbar": {
             "outlinewidth": 0,
             "ticks": ""
            },
            "colorscale": [
             [
              0,
              "#0d0887"
             ],
             [
              0.1111111111111111,
              "#46039f"
             ],
             [
              0.2222222222222222,
              "#7201a8"
             ],
             [
              0.3333333333333333,
              "#9c179e"
             ],
             [
              0.4444444444444444,
              "#bd3786"
             ],
             [
              0.5555555555555556,
              "#d8576b"
             ],
             [
              0.6666666666666666,
              "#ed7953"
             ],
             [
              0.7777777777777778,
              "#fb9f3a"
             ],
             [
              0.8888888888888888,
              "#fdca26"
             ],
             [
              1,
              "#f0f921"
             ]
            ],
            "type": "contour"
           }
          ],
          "contourcarpet": [
           {
            "colorbar": {
             "outlinewidth": 0,
             "ticks": ""
            },
            "type": "contourcarpet"
           }
          ],
          "heatmap": [
           {
            "colorbar": {
             "outlinewidth": 0,
             "ticks": ""
            },
            "colorscale": [
             [
              0,
              "#0d0887"
             ],
             [
              0.1111111111111111,
              "#46039f"
             ],
             [
              0.2222222222222222,
              "#7201a8"
             ],
             [
              0.3333333333333333,
              "#9c179e"
             ],
             [
              0.4444444444444444,
              "#bd3786"
             ],
             [
              0.5555555555555556,
              "#d8576b"
             ],
             [
              0.6666666666666666,
              "#ed7953"
             ],
             [
              0.7777777777777778,
              "#fb9f3a"
             ],
             [
              0.8888888888888888,
              "#fdca26"
             ],
             [
              1,
              "#f0f921"
             ]
            ],
            "type": "heatmap"
           }
          ],
          "heatmapgl": [
           {
            "colorbar": {
             "outlinewidth": 0,
             "ticks": ""
            },
            "colorscale": [
             [
              0,
              "#0d0887"
             ],
             [
              0.1111111111111111,
              "#46039f"
             ],
             [
              0.2222222222222222,
              "#7201a8"
             ],
             [
              0.3333333333333333,
              "#9c179e"
             ],
             [
              0.4444444444444444,
              "#bd3786"
             ],
             [
              0.5555555555555556,
              "#d8576b"
             ],
             [
              0.6666666666666666,
              "#ed7953"
             ],
             [
              0.7777777777777778,
              "#fb9f3a"
             ],
             [
              0.8888888888888888,
              "#fdca26"
             ],
             [
              1,
              "#f0f921"
             ]
            ],
            "type": "heatmapgl"
           }
          ],
          "histogram": [
           {
            "marker": {
             "pattern": {
              "fillmode": "overlay",
              "size": 10,
              "solidity": 0.2
             }
            },
            "type": "histogram"
           }
          ],
          "histogram2d": [
           {
            "colorbar": {
             "outlinewidth": 0,
             "ticks": ""
            },
            "colorscale": [
             [
              0,
              "#0d0887"
             ],
             [
              0.1111111111111111,
              "#46039f"
             ],
             [
              0.2222222222222222,
              "#7201a8"
             ],
             [
              0.3333333333333333,
              "#9c179e"
             ],
             [
              0.4444444444444444,
              "#bd3786"
             ],
             [
              0.5555555555555556,
              "#d8576b"
             ],
             [
              0.6666666666666666,
              "#ed7953"
             ],
             [
              0.7777777777777778,
              "#fb9f3a"
             ],
             [
              0.8888888888888888,
              "#fdca26"
             ],
             [
              1,
              "#f0f921"
             ]
            ],
            "type": "histogram2d"
           }
          ],
          "histogram2dcontour": [
           {
            "colorbar": {
             "outlinewidth": 0,
             "ticks": ""
            },
            "colorscale": [
             [
              0,
              "#0d0887"
             ],
             [
              0.1111111111111111,
              "#46039f"
             ],
             [
              0.2222222222222222,
              "#7201a8"
             ],
             [
              0.3333333333333333,
              "#9c179e"
             ],
             [
              0.4444444444444444,
              "#bd3786"
             ],
             [
              0.5555555555555556,
              "#d8576b"
             ],
             [
              0.6666666666666666,
              "#ed7953"
             ],
             [
              0.7777777777777778,
              "#fb9f3a"
             ],
             [
              0.8888888888888888,
              "#fdca26"
             ],
             [
              1,
              "#f0f921"
             ]
            ],
            "type": "histogram2dcontour"
           }
          ],
          "mesh3d": [
           {
            "colorbar": {
             "outlinewidth": 0,
             "ticks": ""
            },
            "type": "mesh3d"
           }
          ],
          "parcoords": [
           {
            "line": {
             "colorbar": {
              "outlinewidth": 0,
              "ticks": ""
             }
            },
            "type": "parcoords"
           }
          ],
          "pie": [
           {
            "automargin": true,
            "type": "pie"
           }
          ],
          "scatter": [
           {
            "marker": {
             "colorbar": {
              "outlinewidth": 0,
              "ticks": ""
             }
            },
            "type": "scatter"
           }
          ],
          "scatter3d": [
           {
            "line": {
             "colorbar": {
              "outlinewidth": 0,
              "ticks": ""
             }
            },
            "marker": {
             "colorbar": {
              "outlinewidth": 0,
              "ticks": ""
             }
            },
            "type": "scatter3d"
           }
          ],
          "scattercarpet": [
           {
            "marker": {
             "colorbar": {
              "outlinewidth": 0,
              "ticks": ""
             }
            },
            "type": "scattercarpet"
           }
          ],
          "scattergeo": [
           {
            "marker": {
             "colorbar": {
              "outlinewidth": 0,
              "ticks": ""
             }
            },
            "type": "scattergeo"
           }
          ],
          "scattergl": [
           {
            "marker": {
             "colorbar": {
              "outlinewidth": 0,
              "ticks": ""
             }
            },
            "type": "scattergl"
           }
          ],
          "scattermapbox": [
           {
            "marker": {
             "colorbar": {
              "outlinewidth": 0,
              "ticks": ""
             }
            },
            "type": "scattermapbox"
           }
          ],
          "scatterpolar": [
           {
            "marker": {
             "colorbar": {
              "outlinewidth": 0,
              "ticks": ""
             }
            },
            "type": "scatterpolar"
           }
          ],
          "scatterpolargl": [
           {
            "marker": {
             "colorbar": {
              "outlinewidth": 0,
              "ticks": ""
             }
            },
            "type": "scatterpolargl"
           }
          ],
          "scatterternary": [
           {
            "marker": {
             "colorbar": {
              "outlinewidth": 0,
              "ticks": ""
             }
            },
            "type": "scatterternary"
           }
          ],
          "surface": [
           {
            "colorbar": {
             "outlinewidth": 0,
             "ticks": ""
            },
            "colorscale": [
             [
              0,
              "#0d0887"
             ],
             [
              0.1111111111111111,
              "#46039f"
             ],
             [
              0.2222222222222222,
              "#7201a8"
             ],
             [
              0.3333333333333333,
              "#9c179e"
             ],
             [
              0.4444444444444444,
              "#bd3786"
             ],
             [
              0.5555555555555556,
              "#d8576b"
             ],
             [
              0.6666666666666666,
              "#ed7953"
             ],
             [
              0.7777777777777778,
              "#fb9f3a"
             ],
             [
              0.8888888888888888,
              "#fdca26"
             ],
             [
              1,
              "#f0f921"
             ]
            ],
            "type": "surface"
           }
          ],
          "table": [
           {
            "cells": {
             "fill": {
              "color": "#EBF0F8"
             },
             "line": {
              "color": "white"
             }
            },
            "header": {
             "fill": {
              "color": "#C8D4E3"
             },
             "line": {
              "color": "white"
             }
            },
            "type": "table"
           }
          ]
         },
         "layout": {
          "annotationdefaults": {
           "arrowcolor": "#2a3f5f",
           "arrowhead": 0,
           "arrowwidth": 1
          },
          "autotypenumbers": "strict",
          "coloraxis": {
           "colorbar": {
            "outlinewidth": 0,
            "ticks": ""
           }
          },
          "colorscale": {
           "diverging": [
            [
             0,
             "#8e0152"
            ],
            [
             0.1,
             "#c51b7d"
            ],
            [
             0.2,
             "#de77ae"
            ],
            [
             0.3,
             "#f1b6da"
            ],
            [
             0.4,
             "#fde0ef"
            ],
            [
             0.5,
             "#f7f7f7"
            ],
            [
             0.6,
             "#e6f5d0"
            ],
            [
             0.7,
             "#b8e186"
            ],
            [
             0.8,
             "#7fbc41"
            ],
            [
             0.9,
             "#4d9221"
            ],
            [
             1,
             "#276419"
            ]
           ],
           "sequential": [
            [
             0,
             "#0d0887"
            ],
            [
             0.1111111111111111,
             "#46039f"
            ],
            [
             0.2222222222222222,
             "#7201a8"
            ],
            [
             0.3333333333333333,
             "#9c179e"
            ],
            [
             0.4444444444444444,
             "#bd3786"
            ],
            [
             0.5555555555555556,
             "#d8576b"
            ],
            [
             0.6666666666666666,
             "#ed7953"
            ],
            [
             0.7777777777777778,
             "#fb9f3a"
            ],
            [
             0.8888888888888888,
             "#fdca26"
            ],
            [
             1,
             "#f0f921"
            ]
           ],
           "sequentialminus": [
            [
             0,
             "#0d0887"
            ],
            [
             0.1111111111111111,
             "#46039f"
            ],
            [
             0.2222222222222222,
             "#7201a8"
            ],
            [
             0.3333333333333333,
             "#9c179e"
            ],
            [
             0.4444444444444444,
             "#bd3786"
            ],
            [
             0.5555555555555556,
             "#d8576b"
            ],
            [
             0.6666666666666666,
             "#ed7953"
            ],
            [
             0.7777777777777778,
             "#fb9f3a"
            ],
            [
             0.8888888888888888,
             "#fdca26"
            ],
            [
             1,
             "#f0f921"
            ]
           ]
          },
          "colorway": [
           "#636efa",
           "#EF553B",
           "#00cc96",
           "#ab63fa",
           "#FFA15A",
           "#19d3f3",
           "#FF6692",
           "#B6E880",
           "#FF97FF",
           "#FECB52"
          ],
          "font": {
           "color": "#2a3f5f"
          },
          "geo": {
           "bgcolor": "white",
           "lakecolor": "white",
           "landcolor": "#E5ECF6",
           "showlakes": true,
           "showland": true,
           "subunitcolor": "white"
          },
          "hoverlabel": {
           "align": "left"
          },
          "hovermode": "closest",
          "mapbox": {
           "style": "light"
          },
          "paper_bgcolor": "white",
          "plot_bgcolor": "#E5ECF6",
          "polar": {
           "angularaxis": {
            "gridcolor": "white",
            "linecolor": "white",
            "ticks": ""
           },
           "bgcolor": "#E5ECF6",
           "radialaxis": {
            "gridcolor": "white",
            "linecolor": "white",
            "ticks": ""
           }
          },
          "scene": {
           "xaxis": {
            "backgroundcolor": "#E5ECF6",
            "gridcolor": "white",
            "gridwidth": 2,
            "linecolor": "white",
            "showbackground": true,
            "ticks": "",
            "zerolinecolor": "white"
           },
           "yaxis": {
            "backgroundcolor": "#E5ECF6",
            "gridcolor": "white",
            "gridwidth": 2,
            "linecolor": "white",
            "showbackground": true,
            "ticks": "",
            "zerolinecolor": "white"
           },
           "zaxis": {
            "backgroundcolor": "#E5ECF6",
            "gridcolor": "white",
            "gridwidth": 2,
            "linecolor": "white",
            "showbackground": true,
            "ticks": "",
            "zerolinecolor": "white"
           }
          },
          "shapedefaults": {
           "line": {
            "color": "#2a3f5f"
           }
          },
          "ternary": {
           "aaxis": {
            "gridcolor": "white",
            "linecolor": "white",
            "ticks": ""
           },
           "baxis": {
            "gridcolor": "white",
            "linecolor": "white",
            "ticks": ""
           },
           "bgcolor": "#E5ECF6",
           "caxis": {
            "gridcolor": "white",
            "linecolor": "white",
            "ticks": ""
           }
          },
          "title": {
           "x": 0.05
          },
          "xaxis": {
           "automargin": true,
           "gridcolor": "white",
           "linecolor": "white",
           "ticks": "",
           "title": {
            "standoff": 15
           },
           "zerolinecolor": "white",
           "zerolinewidth": 2
          },
          "yaxis": {
           "automargin": true,
           "gridcolor": "white",
           "linecolor": "white",
           "ticks": "",
           "title": {
            "standoff": 15
           },
           "zerolinecolor": "white",
           "zerolinewidth": 2
          }
         }
        },
        "title": {
         "text": "Change in Model Performance After Dimensionality Reduction"
        },
        "xaxis": {
         "anchor": "y",
         "autorange": true,
         "domain": [
          0,
          1
         ],
         "range": [
          -0.008373932076537428,
          0.000663701193250056
         ],
         "title": {
          "text": "Change in Performance"
         },
         "type": "linear"
        },
        "yaxis": {
         "anchor": "x",
         "autorange": true,
         "domain": [
          0,
          1
         ],
         "range": [
          -0.5,
          7.5
         ],
         "title": {
          "text": "Model"
         },
         "type": "category"
        }
       }
      },
      "image/png": "[encoded data removed]",
      "text/html": [
       "<div>                            <div id=\"73215ffd-d3aa-4f4d-81ed-0c6c55953da3\" class=\"plotly-graph-div\" style=\"height:525px; width:100%;\"></div>            <script type=\"text/javascript\">                require([\"plotly\"], function(Plotly) {                    window.PLOTLYENV=window.PLOTLYENV || {};                                    if (document.getElementById(\"73215ffd-d3aa-4f4d-81ed-0c6c55953da3\")) {                    Plotly.newPlot(                        \"73215ffd-d3aa-4f4d-81ed-0c6c55953da3\",                        [{\"alignmentgroup\":\"True\",\"hovertemplate\":\"Change in Performance=%{x}<br>Model=%{y}<br>color=%{marker.color}<extra></extra>\",\"legendgroup\":\"\",\"marker\":{\"color\":[4.236390595202533e-05,-0.0030925651345053984,-0.007922050413048054,-4.236390595213635e-05,-4.236390595213635e-05,0.00021181952976068175,-0.001228553272611732,-0.00016945562380843437],\"coloraxis\":\"coloraxis\",\"pattern\":{\"shape\":\"\"}},\"name\":\"\",\"offsetgroup\":\"\",\"orientation\":\"h\",\"showlegend\":false,\"textposition\":\"auto\",\"x\":[4.236390595202533e-05,-0.0030925651345053984,-0.007922050413048054,-4.236390595213635e-05,-4.236390595213635e-05,0.00021181952976068175,-0.001228553272611732,-0.00016945562380843437],\"xaxis\":\"x\",\"y\":[\"                   Logistic Regression\",\"                   K-Nearest Neighbors\",\"                         Decision Tree\",\"Support Vector Machine (Linear Kernel)\",\"   Support Vector Machine (RBF Kernel)\",\"                        Neural Network\",\"                         Random Forest\",\"                     Gradient Boosting\"],\"yaxis\":\"y\",\"type\":\"bar\"}],                        {\"template\":{\"data\":{\"bar\":[{\"error_x\":{\"color\":\"#2a3f5f\"},\"error_y\":{\"color\":\"#2a3f5f\"},\"marker\":{\"line\":{\"color\":\"#E5ECF6\",\"width\":0.5},\"pattern\":{\"fillmode\":\"overlay\",\"size\":10,\"solidity\":0.2}},\"type\":\"bar\"}],\"barpolar\":[{\"marker\":{\"line\":{\"color\":\"#E5ECF6\",\"width\":0.5},\"pattern\":{\"fillmode\":\"overlay\",\"size\":10,\"solidity\":0.2}},\"type\":\"barpolar\"}],\"carpet\":[{\"aaxis\":{\"endlinecolor\":\"#2a3f5f\",\"gridcolor\":\"white\",\"linecolor\":\"white\",\"minorgridcolor\":\"white\",\"startlinecolor\":\"#2a3f5f\"},\"baxis\":{\"endlinecolor\":\"#2a3f5f\",\"gridcolor\":\"white\",\"linecolor\":\"white\",\"minorgridcolor\":\"white\",\"startlinecolor\":\"#2a3f5f\"},\"type\":\"carpet\"}],\"choropleth\":[{\"colorbar\":{\"outlinewidth\":0,\"ticks\":\"\"},\"type\":\"choropleth\"}],\"contour\":[{\"colorbar\":{\"outlinewidth\":0,\"ticks\":\"\"},\"colorscale\":[[0.0,\"#0d0887\"],[0.1111111111111111,\"#46039f\"],[0.2222222222222222,\"#7201a8\"],[0.3333333333333333,\"#9c179e\"],[0.4444444444444444,\"#bd3786\"],[0.5555555555555556,\"#d8576b\"],[0.6666666666666666,\"#ed7953\"],[0.7777777777777778,\"#fb9f3a\"],[0.8888888888888888,\"#fdca26\"],[1.0,\"#f0f921\"]],\"type\":\"contour\"}],\"contourcarpet\":[{\"colorbar\":{\"outlinewidth\":0,\"ticks\":\"\"},\"type\":\"contourcarpet\"}],\"heatmap\":[{\"colorbar\":{\"outlinewidth\":0,\"ticks\":\"\"},\"colorscale\":[[0.0,\"#0d0887\"],[0.1111111111111111,\"#46039f\"],[0.2222222222222222,\"#7201a8\"],[0.3333333333333333,\"#9c179e\"],[0.4444444444444444,\"#bd3786\"],[0.5555555555555556,\"#d8576b\"],[0.6666666666666666,\"#ed7953\"],[0.7777777777777778,\"#fb9f3a\"],[0.8888888888888888,\"#fdca26\"],[1.0,\"#f0f921\"]],\"type\":\"heatmap\"}],\"heatmapgl\":[{\"colorbar\":{\"outlinewidth\":0,\"ticks\":\"\"},\"colorscale\":[[0.0,\"#0d0887\"],[0.1111111111111111,\"#46039f\"],[0.2222222222222222,\"#7201a8\"],[0.3333333333333333,\"#9c179e\"],[0.4444444444444444,\"#bd3786\"],[0.5555555555555556,\"#d8576b\"],[0.6666666666666666,\"#ed7953\"],[0.7777777777777778,\"#fb9f3a\"],[0.8888888888888888,\"#fdca26\"],[1.0,\"#f0f921\"]],\"type\":\"heatmapgl\"}],\"histogram\":[{\"marker\":{\"pattern\":{\"fillmode\":\"overlay\",\"size\":10,\"solidity\":0.2}},\"type\":\"histogram\"}],\"histogram2d\":[{\"colorbar\":{\"outlinewidth\":0,\"ticks\":\"\"},\"colorscale\":[[0.0,\"#0d0887\"],[0.1111111111111111,\"#46039f\"],[0.2222222222222222,\"#7201a8\"],[0.3333333333333333,\"#9c179e\"],[0.4444444444444444,\"#bd3786\"],[0.5555555555555556,\"#d8576b\"],[0.6666666666666666,\"#ed7953\"],[0.7777777777777778,\"#fb9f3a\"],[0.8888888888888888,\"#fdca26\"],[1.0,\"#f0f921\"]],\"type\":\"histogram2d\"}],\"histogram2dcontour\":[{\"colorbar\":{\"outlinewidth\":0,\"ticks\":\"\"},\"colorscale\":[[0.0,\"#0d0887\"],[0.1111111111111111,\"#46039f\"],[0.2222222222222222,\"#7201a8\"],[0.3333333333333333,\"#9c179e\"],[0.4444444444444444,\"#bd3786\"],[0.5555555555555556,\"#d8576b\"],[0.6666666666666666,\"#ed7953\"],[0.7777777777777778,\"#fb9f3a\"],[0.8888888888888888,\"#fdca26\"],[1.0,\"#f0f921\"]],\"type\":\"histogram2dcontour\"}],\"mesh3d\":[{\"colorbar\":{\"outlinewidth\":0,\"ticks\":\"\"},\"type\":\"mesh3d\"}],\"parcoords\":[{\"line\":{\"colorbar\":{\"outlinewidth\":0,\"ticks\":\"\"}},\"type\":\"parcoords\"}],\"pie\":[{\"automargin\":true,\"type\":\"pie\"}],\"scatter\":[{\"marker\":{\"colorbar\":{\"outlinewidth\":0,\"ticks\":\"\"}},\"type\":\"scatter\"}],\"scatter3d\":[{\"line\":{\"colorbar\":{\"outlinewidth\":0,\"ticks\":\"\"}},\"marker\":{\"colorbar\":{\"outlinewidth\":0,\"ticks\":\"\"}},\"type\":\"scatter3d\"}],\"scattercarpet\":[{\"marker\":{\"colorbar\":{\"outlinewidth\":0,\"ticks\":\"\"}},\"type\":\"scattercarpet\"}],\"scattergeo\":[{\"marker\":{\"colorbar\":{\"outlinewidth\":0,\"ticks\":\"\"}},\"type\":\"scattergeo\"}],\"scattergl\":[{\"marker\":{\"colorbar\":{\"outlinewidth\":0,\"ticks\":\"\"}},\"type\":\"scattergl\"}],\"scattermapbox\":[{\"marker\":{\"colorbar\":{\"outlinewidth\":0,\"ticks\":\"\"}},\"type\":\"scattermapbox\"}],\"scatterpolar\":[{\"marker\":{\"colorbar\":{\"outlinewidth\":0,\"ticks\":\"\"}},\"type\":\"scatterpolar\"}],\"scatterpolargl\":[{\"marker\":{\"colorbar\":{\"outlinewidth\":0,\"ticks\":\"\"}},\"type\":\"scatterpolargl\"}],\"scatterternary\":[{\"marker\":{\"colorbar\":{\"outlinewidth\":0,\"ticks\":\"\"}},\"type\":\"scatterternary\"}],\"surface\":[{\"colorbar\":{\"outlinewidth\":0,\"ticks\":\"\"},\"colorscale\":[[0.0,\"#0d0887\"],[0.1111111111111111,\"#46039f\"],[0.2222222222222222,\"#7201a8\"],[0.3333333333333333,\"#9c179e\"],[0.4444444444444444,\"#bd3786\"],[0.5555555555555556,\"#d8576b\"],[0.6666666666666666,\"#ed7953\"],[0.7777777777777778,\"#fb9f3a\"],[0.8888888888888888,\"#fdca26\"],[1.0,\"#f0f921\"]],\"type\":\"surface\"}],\"table\":[{\"cells\":{\"fill\":{\"color\":\"#EBF0F8\"},\"line\":{\"color\":\"white\"}},\"header\":{\"fill\":{\"color\":\"#C8D4E3\"},\"line\":{\"color\":\"white\"}},\"type\":\"table\"}]},\"layout\":{\"annotationdefaults\":{\"arrowcolor\":\"#2a3f5f\",\"arrowhead\":0,\"arrowwidth\":1},\"autotypenumbers\":\"strict\",\"coloraxis\":{\"colorbar\":{\"outlinewidth\":0,\"ticks\":\"\"}},\"colorscale\":{\"diverging\":[[0,\"#8e0152\"],[0.1,\"#c51b7d\"],[0.2,\"#de77ae\"],[0.3,\"#f1b6da\"],[0.4,\"#fde0ef\"],[0.5,\"#f7f7f7\"],[0.6,\"#e6f5d0\"],[0.7,\"#b8e186\"],[0.8,\"#7fbc41\"],[0.9,\"#4d9221\"],[1,\"#276419\"]],\"sequential\":[[0.0,\"#0d0887\"],[0.1111111111111111,\"#46039f\"],[0.2222222222222222,\"#7201a8\"],[0.3333333333333333,\"#9c179e\"],[0.4444444444444444,\"#bd3786\"],[0.5555555555555556,\"#d8576b\"],[0.6666666666666666,\"#ed7953\"],[0.7777777777777778,\"#fb9f3a\"],[0.8888888888888888,\"#fdca26\"],[1.0,\"#f0f921\"]],\"sequentialminus\":[[0.0,\"#0d0887\"],[0.1111111111111111,\"#46039f\"],[0.2222222222222222,\"#7201a8\"],[0.3333333333333333,\"#9c179e\"],[0.4444444444444444,\"#bd3786\"],[0.5555555555555556,\"#d8576b\"],[0.6666666666666666,\"#ed7953\"],[0.7777777777777778,\"#fb9f3a\"],[0.8888888888888888,\"#fdca26\"],[1.0,\"#f0f921\"]]},\"colorway\":[\"#636efa\",\"#EF553B\",\"#00cc96\",\"#ab63fa\",\"#FFA15A\",\"#19d3f3\",\"#FF6692\",\"#B6E880\",\"#FF97FF\",\"#FECB52\"],\"font\":{\"color\":\"#2a3f5f\"},\"geo\":{\"bgcolor\":\"white\",\"lakecolor\":\"white\",\"landcolor\":\"#E5ECF6\",\"showlakes\":true,\"showland\":true,\"subunitcolor\":\"white\"},\"hoverlabel\":{\"align\":\"left\"},\"hovermode\":\"closest\",\"mapbox\":{\"style\":\"light\"},\"paper_bgcolor\":\"white\",\"plot_bgcolor\":\"#E5ECF6\",\"polar\":{\"angularaxis\":{\"gridcolor\":\"white\",\"linecolor\":\"white\",\"ticks\":\"\"},\"bgcolor\":\"#E5ECF6\",\"radialaxis\":{\"gridcolor\":\"white\",\"linecolor\":\"white\",\"ticks\":\"\"}},\"scene\":{\"xaxis\":{\"backgroundcolor\":\"#E5ECF6\",\"gridcolor\":\"white\",\"gridwidth\":2,\"linecolor\":\"white\",\"showbackground\":true,\"ticks\":\"\",\"zerolinecolor\":\"white\"},\"yaxis\":{\"backgroundcolor\":\"#E5ECF6\",\"gridcolor\":\"white\",\"gridwidth\":2,\"linecolor\":\"white\",\"showbackground\":true,\"ticks\":\"\",\"zerolinecolor\":\"white\"},\"zaxis\":{\"backgroundcolor\":\"#E5ECF6\",\"gridcolor\":\"white\",\"gridwidth\":2,\"linecolor\":\"white\",\"showbackground\":true,\"ticks\":\"\",\"zerolinecolor\":\"white\"}},\"shapedefaults\":{\"line\":{\"color\":\"#2a3f5f\"}},\"ternary\":{\"aaxis\":{\"gridcolor\":\"white\",\"linecolor\":\"white\",\"ticks\":\"\"},\"baxis\":{\"gridcolor\":\"white\",\"linecolor\":\"white\",\"ticks\":\"\"},\"bgcolor\":\"#E5ECF6\",\"caxis\":{\"gridcolor\":\"white\",\"linecolor\":\"white\",\"ticks\":\"\"}},\"title\":{\"x\":0.05},\"xaxis\":{\"automargin\":true,\"gridcolor\":\"white\",\"linecolor\":\"white\",\"ticks\":\"\",\"title\":{\"standoff\":15},\"zerolinecolor\":\"white\",\"zerolinewidth\":2},\"yaxis\":{\"automargin\":true,\"gridcolor\":\"white\",\"linecolor\":\"white\",\"ticks\":\"\",\"title\":{\"standoff\":15},\"zerolinecolor\":\"white\",\"zerolinewidth\":2}}},\"xaxis\":{\"anchor\":\"y\",\"domain\":[0.0,1.0],\"title\":{\"text\":\"Change in Performance\"}},\"yaxis\":{\"anchor\":\"x\",\"domain\":[0.0,1.0],\"title\":{\"text\":\"Model\"}},\"coloraxis\":{\"colorbar\":{\"title\":{\"text\":\"color\"}},\"colorscale\":[[0,\"red\"],[1,\"blue\"]]},\"legend\":{\"tracegroupgap\":0},\"title\":{\"text\":\"Change in Model Performance After Dimensionality Reduction\"},\"barmode\":\"relative\"},                        {\"responsive\": true}                    ).then(function(){\n",
       "                            \n",
       "var gd = document.getElementById('73215ffd-d3aa-4f4d-81ed-0c6c55953da3');\n",
       "var x = new MutationObserver(function (mutations, observer) {{\n",
       "        var display = window.getComputedStyle(gd).display;\n",
       "        if (!display || display === 'none') {{\n",
       "            console.log([gd, 'removed!']);\n",
       "            Plotly.purge(gd);\n",
       "            observer.disconnect();\n",
       "        }}\n",
       "}});\n",
       "\n",
       "// Listen for the removal of the full notebook cells\n",
       "var notebookContainer = gd.closest('#notebook-container');\n",
       "if (notebookContainer) {{\n",
       "    x.observe(notebookContainer, {childList: true});\n",
       "}}\n",
       "\n",
       "// Listen for the clearing of the current output cell\n",
       "var outputEl = gd.closest('.output');\n",
       "if (outputEl) {{\n",
       "    x.observe(outputEl, {childList: true});\n",
       "}}\n",
       "\n",
       "                        })                };                });            </script>        </div>"
      ]
     },
     "metadata": {},
     "output_type": "display_data"
    }
   ],
   "source": [
    "fig = px.bar(\n",
    "    x=np.subtract(reduced_results, original_results),\n",
    "    y=original_models.keys(),\n",
    "    orientation='h',\n",
    "    labels={'x': \"Change in Performance\", 'y': \"Model\"},\n",
    "    color=np.subtract(reduced_results, original_results),\n",
    "    color_continuous_scale=[(0, 'red'), (1, 'blue')],\n",
    "    title=\"Change in Model Performance After Dimensionality Reduction\"\n",
    ")\n",
    "\n",
    "fig.show()"
   ]
  },
  {
   "cell_type": "code",
   "execution_count": 39,
   "id": "5972b2d9-9dce-42f3-ba2b-3fb2f369842d",
   "metadata": {},
   "outputs": [],
   "source": [
    "from sklearn.metrics import classification_report\n",
    "from sklearn.metrics import confusion_matrix, ConfusionMatrixDisplay\n",
    "import matplotlib.pyplot as plt"
   ]
  },
  {
   "cell_type": "code",
   "execution_count": null,
   "id": "1ce1bdcd-9303-47b0-a5b2-eb7c9d5b2240",
   "metadata": {},
   "outputs": [],
   "source": []
  },
  {
   "cell_type": "code",
   "execution_count": null,
   "id": "48d81ee2-1a03-4e72-923c-5a3e3ae857a6",
   "metadata": {},
   "outputs": [],
   "source": []
  }
 ],
 "metadata": {
  "kernelspec": {
   "display_name": "Python 3 (ipykernel)",
   "language": "python",
   "name": "python3"
  },
  "language_info": {
   "codemirror_mode": {
    "name": "ipython",
    "version": 3
   },
   "file_extension": ".py",
   "mimetype": "text/x-python",
   "name": "python",
   "nbconvert_exporter": "python",
   "pygments_lexer": "ipython3",
   "version": "3.9.12"
  }
 },
 "nbformat": 4,
 "nbformat_minor": 5
}
