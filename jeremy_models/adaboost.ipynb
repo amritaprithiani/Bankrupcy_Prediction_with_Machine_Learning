{
 "cells": [
  {
   "cell_type": "code",
   "execution_count": 1,
   "id": "355405a8-f994-4712-be2d-0109dd8aaec4",
   "metadata": {},
   "outputs": [],
   "source": [
    "import pandas as pd\n",
    "from pathlib import Path\n",
    "import numpy as np\n",
    "import matplotlib.pyplot as plt\n",
    "import plotly.express as px\n",
    "import warnings\n",
    "warnings.filterwarnings(action='ignore')"
   ]
  },
  {
   "cell_type": "code",
   "execution_count": 2,
   "id": "3b122ea9-b383-47bb-80be-92f7cf60ef78",
   "metadata": {},
   "outputs": [],
   "source": [
    "from sklearn.model_selection import train_test_split\n",
    "from sklearn.preprocessing import StandardScaler\n",
    "from sklearn import datasets\n",
    "from sklearn.linear_model import LogisticRegression\n",
    "from sklearn.neighbors import KNeighborsClassifier\n",
    "from sklearn.tree import DecisionTreeClassifier\n",
    "from sklearn.svm import LinearSVC, SVC\n",
    "from sklearn.neural_network import MLPClassifier\n",
    "from sklearn.ensemble import RandomForestClassifier, GradientBoostingClassifier\n",
    "from sklearn.decomposition import PCA"
   ]
  },
  {
   "cell_type": "markdown",
   "id": "8f3cd1c3-ff1e-4879-b9c0-8090a91176f9",
   "metadata": {},
   "source": [
    "## Obtain Data including financial ratios"
   ]
  },
  {
   "cell_type": "code",
   "execution_count": 3,
   "id": "4f1cc3f5-e0c1-454b-9646-e45665913625",
   "metadata": {},
   "outputs": [],
   "source": [
    "data = pd.read_csv(Path(\"data_ratios.csv\"))"
   ]
  },
  {
   "cell_type": "code",
   "execution_count": 4,
   "id": "f43790cd-e158-4ffa-b7fc-48cbcc866e6f",
   "metadata": {},
   "outputs": [],
   "source": [
    "data.rename(columns={'Unnamed: 0':'delete'}, inplace=True)\n",
    "data.drop(columns={\"delete\"},inplace=True)"
   ]
  },
  {
   "cell_type": "markdown",
   "id": "1018f9e6-71e1-4db5-99e0-01c186bcc8b0",
   "metadata": {},
   "source": [
    "## Understand and Analyze Data"
   ]
  },
  {
   "cell_type": "code",
   "execution_count": 5,
   "id": "c21c3a40-0e61-4581-b839-376a98fbd025",
   "metadata": {},
   "outputs": [
    {
     "data": {
      "text/html": [
       "<div>\n",
       "<style scoped>\n",
       "    .dataframe tbody tr th:only-of-type {\n",
       "        vertical-align: middle;\n",
       "    }\n",
       "\n",
       "    .dataframe tbody tr th {\n",
       "        vertical-align: top;\n",
       "    }\n",
       "\n",
       "    .dataframe thead th {\n",
       "        text-align: right;\n",
       "    }\n",
       "</style>\n",
       "<table border=\"1\" class=\"dataframe\">\n",
       "  <thead>\n",
       "    <tr style=\"text-align: right;\">\n",
       "      <th></th>\n",
       "      <th>current_assets</th>\n",
       "      <th>cost_of_goods_sold</th>\n",
       "      <th>depreciation_and_amortization</th>\n",
       "      <th>EBITDA</th>\n",
       "      <th>inventory</th>\n",
       "      <th>net_income</th>\n",
       "      <th>total_receivables</th>\n",
       "      <th>market_value</th>\n",
       "      <th>net_sales</th>\n",
       "      <th>total_assets</th>\n",
       "      <th>...</th>\n",
       "      <th>total_asset_turnover</th>\n",
       "      <th>total_debt</th>\n",
       "      <th>total_debt_to_asset</th>\n",
       "      <th>long_term_debt_to_assets</th>\n",
       "      <th>total_shareholders_equity</th>\n",
       "      <th>total_debt_to_equity_ratio</th>\n",
       "      <th>equity_multiplier</th>\n",
       "      <th>basic_earning_power</th>\n",
       "      <th>return_on_assets</th>\n",
       "      <th>return_on_equity</th>\n",
       "    </tr>\n",
       "  </thead>\n",
       "  <tbody>\n",
       "    <tr>\n",
       "      <th>0</th>\n",
       "      <td>511.267</td>\n",
       "      <td>833.107</td>\n",
       "      <td>18.373</td>\n",
       "      <td>89.031</td>\n",
       "      <td>336.018</td>\n",
       "      <td>35.163</td>\n",
       "      <td>128.348</td>\n",
       "      <td>372.7519</td>\n",
       "      <td>1024.333</td>\n",
       "      <td>740.998</td>\n",
       "      <td>...</td>\n",
       "      <td>1.382369</td>\n",
       "      <td>344.263</td>\n",
       "      <td>0.464594</td>\n",
       "      <td>0.243519</td>\n",
       "      <td>339.515</td>\n",
       "      <td>1.013985</td>\n",
       "      <td>2.182519</td>\n",
       "      <td>-1.004154</td>\n",
       "      <td>0.047454</td>\n",
       "      <td>0.103568</td>\n",
       "    </tr>\n",
       "    <tr>\n",
       "      <th>1</th>\n",
       "      <td>485.856</td>\n",
       "      <td>713.811</td>\n",
       "      <td>18.577</td>\n",
       "      <td>64.367</td>\n",
       "      <td>320.590</td>\n",
       "      <td>18.531</td>\n",
       "      <td>115.187</td>\n",
       "      <td>377.1180</td>\n",
       "      <td>874.255</td>\n",
       "      <td>701.854</td>\n",
       "      <td>...</td>\n",
       "      <td>1.245637</td>\n",
       "      <td>305.379</td>\n",
       "      <td>0.435103</td>\n",
       "      <td>0.256445</td>\n",
       "      <td>340.212</td>\n",
       "      <td>0.897614</td>\n",
       "      <td>2.062990</td>\n",
       "      <td>-0.925326</td>\n",
       "      <td>0.026403</td>\n",
       "      <td>0.054469</td>\n",
       "    </tr>\n",
       "    <tr>\n",
       "      <th>2</th>\n",
       "      <td>436.656</td>\n",
       "      <td>526.477</td>\n",
       "      <td>22.496</td>\n",
       "      <td>27.207</td>\n",
       "      <td>286.588</td>\n",
       "      <td>-58.939</td>\n",
       "      <td>77.528</td>\n",
       "      <td>364.5928</td>\n",
       "      <td>638.721</td>\n",
       "      <td>710.199</td>\n",
       "      <td>...</td>\n",
       "      <td>0.899355</td>\n",
       "      <td>368.163</td>\n",
       "      <td>0.518394</td>\n",
       "      <td>0.306532</td>\n",
       "      <td>310.235</td>\n",
       "      <td>1.186723</td>\n",
       "      <td>2.289229</td>\n",
       "      <td>-0.703000</td>\n",
       "      <td>-0.082989</td>\n",
       "      <td>-0.189982</td>\n",
       "    </tr>\n",
       "    <tr>\n",
       "      <th>3</th>\n",
       "      <td>396.412</td>\n",
       "      <td>496.747</td>\n",
       "      <td>27.172</td>\n",
       "      <td>30.745</td>\n",
       "      <td>259.954</td>\n",
       "      <td>-12.410</td>\n",
       "      <td>66.322</td>\n",
       "      <td>143.3295</td>\n",
       "      <td>606.337</td>\n",
       "      <td>686.621</td>\n",
       "      <td>...</td>\n",
       "      <td>0.883074</td>\n",
       "      <td>368.233</td>\n",
       "      <td>0.536297</td>\n",
       "      <td>0.239809</td>\n",
       "      <td>294.988</td>\n",
       "      <td>1.248298</td>\n",
       "      <td>2.327623</td>\n",
       "      <td>-0.678689</td>\n",
       "      <td>-0.018074</td>\n",
       "      <td>-0.042070</td>\n",
       "    </tr>\n",
       "    <tr>\n",
       "      <th>4</th>\n",
       "      <td>432.204</td>\n",
       "      <td>523.302</td>\n",
       "      <td>26.680</td>\n",
       "      <td>47.491</td>\n",
       "      <td>247.245</td>\n",
       "      <td>3.504</td>\n",
       "      <td>104.661</td>\n",
       "      <td>308.9071</td>\n",
       "      <td>651.958</td>\n",
       "      <td>709.292</td>\n",
       "      <td>...</td>\n",
       "      <td>0.919167</td>\n",
       "      <td>379.927</td>\n",
       "      <td>0.535643</td>\n",
       "      <td>0.350583</td>\n",
       "      <td>301.684</td>\n",
       "      <td>1.259354</td>\n",
       "      <td>2.351109</td>\n",
       "      <td>-0.670825</td>\n",
       "      <td>0.004940</td>\n",
       "      <td>0.011615</td>\n",
       "    </tr>\n",
       "    <tr>\n",
       "      <th>...</th>\n",
       "      <td>...</td>\n",
       "      <td>...</td>\n",
       "      <td>...</td>\n",
       "      <td>...</td>\n",
       "      <td>...</td>\n",
       "      <td>...</td>\n",
       "      <td>...</td>\n",
       "      <td>...</td>\n",
       "      <td>...</td>\n",
       "      <td>...</td>\n",
       "      <td>...</td>\n",
       "      <td>...</td>\n",
       "      <td>...</td>\n",
       "      <td>...</td>\n",
       "      <td>...</td>\n",
       "      <td>...</td>\n",
       "      <td>...</td>\n",
       "      <td>...</td>\n",
       "      <td>...</td>\n",
       "      <td>...</td>\n",
       "      <td>...</td>\n",
       "    </tr>\n",
       "    <tr>\n",
       "      <th>78396</th>\n",
       "      <td>233.211</td>\n",
       "      <td>43.338</td>\n",
       "      <td>14.094</td>\n",
       "      <td>45.615</td>\n",
       "      <td>3.376</td>\n",
       "      <td>25.261</td>\n",
       "      <td>22.846</td>\n",
       "      <td>756.4827</td>\n",
       "      <td>104.223</td>\n",
       "      <td>1099.101</td>\n",
       "      <td>...</td>\n",
       "      <td>0.094826</td>\n",
       "      <td>212.863</td>\n",
       "      <td>0.193670</td>\n",
       "      <td>0.168015</td>\n",
       "      <td>873.214</td>\n",
       "      <td>0.243770</td>\n",
       "      <td>1.258685</td>\n",
       "      <td>0.002072</td>\n",
       "      <td>0.022983</td>\n",
       "      <td>0.028929</td>\n",
       "    </tr>\n",
       "    <tr>\n",
       "      <th>78397</th>\n",
       "      <td>105.559</td>\n",
       "      <td>59.184</td>\n",
       "      <td>42.592</td>\n",
       "      <td>202.133</td>\n",
       "      <td>2.288</td>\n",
       "      <td>129.688</td>\n",
       "      <td>54.611</td>\n",
       "      <td>527.5750</td>\n",
       "      <td>291.153</td>\n",
       "      <td>1865.926</td>\n",
       "      <td>...</td>\n",
       "      <td>0.156037</td>\n",
       "      <td>858.231</td>\n",
       "      <td>0.459949</td>\n",
       "      <td>0.412719</td>\n",
       "      <td>985.599</td>\n",
       "      <td>0.870771</td>\n",
       "      <td>1.893190</td>\n",
       "      <td>0.076610</td>\n",
       "      <td>0.069503</td>\n",
       "      <td>0.131583</td>\n",
       "    </tr>\n",
       "    <tr>\n",
       "      <th>78398</th>\n",
       "      <td>63.971</td>\n",
       "      <td>69.074</td>\n",
       "      <td>65.057</td>\n",
       "      <td>79.051</td>\n",
       "      <td>2.581</td>\n",
       "      <td>-1.442</td>\n",
       "      <td>42.467</td>\n",
       "      <td>578.8868</td>\n",
       "      <td>169.858</td>\n",
       "      <td>1746.235</td>\n",
       "      <td>...</td>\n",
       "      <td>0.097271</td>\n",
       "      <td>769.750</td>\n",
       "      <td>0.440806</td>\n",
       "      <td>0.391691</td>\n",
       "      <td>976.002</td>\n",
       "      <td>0.788677</td>\n",
       "      <td>1.789172</td>\n",
       "      <td>0.005713</td>\n",
       "      <td>-0.000826</td>\n",
       "      <td>-0.001477</td>\n",
       "    </tr>\n",
       "    <tr>\n",
       "      <th>78399</th>\n",
       "      <td>135.207</td>\n",
       "      <td>66.527</td>\n",
       "      <td>65.330</td>\n",
       "      <td>69.171</td>\n",
       "      <td>2.013</td>\n",
       "      <td>-20.401</td>\n",
       "      <td>27.217</td>\n",
       "      <td>412.6241</td>\n",
       "      <td>161.884</td>\n",
       "      <td>1736.110</td>\n",
       "      <td>...</td>\n",
       "      <td>0.093245</td>\n",
       "      <td>776.045</td>\n",
       "      <td>0.447002</td>\n",
       "      <td>0.399764</td>\n",
       "      <td>959.413</td>\n",
       "      <td>0.808875</td>\n",
       "      <td>1.809554</td>\n",
       "      <td>0.001523</td>\n",
       "      <td>-0.011751</td>\n",
       "      <td>-0.021264</td>\n",
       "    </tr>\n",
       "    <tr>\n",
       "      <th>78400</th>\n",
       "      <td>82.589</td>\n",
       "      <td>68.817</td>\n",
       "      <td>65.201</td>\n",
       "      <td>67.262</td>\n",
       "      <td>2.112</td>\n",
       "      <td>-50.946</td>\n",
       "      <td>45.839</td>\n",
       "      <td>354.1786</td>\n",
       "      <td>160.513</td>\n",
       "      <td>1625.370</td>\n",
       "      <td>...</td>\n",
       "      <td>0.098755</td>\n",
       "      <td>711.487</td>\n",
       "      <td>0.437738</td>\n",
       "      <td>0.388910</td>\n",
       "      <td>912.683</td>\n",
       "      <td>0.779555</td>\n",
       "      <td>1.780870</td>\n",
       "      <td>-0.000957</td>\n",
       "      <td>-0.031344</td>\n",
       "      <td>-0.055820</td>\n",
       "    </tr>\n",
       "  </tbody>\n",
       "</table>\n",
       "<p>78401 rows × 37 columns</p>\n",
       "</div>"
      ],
      "text/plain": [
       "       current_assets  cost_of_goods_sold  depreciation_and_amortization  \\\n",
       "0             511.267             833.107                         18.373   \n",
       "1             485.856             713.811                         18.577   \n",
       "2             436.656             526.477                         22.496   \n",
       "3             396.412             496.747                         27.172   \n",
       "4             432.204             523.302                         26.680   \n",
       "...               ...                 ...                            ...   \n",
       "78396         233.211              43.338                         14.094   \n",
       "78397         105.559              59.184                         42.592   \n",
       "78398          63.971              69.074                         65.057   \n",
       "78399         135.207              66.527                         65.330   \n",
       "78400          82.589              68.817                         65.201   \n",
       "\n",
       "        EBITDA  inventory  net_income  total_receivables  market_value  \\\n",
       "0       89.031    336.018      35.163            128.348      372.7519   \n",
       "1       64.367    320.590      18.531            115.187      377.1180   \n",
       "2       27.207    286.588     -58.939             77.528      364.5928   \n",
       "3       30.745    259.954     -12.410             66.322      143.3295   \n",
       "4       47.491    247.245       3.504            104.661      308.9071   \n",
       "...        ...        ...         ...                ...           ...   \n",
       "78396   45.615      3.376      25.261             22.846      756.4827   \n",
       "78397  202.133      2.288     129.688             54.611      527.5750   \n",
       "78398   79.051      2.581      -1.442             42.467      578.8868   \n",
       "78399   69.171      2.013     -20.401             27.217      412.6241   \n",
       "78400   67.262      2.112     -50.946             45.839      354.1786   \n",
       "\n",
       "       net_sales  total_assets  ...  total_asset_turnover  total_debt  \\\n",
       "0       1024.333       740.998  ...              1.382369     344.263   \n",
       "1        874.255       701.854  ...              1.245637     305.379   \n",
       "2        638.721       710.199  ...              0.899355     368.163   \n",
       "3        606.337       686.621  ...              0.883074     368.233   \n",
       "4        651.958       709.292  ...              0.919167     379.927   \n",
       "...          ...           ...  ...                   ...         ...   \n",
       "78396    104.223      1099.101  ...              0.094826     212.863   \n",
       "78397    291.153      1865.926  ...              0.156037     858.231   \n",
       "78398    169.858      1746.235  ...              0.097271     769.750   \n",
       "78399    161.884      1736.110  ...              0.093245     776.045   \n",
       "78400    160.513      1625.370  ...              0.098755     711.487   \n",
       "\n",
       "       total_debt_to_asset  long_term_debt_to_assets  \\\n",
       "0                 0.464594                  0.243519   \n",
       "1                 0.435103                  0.256445   \n",
       "2                 0.518394                  0.306532   \n",
       "3                 0.536297                  0.239809   \n",
       "4                 0.535643                  0.350583   \n",
       "...                    ...                       ...   \n",
       "78396             0.193670                  0.168015   \n",
       "78397             0.459949                  0.412719   \n",
       "78398             0.440806                  0.391691   \n",
       "78399             0.447002                  0.399764   \n",
       "78400             0.437738                  0.388910   \n",
       "\n",
       "       total_shareholders_equity  total_debt_to_equity_ratio  \\\n",
       "0                        339.515                    1.013985   \n",
       "1                        340.212                    0.897614   \n",
       "2                        310.235                    1.186723   \n",
       "3                        294.988                    1.248298   \n",
       "4                        301.684                    1.259354   \n",
       "...                          ...                         ...   \n",
       "78396                    873.214                    0.243770   \n",
       "78397                    985.599                    0.870771   \n",
       "78398                    976.002                    0.788677   \n",
       "78399                    959.413                    0.808875   \n",
       "78400                    912.683                    0.779555   \n",
       "\n",
       "       equity_multiplier  basic_earning_power  return_on_assets  \\\n",
       "0               2.182519            -1.004154          0.047454   \n",
       "1               2.062990            -0.925326          0.026403   \n",
       "2               2.289229            -0.703000         -0.082989   \n",
       "3               2.327623            -0.678689         -0.018074   \n",
       "4               2.351109            -0.670825          0.004940   \n",
       "...                  ...                  ...               ...   \n",
       "78396           1.258685             0.002072          0.022983   \n",
       "78397           1.893190             0.076610          0.069503   \n",
       "78398           1.789172             0.005713         -0.000826   \n",
       "78399           1.809554             0.001523         -0.011751   \n",
       "78400           1.780870            -0.000957         -0.031344   \n",
       "\n",
       "       return_on_equity  \n",
       "0              0.103568  \n",
       "1              0.054469  \n",
       "2             -0.189982  \n",
       "3             -0.042070  \n",
       "4              0.011615  \n",
       "...                 ...  \n",
       "78396          0.028929  \n",
       "78397          0.131583  \n",
       "78398         -0.001477  \n",
       "78399         -0.021264  \n",
       "78400         -0.055820  \n",
       "\n",
       "[78401 rows x 37 columns]"
      ]
     },
     "execution_count": 5,
     "metadata": {},
     "output_type": "execute_result"
    }
   ],
   "source": [
    "data"
   ]
  },
  {
   "cell_type": "code",
   "execution_count": 6,
   "id": "5f9bf628-36e5-4dc7-a54d-0f149e46859a",
   "metadata": {},
   "outputs": [
    {
     "data": {
      "text/plain": [
       "(78401, 37)"
      ]
     },
     "execution_count": 6,
     "metadata": {},
     "output_type": "execute_result"
    }
   ],
   "source": [
    "data.shape"
   ]
  },
  {
   "cell_type": "code",
   "execution_count": 7,
   "id": "62821dcd-4a58-4905-bd7a-35475779c102",
   "metadata": {},
   "outputs": [],
   "source": [
    "data = pd.DataFrame(data)"
   ]
  },
  {
   "cell_type": "code",
   "execution_count": 8,
   "id": "5a763752-eec6-4360-81c6-e79018a625d7",
   "metadata": {},
   "outputs": [
    {
     "name": "stdout",
     "output_type": "stream",
     "text": [
      "<class 'pandas.core.frame.DataFrame'>\n",
      "RangeIndex: 78401 entries, 0 to 78400\n",
      "Data columns (total 37 columns):\n",
      " #   Column                              Non-Null Count  Dtype  \n",
      "---  ------                              --------------  -----  \n",
      " 0   current_assets                      78401 non-null  float64\n",
      " 1   cost_of_goods_sold                  78401 non-null  float64\n",
      " 2   depreciation_and_amortization       78401 non-null  float64\n",
      " 3   EBITDA                              78401 non-null  float64\n",
      " 4   inventory                           78401 non-null  float64\n",
      " 5   net_income                          78401 non-null  float64\n",
      " 6   total_receivables                   78401 non-null  float64\n",
      " 7   market_value                        78401 non-null  float64\n",
      " 8   net_sales                           78401 non-null  float64\n",
      " 9   total_assets                        78401 non-null  float64\n",
      " 10  total_long_term_debt                78401 non-null  float64\n",
      " 11  EBIT                                78401 non-null  float64\n",
      " 12  gross_profit                        78401 non-null  float64\n",
      " 13  total_current_liabilities           78401 non-null  float64\n",
      " 14  retained_earnings                   78401 non-null  float64\n",
      " 15  total_revenue                       78401 non-null  float64\n",
      " 16  total_liabilities                   78401 non-null  float64\n",
      " 17  total_operationg_expenses           78401 non-null  float64\n",
      " 18  status                              78401 non-null  int64  \n",
      " 19  current_ratio                       78401 non-null  float64\n",
      " 20  quick_ratio                         78401 non-null  float64\n",
      " 21  net_working_capital_to_sales_ratio  78401 non-null  float64\n",
      " 22  gross_profit_margin                 78401 non-null  float64\n",
      " 23  net_profit_margin                   78401 non-null  float64\n",
      " 24  operating_income                    78401 non-null  float64\n",
      " 25  operating_profit_maring             78401 non-null  float64\n",
      " 26  inventory_turnover                  78401 non-null  float64\n",
      " 27  total_asset_turnover                78401 non-null  float64\n",
      " 28  total_debt                          78401 non-null  float64\n",
      " 29  total_debt_to_asset                 78401 non-null  float64\n",
      " 30  long_term_debt_to_assets            78401 non-null  float64\n",
      " 31  total_shareholders_equity           78401 non-null  float64\n",
      " 32  total_debt_to_equity_ratio          78401 non-null  float64\n",
      " 33  equity_multiplier                   78401 non-null  float64\n",
      " 34  basic_earning_power                 78401 non-null  float64\n",
      " 35  return_on_assets                    78401 non-null  float64\n",
      " 36  return_on_equity                    78401 non-null  float64\n",
      "dtypes: float64(36), int64(1)\n",
      "memory usage: 22.1 MB\n"
     ]
    }
   ],
   "source": [
    "data.info()"
   ]
  },
  {
   "cell_type": "code",
   "execution_count": 9,
   "id": "2b384aaf-1ecd-42ee-b36e-b51f5d5fc337",
   "metadata": {},
   "outputs": [
    {
     "data": {
      "text/html": [
       "<div>\n",
       "<style scoped>\n",
       "    .dataframe tbody tr th:only-of-type {\n",
       "        vertical-align: middle;\n",
       "    }\n",
       "\n",
       "    .dataframe tbody tr th {\n",
       "        vertical-align: top;\n",
       "    }\n",
       "\n",
       "    .dataframe thead th {\n",
       "        text-align: right;\n",
       "    }\n",
       "</style>\n",
       "<table border=\"1\" class=\"dataframe\">\n",
       "  <thead>\n",
       "    <tr style=\"text-align: right;\">\n",
       "      <th></th>\n",
       "      <th>current_assets</th>\n",
       "      <th>cost_of_goods_sold</th>\n",
       "      <th>depreciation_and_amortization</th>\n",
       "      <th>EBITDA</th>\n",
       "      <th>inventory</th>\n",
       "      <th>net_income</th>\n",
       "      <th>total_receivables</th>\n",
       "      <th>market_value</th>\n",
       "      <th>net_sales</th>\n",
       "      <th>total_assets</th>\n",
       "      <th>...</th>\n",
       "      <th>total_asset_turnover</th>\n",
       "      <th>total_debt</th>\n",
       "      <th>total_debt_to_asset</th>\n",
       "      <th>long_term_debt_to_assets</th>\n",
       "      <th>total_shareholders_equity</th>\n",
       "      <th>total_debt_to_equity_ratio</th>\n",
       "      <th>equity_multiplier</th>\n",
       "      <th>basic_earning_power</th>\n",
       "      <th>return_on_assets</th>\n",
       "      <th>return_on_equity</th>\n",
       "    </tr>\n",
       "  </thead>\n",
       "  <tbody>\n",
       "    <tr>\n",
       "      <th>count</th>\n",
       "      <td>78401.000000</td>\n",
       "      <td>78401.000000</td>\n",
       "      <td>78401.000000</td>\n",
       "      <td>78401.000000</td>\n",
       "      <td>78401.000000</td>\n",
       "      <td>78401.000000</td>\n",
       "      <td>78401.000000</td>\n",
       "      <td>7.840100e+04</td>\n",
       "      <td>78401.000000</td>\n",
       "      <td>78401.000000</td>\n",
       "      <td>...</td>\n",
       "      <td>78401.000000</td>\n",
       "      <td>78401.000000</td>\n",
       "      <td>78401.000000</td>\n",
       "      <td>78401.000000</td>\n",
       "      <td>78401.000000</td>\n",
       "      <td>78401.000000</td>\n",
       "      <td>78401.000000</td>\n",
       "      <td>78401.000000</td>\n",
       "      <td>78401.000000</td>\n",
       "      <td>78401.000000</td>\n",
       "    </tr>\n",
       "    <tr>\n",
       "      <th>mean</th>\n",
       "      <td>883.282228</td>\n",
       "      <td>1600.208119</td>\n",
       "      <td>121.657898</td>\n",
       "      <td>378.056101</td>\n",
       "      <td>202.322341</td>\n",
       "      <td>129.856537</td>\n",
       "      <td>287.810806</td>\n",
       "      <td>3.424908e+03</td>\n",
       "      <td>2372.213643</td>\n",
       "      <td>2876.590984</td>\n",
       "      <td>...</td>\n",
       "      <td>1.178458</td>\n",
       "      <td>1336.955808</td>\n",
       "      <td>1.636917</td>\n",
       "      <td>0.220034</td>\n",
       "      <td>1097.136539</td>\n",
       "      <td>2.773174</td>\n",
       "      <td>4.154664</td>\n",
       "      <td>-1.339494</td>\n",
       "      <td>-0.661278</td>\n",
       "      <td>-0.600429</td>\n",
       "    </tr>\n",
       "    <tr>\n",
       "      <th>std</th>\n",
       "      <td>3935.171474</td>\n",
       "      <td>8945.964231</td>\n",
       "      <td>653.504153</td>\n",
       "      <td>2015.384712</td>\n",
       "      <td>1062.596420</td>\n",
       "      <td>1267.668833</td>\n",
       "      <td>1338.255511</td>\n",
       "      <td>1.844409e+04</td>\n",
       "      <td>11970.551868</td>\n",
       "      <td>12939.814178</td>\n",
       "      <td>...</td>\n",
       "      <td>3.235762</td>\n",
       "      <td>5743.246027</td>\n",
       "      <td>40.445309</td>\n",
       "      <td>1.187877</td>\n",
       "      <td>5526.266728</td>\n",
       "      <td>316.551325</td>\n",
       "      <td>338.581398</td>\n",
       "      <td>16.577751</td>\n",
       "      <td>13.434044</td>\n",
       "      <td>144.863812</td>\n",
       "    </tr>\n",
       "    <tr>\n",
       "      <th>min</th>\n",
       "      <td>-7.760000</td>\n",
       "      <td>-366.645000</td>\n",
       "      <td>0.000000</td>\n",
       "      <td>-21913.000000</td>\n",
       "      <td>0.000000</td>\n",
       "      <td>-98696.000000</td>\n",
       "      <td>-0.006000</td>\n",
       "      <td>1.000000e-04</td>\n",
       "      <td>-1.977000</td>\n",
       "      <td>0.001000</td>\n",
       "      <td>...</td>\n",
       "      <td>-11.538462</td>\n",
       "      <td>0.001000</td>\n",
       "      <td>0.000041</td>\n",
       "      <td>-0.034901</td>\n",
       "      <td>-25560.000000</td>\n",
       "      <td>-5137.000000</td>\n",
       "      <td>-5846.000000</td>\n",
       "      <td>-2456.000000</td>\n",
       "      <td>-1515.000000</td>\n",
       "      <td>-31837.000000</td>\n",
       "    </tr>\n",
       "    <tr>\n",
       "      <th>25%</th>\n",
       "      <td>19.223000</td>\n",
       "      <td>17.447000</td>\n",
       "      <td>1.215000</td>\n",
       "      <td>-0.799000</td>\n",
       "      <td>0.006000</td>\n",
       "      <td>-7.421000</td>\n",
       "      <td>3.352000</td>\n",
       "      <td>3.525100e+01</td>\n",
       "      <td>28.035000</td>\n",
       "      <td>37.936000</td>\n",
       "      <td>...</td>\n",
       "      <td>0.480391</td>\n",
       "      <td>11.885000</td>\n",
       "      <td>0.248268</td>\n",
       "      <td>0.000000</td>\n",
       "      <td>13.806000</td>\n",
       "      <td>0.225890</td>\n",
       "      <td>1.272529</td>\n",
       "      <td>-1.075497</td>\n",
       "      <td>-0.138748</td>\n",
       "      <td>-0.143961</td>\n",
       "    </tr>\n",
       "    <tr>\n",
       "      <th>50%</th>\n",
       "      <td>101.370000</td>\n",
       "      <td>105.233000</td>\n",
       "      <td>8.027000</td>\n",
       "      <td>15.252000</td>\n",
       "      <td>7.154000</td>\n",
       "      <td>1.649000</td>\n",
       "      <td>23.071000</td>\n",
       "      <td>2.288150e+02</td>\n",
       "      <td>188.769000</td>\n",
       "      <td>215.367000</td>\n",
       "      <td>...</td>\n",
       "      <td>0.891089</td>\n",
       "      <td>68.891000</td>\n",
       "      <td>0.418435</td>\n",
       "      <td>0.102584</td>\n",
       "      <td>97.440000</td>\n",
       "      <td>0.634080</td>\n",
       "      <td>1.753401</td>\n",
       "      <td>-0.548868</td>\n",
       "      <td>0.017560</td>\n",
       "      <td>0.065524</td>\n",
       "    </tr>\n",
       "    <tr>\n",
       "      <th>75%</th>\n",
       "      <td>433.554000</td>\n",
       "      <td>639.214000</td>\n",
       "      <td>48.352000</td>\n",
       "      <td>140.452000</td>\n",
       "      <td>75.327000</td>\n",
       "      <td>40.446000</td>\n",
       "      <td>132.544000</td>\n",
       "      <td>1.251819e+03</td>\n",
       "      <td>1052.867000</td>\n",
       "      <td>1177.514000</td>\n",
       "      <td>...</td>\n",
       "      <td>1.459676</td>\n",
       "      <td>520.613000</td>\n",
       "      <td>0.609379</td>\n",
       "      <td>0.290148</td>\n",
       "      <td>479.605000</td>\n",
       "      <td>1.382474</td>\n",
       "      <td>2.662858</td>\n",
       "      <td>-0.223265</td>\n",
       "      <td>0.066489</td>\n",
       "      <td>0.165743</td>\n",
       "    </tr>\n",
       "    <tr>\n",
       "      <th>max</th>\n",
       "      <td>169662.000000</td>\n",
       "      <td>374623.000000</td>\n",
       "      <td>28430.000000</td>\n",
       "      <td>81730.000000</td>\n",
       "      <td>62567.000000</td>\n",
       "      <td>104821.000000</td>\n",
       "      <td>65812.000000</td>\n",
       "      <td>1.073391e+06</td>\n",
       "      <td>511729.000000</td>\n",
       "      <td>531864.000000</td>\n",
       "      <td>...</td>\n",
       "      <td>420.000000</td>\n",
       "      <td>230670.000000</td>\n",
       "      <td>6324.000000</td>\n",
       "      <td>188.222222</td>\n",
       "      <td>198528.000000</td>\n",
       "      <td>83585.250000</td>\n",
       "      <td>87702.500000</td>\n",
       "      <td>7.704981</td>\n",
       "      <td>244.833333</td>\n",
       "      <td>7770.333333</td>\n",
       "    </tr>\n",
       "  </tbody>\n",
       "</table>\n",
       "<p>8 rows × 37 columns</p>\n",
       "</div>"
      ],
      "text/plain": [
       "       current_assets  cost_of_goods_sold  depreciation_and_amortization  \\\n",
       "count    78401.000000        78401.000000                   78401.000000   \n",
       "mean       883.282228         1600.208119                     121.657898   \n",
       "std       3935.171474         8945.964231                     653.504153   \n",
       "min         -7.760000         -366.645000                       0.000000   \n",
       "25%         19.223000           17.447000                       1.215000   \n",
       "50%        101.370000          105.233000                       8.027000   \n",
       "75%        433.554000          639.214000                      48.352000   \n",
       "max     169662.000000       374623.000000                   28430.000000   \n",
       "\n",
       "             EBITDA     inventory     net_income  total_receivables  \\\n",
       "count  78401.000000  78401.000000   78401.000000       78401.000000   \n",
       "mean     378.056101    202.322341     129.856537         287.810806   \n",
       "std     2015.384712   1062.596420    1267.668833        1338.255511   \n",
       "min   -21913.000000      0.000000  -98696.000000          -0.006000   \n",
       "25%       -0.799000      0.006000      -7.421000           3.352000   \n",
       "50%       15.252000      7.154000       1.649000          23.071000   \n",
       "75%      140.452000     75.327000      40.446000         132.544000   \n",
       "max    81730.000000  62567.000000  104821.000000       65812.000000   \n",
       "\n",
       "       market_value      net_sales   total_assets  ...  total_asset_turnover  \\\n",
       "count  7.840100e+04   78401.000000   78401.000000  ...          78401.000000   \n",
       "mean   3.424908e+03    2372.213643    2876.590984  ...              1.178458   \n",
       "std    1.844409e+04   11970.551868   12939.814178  ...              3.235762   \n",
       "min    1.000000e-04      -1.977000       0.001000  ...            -11.538462   \n",
       "25%    3.525100e+01      28.035000      37.936000  ...              0.480391   \n",
       "50%    2.288150e+02     188.769000     215.367000  ...              0.891089   \n",
       "75%    1.251819e+03    1052.867000    1177.514000  ...              1.459676   \n",
       "max    1.073391e+06  511729.000000  531864.000000  ...            420.000000   \n",
       "\n",
       "          total_debt  total_debt_to_asset  long_term_debt_to_assets  \\\n",
       "count   78401.000000         78401.000000              78401.000000   \n",
       "mean     1336.955808             1.636917                  0.220034   \n",
       "std      5743.246027            40.445309                  1.187877   \n",
       "min         0.001000             0.000041                 -0.034901   \n",
       "25%        11.885000             0.248268                  0.000000   \n",
       "50%        68.891000             0.418435                  0.102584   \n",
       "75%       520.613000             0.609379                  0.290148   \n",
       "max    230670.000000          6324.000000                188.222222   \n",
       "\n",
       "       total_shareholders_equity  total_debt_to_equity_ratio  \\\n",
       "count               78401.000000                78401.000000   \n",
       "mean                 1097.136539                    2.773174   \n",
       "std                  5526.266728                  316.551325   \n",
       "min                -25560.000000                -5137.000000   \n",
       "25%                    13.806000                    0.225890   \n",
       "50%                    97.440000                    0.634080   \n",
       "75%                   479.605000                    1.382474   \n",
       "max                198528.000000                83585.250000   \n",
       "\n",
       "       equity_multiplier  basic_earning_power  return_on_assets  \\\n",
       "count       78401.000000         78401.000000      78401.000000   \n",
       "mean            4.154664            -1.339494         -0.661278   \n",
       "std           338.581398            16.577751         13.434044   \n",
       "min         -5846.000000         -2456.000000      -1515.000000   \n",
       "25%             1.272529            -1.075497         -0.138748   \n",
       "50%             1.753401            -0.548868          0.017560   \n",
       "75%             2.662858            -0.223265          0.066489   \n",
       "max         87702.500000             7.704981        244.833333   \n",
       "\n",
       "       return_on_equity  \n",
       "count      78401.000000  \n",
       "mean          -0.600429  \n",
       "std          144.863812  \n",
       "min       -31837.000000  \n",
       "25%           -0.143961  \n",
       "50%            0.065524  \n",
       "75%            0.165743  \n",
       "max         7770.333333  \n",
       "\n",
       "[8 rows x 37 columns]"
      ]
     },
     "execution_count": 9,
     "metadata": {},
     "output_type": "execute_result"
    }
   ],
   "source": [
    "data.describe()"
   ]
  },
  {
   "cell_type": "markdown",
   "id": "cdd58965-b657-47c7-8683-de3d6f279314",
   "metadata": {},
   "source": [
    "## Split data and prepare for training"
   ]
  },
  {
   "cell_type": "code",
   "execution_count": 10,
   "id": "b463d34c-c0e5-452b-971f-5aa7638412b1",
   "metadata": {},
   "outputs": [],
   "source": [
    "# Import module\n",
    "from sklearn.model_selection import train_test_split\n",
    "\n",
    "# Split training and testing sets\n",
    "# Create X, or features DataFrame\n",
    "X = data[['current_ratio', 'total_debt_to_equity_ratio']]\n",
    "\n",
    "# Create y, or target DataFrame\n",
    "y = data['status']\n",
    "\n",
    "# Use train_test_split to separate the data\n",
    "X_train, X_test, y_train, y_test = train_test_split(X, y, test_size = 0.25, random_state = 0)\n"
   ]
  },
  {
   "cell_type": "markdown",
   "id": "b390fc77-6b3a-4bba-9a07-49d1d9ed2b49",
   "metadata": {},
   "source": [
    "### Train the model on 1 stump tree"
   ]
  },
  {
   "cell_type": "code",
   "execution_count": 11,
   "id": "2702cd2e-cc89-4b01-8c1f-bcedfcd7fb23",
   "metadata": {},
   "outputs": [],
   "source": [
    "# Import the AdaBoost classifier\n",
    "from sklearn.ensemble import AdaBoostClassifier\n",
    "\n",
    "# Create adaboost classifer with 1 stump trees\n",
    "Ada_classifier = AdaBoostClassifier(n_estimators=1)"
   ]
  },
  {
   "cell_type": "code",
   "execution_count": 12,
   "id": "e45467ae-bae0-411b-acc3-0643fcf4bebd",
   "metadata": {},
   "outputs": [],
   "source": [
    "# Train Adaboost Classifer\n",
    "AdaBoost = Ada_classifier.fit(X_train, y_train)"
   ]
  },
  {
   "cell_type": "code",
   "execution_count": 13,
   "id": "56ed4676-df41-4cb9-a0e5-78ca8427f58e",
   "metadata": {},
   "outputs": [],
   "source": [
    "#Predict the response for test dataset\n",
    "AdaBoost_pred = AdaBoost.predict(X_test)"
   ]
  },
  {
   "cell_type": "code",
   "execution_count": 14,
   "id": "703b5dee-3313-4167-8076-5bdafb0e7ebb",
   "metadata": {},
   "outputs": [
    {
     "name": "stdout",
     "output_type": "stream",
     "text": [
      "The accuracy of the model is:   0.9319422478444978\n"
     ]
    }
   ],
   "source": [
    "# importing the module\n",
    "from sklearn.metrics import accuracy_score\n",
    "\n",
    "# printing\n",
    "print(\"The accuracy of the model is:  \", accuracy_score(y_test, AdaBoost_pred))"
   ]
  },
  {
   "cell_type": "markdown",
   "id": "dbe159a2-0eec-4b98-8bf1-6e02f13437f2",
   "metadata": {},
   "source": [
    "### Train the model on 20 stump trees"
   ]
  },
  {
   "cell_type": "code",
   "execution_count": 15,
   "id": "ba318575-9101-4e02-aa74-afa74a0446f6",
   "metadata": {},
   "outputs": [],
   "source": [
    "# Create adaboost classifer with 20 stump trees\n",
    "Ada_classifier20 = AdaBoostClassifier(n_estimators=20)\n",
    "\n",
    "# Train Adaboost Classifer\n",
    "AdaBoost20 = Ada_classifier.fit(X_train, y_train)\n",
    "\n",
    "#Predict the response for test dataset\n",
    "AdaBoost_pred20 = AdaBoost.predict(X_test)"
   ]
  },
  {
   "cell_type": "code",
   "execution_count": 16,
   "id": "9e745aa7-d4f2-48cc-b93c-4afe7d3511cd",
   "metadata": {},
   "outputs": [
    {
     "name": "stdout",
     "output_type": "stream",
     "text": [
      "The accuracy of the model with 20 Stump Trees is:   0.9319422478444978\n"
     ]
    }
   ],
   "source": [
    "# Model accuracy 20 trees\n",
    "# printing\n",
    "print(\"The accuracy of the model with 20 Stump Trees is:  \", accuracy_score(y_test, AdaBoost_pred20))"
   ]
  },
  {
   "cell_type": "code",
   "execution_count": 17,
   "id": "4224b490-c153-4bf3-ab8c-27f1ab36ceaa",
   "metadata": {},
   "outputs": [
    {
     "name": "stdout",
     "output_type": "stream",
     "text": [
      "The best estimator returned by GridSearch CV is: AdaBoostClassifier(n_estimators=1)\n"
     ]
    }
   ],
   "source": [
    "# importing required module\n",
    "from sklearn.model_selection import GridSearchCV\n",
    "\n",
    "# initializing the model\n",
    "model=AdaBoostClassifier()\n",
    "\n",
    "# applying GridSearchCV\n",
    "grid=GridSearchCV(estimator=model,param_grid={'n_estimators':range(1,50)})\n",
    "\n",
    "# training the model\n",
    "grid.fit(X_train,y_train)\n",
    "\n",
    "best_estimator = grid.best_estimator_\n",
    "\n",
    "# printing the best estimator\n",
    "print(\"The best estimator returned by GridSearch CV is:\", grid.best_estimator_)"
   ]
  },
  {
   "cell_type": "markdown",
   "id": "d5a9bc61-f98a-4971-93ba-3f4a5bfb558c",
   "metadata": {},
   "source": [
    "### Train Model on X number of stump trees"
   ]
  },
  {
   "cell_type": "code",
   "execution_count": 18,
   "id": "2a303b95-d59a-43eb-9462-d0f11687dba6",
   "metadata": {},
   "outputs": [
    {
     "name": "stdout",
     "output_type": "stream",
     "text": [
      "The accuracy of the model is:   0.9319422478444978\n"
     ]
    }
   ],
   "source": [
    "# Create adaboost classifer with 5 stump trees\n",
    "Ada_classifier_best = AdaBoostClassifier(n_estimators = best_estimator)\n",
    "\n",
    "# Train Adaboost Classifer\n",
    "AdaBoost_best = Ada_classifier.fit(X_train, y_train)\n",
    "\n",
    "#Predict the response for test dataset\n",
    "AdaBoost_pred_best = AdaBoost_best.predict(X_test)\n",
    "\n",
    "# printing\n",
    "print(\"The accuracy of the model is:  \", accuracy_score(y_test, AdaBoost_pred_best))"
   ]
  },
  {
   "cell_type": "markdown",
   "id": "70ab87fd-9376-4e0c-8c74-441c958932c8",
   "metadata": {},
   "source": [
    "## ADABOOST Regression"
   ]
  },
  {
   "cell_type": "code",
   "execution_count": 19,
   "id": "9983f6e6-141e-4931-86c2-417ad4e5ab41",
   "metadata": {},
   "outputs": [],
   "source": [
    "# importing module\n",
    "from sklearn.ensemble import AdaBoostRegressor\n",
    "\n",
    "# Create adaboost regressor with default parameters\n",
    "Ada_regressor = AdaBoostRegressor()\n",
    "\n",
    "# Train Adaboost Classifer\n",
    "AdaBoost_R = Ada_regressor.fit(X_train, y_train)"
   ]
  },
  {
   "cell_type": "code",
   "execution_count": 20,
   "id": "9d0b20c5-7667-448d-b33c-75a7f428546b",
   "metadata": {},
   "outputs": [
    {
     "data": {
      "text/plain": [
       "array([0.09630497, 0.04790231, 0.04790231, ..., 0.04790231, 0.04790231,\n",
       "       0.04790231])"
      ]
     },
     "execution_count": 20,
     "metadata": {},
     "output_type": "execute_result"
    }
   ],
   "source": [
    "# Grade the prediction\n",
    "AdaBoostR_pred = AdaBoost_R.predict(X_test)\n",
    "AdaBoostR_pred "
   ]
  },
  {
   "cell_type": "code",
   "execution_count": 21,
   "id": "04b15725-d78b-4129-a3a6-a272f4419572",
   "metadata": {},
   "outputs": [
    {
     "data": {
      "image/png": "[encoded data removed]",
      "text/plain": [
       "<Figure size 1440x576 with 1 Axes>"
      ]
     },
     "metadata": {
      "needs_background": "light"
     },
     "output_type": "display_data"
    }
   ],
   "source": [
    "# fitting the size of the plot\n",
    "plt.figure(figsize=(20, 8))\n",
    "\n",
    "# plotting the graphs\n",
    "plt.plot([i for i in range(len(y_test))],AdaBoostR_pred, label=\"Predicted values\")\n",
    "plt.plot([i for i in range(len(y_test))],y_test, label=\"Actual values\")\n",
    "plt.legend()\n",
    "plt.show()"
   ]
  },
  {
   "cell_type": "code",
   "execution_count": 22,
   "id": "dd89a561-caca-4063-b42f-6763d2a92005",
   "metadata": {},
   "outputs": [
    {
     "name": "stdout",
     "output_type": "stream",
     "text": [
      "R-square score is : 0.00608085532254643\n"
     ]
    }
   ],
   "source": [
    "# Importing r2 \n",
    "from sklearn.metrics import r2_score\n",
    "r_square_1 = r2_score(y_test, AdaBoostR_pred)\n",
    "# Evaluating the model\n",
    "print('R-square score is :', r_square_1)"
   ]
  },
  {
   "cell_type": "markdown",
   "id": "7b0eb4ae-4535-470a-ab8e-640e30bd5e55",
   "metadata": {},
   "source": [
    "### Find the optimum mumber of stump trees"
   ]
  },
  {
   "cell_type": "code",
   "execution_count": 23,
   "id": "081b0537-fc25-4a4b-93de-155c72064e47",
   "metadata": {},
   "outputs": [
    {
     "name": "stdout",
     "output_type": "stream",
     "text": [
      "The best estimator returned by GridSearch CV is: AdaBoostRegressor(n_estimators=25)\n"
     ]
    }
   ],
   "source": [
    "# importing required module\n",
    "from sklearn.model_selection import GridSearchCV\n",
    "\n",
    "# initializing the model\n",
    "model=AdaBoostRegressor()\n",
    "\n",
    "# applying GridSearchCV\n",
    "grid=GridSearchCV(estimator=model,param_grid={'n_estimators':range(1,50)})\n",
    "\n",
    "# training the model\n",
    "grid.fit(X_train,y_train)\n",
    "\n",
    "best_estimator_reg = grid.best_estimator_\n",
    "# printing the best estimator\n",
    "print(\"The best estimator returned by GridSearch CV is:\", grid.best_estimator_)"
   ]
  },
  {
   "cell_type": "markdown",
   "id": "fb359953-8dfd-4b6f-b0b3-58ff5bdfb4d1",
   "metadata": {},
   "source": [
    "## Train model with optimum number of stump trees"
   ]
  },
  {
   "cell_type": "code",
   "execution_count": 24,
   "id": "a1a0243f-8829-4066-b1d7-ffe43d5f5953",
   "metadata": {},
   "outputs": [],
   "source": [
    "# Create adaboost regressor with default parameters\n",
    "Ada_regressor_reg = AdaBoostRegressor(n_estimators=best_estimator_reg)\n",
    "\n",
    "# Train Adaboost Classifer\n",
    "AdaBoost_reg = Ada_regressor.fit(X_train, y_train)\n",
    "\n",
    "#Predict \n",
    "AdaBoost_reg_pred = AdaBoost_reg.predict(X_test)"
   ]
  },
  {
   "cell_type": "code",
   "execution_count": 25,
   "id": "82c912d2-c7de-42eb-a95f-acb1d4b07c4c",
   "metadata": {},
   "outputs": [
    {
     "data": {
      "image/png": "[encoded data removed]",
      "text/plain": [
       "<Figure size 1440x576 with 1 Axes>"
      ]
     },
     "metadata": {
      "needs_background": "light"
     },
     "output_type": "display_data"
    }
   ],
   "source": [
    "# Visualize the tested model\n",
    "# fitting the size of the plot\n",
    "plt.figure(figsize=(20, 8))\n",
    "\n",
    "# plotting the graphs\n",
    "plt.plot([i for i in range(len(y_test))],AdaBoost_reg_pred, label=\"Predicted values\")\n",
    "plt.plot([i for i in range(len(y_test))],y_test, label=\"Actual values\")\n",
    "plt.legend()\n",
    "plt.show()"
   ]
  },
  {
   "cell_type": "markdown",
   "id": "2f36053a-225e-4ada-b34d-34b014139914",
   "metadata": {},
   "source": [
    "## R-Square - ADA Boost Predicted - after optimized n stumps)"
   ]
  },
  {
   "cell_type": "code",
   "execution_count": 27,
   "id": "8ca93151-4ee5-4b4d-80b5-8e5caf8717b7",
   "metadata": {},
   "outputs": [
    {
     "name": "stdout",
     "output_type": "stream",
     "text": [
      "R-square score is : 0.010345923567880222\n"
     ]
    }
   ],
   "source": [
    "# Importing r2 \n",
    "from sklearn.metrics import r2_score\n",
    "\n",
    "r_square_2 = r2_score(y_test, AdaBoost_reg_pred)\n",
    "# Evaluating the model\n",
    "print('R-square score is :', r2_score(y_test, AdaBoost_reg_pred))"
   ]
  },
  {
   "cell_type": "code",
   "execution_count": 29,
   "id": "f81c9043-4134-492c-bcc0-c37c638ac4ed",
   "metadata": {},
   "outputs": [
    {
     "name": "stdout",
     "output_type": "stream",
     "text": [
      "                   pre       rec       spe        f1       geo       iba       sup\n",
      "\n",
      "          0       0.93      1.00      0.00      0.96      0.00      0.00     18267\n",
      "          1       0.00      0.00      1.00      0.00      0.00      0.00      1334\n",
      "\n",
      "avg / total       0.87      0.93      0.07      0.90      0.00      0.00     19601\n",
      "\n"
     ]
    }
   ],
   "source": [
    "# Import the module\n",
    "from imblearn.metrics import classification_report_imbalanced\n",
    "\n",
    "AdaBoost_reg_pred = np.where(AdaBoost_reg_pred < 0.5, 0, 1)\n",
    "#print  the classification report\n",
    "classification_report_reg_opt = classification_report_imbalanced(y_test,AdaBoost_reg_pred)\n",
    "print(classification_report_reg_opt)"
   ]
  },
  {
   "cell_type": "markdown",
   "id": "e4a99e35-4da4-4f00-841c-1f1c14876671",
   "metadata": {},
   "source": [
    "### R-square - ADA Boost Regression predicted - not optimized"
   ]
  },
  {
   "cell_type": "code",
   "execution_count": 30,
   "id": "23913977-6e11-4cd3-812c-2c2d46edceae",
   "metadata": {},
   "outputs": [
    {
     "name": "stdout",
     "output_type": "stream",
     "text": [
      "R-square score is : 0.00608085532254643\n"
     ]
    }
   ],
   "source": [
    "print('R-square score is :', r_square_1)"
   ]
  },
  {
   "cell_type": "code",
   "execution_count": 32,
   "id": "cdad78e5-9ee5-48f8-90c6-d63e2d516629",
   "metadata": {},
   "outputs": [
    {
     "name": "stdout",
     "output_type": "stream",
     "text": [
      "                   pre       rec       spe        f1       geo       iba       sup\n",
      "\n",
      "          0       0.93      1.00      0.00      0.96      0.00      0.00     18267\n",
      "          1       0.00      0.00      1.00      0.00      0.00      0.00      1334\n",
      "\n",
      "avg / total       0.87      0.93      0.07      0.90      0.00      0.00     19601\n",
      "\n"
     ]
    }
   ],
   "source": [
    "# Import the module\n",
    "from imblearn.metrics import classification_report_imbalanced\n",
    "AdaBoostR_pred = np.where(AdaBoostR_pred  < 0.5, 0, 1)\n",
    "# Print the classification report\n",
    "classification_report_reg = classification_report_imbalanced(y_test,AdaBoostR_pred)\n",
    "print(classification_report_reg)"
   ]
  },
  {
   "cell_type": "markdown",
   "id": "277068d6-24bb-43ee-9eb9-6f54e29dc503",
   "metadata": {},
   "source": [
    "# Interpretation\n",
    "If the squared error is very small then we can say that the line is a good fit. \n",
    "\n",
    "# Mathematical explanation\n",
    "So if SEline is a small number then the whole fraction will be a very small value. And this will result in a larger number when subtracted from one. Thus if the squared error is small then R squared or the coefficient of determination will get larger, nearly equal to one. This shows that the line is a good fit.\n",
    "Similarly in the opposite case if the squared error of line is huge that means a lot of error between data points and the line, then SEline this number will get large and hence resulting in a larger value of the fraction. So the R squared or the coefficient of determination will be a smaller value, showing a poorly fit regression line."
   ]
  },
  {
   "cell_type": "code",
   "execution_count": null,
   "id": "083465f6-a2de-4c1c-92cc-118d061ab539",
   "metadata": {},
   "outputs": [],
   "source": []
  }
 ],
 "metadata": {
  "kernelspec": {
   "display_name": "Python 3 (ipykernel)",
   "language": "python",
   "name": "python3"
  },
  "language_info": {
   "codemirror_mode": {
    "name": "ipython",
    "version": 3
   },
   "file_extension": ".py",
   "mimetype": "text/x-python",
   "name": "python",
   "nbconvert_exporter": "python",
   "pygments_lexer": "ipython3",
   "version": "3.9.12"
  }
 },
 "nbformat": 4,
 "nbformat_minor": 5
}
