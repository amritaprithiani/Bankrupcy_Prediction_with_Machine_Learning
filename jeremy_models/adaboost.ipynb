{
 "cells": [
  {
   "cell_type": "code",
   "execution_count": 1,
   "id": "355405a8-f994-4712-be2d-0109dd8aaec4",
   "metadata": {},
   "outputs": [],
   "source": [
    "import pandas as pd\n",
    "from pathlib import Path\n",
    "import numpy as np\n",
    "import matplotlib.pyplot as plt\n",
    "import plotly.express as px\n",
    "import warnings\n",
    "warnings.filterwarnings(action='ignore')"
   ]
  },
  {
   "cell_type": "code",
   "execution_count": 2,
   "id": "3b122ea9-b383-47bb-80be-92f7cf60ef78",
   "metadata": {},
   "outputs": [],
   "source": [
    "from sklearn.model_selection import train_test_split\n",
    "from sklearn.preprocessing import StandardScaler\n",
    "\n",
    "from sklearn.linear_model import LogisticRegression\n",
    "from sklearn.neighbors import KNeighborsClassifier\n",
    "from sklearn.tree import DecisionTreeClassifier\n",
    "from sklearn.svm import LinearSVC, SVC\n",
    "from sklearn.neural_network import MLPClassifier\n",
    "from sklearn.ensemble import RandomForestClassifier, GradientBoostingClassifier\n",
    "from sklearn.decomposition import PCA"
   ]
  },
  {
   "cell_type": "code",
   "execution_count": 3,
   "id": "2a63cfa8-1aa5-4938-a576-b188883e92ad",
   "metadata": {},
   "outputs": [],
   "source": [
    "data = pd.read_csv(Path(\"data_ratios.csv\"))"
   ]
  },
  {
   "cell_type": "code",
   "execution_count": 4,
   "id": "f43790cd-e158-4ffa-b7fc-48cbcc866e6f",
   "metadata": {},
   "outputs": [],
   "source": [
    "data.rename(columns={'Unnamed: 0':'delete'}, inplace=True)\n",
    "data.drop(columns={\"delete\"},inplace=True)"
   ]
  },
  {
   "cell_type": "code",
   "execution_count": 5,
   "id": "5f9bf628-36e5-4dc7-a54d-0f149e46859a",
   "metadata": {},
   "outputs": [
    {
     "data": {
      "text/plain": [
       "(78401, 37)"
      ]
     },
     "execution_count": 5,
     "metadata": {},
     "output_type": "execute_result"
    }
   ],
   "source": [
    "data.shape"
   ]
  },
  {
   "cell_type": "code",
   "execution_count": 6,
   "id": "5a763752-eec6-4360-81c6-e79018a625d7",
   "metadata": {},
   "outputs": [
    {
     "name": "stdout",
     "output_type": "stream",
     "text": [
      "<class 'pandas.core.frame.DataFrame'>\n",
      "RangeIndex: 78401 entries, 0 to 78400\n",
      "Data columns (total 37 columns):\n",
      " #   Column                              Non-Null Count  Dtype  \n",
      "---  ------                              --------------  -----  \n",
      " 0   current_assets                      78401 non-null  float64\n",
      " 1   cost_of_goods_sold                  78401 non-null  float64\n",
      " 2   depreciation_and_amortization       78401 non-null  float64\n",
      " 3   EBITDA                              78401 non-null  float64\n",
      " 4   inventory                           78401 non-null  float64\n",
      " 5   net_income                          78401 non-null  float64\n",
      " 6   total_receivables                   78401 non-null  float64\n",
      " 7   market_value                        78401 non-null  float64\n",
      " 8   net_sales                           78401 non-null  float64\n",
      " 9   total_assets                        78401 non-null  float64\n",
      " 10  total_long_term_debt                78401 non-null  float64\n",
      " 11  EBIT                                78401 non-null  float64\n",
      " 12  gross_profit                        78401 non-null  float64\n",
      " 13  total_current_liabilities           78401 non-null  float64\n",
      " 14  retained_earnings                   78401 non-null  float64\n",
      " 15  total_revenue                       78401 non-null  float64\n",
      " 16  total_liabilities                   78401 non-null  float64\n",
      " 17  total_operationg_expenses           78401 non-null  float64\n",
      " 18  status                              78401 non-null  int64  \n",
      " 19  current_ratio                       78401 non-null  float64\n",
      " 20  quick_ratio                         78401 non-null  float64\n",
      " 21  net_working_capital_to_sales_ratio  78401 non-null  float64\n",
      " 22  gross_profit_margin                 78401 non-null  float64\n",
      " 23  net_profit_margin                   78401 non-null  float64\n",
      " 24  operating_income                    78401 non-null  float64\n",
      " 25  operating_profit_maring             78401 non-null  float64\n",
      " 26  inventory_turnover                  78401 non-null  float64\n",
      " 27  total_asset_turnover                78401 non-null  float64\n",
      " 28  total_debt                          78401 non-null  float64\n",
      " 29  total_debt_to_asset                 78401 non-null  float64\n",
      " 30  long_term_debt_to_assets            78401 non-null  float64\n",
      " 31  total_shareholders_equity           78401 non-null  float64\n",
      " 32  total_debt_to_equity_ratio          78401 non-null  float64\n",
      " 33  equity_multiplier                   78401 non-null  float64\n",
      " 34  basic_earning_power                 78401 non-null  float64\n",
      " 35  return_on_assets                    78401 non-null  float64\n",
      " 36  return_on_equity                    78401 non-null  float64\n",
      "dtypes: float64(36), int64(1)\n",
      "memory usage: 22.1 MB\n"
     ]
    }
   ],
   "source": [
    "data.info()"
   ]
  },
  {
   "cell_type": "code",
   "execution_count": 7,
   "id": "2b384aaf-1ecd-42ee-b36e-b51f5d5fc337",
   "metadata": {},
   "outputs": [
    {
     "data": {
      "text/html": [
       "<div>\n",
       "<style scoped>\n",
       "    .dataframe tbody tr th:only-of-type {\n",
       "        vertical-align: middle;\n",
       "    }\n",
       "\n",
       "    .dataframe tbody tr th {\n",
       "        vertical-align: top;\n",
       "    }\n",
       "\n",
       "    .dataframe thead th {\n",
       "        text-align: right;\n",
       "    }\n",
       "</style>\n",
       "<table border=\"1\" class=\"dataframe\">\n",
       "  <thead>\n",
       "    <tr style=\"text-align: right;\">\n",
       "      <th></th>\n",
       "      <th>current_assets</th>\n",
       "      <th>cost_of_goods_sold</th>\n",
       "      <th>depreciation_and_amortization</th>\n",
       "      <th>EBITDA</th>\n",
       "      <th>inventory</th>\n",
       "      <th>net_income</th>\n",
       "      <th>total_receivables</th>\n",
       "      <th>market_value</th>\n",
       "      <th>net_sales</th>\n",
       "      <th>total_assets</th>\n",
       "      <th>...</th>\n",
       "      <th>total_asset_turnover</th>\n",
       "      <th>total_debt</th>\n",
       "      <th>total_debt_to_asset</th>\n",
       "      <th>long_term_debt_to_assets</th>\n",
       "      <th>total_shareholders_equity</th>\n",
       "      <th>total_debt_to_equity_ratio</th>\n",
       "      <th>equity_multiplier</th>\n",
       "      <th>basic_earning_power</th>\n",
       "      <th>return_on_assets</th>\n",
       "      <th>return_on_equity</th>\n",
       "    </tr>\n",
       "  </thead>\n",
       "  <tbody>\n",
       "    <tr>\n",
       "      <th>0</th>\n",
       "      <td>511.267</td>\n",
       "      <td>833.107</td>\n",
       "      <td>18.373</td>\n",
       "      <td>89.031</td>\n",
       "      <td>336.018</td>\n",
       "      <td>35.163</td>\n",
       "      <td>128.348</td>\n",
       "      <td>372.7519</td>\n",
       "      <td>1024.333</td>\n",
       "      <td>740.998</td>\n",
       "      <td>...</td>\n",
       "      <td>1.382369</td>\n",
       "      <td>344.263</td>\n",
       "      <td>0.464594</td>\n",
       "      <td>0.243519</td>\n",
       "      <td>339.515</td>\n",
       "      <td>1.013985</td>\n",
       "      <td>2.182519</td>\n",
       "      <td>-1.004154</td>\n",
       "      <td>0.047454</td>\n",
       "      <td>0.103568</td>\n",
       "    </tr>\n",
       "    <tr>\n",
       "      <th>1</th>\n",
       "      <td>485.856</td>\n",
       "      <td>713.811</td>\n",
       "      <td>18.577</td>\n",
       "      <td>64.367</td>\n",
       "      <td>320.590</td>\n",
       "      <td>18.531</td>\n",
       "      <td>115.187</td>\n",
       "      <td>377.1180</td>\n",
       "      <td>874.255</td>\n",
       "      <td>701.854</td>\n",
       "      <td>...</td>\n",
       "      <td>1.245637</td>\n",
       "      <td>305.379</td>\n",
       "      <td>0.435103</td>\n",
       "      <td>0.256445</td>\n",
       "      <td>340.212</td>\n",
       "      <td>0.897614</td>\n",
       "      <td>2.062990</td>\n",
       "      <td>-0.925326</td>\n",
       "      <td>0.026403</td>\n",
       "      <td>0.054469</td>\n",
       "    </tr>\n",
       "    <tr>\n",
       "      <th>2</th>\n",
       "      <td>436.656</td>\n",
       "      <td>526.477</td>\n",
       "      <td>22.496</td>\n",
       "      <td>27.207</td>\n",
       "      <td>286.588</td>\n",
       "      <td>-58.939</td>\n",
       "      <td>77.528</td>\n",
       "      <td>364.5928</td>\n",
       "      <td>638.721</td>\n",
       "      <td>710.199</td>\n",
       "      <td>...</td>\n",
       "      <td>0.899355</td>\n",
       "      <td>368.163</td>\n",
       "      <td>0.518394</td>\n",
       "      <td>0.306532</td>\n",
       "      <td>310.235</td>\n",
       "      <td>1.186723</td>\n",
       "      <td>2.289229</td>\n",
       "      <td>-0.703000</td>\n",
       "      <td>-0.082989</td>\n",
       "      <td>-0.189982</td>\n",
       "    </tr>\n",
       "    <tr>\n",
       "      <th>3</th>\n",
       "      <td>396.412</td>\n",
       "      <td>496.747</td>\n",
       "      <td>27.172</td>\n",
       "      <td>30.745</td>\n",
       "      <td>259.954</td>\n",
       "      <td>-12.410</td>\n",
       "      <td>66.322</td>\n",
       "      <td>143.3295</td>\n",
       "      <td>606.337</td>\n",
       "      <td>686.621</td>\n",
       "      <td>...</td>\n",
       "      <td>0.883074</td>\n",
       "      <td>368.233</td>\n",
       "      <td>0.536297</td>\n",
       "      <td>0.239809</td>\n",
       "      <td>294.988</td>\n",
       "      <td>1.248298</td>\n",
       "      <td>2.327623</td>\n",
       "      <td>-0.678689</td>\n",
       "      <td>-0.018074</td>\n",
       "      <td>-0.042070</td>\n",
       "    </tr>\n",
       "    <tr>\n",
       "      <th>4</th>\n",
       "      <td>432.204</td>\n",
       "      <td>523.302</td>\n",
       "      <td>26.680</td>\n",
       "      <td>47.491</td>\n",
       "      <td>247.245</td>\n",
       "      <td>3.504</td>\n",
       "      <td>104.661</td>\n",
       "      <td>308.9071</td>\n",
       "      <td>651.958</td>\n",
       "      <td>709.292</td>\n",
       "      <td>...</td>\n",
       "      <td>0.919167</td>\n",
       "      <td>379.927</td>\n",
       "      <td>0.535643</td>\n",
       "      <td>0.350583</td>\n",
       "      <td>301.684</td>\n",
       "      <td>1.259354</td>\n",
       "      <td>2.351109</td>\n",
       "      <td>-0.670825</td>\n",
       "      <td>0.004940</td>\n",
       "      <td>0.011615</td>\n",
       "    </tr>\n",
       "  </tbody>\n",
       "</table>\n",
       "<p>5 rows × 37 columns</p>\n",
       "</div>"
      ],
      "text/plain": [
       "   current_assets  cost_of_goods_sold  depreciation_and_amortization  EBITDA  \\\n",
       "0         511.267             833.107                         18.373  89.031   \n",
       "1         485.856             713.811                         18.577  64.367   \n",
       "2         436.656             526.477                         22.496  27.207   \n",
       "3         396.412             496.747                         27.172  30.745   \n",
       "4         432.204             523.302                         26.680  47.491   \n",
       "\n",
       "   inventory  net_income  total_receivables  market_value  net_sales  \\\n",
       "0    336.018      35.163            128.348      372.7519   1024.333   \n",
       "1    320.590      18.531            115.187      377.1180    874.255   \n",
       "2    286.588     -58.939             77.528      364.5928    638.721   \n",
       "3    259.954     -12.410             66.322      143.3295    606.337   \n",
       "4    247.245       3.504            104.661      308.9071    651.958   \n",
       "\n",
       "   total_assets  ...  total_asset_turnover  total_debt  total_debt_to_asset  \\\n",
       "0       740.998  ...              1.382369     344.263             0.464594   \n",
       "1       701.854  ...              1.245637     305.379             0.435103   \n",
       "2       710.199  ...              0.899355     368.163             0.518394   \n",
       "3       686.621  ...              0.883074     368.233             0.536297   \n",
       "4       709.292  ...              0.919167     379.927             0.535643   \n",
       "\n",
       "   long_term_debt_to_assets  total_shareholders_equity  \\\n",
       "0                  0.243519                    339.515   \n",
       "1                  0.256445                    340.212   \n",
       "2                  0.306532                    310.235   \n",
       "3                  0.239809                    294.988   \n",
       "4                  0.350583                    301.684   \n",
       "\n",
       "   total_debt_to_equity_ratio  equity_multiplier  basic_earning_power  \\\n",
       "0                    1.013985           2.182519            -1.004154   \n",
       "1                    0.897614           2.062990            -0.925326   \n",
       "2                    1.186723           2.289229            -0.703000   \n",
       "3                    1.248298           2.327623            -0.678689   \n",
       "4                    1.259354           2.351109            -0.670825   \n",
       "\n",
       "   return_on_assets  return_on_equity  \n",
       "0          0.047454          0.103568  \n",
       "1          0.026403          0.054469  \n",
       "2         -0.082989         -0.189982  \n",
       "3         -0.018074         -0.042070  \n",
       "4          0.004940          0.011615  \n",
       "\n",
       "[5 rows x 37 columns]"
      ]
     },
     "execution_count": 7,
     "metadata": {},
     "output_type": "execute_result"
    }
   ],
   "source": [
    "data.head()"
   ]
  },
  {
   "cell_type": "code",
   "execution_count": 8,
   "id": "b463d34c-c0e5-452b-971f-5aa7638412b1",
   "metadata": {},
   "outputs": [],
   "source": [
    "# Import module\n",
    "from sklearn.model_selection import train_test_split\n",
    "\n",
    "# Split training and testing sets\n",
    "# Create X, or features DataFrame\n",
    "X = data[['current_ratio', 'total_debt_to_equity_ratio']]\n",
    "\n",
    "# Create y, or target DataFrame\n",
    "y = data['status']\n",
    "\n",
    "# Use train_test_split to separate the data\n",
    "#X_train, X_test, y_train, y_test = train_test_split(X, y)\n",
    "X_train, X_test, y_train, y_test = train_test_split(X, y, test_size = 0.3, random_state = 0)\n"
   ]
  },
  {
   "cell_type": "code",
   "execution_count": 9,
   "id": "9983f6e6-141e-4931-86c2-417ad4e5ab41",
   "metadata": {},
   "outputs": [],
   "source": [
    "# importing module\n",
    "from sklearn.ensemble import AdaBoostRegressor\n",
    "\n",
    "# Create adaboost regressor with default parameters\n",
    "Ada_regressor = AdaBoostRegressor()\n",
    "\n",
    "# Train Adaboost Classifer\n",
    "AdaBoost_R = Ada_regressor.fit(X_train, y_train)"
   ]
  },
  {
   "cell_type": "code",
   "execution_count": 10,
   "id": "9d0b20c5-7667-448d-b33c-75a7f428546b",
   "metadata": {},
   "outputs": [],
   "source": [
    "# Grade the prediction\n",
    "AdaBoostR_pred = AdaBoost_R.predict(X_test)"
   ]
  },
  {
   "cell_type": "code",
   "execution_count": 11,
   "id": "04b15725-d78b-4129-a3a6-a272f4419572",
   "metadata": {},
   "outputs": [
    {
     "data": {
      "image/png": "[encoded data removed]",
      "text/plain": [
       "<Figure size 1440x576 with 1 Axes>"
      ]
     },
     "metadata": {
      "needs_background": "light"
     },
     "output_type": "display_data"
    }
   ],
   "source": [
    "# fitting the size of the plot\n",
    "plt.figure(figsize=(20, 8))\n",
    "\n",
    "# plotting the graphs\n",
    "plt.plot([i for i in range(len(y_test))],AdaBoostR_pred, label=\"Predicted values\")\n",
    "plt.plot([i for i in range(len(y_test))],y_test, label=\"Actual values\")\n",
    "plt.legend()\n",
    "plt.show()"
   ]
  },
  {
   "cell_type": "code",
   "execution_count": 12,
   "id": "dd89a561-caca-4063-b42f-6763d2a92005",
   "metadata": {},
   "outputs": [
    {
     "name": "stdout",
     "output_type": "stream",
     "text": [
      "R-square score is : 0.012583745710836425\n"
     ]
    }
   ],
   "source": [
    "# Importing r2 \n",
    "from sklearn.metrics import r2_score\n",
    "\n",
    "# Evaluating the model\n",
    "print('R-square score is :', r2_score(y_test, AdaBoostR_pred))"
   ]
  },
  {
   "cell_type": "code",
   "execution_count": 13,
   "id": "081b0537-fc25-4a4b-93de-155c72064e47",
   "metadata": {},
   "outputs": [
    {
     "name": "stdout",
     "output_type": "stream",
     "text": [
      "The best estimator returned by GridSearch CV is: AdaBoostRegressor(n_estimators=24)\n"
     ]
    }
   ],
   "source": [
    "# importing required module\n",
    "from sklearn.model_selection import GridSearchCV\n",
    "\n",
    "# initializing the model\n",
    "model=AdaBoostRegressor()\n",
    "\n",
    "# applying GridSearchCV\n",
    "grid=GridSearchCV(estimator=model,param_grid={'n_estimators':range(1,50)})\n",
    "\n",
    "# training the model\n",
    "grid.fit(X_train,y_train)\n",
    "\n",
    "# printing the best estimator\n",
    "print(\"The best estimator returned by GridSearch CV is:\", grid.best_estimator_)"
   ]
  },
  {
   "cell_type": "markdown",
   "id": "fb359953-8dfd-4b6f-b0b3-58ff5bdfb4d1",
   "metadata": {},
   "source": [
    "## Train model with optimum number of stump trees"
   ]
  },
  {
   "cell_type": "code",
   "execution_count": 19,
   "id": "a1a0243f-8829-4066-b1d7-ffe43d5f5953",
   "metadata": {},
   "outputs": [],
   "source": [
    "# Create adaboost regressor with default parameters\n",
    "Ada_regressor26 = AdaBoostRegressor(n_estimators=24)\n",
    "\n",
    "# Train Adaboost Classifer\n",
    "AdaBoost_R26 = Ada_regressor26.fit(X_train, y_train)\n",
    "\n",
    "#Predict \n",
    "AdaBoostR_pred26 = AdaBoost_R26.predict(X_test)"
   ]
  },
  {
   "cell_type": "code",
   "execution_count": 20,
   "id": "82c912d2-c7de-42eb-a95f-acb1d4b07c4c",
   "metadata": {},
   "outputs": [
    {
     "data": {
      "image/png": "[encoded data removed]",
      "text/plain": [
       "<Figure size 1440x576 with 1 Axes>"
      ]
     },
     "metadata": {
      "needs_background": "light"
     },
     "output_type": "display_data"
    }
   ],
   "source": [
    "# Visualize the tested model\n",
    "# fitting the size of the plot\n",
    "plt.figure(figsize=(20, 8))\n",
    "\n",
    "# plotting the graphs\n",
    "plt.plot([i for i in range(len(y_test))],AdaBoostR_pred26, label=\"Predicted values\")\n",
    "plt.plot([i for i in range(len(y_test))],y_test, label=\"Actual values\")\n",
    "plt.legend()\n",
    "plt.show()"
   ]
  },
  {
   "cell_type": "code",
   "execution_count": 21,
   "id": "8ca93151-4ee5-4b4d-80b5-8e5caf8717b7",
   "metadata": {},
   "outputs": [
    {
     "name": "stdout",
     "output_type": "stream",
     "text": [
      "R-square score is : 0.00998041182262166\n"
     ]
    }
   ],
   "source": [
    "# Importing r2 \n",
    "from sklearn.metrics import r2_score\n",
    "\n",
    "# Evaluating the model\n",
    "print('R-square score is :', r2_score(y_test, AdaBoostR_pred26))"
   ]
  },
  {
   "cell_type": "markdown",
   "id": "277068d6-24bb-43ee-9eb9-6f54e29dc503",
   "metadata": {},
   "source": [
    "# Interpretation\n",
    "If the squared error is very small then we can say that the line is a good fit. So if SEline is a small number then the whole fraction will be a very small value. And this will result in a larger number when subtracted from one. Thus if the squared error is small then R squared or the coefficient of determination will get larger, nearly equal to one. This shows that the line is a good fit.\n",
    "Similarly in the opposite case if the squared error of line is huge that means a lot of error between data points and the line, then SEline this number will get large and hence resulting in a larger value of the fraction. So the R squared or the coefficient of determination will be a smaller value, showing a poorly fit regression line."
   ]
  },
  {
   "cell_type": "code",
   "execution_count": 22,
   "id": "8972d7d0-f102-489c-997a-21c4c651a536",
   "metadata": {},
   "outputs": [
    {
     "data": {
      "text/plain": [
       "0.9466666666666665"
      ]
     },
     "execution_count": 22,
     "metadata": {},
     "output_type": "execute_result"
    }
   ],
   "source": [
    "from sklearn.model_selection import cross_val_score\n",
    "from sklearn.datasets import load_iris\n",
    "from sklearn.ensemble import AdaBoostClassifier\n",
    "\n",
    "X, y = load_iris(return_X_y=True)\n",
    "clf = AdaBoostClassifier(n_estimators=24)\n",
    "scores = cross_val_score(clf, X, y, cv=5)\n",
    "scores.mean()"
   ]
  },
  {
   "cell_type": "code",
   "execution_count": 23,
   "id": "0a62fc25-315f-4a5a-8ee2-850e5fd6eb06",
   "metadata": {},
   "outputs": [
    {
     "ename": "ValueError",
     "evalue": "Found input variables with inconsistent numbers of samples: [54880, 23521]",
     "output_type": "error",
     "traceback": [
      "\u001b[1;31m---------------------------------------------------------------------------\u001b[0m",
      "\u001b[1;31mValueError\u001b[0m                                Traceback (most recent call last)",
      "Input \u001b[1;32mIn [23]\u001b[0m, in \u001b[0;36m<cell line: 4>\u001b[1;34m()\u001b[0m\n\u001b[0;32m      2\u001b[0m \u001b[38;5;28;01mfrom\u001b[39;00m \u001b[38;5;21;01msklearn\u001b[39;00m\u001b[38;5;21;01m.\u001b[39;00m\u001b[38;5;21;01mmetrics\u001b[39;00m \u001b[38;5;28;01mimport\u001b[39;00m classification_report\n\u001b[0;32m      3\u001b[0m \u001b[38;5;66;03m# Save a classification report\u001b[39;00m\n\u001b[1;32m----> 4\u001b[0m training_report \u001b[38;5;241m=\u001b[39m \u001b[43mclassification_report\u001b[49m\u001b[43m(\u001b[49m\u001b[43my_train\u001b[49m\u001b[43m,\u001b[49m\u001b[43m \u001b[49m\u001b[43mAdaBoostR_pred26\u001b[49m\u001b[43m)\u001b[49m\n\u001b[0;32m      5\u001b[0m \u001b[38;5;66;03m# Then view its output\u001b[39;00m\n\u001b[0;32m      6\u001b[0m \u001b[38;5;28mprint\u001b[39m(training_report)\n",
      "File \u001b[1;32mC:\\ProgramData\\Anaconda3\\lib\\site-packages\\sklearn\\metrics\\_classification.py:2132\u001b[0m, in \u001b[0;36mclassification_report\u001b[1;34m(y_true, y_pred, labels, target_names, sample_weight, digits, output_dict, zero_division)\u001b[0m\n\u001b[0;32m   2017\u001b[0m \u001b[38;5;28;01mdef\u001b[39;00m \u001b[38;5;21mclassification_report\u001b[39m(\n\u001b[0;32m   2018\u001b[0m     y_true,\n\u001b[0;32m   2019\u001b[0m     y_pred,\n\u001b[1;32m   (...)\u001b[0m\n\u001b[0;32m   2026\u001b[0m     zero_division\u001b[38;5;241m=\u001b[39m\u001b[38;5;124m\"\u001b[39m\u001b[38;5;124mwarn\u001b[39m\u001b[38;5;124m\"\u001b[39m,\n\u001b[0;32m   2027\u001b[0m ):\n\u001b[0;32m   2028\u001b[0m     \u001b[38;5;124;03m\"\"\"Build a text report showing the main classification metrics.\u001b[39;00m\n\u001b[0;32m   2029\u001b[0m \n\u001b[0;32m   2030\u001b[0m \u001b[38;5;124;03m    Read more in the :ref:`User Guide <classification_report>`.\u001b[39;00m\n\u001b[1;32m   (...)\u001b[0m\n\u001b[0;32m   2129\u001b[0m \u001b[38;5;124;03m    <BLANKLINE>\u001b[39;00m\n\u001b[0;32m   2130\u001b[0m \u001b[38;5;124;03m    \"\"\"\u001b[39;00m\n\u001b[1;32m-> 2132\u001b[0m     y_type, y_true, y_pred \u001b[38;5;241m=\u001b[39m \u001b[43m_check_targets\u001b[49m\u001b[43m(\u001b[49m\u001b[43my_true\u001b[49m\u001b[43m,\u001b[49m\u001b[43m \u001b[49m\u001b[43my_pred\u001b[49m\u001b[43m)\u001b[49m\n\u001b[0;32m   2134\u001b[0m     \u001b[38;5;28;01mif\u001b[39;00m labels \u001b[38;5;129;01mis\u001b[39;00m \u001b[38;5;28;01mNone\u001b[39;00m:\n\u001b[0;32m   2135\u001b[0m         labels \u001b[38;5;241m=\u001b[39m unique_labels(y_true, y_pred)\n",
      "File \u001b[1;32mC:\\ProgramData\\Anaconda3\\lib\\site-packages\\sklearn\\metrics\\_classification.py:84\u001b[0m, in \u001b[0;36m_check_targets\u001b[1;34m(y_true, y_pred)\u001b[0m\n\u001b[0;32m     57\u001b[0m \u001b[38;5;28;01mdef\u001b[39;00m \u001b[38;5;21m_check_targets\u001b[39m(y_true, y_pred):\n\u001b[0;32m     58\u001b[0m     \u001b[38;5;124;03m\"\"\"Check that y_true and y_pred belong to the same classification task.\u001b[39;00m\n\u001b[0;32m     59\u001b[0m \n\u001b[0;32m     60\u001b[0m \u001b[38;5;124;03m    This converts multiclass or binary types to a common shape, and raises a\u001b[39;00m\n\u001b[1;32m   (...)\u001b[0m\n\u001b[0;32m     82\u001b[0m \u001b[38;5;124;03m    y_pred : array or indicator matrix\u001b[39;00m\n\u001b[0;32m     83\u001b[0m \u001b[38;5;124;03m    \"\"\"\u001b[39;00m\n\u001b[1;32m---> 84\u001b[0m     \u001b[43mcheck_consistent_length\u001b[49m\u001b[43m(\u001b[49m\u001b[43my_true\u001b[49m\u001b[43m,\u001b[49m\u001b[43m \u001b[49m\u001b[43my_pred\u001b[49m\u001b[43m)\u001b[49m\n\u001b[0;32m     85\u001b[0m     type_true \u001b[38;5;241m=\u001b[39m type_of_target(y_true, input_name\u001b[38;5;241m=\u001b[39m\u001b[38;5;124m\"\u001b[39m\u001b[38;5;124my_true\u001b[39m\u001b[38;5;124m\"\u001b[39m)\n\u001b[0;32m     86\u001b[0m     type_pred \u001b[38;5;241m=\u001b[39m type_of_target(y_pred, input_name\u001b[38;5;241m=\u001b[39m\u001b[38;5;124m\"\u001b[39m\u001b[38;5;124my_pred\u001b[39m\u001b[38;5;124m\"\u001b[39m)\n",
      "File \u001b[1;32mC:\\ProgramData\\Anaconda3\\lib\\site-packages\\sklearn\\utils\\validation.py:387\u001b[0m, in \u001b[0;36mcheck_consistent_length\u001b[1;34m(*arrays)\u001b[0m\n\u001b[0;32m    385\u001b[0m uniques \u001b[38;5;241m=\u001b[39m np\u001b[38;5;241m.\u001b[39munique(lengths)\n\u001b[0;32m    386\u001b[0m \u001b[38;5;28;01mif\u001b[39;00m \u001b[38;5;28mlen\u001b[39m(uniques) \u001b[38;5;241m>\u001b[39m \u001b[38;5;241m1\u001b[39m:\n\u001b[1;32m--> 387\u001b[0m     \u001b[38;5;28;01mraise\u001b[39;00m \u001b[38;5;167;01mValueError\u001b[39;00m(\n\u001b[0;32m    388\u001b[0m         \u001b[38;5;124m\"\u001b[39m\u001b[38;5;124mFound input variables with inconsistent numbers of samples: \u001b[39m\u001b[38;5;132;01m%r\u001b[39;00m\u001b[38;5;124m\"\u001b[39m\n\u001b[0;32m    389\u001b[0m         \u001b[38;5;241m%\u001b[39m [\u001b[38;5;28mint\u001b[39m(l) \u001b[38;5;28;01mfor\u001b[39;00m l \u001b[38;5;129;01min\u001b[39;00m lengths]\n\u001b[0;32m    390\u001b[0m     )\n",
      "\u001b[1;31mValueError\u001b[0m: Found input variables with inconsistent numbers of samples: [54880, 23521]"
     ]
    }
   ],
   "source": [
    "# Import the module\n",
    "from sklearn.metrics import classification_report\n",
    "# Save a classification report\n",
    "training_report = classification_report(y_train, AdaBoostR_pred26)\n",
    "# Then view its output\n",
    "print(training_report)"
   ]
  },
  {
   "cell_type": "code",
   "execution_count": null,
   "id": "dabc9604-511c-4d5e-a673-654fff1079c3",
   "metadata": {},
   "outputs": [],
   "source": []
  },
  {
   "cell_type": "code",
   "execution_count": 25,
   "id": "70ccf1e1-ec10-42a2-8d02-435540895450",
   "metadata": {},
   "outputs": [
    {
     "ename": "ValueError",
     "evalue": "Mix type of y not allowed, got types {'binary', 'continuous'}",
     "output_type": "error",
     "traceback": [
      "\u001b[1;31m---------------------------------------------------------------------------\u001b[0m",
      "\u001b[1;31mValueError\u001b[0m                                Traceback (most recent call last)",
      "Input \u001b[1;32mIn [25]\u001b[0m, in \u001b[0;36m<cell line: 5>\u001b[1;34m()\u001b[0m\n\u001b[0;32m      2\u001b[0m \u001b[38;5;28;01mfrom\u001b[39;00m \u001b[38;5;21;01mimblearn\u001b[39;00m\u001b[38;5;21;01m.\u001b[39;00m\u001b[38;5;21;01mmetrics\u001b[39;00m \u001b[38;5;28;01mimport\u001b[39;00m classification_report_imbalanced\n\u001b[0;32m      4\u001b[0m \u001b[38;5;66;03m# Print the classification report\u001b[39;00m\n\u001b[1;32m----> 5\u001b[0m classification_report \u001b[38;5;241m=\u001b[39m \u001b[43mclassification_report_imbalanced\u001b[49m\u001b[43m(\u001b[49m\u001b[43my_test\u001b[49m\u001b[43m,\u001b[49m\u001b[43mAdaBoostR_pred26\u001b[49m\u001b[43m)\u001b[49m\n\u001b[0;32m      6\u001b[0m \u001b[38;5;28mprint\u001b[39m(classification_report)\n",
      "File \u001b[1;32mC:\\ProgramData\\Anaconda3\\lib\\site-packages\\imblearn\\utils\\_validation.py:593\u001b[0m, in \u001b[0;36m_deprecate_positional_args.<locals>.inner_f\u001b[1;34m(*args, **kwargs)\u001b[0m\n\u001b[0;32m    586\u001b[0m     warnings\u001b[38;5;241m.\u001b[39mwarn(\n\u001b[0;32m    587\u001b[0m         \u001b[38;5;124mf\u001b[39m\u001b[38;5;124m\"\u001b[39m\u001b[38;5;124mPass \u001b[39m\u001b[38;5;132;01m{\u001b[39;00m\u001b[38;5;124m'\u001b[39m\u001b[38;5;124m, \u001b[39m\u001b[38;5;124m'\u001b[39m\u001b[38;5;241m.\u001b[39mjoin(args_msg)\u001b[38;5;132;01m}\u001b[39;00m\u001b[38;5;124m as keyword args. From version 0.9 \u001b[39m\u001b[38;5;124m\"\u001b[39m\n\u001b[0;32m    588\u001b[0m         \u001b[38;5;124mf\u001b[39m\u001b[38;5;124m\"\u001b[39m\u001b[38;5;124mpassing these as positional arguments will \u001b[39m\u001b[38;5;124m\"\u001b[39m\n\u001b[0;32m    589\u001b[0m         \u001b[38;5;124mf\u001b[39m\u001b[38;5;124m\"\u001b[39m\u001b[38;5;124mresult in an error\u001b[39m\u001b[38;5;124m\"\u001b[39m,\n\u001b[0;32m    590\u001b[0m         \u001b[38;5;167;01mFutureWarning\u001b[39;00m,\n\u001b[0;32m    591\u001b[0m     )\n\u001b[0;32m    592\u001b[0m kwargs\u001b[38;5;241m.\u001b[39mupdate({k: arg \u001b[38;5;28;01mfor\u001b[39;00m k, arg \u001b[38;5;129;01min\u001b[39;00m \u001b[38;5;28mzip\u001b[39m(sig\u001b[38;5;241m.\u001b[39mparameters, args)})\n\u001b[1;32m--> 593\u001b[0m \u001b[38;5;28;01mreturn\u001b[39;00m f(\u001b[38;5;241m*\u001b[39m\u001b[38;5;241m*\u001b[39mkwargs)\n",
      "File \u001b[1;32mC:\\ProgramData\\Anaconda3\\lib\\site-packages\\imblearn\\metrics\\_classification.py:880\u001b[0m, in \u001b[0;36mclassification_report_imbalanced\u001b[1;34m(y_true, y_pred, labels, target_names, sample_weight, digits, alpha, output_dict, zero_division)\u001b[0m\n\u001b[0;32m    792\u001b[0m \u001b[38;5;124;03m\"\"\"Build a classification report based on metrics used with imbalanced dataset.\u001b[39;00m\n\u001b[0;32m    793\u001b[0m \n\u001b[0;32m    794\u001b[0m \u001b[38;5;124;03mSpecific metrics have been proposed to evaluate the classification\u001b[39;00m\n\u001b[1;32m   (...)\u001b[0m\n\u001b[0;32m    876\u001b[0m \u001b[38;5;124;03m<BLANKLINE>\u001b[39;00m\n\u001b[0;32m    877\u001b[0m \u001b[38;5;124;03m\"\"\"\u001b[39;00m\n\u001b[0;32m    879\u001b[0m \u001b[38;5;28;01mif\u001b[39;00m labels \u001b[38;5;129;01mis\u001b[39;00m \u001b[38;5;28;01mNone\u001b[39;00m:\n\u001b[1;32m--> 880\u001b[0m     labels \u001b[38;5;241m=\u001b[39m \u001b[43munique_labels\u001b[49m\u001b[43m(\u001b[49m\u001b[43my_true\u001b[49m\u001b[43m,\u001b[49m\u001b[43m \u001b[49m\u001b[43my_pred\u001b[49m\u001b[43m)\u001b[49m\n\u001b[0;32m    881\u001b[0m \u001b[38;5;28;01melse\u001b[39;00m:\n\u001b[0;32m    882\u001b[0m     labels \u001b[38;5;241m=\u001b[39m np\u001b[38;5;241m.\u001b[39masarray(labels)\n",
      "File \u001b[1;32mC:\\ProgramData\\Anaconda3\\lib\\site-packages\\sklearn\\utils\\multiclass.py:82\u001b[0m, in \u001b[0;36munique_labels\u001b[1;34m(*ys)\u001b[0m\n\u001b[0;32m     79\u001b[0m     ys_types \u001b[38;5;241m=\u001b[39m {\u001b[38;5;124m\"\u001b[39m\u001b[38;5;124mmulticlass\u001b[39m\u001b[38;5;124m\"\u001b[39m}\n\u001b[0;32m     81\u001b[0m \u001b[38;5;28;01mif\u001b[39;00m \u001b[38;5;28mlen\u001b[39m(ys_types) \u001b[38;5;241m>\u001b[39m \u001b[38;5;241m1\u001b[39m:\n\u001b[1;32m---> 82\u001b[0m     \u001b[38;5;28;01mraise\u001b[39;00m \u001b[38;5;167;01mValueError\u001b[39;00m(\u001b[38;5;124m\"\u001b[39m\u001b[38;5;124mMix type of y not allowed, got types \u001b[39m\u001b[38;5;132;01m%s\u001b[39;00m\u001b[38;5;124m\"\u001b[39m \u001b[38;5;241m%\u001b[39m ys_types)\n\u001b[0;32m     84\u001b[0m label_type \u001b[38;5;241m=\u001b[39m ys_types\u001b[38;5;241m.\u001b[39mpop()\n\u001b[0;32m     86\u001b[0m \u001b[38;5;66;03m# Check consistency for the indicator format\u001b[39;00m\n",
      "\u001b[1;31mValueError\u001b[0m: Mix type of y not allowed, got types {'binary', 'continuous'}"
     ]
    }
   ],
   "source": [
    "# Import the module\n",
    "from imblearn.metrics import classification_report_imbalanced\n",
    "\n",
    "# Print the classification report\n",
    "classification_report = classification_report_imbalanced(y_test,AdaBoostR_pred26)\n",
    "print(classification_report)"
   ]
  },
  {
   "cell_type": "code",
   "execution_count": null,
   "id": "f81c9043-4134-492c-bcc0-c37c638ac4ed",
   "metadata": {},
   "outputs": [],
   "source": []
  }
 ],
 "metadata": {
  "kernelspec": {
   "display_name": "Python 3 (ipykernel)",
   "language": "python",
   "name": "python3"
  },
  "language_info": {
   "codemirror_mode": {
    "name": "ipython",
    "version": 3
   },
   "file_extension": ".py",
   "mimetype": "text/x-python",
   "name": "python",
   "nbconvert_exporter": "python",
   "pygments_lexer": "ipython3",
   "version": "3.9.12"
  }
 },
 "nbformat": 4,
 "nbformat_minor": 5
}
