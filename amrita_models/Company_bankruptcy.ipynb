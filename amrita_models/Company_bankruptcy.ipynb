{
 "cells": [
  {
   "cell_type": "markdown",
   "id": "2f798660-0ff4-4953-a99f-133c9fd7bd90",
   "metadata": {},
   "source": [
    "# Predicting Bankruptcy with machine learning"
   ]
  },
  {
   "cell_type": "code",
   "execution_count": 1,
   "id": "b1d4d0ac-9eb3-4731-a6db-0f37f68b117f",
   "metadata": {},
   "outputs": [],
   "source": [
    "# Import the modules\n",
    "import numpy as np\n",
    "import pandas as pd\n",
    "from pathlib import Path\n",
    "from sklearn.metrics import balanced_accuracy_score\n",
    "from sklearn.metrics import confusion_matrix\n",
    "from imblearn.metrics import classification_report_imbalanced\n",
    "#import xgboost as xgb\n",
    "import warnings\n",
    "warnings.filterwarnings('ignore')\n",
    "import tensorflow as tf\n",
    "from keras.models import Sequential # try tensorflow.keras.models in case of import error\n",
    "from keras.layers import Dense # try tensorflow.keras.layers in case of import error\n",
    "from sklearn.ensemble import RandomForestClassifier\n",
    "from sklearn.tree import DecisionTreeClassifier\n",
    "from xgboost import XGBClassifier\n",
    "from sklearn.svm import SVC\n",
    "# Ordered Dictionary\n",
    "from collections import OrderedDict\n",
    "import random\n",
    "\n",
    "from sklearn.metrics import accuracy_score\n",
    "from sklearn.metrics import precision_score\n",
    "from sklearn.metrics import recall_score\n",
    "from sklearn.metrics import classification_report\n",
    "from sklearn.metrics import confusion_matrix\n",
    "from sklearn.metrics import roc_curve\n",
    "from sklearn.metrics import precision_recall_curve\n",
    "\n",
    "#To perform kFold Cross Validation\n",
    "from sklearn.model_selection import KFold\n",
    "import matplotlib.pyplot as plt\n",
    "from sklearn.metrics import f1_score\n",
    "\n",
    "import copy as cp\n",
    "import seaborn as sns\n",
    "from typing import Tuple\n"
   ]
  },
  {
   "cell_type": "markdown",
   "id": "9b1f6476-e047-4bc2-a0b1-f1f7ae65cead",
   "metadata": {},
   "source": [
    "### Step 1: Read the `accounting.csv` data from the `Resources` folder into a Pandas DataFrame."
   ]
  },
  {
   "cell_type": "code",
   "execution_count": 2,
   "id": "4c8f4339-58b7-4f02-be2b-bbf2e2d86768",
   "metadata": {},
   "outputs": [],
   "source": [
    "# import training dataset\n",
    "\n",
    "training_df = pd.read_csv(Path(\"../Resources/training_dataset_original_accounting.csv\"))\n"
   ]
  },
  {
   "cell_type": "markdown",
   "id": "344cccb1-03d4-4a14-9468-65f1f59d4c11",
   "metadata": {},
   "source": [
    "###  Create the labels set (`y`)  from the “status” column, and then create the features (`X`) DataFrame from the remaining columns."
   ]
  },
  {
   "cell_type": "code",
   "execution_count": 3,
   "id": "8357b6dd-1c44-400c-9055-3ca5d7ab5fc9",
   "metadata": {},
   "outputs": [
    {
     "data": {
      "text/html": [
       "<div>\n",
       "<style scoped>\n",
       "    .dataframe tbody tr th:only-of-type {\n",
       "        vertical-align: middle;\n",
       "    }\n",
       "\n",
       "    .dataframe tbody tr th {\n",
       "        vertical-align: top;\n",
       "    }\n",
       "\n",
       "    .dataframe thead th {\n",
       "        text-align: right;\n",
       "    }\n",
       "</style>\n",
       "<table border=\"1\" class=\"dataframe\">\n",
       "  <thead>\n",
       "    <tr style=\"text-align: right;\">\n",
       "      <th></th>\n",
       "      <th>current_assets</th>\n",
       "      <th>cost_of_goods_sold</th>\n",
       "      <th>depreciation_and_amortization</th>\n",
       "      <th>EBITDA</th>\n",
       "      <th>inventory</th>\n",
       "      <th>net_income</th>\n",
       "      <th>total_receivables</th>\n",
       "      <th>market_value</th>\n",
       "      <th>net_sales</th>\n",
       "      <th>total_assets</th>\n",
       "      <th>total_long_term_debt</th>\n",
       "      <th>EBIT</th>\n",
       "      <th>gross_profit</th>\n",
       "      <th>total_current_liabilities</th>\n",
       "      <th>retained_earnings</th>\n",
       "      <th>total_revenue</th>\n",
       "      <th>total_liabilities</th>\n",
       "      <th>total_operationg_expenses</th>\n",
       "    </tr>\n",
       "  </thead>\n",
       "  <tbody>\n",
       "    <tr>\n",
       "      <th>78677</th>\n",
       "      <td>-0.164731</td>\n",
       "      <td>-0.173697</td>\n",
       "      <td>-0.164232</td>\n",
       "      <td>-0.164584</td>\n",
       "      <td>-0.186875</td>\n",
       "      <td>-0.082275</td>\n",
       "      <td>-0.197599</td>\n",
       "      <td>-0.144340</td>\n",
       "      <td>-0.189104</td>\n",
       "      <td>-0.136865</td>\n",
       "      <td>-0.165883</td>\n",
       "      <td>-0.149872</td>\n",
       "      <td>-0.187726</td>\n",
       "      <td>-0.198027</td>\n",
       "      <td>-0.079190</td>\n",
       "      <td>-0.189104</td>\n",
       "      <td>-0.192171</td>\n",
       "      <td>-0.185099</td>\n",
       "    </tr>\n",
       "    <tr>\n",
       "      <th>78678</th>\n",
       "      <td>-0.197224</td>\n",
       "      <td>-0.171923</td>\n",
       "      <td>-0.120548</td>\n",
       "      <td>-0.086792</td>\n",
       "      <td>-0.187901</td>\n",
       "      <td>0.000241</td>\n",
       "      <td>-0.173823</td>\n",
       "      <td>-0.156771</td>\n",
       "      <td>-0.173462</td>\n",
       "      <td>-0.077504</td>\n",
       "      <td>0.014688</td>\n",
       "      <td>-0.064219</td>\n",
       "      <td>-0.142402</td>\n",
       "      <td>-0.177631</td>\n",
       "      <td>-0.058828</td>\n",
       "      <td>-0.173462</td>\n",
       "      <td>-0.110911</td>\n",
       "      <td>-0.182180</td>\n",
       "    </tr>\n",
       "    <tr>\n",
       "      <th>78679</th>\n",
       "      <td>-0.207810</td>\n",
       "      <td>-0.170815</td>\n",
       "      <td>-0.086112</td>\n",
       "      <td>-0.147966</td>\n",
       "      <td>-0.187625</td>\n",
       "      <td>-0.103376</td>\n",
       "      <td>-0.182913</td>\n",
       "      <td>-0.153984</td>\n",
       "      <td>-0.183612</td>\n",
       "      <td>-0.086769</td>\n",
       "      <td>-0.011874</td>\n",
       "      <td>-0.161599</td>\n",
       "      <td>-0.177156</td>\n",
       "      <td>-0.178435</td>\n",
       "      <td>-0.059055</td>\n",
       "      <td>-0.183612</td>\n",
       "      <td>-0.124581</td>\n",
       "      <td>-0.182009</td>\n",
       "    </tr>\n",
       "    <tr>\n",
       "      <th>78680</th>\n",
       "      <td>-0.189677</td>\n",
       "      <td>-0.171101</td>\n",
       "      <td>-0.085694</td>\n",
       "      <td>-0.152876</td>\n",
       "      <td>-0.188160</td>\n",
       "      <td>-0.118357</td>\n",
       "      <td>-0.194328</td>\n",
       "      <td>-0.163014</td>\n",
       "      <td>-0.184279</td>\n",
       "      <td>-0.087553</td>\n",
       "      <td>-0.008775</td>\n",
       "      <td>-0.168392</td>\n",
       "      <td>-0.178594</td>\n",
       "      <td>-0.179713</td>\n",
       "      <td>-0.062258</td>\n",
       "      <td>-0.184279</td>\n",
       "      <td>-0.123779</td>\n",
       "      <td>-0.181826</td>\n",
       "    </tr>\n",
       "    <tr>\n",
       "      <th>78681</th>\n",
       "      <td>-0.203071</td>\n",
       "      <td>-0.170844</td>\n",
       "      <td>-0.085891</td>\n",
       "      <td>-0.153825</td>\n",
       "      <td>-0.188067</td>\n",
       "      <td>-0.142493</td>\n",
       "      <td>-0.180389</td>\n",
       "      <td>-0.166188</td>\n",
       "      <td>-0.184394</td>\n",
       "      <td>-0.096126</td>\n",
       "      <td>-0.027871</td>\n",
       "      <td>-0.169583</td>\n",
       "      <td>-0.179564</td>\n",
       "      <td>-0.180613</td>\n",
       "      <td>-0.070257</td>\n",
       "      <td>-0.184394</td>\n",
       "      <td>-0.131726</td>\n",
       "      <td>-0.181774</td>\n",
       "    </tr>\n",
       "  </tbody>\n",
       "</table>\n",
       "</div>"
      ],
      "text/plain": [
       "       current_assets  cost_of_goods_sold  depreciation_and_amortization  \\\n",
       "78677       -0.164731           -0.173697                      -0.164232   \n",
       "78678       -0.197224           -0.171923                      -0.120548   \n",
       "78679       -0.207810           -0.170815                      -0.086112   \n",
       "78680       -0.189677           -0.171101                      -0.085694   \n",
       "78681       -0.203071           -0.170844                      -0.085891   \n",
       "\n",
       "         EBITDA  inventory  net_income  total_receivables  market_value  \\\n",
       "78677 -0.164584  -0.186875   -0.082275          -0.197599     -0.144340   \n",
       "78678 -0.086792  -0.187901    0.000241          -0.173823     -0.156771   \n",
       "78679 -0.147966  -0.187625   -0.103376          -0.182913     -0.153984   \n",
       "78680 -0.152876  -0.188160   -0.118357          -0.194328     -0.163014   \n",
       "78681 -0.153825  -0.188067   -0.142493          -0.180389     -0.166188   \n",
       "\n",
       "       net_sales  total_assets  total_long_term_debt      EBIT  gross_profit  \\\n",
       "78677  -0.189104     -0.136865             -0.165883 -0.149872     -0.187726   \n",
       "78678  -0.173462     -0.077504              0.014688 -0.064219     -0.142402   \n",
       "78679  -0.183612     -0.086769             -0.011874 -0.161599     -0.177156   \n",
       "78680  -0.184279     -0.087553             -0.008775 -0.168392     -0.178594   \n",
       "78681  -0.184394     -0.096126             -0.027871 -0.169583     -0.179564   \n",
       "\n",
       "       total_current_liabilities  retained_earnings  total_revenue  \\\n",
       "78677                  -0.198027          -0.079190      -0.189104   \n",
       "78678                  -0.177631          -0.058828      -0.173462   \n",
       "78679                  -0.178435          -0.059055      -0.183612   \n",
       "78680                  -0.179713          -0.062258      -0.184279   \n",
       "78681                  -0.180613          -0.070257      -0.184394   \n",
       "\n",
       "       total_liabilities  total_operationg_expenses  \n",
       "78677          -0.192171                  -0.185099  \n",
       "78678          -0.110911                  -0.182180  \n",
       "78679          -0.124581                  -0.182009  \n",
       "78680          -0.123779                  -0.181826  \n",
       "78681          -0.131726                  -0.181774  "
      ]
     },
     "metadata": {},
     "output_type": "display_data"
    },
    {
     "data": {
      "text/plain": [
       "78677    0\n",
       "78678    0\n",
       "78679    0\n",
       "78680    0\n",
       "78681    0\n",
       "Name: status, dtype: int64"
      ]
     },
     "metadata": {},
     "output_type": "display_data"
    }
   ],
   "source": [
    "# split training dataset to X and y\n",
    "\n",
    "X_train = training_df.drop(columns=\"status\")\n",
    "y_train = training_df[\"status\"]\n",
    "display(X_train.tail())\n",
    "display(y_train[-5:])"
   ]
  },
  {
   "cell_type": "code",
   "execution_count": 4,
   "id": "7a5aa851-248e-4648-a841-9b0cb26bc064",
   "metadata": {},
   "outputs": [],
   "source": [
    "\n",
    "# Import the SMOTE module form imbalanced-learn\n",
    "from imblearn.over_sampling import SMOTE\n",
    "\n",
    "# Instantiate the random oversampler model\n",
    "# # Assign a random_state parameter of 1 to the model\n",
    "smote_oversampler = SMOTE( random_state=1)\n",
    "\n",
    "\n",
    "# Fit the original training data to the random_oversampler model\n",
    "X_resampled, y_resampled = SMOTE().fit_resample(X_train, y_train)"
   ]
  },
  {
   "cell_type": "code",
   "execution_count": 5,
   "id": "4a90c8b2-3390-48f5-8e2f-e88acce03139",
   "metadata": {},
   "outputs": [
    {
     "data": {
      "text/plain": [
       "0    73462\n",
       "1    73462\n",
       "Name: status, dtype: int64"
      ]
     },
     "execution_count": 5,
     "metadata": {},
     "output_type": "execute_result"
    }
   ],
   "source": [
    "# Count the distinct values of the resampled labels data\n",
    "y_resampled.value_counts()\n"
   ]
  },
  {
   "cell_type": "code",
   "execution_count": 6,
   "id": "f7df333b-1871-4a3d-b47b-2fcbf7c37a23",
   "metadata": {},
   "outputs": [],
   "source": [
    "def prepare_kfold_cv_data(k, X, y, verbose=False):\n",
    "    X = X.values\n",
    "    y = y.values\n",
    "    kf = KFold(n_splits=k, shuffle=False, random_state=None)\n",
    "    X_train = []\n",
    "    y_train = []\n",
    "    X_test = []\n",
    "    y_test = []\n",
    "    \n",
    "    for train_index, test_index in kf.split(X):\n",
    "        X_train.append(X[train_index])\n",
    "        y_train.append(y[train_index])\n",
    "        X_test.append(X[test_index])\n",
    "        y_test.append(y[test_index])\n",
    "    return X_train, y_train, X_test, y_test"
   ]
  },
  {
   "cell_type": "code",
   "execution_count": 7,
   "id": "5b8d0f45-3b91-44da-84f0-af7bd432225c",
   "metadata": {},
   "outputs": [],
   "source": [
    "# Random Forest Classifier\n",
    "rf_classifier = RandomForestClassifier(n_estimators = 5, criterion = 'entropy')"
   ]
  },
  {
   "cell_type": "code",
   "execution_count": 8,
   "id": "2714ea5a-ec5f-447a-9f91-a2a3bf5a10d1",
   "metadata": {},
   "outputs": [],
   "source": [
    "# From SVM, instantiate SVC classifier model instance\n",
    "\n",
    "svm = SVC(kernel= 'rbf', random_state=1, C=0.1)"
   ]
  },
  {
   "cell_type": "code",
   "execution_count": 9,
   "id": "bf23f086-2d13-4aec-883c-d397675df62e",
   "metadata": {},
   "outputs": [],
   "source": [
    "# Decision Tree Classifier\n",
    "dt_classifier = DecisionTreeClassifier(random_state=42)"
   ]
  },
  {
   "cell_type": "code",
   "execution_count": 10,
   "id": "695cf599-288e-4e47-bd04-e18c1aadbcfd",
   "metadata": {},
   "outputs": [],
   "source": [
    "# eXtreme Gradient Boosting Classifier (XGBClassifier)\n",
    "xgb_classifier = XGBClassifier()"
   ]
  },
  {
   "cell_type": "code",
   "execution_count": 11,
   "id": "bd4b7631-59ac-490b-be9b-3cc5d36c8eb0",
   "metadata": {},
   "outputs": [],
   "source": [
    "# creating a dictionary of models\n",
    "models_dictionary = OrderedDict()\n",
    "\n",
    "models_dictionary['Random Forest'] = rf_classifier\n",
    "models_dictionary['Decision Tree'] = dt_classifier\n",
    "models_dictionary['Extreme Gradient Boosting'] = xgb_classifier\n",
    "models_dictionary[' Support Vector Machine'] = svm"
   ]
  },
  {
   "cell_type": "code",
   "execution_count": 12,
   "id": "840e25dd-862c-4fbe-9758-ff7eef896678",
   "metadata": {},
   "outputs": [],
   "source": [
    "# perform data modeling\n",
    "def perform_data_modeling(_models_, X, y, verbose=False, k_folds=4):\n",
    "    \n",
    "    # 4 Models\n",
    "    # 1 datasets \n",
    "    # 8 metrics, averaged over all the K-Folds\n",
    "    model_results = OrderedDict()\n",
    "    \n",
    "    # Iterate over the models\n",
    "    for model_name, clf in _models_.items():\n",
    "        if verbose: print(\"-\"*120, \"\\n\", \"Model: \" + '\\033[1m' + model_name + '\\033[0m' + \" Classifier\")\n",
    "               \n",
    "                # Calling the 'prepare_kfold_cv_data' returns lists of features and labels \n",
    "                # for train and test sets respectively.\n",
    "                # The number of items in the list is equal to k_folds\n",
    "        X_train_list, y_train_list, X_test_list, y_test_list = prepare_kfold_cv_data(k_folds, X, y, verbose)\n",
    "\n",
    "        metrics_results = OrderedDict()\n",
    "        accuracy_list = np.zeros([k_folds])\n",
    "        f1score_list = np.zeros([k_folds,2])\n",
    "        precision_list = np.zeros([k_folds,2])\n",
    "        recall_list = np.zeros([k_folds,2])\n",
    "        TN_list = np.zeros([k_folds])\n",
    "        FP_list = np.zeros([k_folds])\n",
    "        FN_list = np.zeros([k_folds])\n",
    "        TP_list = np.zeros([k_folds])                \n",
    "        \n",
    "        # Iterate over all the k-folds\n",
    "        for k_index in range(k_folds):\n",
    "            X_train = X_train_list[k_index]\n",
    "            y_train = y_train_list[k_index]\n",
    "            X_test = X_test_list[k_index]\n",
    "            y_test = y_test_list[k_index]\n",
    "\n",
    "            # Fit the model and \n",
    "            clf = clf.fit(X_train, y_train)\n",
    "            y_test_predicted = clf.predict(X_test)\n",
    "\n",
    "            #code for calculating accuracy \n",
    "            _accuracy_ = accuracy_score(y_test, y_test_predicted, normalize=True)\n",
    "            accuracy_list[k_index] = _accuracy_\n",
    "\n",
    "            #code for calculating recall \n",
    "            _recalls_ = recall_score(y_test, y_test_predicted, average=None)\n",
    "            recall_list[k_index] = _recalls_\n",
    "\n",
    "            #code for calculating precision \n",
    "            _precisions_ = precision_score(y_test, y_test_predicted, average=None)\n",
    "            precision_list[k_index] = _precisions_\n",
    "            \n",
    "            _f1score_ = f1_score(y_test, y_test_predicted)\n",
    "            f1score_list[k_index] = _f1score_\n",
    "            \n",
    "            #code for calculating confusion matrix \n",
    "            _confusion_matrix_ = confusion_matrix(y_test, y_test_predicted)\n",
    "            TN_list[k_index] = _confusion_matrix_[0][0]\n",
    "            FP_list[k_index] = _confusion_matrix_[0][1]\n",
    "            FN_list[k_index] = _confusion_matrix_[1][0]\n",
    "            TP_list[k_index] = _confusion_matrix_[1][1]\n",
    "            \n",
    "            \n",
    "        # creating a metrics dictionary\n",
    "        metrics_results['Accuracy'] = np.mean(accuracy_list)\n",
    "        metrics_results['Precisions'] = np.mean(precision_list, axis=0)\n",
    "        metrics_results['Recalls'] = np.mean(recall_list, axis=0)\n",
    "        metrics_results['TN'] = np.mean(TN_list)\n",
    "        metrics_results['FP'] = np.mean(FP_list)\n",
    "        metrics_results['FN'] = np.mean(FN_list)\n",
    "        metrics_results['TP'] = np.mean(TP_list)\n",
    "        metrics_results['F1Score'] = np.mean(f1score_list, axis=0)\n",
    "        \n",
    "        if verbose:\n",
    "            print('\\t\\t\\tAccuracy:', metrics_results['Accuracy'])\n",
    "            print('\\t\\t\\tPrecision:', metrics_results['Precisions'])\n",
    "            print('\\t\\t\\tRecall:', metrics_results['Recalls'])\n",
    "            print('\\t\\t\\tF1Score:', metrics_results['F1Score'])\n",
    "            \n",
    "        model_results[model_name] = metrics_results \n",
    "        \n",
    "    return model_results                "
   ]
  },
  {
   "cell_type": "code",
   "execution_count": null,
   "id": "b1cfa9e6-bf51-4f55-ac04-da12ae80eb7b",
   "metadata": {},
   "outputs": [
    {
     "name": "stdout",
     "output_type": "stream",
     "text": [
      "------------------------------------------------------------------------------------------------------------------------ \n",
      " Model: \u001b[1mRandom Forest\u001b[0m Classifier\n",
      "\t\t\tAccuracy: 0.8378889766137594\n",
      "\t\t\tPrecision: [0.64910518 0.6082436 ]\n",
      "\t\t\tRecall: [0.60674215 0.92718584]\n",
      "\t\t\tF1Score: [0.65362849 0.65362849]\n",
      "------------------------------------------------------------------------------------------------------------------------ \n",
      " Model: \u001b[1mDecision Tree\u001b[0m Classifier\n",
      "\t\t\tAccuracy: 0.8110315537284583\n",
      "\t\t\tPrecision: [0.6254259  0.59511358]\n",
      "\t\t\tRecall: [0.58128868 0.89672945]\n",
      "\t\t\tF1Score: [0.62927707 0.62927707]\n",
      "------------------------------------------------------------------------------------------------------------------------ \n",
      " Model: \u001b[1mExtreme Gradient Boosting\u001b[0m Classifier\n",
      "\t\t\tAccuracy: 0.7081960741607907\n",
      "\t\t\tPrecision: [0.5947667  0.56761929]\n",
      "\t\t\tRecall: [0.52676245 0.84317414]\n",
      "\t\t\tF1Score: [0.55950848 0.55950848]\n",
      "------------------------------------------------------------------------------------------------------------------------ \n",
      " Model: \u001b[1m Support Vector Machine\u001b[0m Classifier\n"
     ]
    }
   ],
   "source": [
    "results = perform_data_modeling(models_dictionary,X_resampled, y_resampled,verbose=True, k_folds=4)"
   ]
  },
  {
   "cell_type": "code",
   "execution_count": 161,
   "id": "3e23910a-745a-4668-81b5-88eaf5e762c4",
   "metadata": {},
   "outputs": [],
   "source": [
    "# perform data modeling\n",
    "def perform_data_modeling_test(_models_, X, y, verbose=False, k_folds=4):\n",
    "    \n",
    "    \n",
    "    model_results = OrderedDict()\n",
    "    X = X.values\n",
    "    y = y.values\n",
    "    # Iterate over the models\n",
    "    for model_name, clf in _models_.items():\n",
    "        if verbose: print(\"-\"*120, \"\\n\", \"Model: \" + '\\033[1m' + model_name + '\\033[0m' + \" Classifier\")\n",
    "               \n",
    "                # Calling the 'prepare_kfold_cv_data' returns lists of features and labels \n",
    "                # for train and test sets respectively.\n",
    "                # The number of items in the list is equal to k_folds\n",
    "        \n",
    "\n",
    "        metrics_results = OrderedDict()\n",
    "        \n",
    "        no_classes = len(np.unique(y))\n",
    "    \n",
    "        actual_classes = np.empty([0], dtype=int)\n",
    "        predicted_classes = np.empty([0], dtype=int)\n",
    "        predicted_proba = np.empty([0, no_classes]) \n",
    "        # Iterate over all the k-folds\n",
    "        kfold = KFold(n_splits=k_folds, random_state=42, shuffle=True)\n",
    "        for train_ndx, test_ndx in kfold.split(X):\n",
    "\n",
    "            train_X, train_y, test_X, test_y = X[train_ndx], y[train_ndx], X[test_ndx], y[test_ndx]\n",
    "\n",
    "            actual_classes = np.append(actual_classes, test_y)\n",
    "\n",
    "            clf.fit(train_X, train_y)\n",
    "            predicted_classes = np.append(predicted_classes, clf.predict(test_X))\n",
    "\n",
    "           \n",
    "        sorted_labels =  [0, 1]   \n",
    "        matrix = confusion_matrix(actual_classes, predicted_classes, labels=sorted_labels)\n",
    "        \n",
    "        \n",
    "        val = np.mat(matrix) \n",
    "        classnames = list(set(y))\n",
    "        df_cm = pd.DataFrame(\n",
    "                val#, index=status, columns=status, \n",
    "            )\n",
    "        print(df_cm)\n",
    "      \n",
    "        plt.figure(figsize=(12.8,6))\n",
    "        sns.heatmap(matrix, annot=True, xticklabels=sorted_labels, yticklabels=sorted_labels, cmap=\"Blues\", fmt=\"g\")\n",
    "        plt.xlabel('Predicted'); plt.ylabel('Actual'); plt.title('Confusion Matrix')\n",
    "\n",
    "        plt.show()\n",
    "        \n",
    "        print(classification_report(actual_classes, predicted_classes))\n",
    "       \n",
    "        \n",
    "    return model_results  "
   ]
  },
  {
   "cell_type": "code",
   "execution_count": null,
   "id": "a19d9083-f73a-49d8-aac8-fb76c9a2bbb8",
   "metadata": {},
   "outputs": [
    {
     "name": "stdout",
     "output_type": "stream",
     "text": [
      "------------------------------------------------------------------------------------------------------------------------ \n",
      " Model: \u001b[1mRandom Forest\u001b[0m Classifier\n",
      "       0      1\n",
      "0  66343   7119\n",
      "1   4030  69432\n"
     ]
    },
    {
     "data": {
      "image/png": "[encoded data removed]",
      "text/plain": [
       "<Figure size 921.6x432 with 2 Axes>"
      ]
     },
     "metadata": {
      "needs_background": "light"
     },
     "output_type": "display_data"
    },
    {
     "name": "stdout",
     "output_type": "stream",
     "text": [
      "              precision    recall  f1-score   support\n",
      "\n",
      "           0       0.94      0.90      0.92     73462\n",
      "           1       0.91      0.95      0.93     73462\n",
      "\n",
      "    accuracy                           0.92    146924\n",
      "   macro avg       0.92      0.92      0.92    146924\n",
      "weighted avg       0.92      0.92      0.92    146924\n",
      "\n",
      "------------------------------------------------------------------------------------------------------------------------ \n",
      " Model: \u001b[1mDecision Tree\u001b[0m Classifier\n",
      "       0      1\n",
      "0  63056  10406\n",
      "1   6693  66769\n"
     ]
    },
    {
     "data": {
      "image/png": "[encoded data removed]",
      "text/plain": [
       "<Figure size 921.6x432 with 2 Axes>"
      ]
     },
     "metadata": {
      "needs_background": "light"
     },
     "output_type": "display_data"
    },
    {
     "name": "stdout",
     "output_type": "stream",
     "text": [
      "              precision    recall  f1-score   support\n",
      "\n",
      "           0       0.90      0.86      0.88     73462\n",
      "           1       0.87      0.91      0.89     73462\n",
      "\n",
      "    accuracy                           0.88    146924\n",
      "   macro avg       0.88      0.88      0.88    146924\n",
      "weighted avg       0.88      0.88      0.88    146924\n",
      "\n",
      "------------------------------------------------------------------------------------------------------------------------ \n",
      " Model: \u001b[1mExtreme Gradient Boosting\u001b[0m Classifier\n",
      "       0      1\n",
      "0  60241  13221\n",
      "1   7908  65554\n"
     ]
    },
    {
     "data": {
      "image/png": "[encoded data removed]",
      "text/plain": [
       "<Figure size 921.6x432 with 2 Axes>"
      ]
     },
     "metadata": {
      "needs_background": "light"
     },
     "output_type": "display_data"
    },
    {
     "name": "stdout",
     "output_type": "stream",
     "text": [
      "              precision    recall  f1-score   support\n",
      "\n",
      "           0       0.88      0.82      0.85     73462\n",
      "           1       0.83      0.89      0.86     73462\n",
      "\n",
      "    accuracy                           0.86    146924\n",
      "   macro avg       0.86      0.86      0.86    146924\n",
      "weighted avg       0.86      0.86      0.86    146924\n",
      "\n",
      "------------------------------------------------------------------------------------------------------------------------ \n",
      " Model: \u001b[1m Support Vector Machine\u001b[0m Classifier\n"
     ]
    }
   ],
   "source": [
    "results = perform_data_modeling_test(models_dictionary,X_resampled, y_resampled,verbose=True, k_folds=4)"
   ]
  },
  {
   "cell_type": "code",
   "execution_count": null,
   "id": "c1da0744-5d1d-4f71-a21c-291483eec684",
   "metadata": {},
   "outputs": [],
   "source": []
  }
 ],
 "metadata": {
  "kernelspec": {
   "display_name": "Python 3 (ipykernel)",
   "language": "python",
   "name": "python3"
  },
  "language_info": {
   "codemirror_mode": {
    "name": "ipython",
    "version": 3
   },
   "file_extension": ".py",
   "mimetype": "text/x-python",
   "name": "python",
   "nbconvert_exporter": "python",
   "pygments_lexer": "ipython3",
   "version": "3.9.12"
  }
 },
 "nbformat": 4,
 "nbformat_minor": 5
}
