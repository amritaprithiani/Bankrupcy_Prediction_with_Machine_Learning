{
 "cells": [
  {
   "cell_type": "code",
   "execution_count": 1,
   "metadata": {},
   "outputs": [
    {
     "data": {
      "text/html": [
       "<div>\n",
       "<style scoped>\n",
       "    .dataframe tbody tr th:only-of-type {\n",
       "        vertical-align: middle;\n",
       "    }\n",
       "\n",
       "    .dataframe tbody tr th {\n",
       "        vertical-align: top;\n",
       "    }\n",
       "\n",
       "    .dataframe thead th {\n",
       "        text-align: right;\n",
       "    }\n",
       "</style>\n",
       "<table border=\"1\" class=\"dataframe\">\n",
       "  <thead>\n",
       "    <tr style=\"text-align: right;\">\n",
       "      <th></th>\n",
       "      <th>current_assets</th>\n",
       "      <th>cost_of_goods_sold</th>\n",
       "      <th>depreciation_and_amortization</th>\n",
       "      <th>EBITDA</th>\n",
       "      <th>inventory</th>\n",
       "      <th>net_income</th>\n",
       "      <th>total_receivables</th>\n",
       "      <th>market_value</th>\n",
       "      <th>net_sales</th>\n",
       "      <th>total_assets</th>\n",
       "      <th>total_long_term_debt</th>\n",
       "      <th>EBIT</th>\n",
       "      <th>gross_profit</th>\n",
       "      <th>total_current_liabilities</th>\n",
       "      <th>retained_earnings</th>\n",
       "      <th>total_revenue</th>\n",
       "      <th>total_liabilities</th>\n",
       "      <th>total_operationg_expenses</th>\n",
       "    </tr>\n",
       "  </thead>\n",
       "  <tbody>\n",
       "    <tr>\n",
       "      <th>59006</th>\n",
       "      <td>-0.224841</td>\n",
       "      <td>-0.182815</td>\n",
       "      <td>-0.182817</td>\n",
       "      <td>-0.189411</td>\n",
       "      <td>-0.191518</td>\n",
       "      <td>-0.105244</td>\n",
       "      <td>-0.213641</td>\n",
       "      <td>-0.189216</td>\n",
       "      <td>-0.202266</td>\n",
       "      <td>-0.220081</td>\n",
       "      <td>-0.218942</td>\n",
       "      <td>-0.174220</td>\n",
       "      <td>-0.205580</td>\n",
       "      <td>-0.206912</td>\n",
       "      <td>-0.086730</td>\n",
       "      <td>-0.202266</td>\n",
       "      <td>-0.217191</td>\n",
       "      <td>-0.194969</td>\n",
       "    </tr>\n",
       "    <tr>\n",
       "      <th>59007</th>\n",
       "      <td>-0.149498</td>\n",
       "      <td>-0.153444</td>\n",
       "      <td>-0.136048</td>\n",
       "      <td>-0.198706</td>\n",
       "      <td>-0.078807</td>\n",
       "      <td>-0.131121</td>\n",
       "      <td>-0.161011</td>\n",
       "      <td>-0.177011</td>\n",
       "      <td>-0.171751</td>\n",
       "      <td>-0.191696</td>\n",
       "      <td>-0.215157</td>\n",
       "      <td>-0.208470</td>\n",
       "      <td>-0.178749</td>\n",
       "      <td>-0.166843</td>\n",
       "      <td>-0.165335</td>\n",
       "      <td>-0.171751</td>\n",
       "      <td>-0.200379</td>\n",
       "      <td>-0.158183</td>\n",
       "    </tr>\n",
       "    <tr>\n",
       "      <th>59008</th>\n",
       "      <td>-0.223526</td>\n",
       "      <td>-0.179687</td>\n",
       "      <td>-0.181686</td>\n",
       "      <td>-0.203005</td>\n",
       "      <td>-0.191518</td>\n",
       "      <td>-0.127842</td>\n",
       "      <td>-0.213297</td>\n",
       "      <td>-0.184402</td>\n",
       "      <td>-0.202271</td>\n",
       "      <td>-0.219337</td>\n",
       "      <td>-0.218802</td>\n",
       "      <td>-0.193295</td>\n",
       "      <td>-0.212906</td>\n",
       "      <td>-0.205220</td>\n",
       "      <td>-0.105513</td>\n",
       "      <td>-0.202271</td>\n",
       "      <td>-0.216480</td>\n",
       "      <td>-0.192328</td>\n",
       "    </tr>\n",
       "    <tr>\n",
       "      <th>59009</th>\n",
       "      <td>1.004145</td>\n",
       "      <td>1.004144</td>\n",
       "      <td>0.589128</td>\n",
       "      <td>0.659983</td>\n",
       "      <td>1.504063</td>\n",
       "      <td>0.315861</td>\n",
       "      <td>1.533036</td>\n",
       "      <td>0.084743</td>\n",
       "      <td>0.930268</td>\n",
       "      <td>0.630094</td>\n",
       "      <td>0.604774</td>\n",
       "      <td>0.629126</td>\n",
       "      <td>0.563857</td>\n",
       "      <td>1.107517</td>\n",
       "      <td>0.288940</td>\n",
       "      <td>0.930268</td>\n",
       "      <td>0.760133</td>\n",
       "      <td>0.937813</td>\n",
       "    </tr>\n",
       "    <tr>\n",
       "      <th>59010</th>\n",
       "      <td>-0.224761</td>\n",
       "      <td>-0.182817</td>\n",
       "      <td>-0.182834</td>\n",
       "      <td>-0.192112</td>\n",
       "      <td>-0.191518</td>\n",
       "      <td>-0.113492</td>\n",
       "      <td>-0.213650</td>\n",
       "      <td>-0.188879</td>\n",
       "      <td>-0.202271</td>\n",
       "      <td>-0.218346</td>\n",
       "      <td>-0.215930</td>\n",
       "      <td>-0.177898</td>\n",
       "      <td>-0.205592</td>\n",
       "      <td>-0.195994</td>\n",
       "      <td>-0.092337</td>\n",
       "      <td>-0.202271</td>\n",
       "      <td>-0.212037</td>\n",
       "      <td>-0.194449</td>\n",
       "    </tr>\n",
       "  </tbody>\n",
       "</table>\n",
       "</div>"
      ],
      "text/plain": [
       "       current_assets  cost_of_goods_sold  depreciation_and_amortization  \\\n",
       "59006       -0.224841           -0.182815                      -0.182817   \n",
       "59007       -0.149498           -0.153444                      -0.136048   \n",
       "59008       -0.223526           -0.179687                      -0.181686   \n",
       "59009        1.004145            1.004144                       0.589128   \n",
       "59010       -0.224761           -0.182817                      -0.182834   \n",
       "\n",
       "         EBITDA  inventory  net_income  total_receivables  market_value  \\\n",
       "59006 -0.189411  -0.191518   -0.105244          -0.213641     -0.189216   \n",
       "59007 -0.198706  -0.078807   -0.131121          -0.161011     -0.177011   \n",
       "59008 -0.203005  -0.191518   -0.127842          -0.213297     -0.184402   \n",
       "59009  0.659983   1.504063    0.315861           1.533036      0.084743   \n",
       "59010 -0.192112  -0.191518   -0.113492          -0.213650     -0.188879   \n",
       "\n",
       "       net_sales  total_assets  total_long_term_debt      EBIT  gross_profit  \\\n",
       "59006  -0.202266     -0.220081             -0.218942 -0.174220     -0.205580   \n",
       "59007  -0.171751     -0.191696             -0.215157 -0.208470     -0.178749   \n",
       "59008  -0.202271     -0.219337             -0.218802 -0.193295     -0.212906   \n",
       "59009   0.930268      0.630094              0.604774  0.629126      0.563857   \n",
       "59010  -0.202271     -0.218346             -0.215930 -0.177898     -0.205592   \n",
       "\n",
       "       total_current_liabilities  retained_earnings  total_revenue  \\\n",
       "59006                  -0.206912          -0.086730      -0.202266   \n",
       "59007                  -0.166843          -0.165335      -0.171751   \n",
       "59008                  -0.205220          -0.105513      -0.202271   \n",
       "59009                   1.107517           0.288940       0.930268   \n",
       "59010                  -0.195994          -0.092337      -0.202271   \n",
       "\n",
       "       total_liabilities  total_operationg_expenses  \n",
       "59006          -0.217191                  -0.194969  \n",
       "59007          -0.200379                  -0.158183  \n",
       "59008          -0.216480                  -0.192328  \n",
       "59009           0.760133                   0.937813  \n",
       "59010          -0.212037                  -0.194449  "
      ]
     },
     "metadata": {},
     "output_type": "display_data"
    },
    {
     "data": {
      "text/html": [
       "<div>\n",
       "<style scoped>\n",
       "    .dataframe tbody tr th:only-of-type {\n",
       "        vertical-align: middle;\n",
       "    }\n",
       "\n",
       "    .dataframe tbody tr th {\n",
       "        vertical-align: top;\n",
       "    }\n",
       "\n",
       "    .dataframe thead th {\n",
       "        text-align: right;\n",
       "    }\n",
       "</style>\n",
       "<table border=\"1\" class=\"dataframe\">\n",
       "  <thead>\n",
       "    <tr style=\"text-align: right;\">\n",
       "      <th></th>\n",
       "      <th>current_assets</th>\n",
       "      <th>cost_of_goods_sold</th>\n",
       "      <th>depreciation_and_amortization</th>\n",
       "      <th>EBITDA</th>\n",
       "      <th>inventory</th>\n",
       "      <th>net_income</th>\n",
       "      <th>total_receivables</th>\n",
       "      <th>market_value</th>\n",
       "      <th>net_sales</th>\n",
       "      <th>total_assets</th>\n",
       "      <th>total_long_term_debt</th>\n",
       "      <th>EBIT</th>\n",
       "      <th>gross_profit</th>\n",
       "      <th>total_current_liabilities</th>\n",
       "      <th>retained_earnings</th>\n",
       "      <th>total_revenue</th>\n",
       "      <th>total_liabilities</th>\n",
       "      <th>total_operationg_expenses</th>\n",
       "    </tr>\n",
       "  </thead>\n",
       "  <tbody>\n",
       "    <tr>\n",
       "      <th>19666</th>\n",
       "      <td>-0.215226</td>\n",
       "      <td>-0.164916</td>\n",
       "      <td>-0.194334</td>\n",
       "      <td>-0.181122</td>\n",
       "      <td>-0.181608</td>\n",
       "      <td>-0.094862</td>\n",
       "      <td>-0.208887</td>\n",
       "      <td>-0.175621</td>\n",
       "      <td>-0.182696</td>\n",
       "      <td>-0.225049</td>\n",
       "      <td>-0.236255</td>\n",
       "      <td>-0.163658</td>\n",
       "      <td>-0.193834</td>\n",
       "      <td>-0.199539</td>\n",
       "      <td>-0.105437</td>\n",
       "      <td>-0.182696</td>\n",
       "      <td>-0.226363</td>\n",
       "      <td>-0.175619</td>\n",
       "    </tr>\n",
       "    <tr>\n",
       "      <th>19667</th>\n",
       "      <td>-0.212986</td>\n",
       "      <td>-0.165046</td>\n",
       "      <td>-0.194220</td>\n",
       "      <td>-0.184832</td>\n",
       "      <td>-0.185888</td>\n",
       "      <td>-0.103520</td>\n",
       "      <td>-0.210132</td>\n",
       "      <td>-0.175893</td>\n",
       "      <td>-0.182165</td>\n",
       "      <td>-0.224273</td>\n",
       "      <td>-0.229114</td>\n",
       "      <td>-0.168517</td>\n",
       "      <td>-0.191778</td>\n",
       "      <td>-0.200033</td>\n",
       "      <td>-0.406323</td>\n",
       "      <td>-0.182165</td>\n",
       "      <td>-0.223765</td>\n",
       "      <td>-0.174307</td>\n",
       "    </tr>\n",
       "    <tr>\n",
       "      <th>19668</th>\n",
       "      <td>-0.210084</td>\n",
       "      <td>-0.161478</td>\n",
       "      <td>-0.193038</td>\n",
       "      <td>-0.182268</td>\n",
       "      <td>-0.162754</td>\n",
       "      <td>-0.098553</td>\n",
       "      <td>-0.216656</td>\n",
       "      <td>-0.172556</td>\n",
       "      <td>-0.178827</td>\n",
       "      <td>-0.223939</td>\n",
       "      <td>-0.236561</td>\n",
       "      <td>-0.165623</td>\n",
       "      <td>-0.189595</td>\n",
       "      <td>-0.205375</td>\n",
       "      <td>-0.102255</td>\n",
       "      <td>-0.178827</td>\n",
       "      <td>-0.228833</td>\n",
       "      <td>-0.170958</td>\n",
       "    </tr>\n",
       "    <tr>\n",
       "      <th>19669</th>\n",
       "      <td>-0.198817</td>\n",
       "      <td>-0.084905</td>\n",
       "      <td>-0.122853</td>\n",
       "      <td>-0.142938</td>\n",
       "      <td>-0.144338</td>\n",
       "      <td>-0.087156</td>\n",
       "      <td>-0.208782</td>\n",
       "      <td>-0.158340</td>\n",
       "      <td>-0.112154</td>\n",
       "      <td>-0.171970</td>\n",
       "      <td>-0.178470</td>\n",
       "      <td>-0.140385</td>\n",
       "      <td>-0.158953</td>\n",
       "      <td>-0.172050</td>\n",
       "      <td>-0.057595</td>\n",
       "      <td>-0.112154</td>\n",
       "      <td>-0.185918</td>\n",
       "      <td>-0.101810</td>\n",
       "    </tr>\n",
       "    <tr>\n",
       "      <th>19670</th>\n",
       "      <td>-0.200724</td>\n",
       "      <td>-0.063058</td>\n",
       "      <td>-0.087832</td>\n",
       "      <td>-0.115193</td>\n",
       "      <td>-0.159361</td>\n",
       "      <td>-0.063184</td>\n",
       "      <td>-0.210541</td>\n",
       "      <td>-0.141537</td>\n",
       "      <td>-0.091192</td>\n",
       "      <td>-0.141662</td>\n",
       "      <td>-0.144627</td>\n",
       "      <td>-0.117248</td>\n",
       "      <td>-0.143870</td>\n",
       "      <td>-0.169791</td>\n",
       "      <td>-0.019760</td>\n",
       "      <td>-0.091192</td>\n",
       "      <td>-0.161145</td>\n",
       "      <td>-0.082975</td>\n",
       "    </tr>\n",
       "  </tbody>\n",
       "</table>\n",
       "</div>"
      ],
      "text/plain": [
       "       current_assets  cost_of_goods_sold  depreciation_and_amortization  \\\n",
       "19666       -0.215226           -0.164916                      -0.194334   \n",
       "19667       -0.212986           -0.165046                      -0.194220   \n",
       "19668       -0.210084           -0.161478                      -0.193038   \n",
       "19669       -0.198817           -0.084905                      -0.122853   \n",
       "19670       -0.200724           -0.063058                      -0.087832   \n",
       "\n",
       "         EBITDA  inventory  net_income  total_receivables  market_value  \\\n",
       "19666 -0.181122  -0.181608   -0.094862          -0.208887     -0.175621   \n",
       "19667 -0.184832  -0.185888   -0.103520          -0.210132     -0.175893   \n",
       "19668 -0.182268  -0.162754   -0.098553          -0.216656     -0.172556   \n",
       "19669 -0.142938  -0.144338   -0.087156          -0.208782     -0.158340   \n",
       "19670 -0.115193  -0.159361   -0.063184          -0.210541     -0.141537   \n",
       "\n",
       "       net_sales  total_assets  total_long_term_debt      EBIT  gross_profit  \\\n",
       "19666  -0.182696     -0.225049             -0.236255 -0.163658     -0.193834   \n",
       "19667  -0.182165     -0.224273             -0.229114 -0.168517     -0.191778   \n",
       "19668  -0.178827     -0.223939             -0.236561 -0.165623     -0.189595   \n",
       "19669  -0.112154     -0.171970             -0.178470 -0.140385     -0.158953   \n",
       "19670  -0.091192     -0.141662             -0.144627 -0.117248     -0.143870   \n",
       "\n",
       "       total_current_liabilities  retained_earnings  total_revenue  \\\n",
       "19666                  -0.199539          -0.105437      -0.182696   \n",
       "19667                  -0.200033          -0.406323      -0.182165   \n",
       "19668                  -0.205375          -0.102255      -0.178827   \n",
       "19669                  -0.172050          -0.057595      -0.112154   \n",
       "19670                  -0.169791          -0.019760      -0.091192   \n",
       "\n",
       "       total_liabilities  total_operationg_expenses  \n",
       "19666          -0.226363                  -0.175619  \n",
       "19667          -0.223765                  -0.174307  \n",
       "19668          -0.228833                  -0.170958  \n",
       "19669          -0.185918                  -0.101810  \n",
       "19670          -0.161145                  -0.082975  "
      ]
     },
     "metadata": {},
     "output_type": "display_data"
    }
   ],
   "source": [
    "# core imports\n",
    "\n",
    "import pandas as pd\n",
    "import numpy as np\n",
    "from pathlib import Path\n",
    "\n",
    "from sklearn.metrics import classification_report\n",
    "from sklearn.metrics import confusion_matrix, ConfusionMatrixDisplay\n",
    "import matplotlib.pyplot as plt\n",
    "\n",
    "# import training/testing dataset\n",
    "\n",
    "training_df = pd.read_csv(Path(\"../Resources/training_dataset_original.csv\"))\n",
    "testing_df = pd.read_csv(Path(\"../Resources/testing_dataset.csv\"))\n",
    "\n",
    "# split training dataset to X and y\n",
    "\n",
    "X_train = training_df.drop(columns=\"status\")\n",
    "y_train = training_df[\"status\"]\n",
    "display(X_train.tail())\n",
    "\n",
    "# split testing dataset to X and y\n",
    "\n",
    "X_test = testing_df.drop(columns=\"status\")\n",
    "y_test = testing_df[\"status\"]\n",
    "display(X_test.tail())"
   ]
  },
  {
   "cell_type": "markdown",
   "metadata": {},
   "source": [
    "# Model Comparision"
   ]
  },
  {
   "cell_type": "markdown",
   "metadata": {},
   "source": [
    "### Logistic Regression"
   ]
  },
  {
   "cell_type": "code",
   "execution_count": 2,
   "metadata": {},
   "outputs": [
    {
     "name": "stdout",
     "output_type": "stream",
     "text": [
      "              precision    recall  f1-score   support\n",
      "\n",
      "           0       0.94      1.00      0.97     18417\n",
      "           1       0.38      0.01      0.01      1254\n",
      "\n",
      "    accuracy                           0.94     19671\n",
      "   macro avg       0.66      0.50      0.49     19671\n",
      "weighted avg       0.90      0.94      0.91     19671\n",
      "\n"
     ]
    },
    {
     "data": {
      "image/png": "[encoded data removed]",
      "text/plain": [
       "<Figure size 640x480 with 2 Axes>"
      ]
     },
     "metadata": {},
     "output_type": "display_data"
    }
   ],
   "source": [
    "from sklearn.linear_model import LogisticRegression\n",
    "\n",
    "model = LogisticRegression()\n",
    "model.fit(X_train, y_train)\n",
    "pred = model.predict(X_test)\n",
    "\n",
    "print(classification_report(y_test, pred))\n",
    "matrix_plot = ConfusionMatrixDisplay(confusion_matrix(y_test, pred)).plot()\n",
    "plt.show()"
   ]
  },
  {
   "cell_type": "markdown",
   "metadata": {},
   "source": [
    "### Linear SVC"
   ]
  },
  {
   "cell_type": "code",
   "execution_count": 3,
   "metadata": {},
   "outputs": [
    {
     "name": "stdout",
     "output_type": "stream",
     "text": [
      "              precision    recall  f1-score   support\n",
      "\n",
      "           0       0.94      1.00      0.97     18417\n",
      "           1       0.00      0.00      0.00      1254\n",
      "\n",
      "    accuracy                           0.94     19671\n",
      "   macro avg       0.47      0.50      0.48     19671\n",
      "weighted avg       0.88      0.94      0.91     19671\n",
      "\n"
     ]
    },
    {
     "name": "stderr",
     "output_type": "stream",
     "text": [
      "c:\\Users\\yutak\\Anaconda3\\envs\\dev\\lib\\site-packages\\sklearn\\svm\\_base.py:1225: ConvergenceWarning: Liblinear failed to converge, increase the number of iterations.\n",
      "  warnings.warn(\n"
     ]
    },
    {
     "data": {
      "image/png": "[encoded data removed]",
      "text/plain": [
       "<Figure size 640x480 with 2 Axes>"
      ]
     },
     "metadata": {},
     "output_type": "display_data"
    }
   ],
   "source": [
    "from sklearn.svm import LinearSVC\n",
    "\n",
    "model = LinearSVC(tol=1e-5, max_iter=5000)\n",
    "model.fit(X_train, y_train)\n",
    "pred = model.predict(X_test)\n",
    "\n",
    "print(classification_report(y_test, pred))\n",
    "matrix_plot = ConfusionMatrixDisplay(confusion_matrix(y_test, pred)).plot()\n",
    "plt.show()"
   ]
  },
  {
   "cell_type": "markdown",
   "metadata": {},
   "source": [
    "### MLP Classifier"
   ]
  },
  {
   "cell_type": "code",
   "execution_count": 4,
   "metadata": {},
   "outputs": [
    {
     "name": "stdout",
     "output_type": "stream",
     "text": [
      "              precision    recall  f1-score   support\n",
      "\n",
      "           0       0.94      1.00      0.97     18417\n",
      "           1       0.44      0.03      0.06      1254\n",
      "\n",
      "    accuracy                           0.94     19671\n",
      "   macro avg       0.69      0.51      0.51     19671\n",
      "weighted avg       0.91      0.94      0.91     19671\n",
      "\n"
     ]
    },
    {
     "data": {
      "image/png": "[encoded data removed]",
      "text/plain": [
       "<Figure size 640x480 with 2 Axes>"
      ]
     },
     "metadata": {},
     "output_type": "display_data"
    }
   ],
   "source": [
    "from sklearn.neural_network import MLPClassifier\n",
    "\n",
    "model = MLPClassifier()\n",
    "model.fit(X_train, y_train)\n",
    "pred = model.predict(X_test)\n",
    "\n",
    "print(classification_report(y_test, pred))\n",
    "matrix_plot = ConfusionMatrixDisplay(confusion_matrix(y_test, pred)).plot()\n",
    "plt.show()"
   ]
  },
  {
   "cell_type": "markdown",
   "metadata": {},
   "source": [
    "### SVC: kernel = 'rbf'"
   ]
  },
  {
   "cell_type": "code",
   "execution_count": 5,
   "metadata": {},
   "outputs": [
    {
     "name": "stdout",
     "output_type": "stream",
     "text": [
      "              precision    recall  f1-score   support\n",
      "\n",
      "           0       0.94      1.00      0.97     18417\n",
      "           1       0.70      0.01      0.01      1254\n",
      "\n",
      "    accuracy                           0.94     19671\n",
      "   macro avg       0.82      0.50      0.49     19671\n",
      "weighted avg       0.92      0.94      0.91     19671\n",
      "\n"
     ]
    },
    {
     "data": {
      "image/png": "[encoded data removed]",
      "text/plain": [
       "<Figure size 640x480 with 2 Axes>"
      ]
     },
     "metadata": {},
     "output_type": "display_data"
    }
   ],
   "source": [
    "from sklearn.svm import SVC\n",
    "\n",
    "model = SVC(kernel='rbf')\n",
    "model.fit(X_train, y_train)\n",
    "pred = model.predict(X_test)\n",
    "\n",
    "print(classification_report(y_test, pred))\n",
    "matrix_plot = ConfusionMatrixDisplay(confusion_matrix(y_test, pred)).plot()\n",
    "plt.show()"
   ]
  },
  {
   "cell_type": "markdown",
   "metadata": {},
   "source": [
    "### Analysis\n",
    "\n",
    "SVC kernel = 'rbf' has the highest precision score on class 1 (bankrupt).\n",
    "Recall value for class 1 is really low overall."
   ]
  },
  {
   "cell_type": "markdown",
   "metadata": {},
   "source": [
    "# Resampling Comparision\n",
    "\n",
    "Since SVC had the best performance, I will use it to compare the effect of resampling."
   ]
  },
  {
   "cell_type": "markdown",
   "metadata": {},
   "source": [
    "### Random Under Sampler"
   ]
  },
  {
   "cell_type": "code",
   "execution_count": 10,
   "metadata": {},
   "outputs": [
    {
     "name": "stdout",
     "output_type": "stream",
     "text": [
      "              precision    recall  f1-score   support\n",
      "\n",
      "           0       0.98      0.24      0.38     18417\n",
      "           1       0.08      0.93      0.14      1254\n",
      "\n",
      "    accuracy                           0.28     19671\n",
      "   macro avg       0.53      0.59      0.26     19671\n",
      "weighted avg       0.92      0.28      0.37     19671\n",
      "\n"
     ]
    }
   ],
   "source": [
    "from imblearn.under_sampling import RandomUnderSampler\n",
    "\n",
    "sampler = RandomUnderSampler()\n",
    "X_resample, y_resample = sampler.fit_resample(X_train, y_train)\n",
    "\n",
    "model = SVC(kernel='rbf')\n",
    "model.fit(X_resample, y_resample)\n",
    "pred = model.predict(X_test)\n",
    "\n",
    "print(classification_report(y_test, pred))"
   ]
  },
  {
   "cell_type": "markdown",
   "metadata": {},
   "source": [
    "### ClusterCentroids"
   ]
  },
  {
   "cell_type": "code",
   "execution_count": 11,
   "metadata": {},
   "outputs": [
    {
     "name": "stdout",
     "output_type": "stream",
     "text": [
      "              precision    recall  f1-score   support\n",
      "\n",
      "           0       0.97      0.13      0.23     18417\n",
      "           1       0.07      0.93      0.13      1254\n",
      "\n",
      "    accuracy                           0.18     19671\n",
      "   macro avg       0.52      0.53      0.18     19671\n",
      "weighted avg       0.91      0.18      0.23     19671\n",
      "\n"
     ]
    }
   ],
   "source": [
    "from imblearn.under_sampling import ClusterCentroids\n",
    "\n",
    "sampler = ClusterCentroids()\n",
    "X_resample, y_resample = sampler.fit_resample(X_train, y_train)\n",
    "\n",
    "model = SVC(kernel='rbf')\n",
    "model.fit(X_resample, y_resample)\n",
    "pred = model.predict(X_test)\n",
    "\n",
    "print(classification_report(y_test, pred))"
   ]
  },
  {
   "cell_type": "markdown",
   "metadata": {},
   "source": [
    "### NearMiss"
   ]
  },
  {
   "cell_type": "code",
   "execution_count": 12,
   "metadata": {},
   "outputs": [
    {
     "name": "stdout",
     "output_type": "stream",
     "text": [
      "              precision    recall  f1-score   support\n",
      "\n",
      "           0       0.94      0.31      0.47     18417\n",
      "           1       0.06      0.69      0.12      1254\n",
      "\n",
      "    accuracy                           0.34     19671\n",
      "   macro avg       0.50      0.50      0.29     19671\n",
      "weighted avg       0.88      0.34      0.45     19671\n",
      "\n"
     ]
    }
   ],
   "source": [
    "from imblearn.under_sampling import NearMiss\n",
    "\n",
    "sampler = NearMiss(version=1, n_neighbors=2)\n",
    "X_resample, y_resample = sampler.fit_resample(X_train, y_train)\n",
    "\n",
    "model = SVC(kernel='rbf')\n",
    "model.fit(X_resample, y_resample)\n",
    "pred = model.predict(X_test)\n",
    "\n",
    "print(classification_report(y_test, pred))"
   ]
  },
  {
   "cell_type": "markdown",
   "metadata": {},
   "source": [
    "### SMOTETomek"
   ]
  },
  {
   "cell_type": "code",
   "execution_count": 13,
   "metadata": {},
   "outputs": [
    {
     "name": "stdout",
     "output_type": "stream",
     "text": [
      "              precision    recall  f1-score   support\n",
      "\n",
      "           0       0.98      0.32      0.48     18417\n",
      "           1       0.08      0.89      0.15      1254\n",
      "\n",
      "    accuracy                           0.35     19671\n",
      "   macro avg       0.53      0.60      0.31     19671\n",
      "weighted avg       0.92      0.35      0.46     19671\n",
      "\n"
     ]
    }
   ],
   "source": [
    "from imblearn.combine import SMOTETomek\n",
    "\n",
    "sampler = SMOTETomek(sampling_strategy='all')\n",
    "X_resample, y_resample = sampler.fit_resample(X_train, y_train)\n",
    "\n",
    "model = SVC(kernel='rbf')\n",
    "model.fit(X_resample, y_resample)\n",
    "pred = model.predict(X_test)\n",
    "\n",
    "print(classification_report(y_test, pred))"
   ]
  },
  {
   "cell_type": "markdown",
   "metadata": {},
   "source": [
    "# Imbalanced Learn Ensemble Methods"
   ]
  },
  {
   "cell_type": "markdown",
   "metadata": {},
   "source": [
    "### EasyEnsembleClassifier"
   ]
  },
  {
   "cell_type": "code",
   "execution_count": 14,
   "metadata": {},
   "outputs": [
    {
     "name": "stdout",
     "output_type": "stream",
     "text": [
      "              precision    recall  f1-score   support\n",
      "\n",
      "           0       0.95      0.86      0.90     18417\n",
      "           1       0.14      0.33      0.19      1254\n",
      "\n",
      "    accuracy                           0.82     19671\n",
      "   macro avg       0.54      0.59      0.55     19671\n",
      "weighted avg       0.90      0.82      0.86     19671\n",
      "\n"
     ]
    }
   ],
   "source": [
    "from imblearn.ensemble import EasyEnsembleClassifier\n",
    "\n",
    "model = EasyEnsembleClassifier()\n",
    "model.fit(X_train, y_train)\n",
    "pred = model.predict(X_test)\n",
    "\n",
    "print(classification_report(y_test, pred))"
   ]
  },
  {
   "cell_type": "markdown",
   "metadata": {},
   "source": [
    "### RUSBoostClassifier"
   ]
  },
  {
   "cell_type": "code",
   "execution_count": 15,
   "metadata": {},
   "outputs": [
    {
     "name": "stdout",
     "output_type": "stream",
     "text": [
      "              precision    recall  f1-score   support\n",
      "\n",
      "           0       0.95      0.89      0.92     18417\n",
      "           1       0.14      0.27      0.18      1254\n",
      "\n",
      "    accuracy                           0.85     19671\n",
      "   macro avg       0.54      0.58      0.55     19671\n",
      "weighted avg       0.90      0.85      0.87     19671\n",
      "\n"
     ]
    }
   ],
   "source": [
    "from imblearn.ensemble import RUSBoostClassifier\n",
    "\n",
    "model = RUSBoostClassifier()\n",
    "model.fit(X_train, y_train)\n",
    "pred = model.predict(X_test)\n",
    "\n",
    "print(classification_report(y_test, pred))"
   ]
  },
  {
   "cell_type": "markdown",
   "metadata": {},
   "source": [
    "### Balanced Random Forest Classifier"
   ]
  },
  {
   "cell_type": "code",
   "execution_count": 16,
   "metadata": {},
   "outputs": [
    {
     "name": "stdout",
     "output_type": "stream",
     "text": [
      "              precision    recall  f1-score   support\n",
      "\n",
      "           0       0.95      0.85      0.90     18417\n",
      "           1       0.13      0.32      0.19      1254\n",
      "\n",
      "    accuracy                           0.82     19671\n",
      "   macro avg       0.54      0.59      0.54     19671\n",
      "weighted avg       0.90      0.82      0.85     19671\n",
      "\n"
     ]
    }
   ],
   "source": [
    "from imblearn.ensemble import BalancedBaggingClassifier\n",
    "\n",
    "model = BalancedBaggingClassifier()\n",
    "model.fit(X_train, y_train)\n",
    "pred = model.predict(X_test)\n",
    "\n",
    "print(classification_report(y_test, pred))"
   ]
  },
  {
   "cell_type": "markdown",
   "metadata": {},
   "source": [
    "### Analysis\n",
    "\n",
    "Resampling process will make class 1 precision worse, but increase class 1 recall very well."
   ]
  }
 ],
 "metadata": {
  "kernelspec": {
   "display_name": "Python 3.9.12 ('dev')",
   "language": "python",
   "name": "python3"
  },
  "language_info": {
   "codemirror_mode": {
    "name": "ipython",
    "version": 3
   },
   "file_extension": ".py",
   "mimetype": "text/x-python",
   "name": "python",
   "nbconvert_exporter": "python",
   "pygments_lexer": "ipython3",
   "version": "3.9.12"
  },
  "orig_nbformat": 4,
  "vscode": {
   "interpreter": {
    "hash": "3ee04db7352e682cac186af61911f6acc7ec70cc0d9fa70de64442cbd59efbd7"
   }
  }
 },
 "nbformat": 4,
 "nbformat_minor": 2
}
