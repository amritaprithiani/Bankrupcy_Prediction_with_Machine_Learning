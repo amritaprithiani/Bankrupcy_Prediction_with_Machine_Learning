{
 "cells": [
  {
   "cell_type": "markdown",
   "metadata": {},
   "source": [
    "Source\n",
    "\n",
    "https://keras.io/examples/keras_recipes/quasi_svm/"
   ]
  },
  {
   "cell_type": "code",
   "execution_count": 129,
   "metadata": {},
   "outputs": [],
   "source": [
    "import pandas as pd\n",
    "import numpy as np\n",
    "from pathlib import Path\n",
    "import tensorflow as tf\n",
    "from keras.models import Sequential # try tensorflow.keras.models in case of import error\n",
    "from keras.layers import Dense # try tensorflow.keras.layers in case of import error\n",
    "from sklearn.metrics import classification_report\n",
    "# import training/testing dataset\n",
    "\n",
    "training_df = pd.read_csv(Path(\"../Resources/training_dataset_original.csv\"))\n",
    "testing_df = pd.read_csv(Path(\"../Resources/testing_dataset.csv\"))\n",
    "# split training dataset to X and y\n",
    "\n",
    "X_train = training_df.drop(columns=\"status\")\n",
    "y_train = training_df[\"status\"]\n",
    "# split testing dataset to X and y\n",
    "\n",
    "X_test = testing_df.drop(columns=\"status\")\n",
    "y_test = testing_df[\"status\"]"
   ]
  },
  {
   "cell_type": "code",
   "execution_count": 130,
   "metadata": {},
   "outputs": [],
   "source": [
    "from tensorflow import keras\n",
    "from tensorflow.keras import layers\n",
    "from tensorflow.keras.layers.experimental import RandomFourierFeatures"
   ]
  },
  {
   "cell_type": "code",
   "execution_count": 131,
   "metadata": {},
   "outputs": [],
   "source": [
    "model = keras.Sequential(\n",
    "    [\n",
    "        keras.Input(shape=(18,)),\n",
    "        RandomFourierFeatures(\n",
    "            output_dim=4096, scale=10.0, kernel_initializer=\"gaussian\"\n",
    "        ),\n",
    "        layers.Dense(units=1),\n",
    "    ]\n",
    ")\n",
    "model.compile(\n",
    "    optimizer=keras.optimizers.Adam(learning_rate=1e-3),\n",
    "    loss=keras.losses.hinge,\n",
    "    metrics=[keras.metrics.CategoricalAccuracy(name=\"acc\")],\n",
    ")"
   ]
  },
  {
   "cell_type": "code",
   "execution_count": 132,
   "metadata": {},
   "outputs": [
    {
     "name": "stdout",
     "output_type": "stream",
     "text": [
      "Epoch 1/20\n",
      "369/369 [==============================] - 2s 4ms/step - loss: 0.2263 - acc: 1.0000 - val_loss: 0.2302 - val_acc: 1.0000\n",
      "Epoch 2/20\n",
      "369/369 [==============================] - 1s 3ms/step - loss: 0.2083 - acc: 1.0000 - val_loss: 0.1795 - val_acc: 1.0000\n",
      "Epoch 3/20\n",
      "369/369 [==============================] - 1s 4ms/step - loss: 0.2066 - acc: 1.0000 - val_loss: 0.3104 - val_acc: 1.0000\n",
      "Epoch 4/20\n",
      "369/369 [==============================] - 1s 4ms/step - loss: 0.2024 - acc: 1.0000 - val_loss: 0.1830 - val_acc: 1.0000\n",
      "Epoch 5/20\n",
      "369/369 [==============================] - 2s 4ms/step - loss: 0.2075 - acc: 1.0000 - val_loss: 0.2919 - val_acc: 1.0000\n",
      "Epoch 6/20\n",
      "369/369 [==============================] - 1s 4ms/step - loss: 0.2045 - acc: 1.0000 - val_loss: 0.1788 - val_acc: 1.0000\n",
      "Epoch 7/20\n",
      "369/369 [==============================] - 2s 4ms/step - loss: 0.2040 - acc: 1.0000 - val_loss: 0.1546 - val_acc: 1.0000\n",
      "Epoch 8/20\n",
      "369/369 [==============================] - 1s 4ms/step - loss: 0.2010 - acc: 1.0000 - val_loss: 0.1724 - val_acc: 1.0000\n",
      "Epoch 9/20\n",
      "369/369 [==============================] - 2s 4ms/step - loss: 0.2076 - acc: 1.0000 - val_loss: 0.2180 - val_acc: 1.0000\n",
      "Epoch 10/20\n",
      "369/369 [==============================] - 1s 4ms/step - loss: 0.2048 - acc: 1.0000 - val_loss: 0.1780 - val_acc: 1.0000\n",
      "Epoch 11/20\n",
      "369/369 [==============================] - 1s 4ms/step - loss: 0.2032 - acc: 1.0000 - val_loss: 0.2164 - val_acc: 1.0000\n",
      "Epoch 12/20\n",
      "369/369 [==============================] - 2s 5ms/step - loss: 0.2040 - acc: 1.0000 - val_loss: 0.2551 - val_acc: 1.0000\n",
      "Epoch 13/20\n",
      "369/369 [==============================] - 1s 4ms/step - loss: 0.2030 - acc: 1.0000 - val_loss: 0.1782 - val_acc: 1.0000\n",
      "Epoch 14/20\n",
      "369/369 [==============================] - 1s 4ms/step - loss: 0.2074 - acc: 1.0000 - val_loss: 0.1997 - val_acc: 1.0000\n",
      "Epoch 15/20\n",
      "369/369 [==============================] - 2s 4ms/step - loss: 0.2175 - acc: 1.0000 - val_loss: 0.2514 - val_acc: 1.0000\n",
      "Epoch 16/20\n",
      "369/369 [==============================] - 2s 4ms/step - loss: 0.2088 - acc: 1.0000 - val_loss: 0.2226 - val_acc: 1.0000\n",
      "Epoch 17/20\n",
      "369/369 [==============================] - 2s 4ms/step - loss: 0.2018 - acc: 1.0000 - val_loss: 0.1664 - val_acc: 1.0000\n",
      "Epoch 18/20\n",
      "369/369 [==============================] - 2s 4ms/step - loss: 0.2037 - acc: 1.0000 - val_loss: 0.2116 - val_acc: 1.0000\n",
      "Epoch 19/20\n",
      "369/369 [==============================] - 2s 5ms/step - loss: 0.2065 - acc: 1.0000 - val_loss: 0.1978 - val_acc: 1.0000\n",
      "Epoch 20/20\n",
      "369/369 [==============================] - 2s 5ms/step - loss: 0.2006 - acc: 1.0000 - val_loss: 0.2560 - val_acc: 1.0000\n"
     ]
    },
    {
     "data": {
      "text/plain": [
       "<keras.callbacks.History at 0x1f2efbcbd90>"
      ]
     },
     "execution_count": 132,
     "metadata": {},
     "output_type": "execute_result"
    }
   ],
   "source": [
    "model.fit(X_train, y_train, epochs=20, batch_size=128, validation_split=0.2)"
   ]
  },
  {
   "cell_type": "code",
   "execution_count": 133,
   "metadata": {},
   "outputs": [
    {
     "name": "stdout",
     "output_type": "stream",
     "text": [
      "615/615 [==============================] - 1s 1ms/step\n"
     ]
    },
    {
     "data": {
      "text/plain": [
       "(19671, 1)"
      ]
     },
     "execution_count": 133,
     "metadata": {},
     "output_type": "execute_result"
    }
   ],
   "source": [
    "# make prediction and print classification report\n",
    "y_pred = model.predict(X_test)\n",
    "\n",
    "y_pred.shape"
   ]
  },
  {
   "cell_type": "code",
   "execution_count": 134,
   "metadata": {},
   "outputs": [
    {
     "data": {
      "text/plain": [
       "count    19671.000000\n",
       "mean        -2.808325\n",
       "std          0.373824\n",
       "min         -8.460121\n",
       "25%         -2.788157\n",
       "50%         -2.739321\n",
       "75%         -2.731581\n",
       "max          1.748330\n",
       "dtype: float64"
      ]
     },
     "execution_count": 134,
     "metadata": {},
     "output_type": "execute_result"
    }
   ],
   "source": [
    "y_pred = y_pred[:,0]\n",
    "pd.Series(y_pred).describe()"
   ]
  },
  {
   "cell_type": "code",
   "execution_count": 135,
   "metadata": {},
   "outputs": [],
   "source": [
    "threshold = np.mean(y_pred) + np.std(y_pred)"
   ]
  },
  {
   "cell_type": "code",
   "execution_count": 136,
   "metadata": {},
   "outputs": [],
   "source": [
    "pred = np.where(y_pred < threshold, 0, 1)"
   ]
  },
  {
   "cell_type": "code",
   "execution_count": 137,
   "metadata": {},
   "outputs": [
    {
     "name": "stdout",
     "output_type": "stream",
     "text": [
      "              precision    recall  f1-score   support\n",
      "\n",
      "           0       0.94      0.98      0.96     18417\n",
      "           1       0.15      0.05      0.08      1254\n",
      "\n",
      "    accuracy                           0.92     19671\n",
      "   macro avg       0.54      0.52      0.52     19671\n",
      "weighted avg       0.89      0.92      0.90     19671\n",
      "\n"
     ]
    }
   ],
   "source": [
    "print(classification_report(y_test, pred))"
   ]
  },
  {
   "cell_type": "code",
   "execution_count": 138,
   "metadata": {},
   "outputs": [
    {
     "data": {
      "image/png": "[encoded data removed]",
      "text/plain": [
       "<Figure size 640x480 with 2 Axes>"
      ]
     },
     "metadata": {},
     "output_type": "display_data"
    }
   ],
   "source": [
    "from sklearn.metrics import confusion_matrix, ConfusionMatrixDisplay\n",
    "import matplotlib.pyplot as plt\n",
    "\n",
    "matrix = ConfusionMatrixDisplay(confusion_matrix(y_test, pred))\n",
    "matrix.plot()\n",
    "plt.show()"
   ]
  },
  {
   "cell_type": "markdown",
   "metadata": {},
   "source": [
    "Source\n",
    "\n",
    "https://stackoverflow.com/questions/54414392/convert-sklearn-svm-svc-classifier-to-keras-implementation/54415540#54415540"
   ]
  },
  {
   "cell_type": "code",
   "execution_count": 143,
   "metadata": {},
   "outputs": [
    {
     "name": "stdout",
     "output_type": "stream",
     "text": [
      "1845/1845 [==============================] - 8s 4ms/step - loss: 3.7531 - accuracy: 0.0672\n",
      "615/615 [==============================] - 1s 1ms/step\n"
     ]
    }
   ],
   "source": [
    "from keras.regularizers import l2\n",
    "\n",
    "model = tf.keras.models.Sequential([\n",
    "    tf.keras.layers.Input(shape=(18,)),\n",
    "    tf.keras.layers.Dense(64),\n",
    "    tf.keras.layers.Dense(1, kernel_regularizer=l2(0.01)),\n",
    "    tf.keras.layers.Softmax()                \n",
    "])\n",
    "model.compile(loss='squared_hinge',\n",
    "              optimizer='adadelta',\n",
    "              metrics=['accuracy'])\n",
    "model.fit(X_train, y_train)\n",
    "pred = model.predict(X_test)"
   ]
  },
  {
   "cell_type": "code",
   "execution_count": null,
   "metadata": {},
   "outputs": [],
   "source": []
  }
 ],
 "metadata": {
  "kernelspec": {
   "display_name": "Python 3.9.12 ('dev')",
   "language": "python",
   "name": "python3"
  },
  "language_info": {
   "codemirror_mode": {
    "name": "ipython",
    "version": 3
   },
   "file_extension": ".py",
   "mimetype": "text/x-python",
   "name": "python",
   "nbconvert_exporter": "python",
   "pygments_lexer": "ipython3",
   "version": "3.9.12"
  },
  "orig_nbformat": 4,
  "vscode": {
   "interpreter": {
    "hash": "3ee04db7352e682cac186af61911f6acc7ec70cc0d9fa70de64442cbd59efbd7"
   }
  }
 },
 "nbformat": 4,
 "nbformat_minor": 2
}
