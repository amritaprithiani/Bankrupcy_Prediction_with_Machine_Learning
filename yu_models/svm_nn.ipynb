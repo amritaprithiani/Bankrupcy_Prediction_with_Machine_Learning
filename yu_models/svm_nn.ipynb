{
 "cells": [
  {
   "cell_type": "markdown",
   "metadata": {},
   "source": [
    "Source\n",
    "\n",
    "https://keras.io/examples/keras_recipes/quasi_svm/"
   ]
  },
  {
   "cell_type": "code",
   "execution_count": 162,
   "metadata": {},
   "outputs": [],
   "source": [
    "import pandas as pd\n",
    "import numpy as np\n",
    "from pathlib import Path\n",
    "import tensorflow as tf\n",
    "from keras.models import Sequential # try tensorflow.keras.models in case of import error\n",
    "from keras.layers import Dense # try tensorflow.keras.layers in case of import error\n",
    "from sklearn.metrics import classification_report\n",
    "# import training/testing dataset\n",
    "\n",
    "training_df = pd.read_csv(Path(\"../Resources/training_dataset_original.csv\"))\n",
    "testing_df = pd.read_csv(Path(\"../Resources/testing_dataset.csv\"))\n",
    "# split training dataset to X and y\n",
    "\n",
    "X_train = training_df.drop(columns=\"status\")\n",
    "y_train = training_df[\"status\"]\n",
    "# split testing dataset to X and y\n",
    "\n",
    "X_test = testing_df.drop(columns=\"status\")\n",
    "y_test = testing_df[\"status\"]\n",
    "\n",
    "from sklearn.decomposition import PCA\n",
    "\n",
    "components = 5\n",
    "\n",
    "pca = PCA(n_components=components)\n",
    "pca.fit(X_train)\n",
    "X_train_pca = pca.transform(X_train)\n",
    "X_test_pca = pca.transform(X_test)"
   ]
  },
  {
   "cell_type": "code",
   "execution_count": 163,
   "metadata": {},
   "outputs": [],
   "source": [
    "from tensorflow import keras\n",
    "from tensorflow.keras import layers\n",
    "from tensorflow.keras.layers.experimental import RandomFourierFeatures"
   ]
  },
  {
   "cell_type": "code",
   "execution_count": 164,
   "metadata": {},
   "outputs": [],
   "source": [
    "model = keras.Sequential(\n",
    "    [\n",
    "        keras.Input(shape=(components,)),\n",
    "        RandomFourierFeatures(\n",
    "            output_dim=4096, scale=10.0, kernel_initializer=\"gaussian\"\n",
    "        ),\n",
    "        layers.Dense(units=1),\n",
    "    ]\n",
    ")\n",
    "model.compile(\n",
    "    optimizer=keras.optimizers.Nadam(learning_rate=1e-3),\n",
    "    loss=keras.losses.hinge,\n",
    "    metrics=[keras.metrics.CategoricalAccuracy(name=\"acc\")],\n",
    ")"
   ]
  },
  {
   "cell_type": "code",
   "execution_count": 165,
   "metadata": {},
   "outputs": [
    {
     "name": "stdout",
     "output_type": "stream",
     "text": [
      "Epoch 1/20\n",
      "369/369 [==============================] - 3s 8ms/step - loss: 0.3219 - acc: 1.0000 - val_loss: 0.2231 - val_acc: 1.0000\n",
      "Epoch 2/20\n",
      "369/369 [==============================] - 2s 5ms/step - loss: 0.3108 - acc: 1.0000 - val_loss: 0.2229 - val_acc: 1.0000\n",
      "Epoch 3/20\n",
      "369/369 [==============================] - 2s 7ms/step - loss: 0.2986 - acc: 1.0000 - val_loss: 0.4161 - val_acc: 1.0000\n",
      "Epoch 4/20\n",
      "369/369 [==============================] - 2s 7ms/step - loss: 0.2924 - acc: 1.0000 - val_loss: 0.3784 - val_acc: 1.0000\n",
      "Epoch 5/20\n",
      "369/369 [==============================] - 2s 7ms/step - loss: 0.2932 - acc: 1.0000 - val_loss: 0.3133 - val_acc: 1.0000\n",
      "Epoch 6/20\n",
      "369/369 [==============================] - 2s 5ms/step - loss: 0.2860 - acc: 1.0000 - val_loss: 0.2849 - val_acc: 1.0000\n",
      "Epoch 7/20\n",
      "369/369 [==============================] - 2s 7ms/step - loss: 0.2880 - acc: 1.0000 - val_loss: 0.3253 - val_acc: 1.0000\n",
      "Epoch 8/20\n",
      "369/369 [==============================] - 2s 6ms/step - loss: 0.2804 - acc: 1.0000 - val_loss: 0.4006 - val_acc: 1.0000\n",
      "Epoch 9/20\n",
      "369/369 [==============================] - 2s 6ms/step - loss: 0.2871 - acc: 1.0000 - val_loss: 0.3873 - val_acc: 1.0000\n",
      "Epoch 10/20\n",
      "369/369 [==============================] - 2s 7ms/step - loss: 0.2719 - acc: 1.0000 - val_loss: 0.3331 - val_acc: 1.0000\n",
      "Epoch 11/20\n",
      "369/369 [==============================] - 2s 6ms/step - loss: 0.2708 - acc: 1.0000 - val_loss: 0.1764 - val_acc: 1.0000\n",
      "Epoch 12/20\n",
      "369/369 [==============================] - 2s 6ms/step - loss: 0.2755 - acc: 1.0000 - val_loss: 0.3853 - val_acc: 1.0000\n",
      "Epoch 13/20\n",
      "369/369 [==============================] - 2s 7ms/step - loss: 0.2639 - acc: 1.0000 - val_loss: 0.3295 - val_acc: 1.0000\n",
      "Epoch 14/20\n",
      "369/369 [==============================] - 2s 6ms/step - loss: 0.2679 - acc: 1.0000 - val_loss: 0.2251 - val_acc: 1.0000\n",
      "Epoch 15/20\n",
      "369/369 [==============================] - 3s 7ms/step - loss: 0.2618 - acc: 1.0000 - val_loss: 0.2627 - val_acc: 1.0000\n",
      "Epoch 16/20\n",
      "369/369 [==============================] - 2s 6ms/step - loss: 0.2597 - acc: 1.0000 - val_loss: 0.3120 - val_acc: 1.0000\n",
      "Epoch 17/20\n",
      "369/369 [==============================] - 3s 7ms/step - loss: 0.2542 - acc: 1.0000 - val_loss: 0.2389 - val_acc: 1.0000\n",
      "Epoch 18/20\n",
      "369/369 [==============================] - 2s 7ms/step - loss: 0.2606 - acc: 1.0000 - val_loss: 0.3209 - val_acc: 1.0000\n",
      "Epoch 19/20\n",
      "369/369 [==============================] - 2s 6ms/step - loss: 0.2547 - acc: 1.0000 - val_loss: 0.1547 - val_acc: 1.0000\n",
      "Epoch 20/20\n",
      "369/369 [==============================] - 2s 6ms/step - loss: 0.2543 - acc: 1.0000 - val_loss: 0.3044 - val_acc: 1.0000\n"
     ]
    },
    {
     "data": {
      "text/plain": [
       "<keras.callbacks.History at 0x2d42e8895b0>"
      ]
     },
     "execution_count": 165,
     "metadata": {},
     "output_type": "execute_result"
    }
   ],
   "source": [
    "model.fit(X_train_pca, y_train, epochs=20, batch_size=128, validation_split=0.2)"
   ]
  },
  {
   "cell_type": "code",
   "execution_count": 166,
   "metadata": {},
   "outputs": [
    {
     "name": "stdout",
     "output_type": "stream",
     "text": [
      "615/615 [==============================] - 1s 1ms/step\n"
     ]
    },
    {
     "data": {
      "text/plain": [
       "(19671, 1)"
      ]
     },
     "execution_count": 166,
     "metadata": {},
     "output_type": "execute_result"
    }
   ],
   "source": [
    "# make prediction and print classification report\n",
    "y_pred = model.predict(X_test_pca)\n",
    "\n",
    "y_pred.shape"
   ]
  },
  {
   "cell_type": "code",
   "execution_count": 167,
   "metadata": {},
   "outputs": [
    {
     "data": {
      "text/plain": [
       "count    19671.000000\n",
       "mean        -3.458025\n",
       "std          0.319119\n",
       "min         -7.284185\n",
       "25%         -3.496885\n",
       "50%         -3.476592\n",
       "75%         -3.462681\n",
       "max          1.121636\n",
       "dtype: float64"
      ]
     },
     "execution_count": 167,
     "metadata": {},
     "output_type": "execute_result"
    }
   ],
   "source": [
    "y_pred = y_pred[:,0]\n",
    "pd.Series(y_pred).describe()"
   ]
  },
  {
   "cell_type": "code",
   "execution_count": 176,
   "metadata": {},
   "outputs": [],
   "source": [
    "threshold = 0.31"
   ]
  },
  {
   "cell_type": "code",
   "execution_count": 177,
   "metadata": {},
   "outputs": [],
   "source": [
    "pred = np.where(y_pred < threshold, 0, 1)"
   ]
  },
  {
   "cell_type": "code",
   "execution_count": 178,
   "metadata": {},
   "outputs": [
    {
     "name": "stdout",
     "output_type": "stream",
     "text": [
      "              precision    recall  f1-score   support\n",
      "\n",
      "           0       0.94      1.00      0.97     18417\n",
      "           1       0.00      0.00      0.00      1254\n",
      "\n",
      "    accuracy                           0.94     19671\n",
      "   macro avg       0.47      0.50      0.48     19671\n",
      "weighted avg       0.88      0.94      0.91     19671\n",
      "\n"
     ]
    }
   ],
   "source": [
    "print(classification_report(y_test, pred))"
   ]
  },
  {
   "cell_type": "code",
   "execution_count": 179,
   "metadata": {},
   "outputs": [
    {
     "data": {
      "image/png": "[encoded data removed]",
      "text/plain": [
       "<Figure size 640x480 with 2 Axes>"
      ]
     },
     "metadata": {},
     "output_type": "display_data"
    }
   ],
   "source": [
    "from sklearn.metrics import confusion_matrix, ConfusionMatrixDisplay\n",
    "import matplotlib.pyplot as plt\n",
    "\n",
    "matrix = ConfusionMatrixDisplay(confusion_matrix(y_test, pred))\n",
    "matrix.plot()\n",
    "plt.show()"
   ]
  },
  {
   "cell_type": "code",
   "execution_count": null,
   "metadata": {},
   "outputs": [],
   "source": []
  }
 ],
 "metadata": {
  "kernelspec": {
   "display_name": "Python 3.9.12 ('dev')",
   "language": "python",
   "name": "python3"
  },
  "language_info": {
   "codemirror_mode": {
    "name": "ipython",
    "version": 3
   },
   "file_extension": ".py",
   "mimetype": "text/x-python",
   "name": "python",
   "nbconvert_exporter": "python",
   "pygments_lexer": "ipython3",
   "version": "3.9.12"
  },
  "orig_nbformat": 4,
  "vscode": {
   "interpreter": {
    "hash": "3ee04db7352e682cac186af61911f6acc7ec70cc0d9fa70de64442cbd59efbd7"
   }
  }
 },
 "nbformat": 4,
 "nbformat_minor": 2
}
