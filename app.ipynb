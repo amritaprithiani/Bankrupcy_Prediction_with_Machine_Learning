{
 "cells": [
  {
   "cell_type": "code",
   "execution_count": 5,
   "metadata": {},
   "outputs": [],
   "source": [
    "import yahoo_fin.stock_info as si\n",
    "import pandas as pd\n",
    "from joblib import load\n",
    "import warnings\n",
    "warnings.filterwarnings(\"ignore\")\n",
    "import tensorflow as tf\n",
    "from pathlib import Path\n",
    "\n",
    "multipliers = {'K':1000, 'M':1000000, 'B':1000000000, 'T':100000000000}\n",
    "\n",
    "def string_to_int(string):\n",
    "    if string[-1].isdigit():\n",
    "        return int(string)\n",
    "    mult = multipliers[string[-1]]\n",
    "    return int(float(string[:-1]) * mult)\n",
    "\n",
    "def run():\n",
    "    # get ticker from user\n",
    "    ticker = input(\"Enter Ticker of a company you want to check\")\n",
    "\n",
    "    # Load financial data\n",
    "\n",
    "    financials = si.get_financials(ticker)\n",
    "    quarterly_income_statement = pd.DataFrame(financials['quarterly_income_statement'])\n",
    "    quarterly_balance_sheet = pd.DataFrame(financials['quarterly_balance_sheet'])\n",
    "    quarterly_cash_flow = pd.DataFrame(financials['quarterly_cash_flow'])\n",
    "\n",
    "    # Clean financial data\n",
    "\n",
    "    financials_df = pd.concat([quarterly_income_statement, quarterly_balance_sheet, quarterly_cash_flow])\n",
    "    financials_df.drop_duplicates(inplace=True)\n",
    "    financials_df = financials_df.transpose()\n",
    "    financials_df\n",
    "\n",
    "    # obtain Market Value\n",
    "\n",
    "    quote = si.get_quote_table(ticker)\n",
    "    quote['Market Cap']\n",
    "\n",
    "    market_value = string_to_int(quote['Market Cap'])\n",
    "\n",
    "    # Create testing dataset\n",
    "\n",
    "    X_test = pd.DataFrame()\n",
    "    X_test['current_assets'] = financials_df['totalCurrentAssets']\n",
    "    X_test['cost_of_goods_sold'] = financials_df['totalOperatingExpenses']\n",
    "    X_test['depreciation_and_amortization'] = financials_df['depreciation'] + financials_df['intangibleAssets']\n",
    "    X_test['EBITDA'] = financials_df['grossProfit'] - financials_df['totalOperatingExpenses'] + financials_df['depreciation'] + financials_df['intangibleAssets']\n",
    "    X_test['inventory'] = financials_df['inventory']\n",
    "    X_test['net_income'] = financials_df['netIncome']\n",
    "    X_test['total_receivables'] = financials_df['netReceivables']\n",
    "    X_test['market_value'] = market_value\n",
    "    X_test['net_sales'] = financials_df['totalRevenue']\n",
    "    X_test['total_assets'] = financials_df['totalAssets']\n",
    "    X_test['total_long_term_debt'] = financials_df['totalLiab']\n",
    "    X_test['EBIT'] = financials_df['grossProfit'] - financials_df['totalOperatingExpenses']\n",
    "    X_test['gross_profit'] = financials_df['grossProfit']\n",
    "    X_test['total_current_liabilities'] = financials_df['totalCurrentLiabilities']\n",
    "    X_test['retained_earnings'] = financials_df['retainedEarnings']\n",
    "    X_test['total_revenue'] = financials_df['totalRevenue']\n",
    "    X_test['total_liabilities'] = financials_df['totalCurrentLiabilities']\n",
    "    X_test['total_operationg_expenses'] = financials_df['totalOperatingExpenses']\n",
    "\n",
    "    # get the most-recent and valid column\n",
    "    X_test.dropna(inplace=True)\n",
    "\n",
    "    X_scaler = load('interacting_app/scaler.joblib')\n",
    "    rfc_model = load('interacting_app/svc.joblib')\n",
    "\n",
    "    X_test_scaled = X_scaler.transform(X_test)\n",
    "    prediction = rfc_model.predict(X_test_scaled)\n",
    "    ml_most_recent_result = prediction[0]\n",
    "\n",
    "    if ml_most_recent_result == 0:\n",
    "        print(f\"According to the most recent financial stats, {ticker} will not bankrupt. (SVC)\")\n",
    "    elif ml_most_recent_result == 1:\n",
    "        print(f\"According to the most recent financial stats, {ticker} is facing financial difficulty (SVC)\")\n",
    "    \n",
    "    # Apply NN\n",
    "    nn_model = tf.keras.models.load_model(Path(\"Resources/neural_network_models/96nodes_4layers_32epochs.h5\"))\n",
    "    # first hidden layer = 96\n",
    "    # second hidden layer = 48\n",
    "    # third hidden layer = 24\n",
    "    # fourth hidden layer = 12\n",
    "    # hidden layer activation = 'selu'\n",
    "    # output layer activation = 'softplus'\n",
    "    # optimizer = 'nadam'\n",
    "    # epochs = 32\n",
    "    prediction_nn = nn_model.predict(X_test_scaled)\n",
    "    nn_most_recent_result = prediction[0]\n",
    "    \n",
    "    if nn_most_recent_result == 0:\n",
    "        print(f\"According to the most recent financial stats, {ticker} will not bankrupt. (NN)\")\n",
    "    elif nn_most_recent_result == 1:\n",
    "        print(f\"According to the most recent financial stats, {ticker} is facing financial difficulty (NN)\")"
   ]
  },
  {
   "cell_type": "code",
   "execution_count": 19,
   "metadata": {},
   "outputs": [
    {
     "name": "stdin",
     "output_type": "stream",
     "text": [
      "Enter Ticker of a company you want to check META\n"
     ]
    },
    {
     "name": "stdout",
     "output_type": "stream",
     "text": [
      "Error: 'inventory'\n"
     ]
    }
   ],
   "source": [
    "try:\n",
    "    run()\n",
    "except Exception as e:\n",
    "    print(f\"Error: {e}\")"
   ]
  },
  {
   "cell_type": "code",
   "execution_count": null,
   "metadata": {},
   "outputs": [],
   "source": []
  }
 ],
 "metadata": {
  "kernelspec": {
   "display_name": "Python 3 (ipykernel)",
   "language": "python",
   "name": "python3"
  },
  "language_info": {
   "codemirror_mode": {
    "name": "ipython",
    "version": 3
   },
   "file_extension": ".py",
   "mimetype": "text/x-python",
   "name": "python",
   "nbconvert_exporter": "python",
   "pygments_lexer": "ipython3",
   "version": "3.9.12"
  },
  "vscode": {
   "interpreter": {
    "hash": "3ee04db7352e682cac186af61911f6acc7ec70cc0d9fa70de64442cbd59efbd7"
   }
  }
 },
 "nbformat": 4,
 "nbformat_minor": 4
}
